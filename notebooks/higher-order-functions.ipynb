{
 "cells": [
  {
   "cell_type": "markdown",
   "metadata": {},
   "source": [
    "<p style=\"float: left;\"><a href=\"nested-methods.ipynb\" target=\"_blank\">Previous</a></p>\n",
    "<p style=\"float: right;\"><a href=\"currying.ipynb\" target=\"_blank\">Next</a></p>\n",
    "<p style=\"text-align:center;\">Tour of Scala</p>\n",
    "<div style=\"clear: both;\"></div>"
   ]
  },
  {
   "cell_type": "markdown",
   "metadata": {},
   "source": [
    "# Higher-order Functions"
   ]
  },
  {
   "cell_type": "markdown",
   "metadata": {},
   "source": [
    "Higher-order functions are functions that either take other functions as parameters or return a function as a result. \n",
    "\n",
    "<span style=\"color:black\">**In Scala, functions and methods are _first-class values_**.</span> In simple terms, this means that <span style=\"color:black\">**functions can be passed around just like any other value**</span>, such as integers or sequences.\n",
    "\n",
    "<span style=\"color:black\">**The term _higher-order function_ applies to both methods and functions**</span> that accept functions as arguments or return functions as results.\n",
    "\n",
    "A common example of a higher-order function in Scala is `map`, which is available for collections."
   ]
  },
  {
   "cell_type": "code",
   "execution_count": null,
   "metadata": {
    "attributes": {
     "classes": [
      "tut"
     ],
     "id": ""
    }
   },
   "outputs": [],
   "source": [
    "val salaries = Seq(20000, 70000, 40000)\n",
    "val doubleSalary = (x: Int) => x * 2\n",
    "val newSalaries = salaries.map(doubleSalary) // List(40000, 140000, 80000)"
   ]
  },
  {
   "cell_type": "markdown",
   "metadata": {},
   "source": [
    "**`doubleSalary`** is a function which takes a single **`x: Int`**, and returns **x * 2**. \n",
    "\n",
    "To shrink the code, **we could make the function _anonymous_** and pass it directly as\n",
    "an argument to `map`:"
   ]
  },
  {
   "cell_type": "code",
   "execution_count": null,
   "metadata": {
    "attributes": {
     "classes": [
      "tut"
     ],
     "id": ""
    }
   },
   "outputs": [],
   "source": [
    "val salaries = Seq(20000, 70000, 40000)\n",
    "val newSalaries = salaries.map(x => x * 2) // List(40000, 140000, 80000)"
   ]
  },
  {
   "cell_type": "markdown",
   "metadata": {},
   "source": [
    "An even more idiomatic way to write the same piece of code would be:"
   ]
  },
  {
   "cell_type": "code",
   "execution_count": null,
   "metadata": {
    "attributes": {
     "classes": [
      "tut"
     ],
     "id": ""
    }
   },
   "outputs": [],
   "source": [
    "val salaries = Seq(20000, 70000, 40000)\n",
    "val newSalaries = salaries.map(_ * 2)"
   ]
  },
  {
   "cell_type": "markdown",
   "metadata": {},
   "source": [
    "## Coercing methods into functions\n",
    "\n",
    "It is also possible to pass methods as arguments to higher-order functions because\n",
    "the Scala compiler will coerce the method into a function via _eta-expansion_."
   ]
  },
  {
   "cell_type": "code",
   "execution_count": null,
   "metadata": {
    "attributes": {
     "classes": [
      "tut"
     ],
     "id": ""
    }
   },
   "outputs": [],
   "source": [
    "case class WeeklyWeatherForecast(temperatures: Seq[Double]) {\n",
    "  private def convertCtoF(temp: Double) = temp * 1.8 + 32\n",
    "  def forecastInFahrenheit: Seq[Double] = temperatures.map(convertCtoF) // <-- passing the method convertCtoF\n",
    "}"
   ]
  },
  {
   "cell_type": "markdown",
   "metadata": {},
   "source": [
    "Here the method `convertCtoF` is passed to `forecastInFahrenheit`. **This is possible because the compiler coerces `convertCtoF` to the function `x => convertCtoF(x)`.**\n",
    "\n",
    "## Functions that accept functions\n",
    "\n",
    "One reason to use higher-order functions is to reduce redundant code. \n",
    "\n",
    "Let's say you wanted some methods that could raise someone's salaries by various factors. Without creating a higher-order function."
   ]
  },
  {
   "cell_type": "code",
   "execution_count": null,
   "metadata": {
    "attributes": {
     "classes": [
      "tut"
     ],
     "id": ""
    }
   },
   "outputs": [],
   "source": [
    "object SalaryRaiser {\n",
    "  def smallPromotion(salaries: List[Double]): List[Double] =\n",
    "    salaries.map(salary => salary * 1.1)\n",
    "\n",
    "  def greatPromotion(salaries: List[Double]): List[Double] =\n",
    "    salaries.map(salary => salary * math.log(salary))\n",
    "\n",
    "  def hugePromotion(salaries: List[Double]): List[Double] =\n",
    "    salaries.map(salary => salary * salary)\n",
    "}"
   ]
  },
  {
   "cell_type": "markdown",
   "metadata": {},
   "source": [
    "<span style=\"color:red\">**Notice how each of the three methods vary only by the multiplication factor.**</span>"
   ]
  },
  {
   "cell_type": "markdown",
   "metadata": {},
   "source": [
    "To simplify, you can extract the repeated code into a higher-order function like so:"
   ]
  },
  {
   "cell_type": "code",
   "execution_count": null,
   "metadata": {
    "attributes": {
     "classes": [
      "tut"
     ],
     "id": ""
    }
   },
   "outputs": [],
   "source": [
    "object SalaryRaiser {\n",
    "  private def promotion(salaries: List[Double], promotionFn: Double => Double): List[Double] = // <- private\n",
    "    salaries.map(promotionFn)\n",
    "\n",
    "  def smallPromotion(salaries: List[Double]): List[Double] =\n",
    "    promotion(salaries, salary => salary * 1.1)\n",
    "\n",
    "  def bigPromotion(salaries: List[Double]): List[Double] =\n",
    "    promotion(salaries, salary => salary * math.log(salary))\n",
    "\n",
    "  def hugePromotion(salaries: List[Double]): List[Double] =\n",
    "    promotion(salaries, salary => salary * salary)\n",
    "}"
   ]
  },
  {
   "cell_type": "markdown",
   "metadata": {},
   "source": [
    "The new method, **`promotion`**, takes the salaries of type **`List[Double]`** plus a function of type **`Double => Double`**."
   ]
  },
  {
   "cell_type": "markdown",
   "metadata": {},
   "source": [
    "## Functions that return functions\n",
    "\n",
    "There are certain cases where you want to generate a function. Here's an example\n",
    "of a method that returns a function."
   ]
  },
  {
   "cell_type": "code",
   "execution_count": null,
   "metadata": {
    "attributes": {
     "classes": [
      "tut"
     ],
     "id": ""
    }
   },
   "outputs": [],
   "source": [
    "def urlBuilder(ssl: Boolean, domainName: String): (String, String) => String =\n",
    "  val schema = if (ssl) \"https://\" else \"http://\"\n",
    "  (endpoint: String, query: String) => s\"$schema$domainName/$endpoint?$query\"\n",
    "\n",
    "val domainName = \"www.example.com\"\n",
    "def getURL = urlBuilder(ssl=true, domainName) \n",
    "val endpoint = \"users\"\n",
    "val query = \"id=1\"\n",
    "val url = getURL(endpoint, query) // \"https://www.example.com/users?id=1\": String"
   ]
  },
  {
   "cell_type": "markdown",
   "metadata": {},
   "source": [
    "<span style=\"color:black\">The method **`urlBuilder`** returns a function of type **`(String, String) => String`**.</span>"
   ]
  },
  {
   "cell_type": "markdown",
   "metadata": {},
   "source": [
    "<p style=\"float: left;\"><a href=\"nested-methods.ipynb\" target=\"_blank\">Previous</a></p>\n",
    "<p style=\"float: right;\"><a href=\"currying.ipynb\" target=\"_blank\">Next</a></p>\n",
    "<p style=\"text-align:center;\">Tour of Scala</p>\n",
    "<div style=\"clear: both;\"></div>"
   ]
  }
 ],
 "metadata": {
  "kernelspec": {
   "display_name": "Scala 3.6",
   "language": "scala",
   "name": "scala36"
  },
  "language_info": {
   "codemirror_mode": "text/x-scala",
   "file_extension": ".sc",
   "mimetype": "text/x-scala",
   "name": "scala",
   "nbconvert_exporter": "script",
   "version": "2.13.16"
  }
 },
 "nbformat": 4,
 "nbformat_minor": 4
}
