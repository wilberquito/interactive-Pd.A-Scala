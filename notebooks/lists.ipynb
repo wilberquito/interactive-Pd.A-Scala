{
 "cells": [
  {
   "cell_type": "markdown",
   "id": "8cbbad83-1340-4ee4-b1ba-8edc86766f22",
   "metadata": {},
   "source": [
    "# Lists"
   ]
  },
  {
   "cell_type": "markdown",
   "id": "38e245e9-c52c-4ac8-a1d3-832a3dac28f6",
   "metadata": {},
   "source": [
    "Lists are an important data structure in many Scala programs. A list containing the\n",
    "elements $x1, . . . , xn$ is written `List(x1, ..., xn)`. \n",
    "\n",
    "Examples are:\n",
    "\n",
    "```scala\n",
    "val fruit = List(\"apples\", \"oranges\", \"pears\")\n",
    "val nums  = List(1, 2, 3, 4)\n",
    "val diag3 = List(List(1, 0, 0), List(0, 1, 0), List(0, 0, 1))\n",
    "val empty = List()\n",
    "```\n",
    "\n",
    "Lists are similar to arrays in languages such as C or Java, but there are also three\n",
    "important differences: \n",
    "\n",
    "1) Lists are immutable. That is, elements of a list cannot\n",
    "be changed by assignment.\n",
    "2) Lists have a recursive structure, whereas arrays are flat.\n",
    "3) Lists support a much richer set of operations than arrays usually do."
   ]
  },
  {
   "cell_type": "markdown",
   "id": "22ad04f3-12b6-40ad-ac94-6ac21dbe7ab6",
   "metadata": {},
   "source": [
    "## Using lists"
   ]
  },
  {
   "cell_type": "markdown",
   "id": "ecac4482-581d-4bd8-9876-13e007dd1f49",
   "metadata": {},
   "source": [
    "Like arrays, lists are _homogeneous_. That is, the elements of a list all\n",
    "have the same type. The type of a list with elements of type `T` is written `List[T]`.\n",
    "\n",
    "```scala\n",
    "val fruit: List[String]    = List(\"apples\", \"oranges\", \"pears\")\n",
    "val nums : List[Int]       = List(1, 2, 3, 4)\n",
    "val diag3: List[List[Int]] = List(List(1, 0, 0), List(0, 1, 0), List(0, 0, 1))\n",
    "val empty: List[Int]       = List()\n",
    "```"
   ]
  },
  {
   "cell_type": "markdown",
   "id": "815ec794-b76c-4111-a371-7d417e8baa8d",
   "metadata": {},
   "source": [
    "### List constructors"
   ]
  },
  {
   "cell_type": "markdown",
   "id": "04eb21bf-42d8-4734-ba60-d204237f0269",
   "metadata": {},
   "source": [
    "All lists are built from two more fundamental constructors, `Nil`\n",
    "and `::` (pronounced “cons”).\n",
    "\n",
    "* `Nil` represents an empty list\n",
    "* `::` is an infix operator that expresses list extension. That is, `x :: xs` represents a list whose first element is `x`, \n",
    "which is followed bya) list `xs`. "
   ]
  },
  {
   "cell_type": "code",
   "execution_count": 1,
   "id": "925d899b-0ec2-4545-954a-1604d949ab5a",
   "metadata": {},
   "outputs": [
    {
     "data": {
      "text/plain": [
       "\u001b[36mfruits\u001b[39m: \u001b[32mList\u001b[39m[\u001b[32mString\u001b[39m] = \u001b[33mList\u001b[39m(\u001b[32m\"apples\"\u001b[39m, \u001b[32m\"oranges\"\u001b[39m, \u001b[32m\"pears\"\u001b[39m)\n",
       "\u001b[36mnums\u001b[39m: \u001b[32mList\u001b[39m[\u001b[32mInt\u001b[39m] = \u001b[33mList\u001b[39m(\u001b[32m1\u001b[39m, \u001b[32m2\u001b[39m, \u001b[32m3\u001b[39m, \u001b[32m4\u001b[39m)\n",
       "\u001b[36mdiag3\u001b[39m: \u001b[32mList\u001b[39m[\u001b[32mList\u001b[39m[\u001b[32mInt\u001b[39m]] = \u001b[33mList\u001b[39m(\u001b[33mList\u001b[39m(\u001b[32m1\u001b[39m, \u001b[32m0\u001b[39m, \u001b[32m0\u001b[39m), \u001b[33mList\u001b[39m(\u001b[32m0\u001b[39m, \u001b[32m1\u001b[39m, \u001b[32m0\u001b[39m), \u001b[33mList\u001b[39m(\u001b[32m0\u001b[39m, \u001b[32m0\u001b[39m, \u001b[32m1\u001b[39m))\n",
       "\u001b[36mempty\u001b[39m: \u001b[32mNil\u001b[39m.type = \u001b[33mList\u001b[39m()"
      ]
     },
     "execution_count": 1,
     "metadata": {},
     "output_type": "execute_result"
    }
   ],
   "source": [
    "val fruits = \"apples\" :: (\"oranges\" :: (\"pears\" :: Nil))\n",
    "val nums = 1 :: (2 :: (3 :: (4 :: Nil)))\n",
    "val diag3 = (1 :: (0 :: (0 :: Nil))) ::\n",
    "            (0 :: (1 :: (0 :: Nil))) ::\n",
    "            (0 :: (0 :: (1 :: Nil))) :: Nil\n",
    "val empty = Nil"
   ]
  },
  {
   "cell_type": "markdown",
   "id": "5ba8c58d-4fa9-4674-a098-1ad5d4d9fb88",
   "metadata": {},
   "source": [
    "The `::` operation associates to the right: `A :: B :: C`  is interpreted as\n",
    "`A :: (B :: C)`. Therefore, we can drop the parentheses in the definitions above.\n",
    "For instance, we can write shorter."
   ]
  },
  {
   "cell_type": "code",
   "execution_count": 2,
   "id": "5a2ad580-54c2-4044-b0e4-563c663993f8",
   "metadata": {},
   "outputs": [
    {
     "data": {
      "text/plain": [
       "\u001b[36mnums\u001b[39m: \u001b[32mList\u001b[39m[\u001b[32mInt\u001b[39m] = \u001b[33mList\u001b[39m(\u001b[32m1\u001b[39m, \u001b[32m2\u001b[39m, \u001b[32m3\u001b[39m, \u001b[32m4\u001b[39m)"
      ]
     },
     "execution_count": 2,
     "metadata": {},
     "output_type": "execute_result"
    }
   ],
   "source": [
    "val nums = 1 :: 2 :: 3 :: 4 :: Nil"
   ]
  },
  {
   "cell_type": "markdown",
   "id": "6385a07a-931e-4a6a-aa9a-b6a7f2668c3e",
   "metadata": {},
   "source": [
    "### Basic operations"
   ]
  },
  {
   "cell_type": "markdown",
   "id": "f939e51c-1d67-4c6d-9437-c442bc5f4145",
   "metadata": {},
   "source": [
    "All operations on lists can be expressed in terms of the\n",
    "following three:\n",
    "\n",
    "1) `head` returns the first element of a list,\n",
    "2) `tail` returns the list consisting of all elements except \n",
    "first element,\n",
    "3) `isEmpty` returns true iff the list is empty"
   ]
  },
  {
   "cell_type": "code",
   "execution_count": 3,
   "id": "1b8d8e3e-8217-411a-bcf0-6165453c237d",
   "metadata": {},
   "outputs": [
    {
     "data": {
      "text/plain": [
       "\u001b[36mres3\u001b[39m: \u001b[32mString\u001b[39m = \u001b[32m\"apples\"\u001b[39m"
      ]
     },
     "execution_count": 3,
     "metadata": {},
     "output_type": "execute_result"
    }
   ],
   "source": [
    "fruits.head"
   ]
  },
  {
   "cell_type": "code",
   "execution_count": 4,
   "id": "c6c8a0db-01a1-45a8-88c5-10f043d75505",
   "metadata": {},
   "outputs": [
    {
     "data": {
      "text/plain": [
       "\u001b[36mres4\u001b[39m: \u001b[32mList\u001b[39m[\u001b[32mString\u001b[39m] = \u001b[33mList\u001b[39m(\u001b[32m\"oranges\"\u001b[39m, \u001b[32m\"pears\"\u001b[39m)"
      ]
     },
     "execution_count": 4,
     "metadata": {},
     "output_type": "execute_result"
    }
   ],
   "source": [
    "fruits.tail"
   ]
  },
  {
   "cell_type": "code",
   "execution_count": 5,
   "id": "a904ef8e-e2da-4247-bca9-166304109554",
   "metadata": {},
   "outputs": [
    {
     "data": {
      "text/plain": [
       "\u001b[36mres5\u001b[39m: \u001b[32mBoolean\u001b[39m = \u001b[32mtrue\u001b[39m"
      ]
     },
     "execution_count": 5,
     "metadata": {},
     "output_type": "execute_result"
    }
   ],
   "source": [
    "empty.isEmpty"
   ]
  },
  {
   "cell_type": "markdown",
   "id": "a97acf25-0945-4745-9a90-cfcf0019c409",
   "metadata": {},
   "source": [
    "The `head` and `tail` methods are defined only for non-empty lists. When selected\n",
    "from an empty list, they throw an exception."
   ]
  },
  {
   "cell_type": "code",
   "execution_count": 6,
   "id": "b262732c-8b91-4186-8d4b-3c501021de72",
   "metadata": {},
   "outputs": [
    {
     "ename": "java.util.NoSuchElementException",
     "evalue": "head of empty list",
     "output_type": "error",
     "traceback": [
      "\u001b[31mjava.util.NoSuchElementException: head of empty list\u001b[39m",
      "  scala.collection.immutable.Nil$.head(\u001b[32mList.scala\u001b[39m:\u001b[32m663\u001b[39m)",
      "  ammonite.$sess.cmd6$Helper.<init>(\u001b[32mcmd6.sc\u001b[39m:\u001b[32m1\u001b[39m)",
      "  ammonite.$sess.cmd6$.<clinit>(\u001b[32mcmd6.sc\u001b[39m:\u001b[32m7\u001b[39m)"
     ]
    }
   ],
   "source": [
    "empty.head"
   ]
  },
  {
   "cell_type": "code",
   "execution_count": null,
   "id": "5235b4bd-181d-4ea3-a389-1083be6390cd",
   "metadata": {},
   "outputs": [],
   "source": [
    "empty.tail"
   ]
  },
  {
   "cell_type": "markdown",
   "id": "8898779d-c415-4d3f-a2ac-378279290347",
   "metadata": {},
   "source": [
    "### List patterns"
   ]
  },
  {
   "cell_type": "markdown",
   "id": "fd10b807-9436-4377-b9ae-f3db7d8bfada",
   "metadata": {},
   "source": [
    "In fact, `::` is defined as a `case class` in Scala’s standard library.\n",
    "Hence, it is possible to decompose lists by pattern matching, \n",
    "using patterns composed from the `Nil` and `::` constructors."
   ]
  },
  {
   "cell_type": "code",
   "execution_count": null,
   "id": "62e3646e-f004-4478-a773-b1caea6c8b8c",
   "metadata": {},
   "outputs": [],
   "source": [
    "def insert(x: Int, xs: List[Int]): List[Int] = xs match {\n",
    "    case Nil     => x :: Nil\n",
    "    case y :: ys => if (x < y) y :: insert(x, ys) else x :: xs\n",
    "}\n",
    "\n",
    "def isort(xs: List[Int]): List[Int] =\n",
    "    if (xs.isEmpty) Nil else insert(xs.head, isort(xs.tail))"
   ]
  },
  {
   "cell_type": "code",
   "execution_count": null,
   "id": "c3010766-246d-4a5f-9b88-8d59b787725a",
   "metadata": {},
   "outputs": [],
   "source": [
    "val nums = 1 :: 4 :: 5 :: 2 :: Nil\n",
    "\n",
    "isort(nums)"
   ]
  },
  {
   "cell_type": "markdown",
   "id": "1a05e772-cd94-4ac8-860f-c44be344a466",
   "metadata": {},
   "source": [
    "_What is the complexity of the previous algorithm?_"
   ]
  },
  {
   "cell_type": "markdown",
   "id": "ad227167-adc2-4de3-a4eb-323743d28062",
   "metadata": {},
   "source": [
    "## Definition of class List: First Order Methods"
   ]
  },
  {
   "cell_type": "markdown",
   "id": "d6891ba9-461a-4e31-9dc6-cb8160b79d10",
   "metadata": {},
   "source": [
    "Lists are not built in in Scala; they are defined by an abstract class List, which comes\n",
    "with two subclasses for `::` and `Nil`.\n",
    "\n",
    "```scala\n",
    "abstract class List[+A]\n",
    "```\r"
   ]
  },
  {
   "cell_type": "markdown",
   "id": "95a17db3-725f-4b92-bde4-0ae801edb1f4",
   "metadata": {},
   "source": [
    "List is an abstract class, so one cannot define elements by calling the empty List\n",
    "constructor (e.g. by `new List`). The class has a type parameter `T`. It is co-variant\n",
    "in this parameter, which means that `List[S] <: List[T]` for all types `S` and `T` such\n",
    "that `S <: T`."
   ]
  },
  {
   "cell_type": "markdown",
   "id": "83a45cf3-3937-4aa4-a47d-0207d186df3d",
   "metadata": {},
   "source": [
    "### Decomposing lists`"
   ]
  },
  {
   "cell_type": "markdown",
   "id": "f3f735fd-435a-4485-bf1a-34c626253478",
   "metadata": {},
   "source": [
    "There are three basic methods:\n",
    "\n",
    "```scala\n",
    "def isEmpty: Boolean = this match {\n",
    "    case Nil => true\n",
    "    case x :: xs => false\n",
    "}\n",
    "\n",
    "def head: A = this match {\n",
    "    case Nil => error(\"Nil.head\")\n",
    "    case x :: xs => x\n",
    "}\n",
    "\n",
    "def tail: List[A] = this match {\n",
    "    case Nil => error(\"Nil.tail\")\n",
    "    case x :: xs => xs\n",
    "}\n",
    "\n",
    "```"
   ]
  },
  {
   "cell_type": "markdown",
   "id": "00e25fa3-e027-430e-8242-5e414bf9ee13",
   "metadata": {},
   "source": [
    "The next function computes the length of a list.\n",
    "\n",
    "```scala\n",
    "def length: Int = this match = {\n",
    "    case Nil => 0\n",
    "    case x :: xs => 1 + xs.length\n",
    "}\n",
    "```"
   ]
  },
  {
   "cell_type": "markdown",
   "id": "287892f5-6ac3-4479-a5e6-125722420eaa",
   "metadata": {},
   "source": [
    "The next three functions return a prefix of the list, or a suffix, or both.\n",
    "\n",
    "```scala\n",
    "def take(n: Int): List[A] = \n",
    "    if (n == 0 || isEmpty) Nil else head :: tail.take(n-1)\n",
    "\n",
    "def drop(n: Int): List[A] =\n",
    "    if (n == 0 || isEmpty) Nil this else tail.drop(n - 1)\n",
    "\n",
    "def split(n: Int): (List[A], List[A]) = (take(n), drop(n))\n",
    "\n",
    "```"
   ]
  },
  {
   "cell_type": "markdown",
   "id": "3ce14c4e-e1b1-466d-ae2d-8eb35f895ce6",
   "metadata": {},
   "source": [
    "The next function returns an element at a given index in a list. It is thus analogous\n",
    "to array subscripting. Indices start at 0.\n",
    "\n",
    "```scala\n",
    "def apply(n: Int): A = drop(n).head\n",
    "\n",
    "```"
   ]
  },
  {
   "cell_type": "markdown",
   "id": "b25c5219-e6ef-439a-8b16-d1a1064d9014",
   "metadata": {},
   "source": [
    "### Zipping lists"
   ]
  },
  {
   "cell_type": "markdown",
   "id": "fc21982b-22d8-4c87-9589-a01cf58a7053",
   "metadata": {},
   "source": [
    "Given two list `xs = List(x1, ..., xn)` and `ys = List(y1, ..., yn)`, `xs zip ys` constructs the list `List((x1, y1), ..., (xn, yn))`.\n",
    "\n",
    "```scala\n",
    "def zip[B](that: List[B]): List[(A, B)] = \n",
    "    if (this.isEmpty || that.isEmpty) Nil\n",
    "    else (this.head, that.head) :: (this.tail zip that.tail)\n",
    "    \n",
    "```"
   ]
  },
  {
   "cell_type": "markdown",
   "id": "2e2c303b-c403-43f2-ac30-74c8fac4fc13",
   "metadata": {},
   "source": [
    "### Consisting lists"
   ]
  },
  {
   "cell_type": "markdown",
   "id": "8868d32b-8b64-47ed-9239-98996dacf43e",
   "metadata": {},
   "source": [
    "Like any infix operator, `::` is also implemented as a method of an\n",
    "object. In this case, the object is the list that is extended. This is possible, because\n",
    "**operators ending with a `:` character are treated specially** in Scala. All such operators **are treated as methods of their right operand**. E.g.,\n",
    "\n",
    "```scala\n",
    "x :: y = y.::(x)\n",
    "```\n",
    "\n",
    "whereas\n",
    "\n",
    "```scala\n",
    "x + y = x.+(y)\n",
    "```\n",
    "\n",
    "Another difference between operators ending in a `:` and other operators concerns\n",
    "their associativity. Operators ending in `:` are right-associative, whereas other operators are left-associative. E.g.,\n",
    "\n",
    "```scala\n",
    "x :: y :: z = x :: (y :: z)\n",
    "```\n",
    "\n",
    "whereas\n",
    "\n",
    "```scala\n",
    "x + y + z = (x + y) + z"
   ]
  },
  {
   "cell_type": "markdown",
   "id": "cd9b9c92-c355-48b6-b46c-3ca003bfbc00",
   "metadata": {},
   "source": [
    "The definition of `::` as a method in class `List` is as follows:\n",
    "\n",
    "```scala\n",
    "def ::[B >: A](x: B): List[B] = new scala.(x, this)\n",
    "\n",
    "```"
   ]
  },
  {
   "cell_type": "markdown",
   "id": "01bc62dd-e338-4f38-9ea9-6cb562975adc",
   "metadata": {},
   "source": [
    "### Concatening lists"
   ]
  },
  {
   "cell_type": "markdown",
   "id": "d966a988-4a26-4aa7-91a4-96e668e9c2f8",
   "metadata": {},
   "source": [
    "An operation similar to :: is list concatenation, written `:::`.\n",
    "The result of `(xs ::: ys)` is a list consisting of all elements of `xs`, followed by all\n",
    "elements of `ys`. Because it ends in a colon, `:::` is right-associative and is considered\n",
    "as a method of its right-hand operand. Therefore:\n",
    "\n",
    "```scala\n",
    "xs ::: ys ::: zs = zs.:::(ys).:::(xs)\n",
    "\n",
    "```\n",
    "\n",
    "Here is the implementation of the `:::` method.\n",
    "\n",
    "```scala\n",
    "def :::[B >: A](prefix: List[B]): List[B] = prefix match {\n",
    "    case Nil => this\n",
    "    case p :: ps => this.:::(ps).::(p)   \n",
    "}\n",
    "```"
   ]
  },
  {
   "cell_type": "markdown",
   "id": "4beeff48-66fe-4564-a1d0-cf16beba4000",
   "metadata": {},
   "source": [
    "### Reversing lists"
   ]
  },
  {
   "cell_type": "markdown",
   "id": "fdbe6aad-dd3b-4f54-a74a-6f142a9c5cdc",
   "metadata": {},
   "source": [
    "Another useful operation is list reversal.\n",
    "\n",
    "```scala\n",
    "def reverse[A](xs: List[A]): List[A] = xs match {\n",
    "    case Nil => Nil\n",
    "    case x :: xs => reverse(xs) ::: List(x)\n",
    "}\n",
    "```"
   ]
  },
  {
   "cell_type": "markdown",
   "id": "d61d6f2c-429b-4879-be89-fe5647cf8e13",
   "metadata": {},
   "source": [
    "_What about the time complexity of the previous implementation?_"
   ]
  },
  {
   "cell_type": "markdown",
   "id": "249a322c-0476-427d-823c-944f8438434a",
   "metadata": {},
   "source": [
    "## Merge sort"
   ]
  },
  {
   "cell_type": "markdown",
   "id": "b58b9f60-ccb5-4483-8ec5-5bc6cc727f2e",
   "metadata": {},
   "source": [
    "The previous algorithm is horrible talking about the time complexity.\n",
    "Here is a divide and conquer algorithm.\n",
    "\n",
    "```scala\n",
    "def msort[A](less: (A, A) => Boolean)(xs: List[A]): List[A] = {\n",
    "    def merge(xs1: List[A], xs2: List[A]): List[A] =\n",
    "        if (xs1.isEmpty) xs2\n",
    "        else if (xs2.isEmpty) xs1\n",
    "        else if (less(xs1.head, xs2.head)) xs1.head :: merge(xs1.tail, xs2)\n",
    "        else xs2.head :: merge(xs1, xs2.tail)\n",
    "    val n = xs.length/2\n",
    "    if (n == 0) xs\n",
    "    else merge(msort(less)(xs take n), msort(less)(xs drop n))\n",
    "}\n",
    "```"
   ]
  },
  {
   "cell_type": "code",
   "execution_count": null,
   "id": "0febf497-3dde-4c7b-91f6-841618494573",
   "metadata": {},
   "outputs": [],
   "source": []
  }
 ],
 "metadata": {
  "kernelspec": {
   "display_name": "Scala 2.13",
   "language": "scala",
   "name": "scala213"
  },
  "language_info": {
   "codemirror_mode": "text/x-scala",
   "file_extension": ".sc",
   "mimetype": "text/x-scala",
   "name": "scala",
   "nbconvert_exporter": "script",
   "version": "2.13.14"
  }
 },
 "nbformat": 4,
 "nbformat_minor": 5
}
