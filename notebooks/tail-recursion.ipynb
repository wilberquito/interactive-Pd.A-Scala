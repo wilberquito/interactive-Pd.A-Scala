{
 "cells": [
  {
   "cell_type": "code",
   "execution_count": null,
   "id": "7f8d5f37-e137-4d0e-8980-301aae3d8416",
   "metadata": {},
   "outputs": [],
   "source": [
    "<p style=\"float: left;\"><a href=\"named-arguments.ipynb\" target=\"_blank\">Previous</a></p>\n",
    "<p style=\"float: right;\"><a href=\"nested-functions.ipynb\" target=\"_blank\">Next</a></p>\n",
    "<p style=\"text-align:center;\">Tour of Scala</p>\n",
    "<div style=\"clear: both;\"></div>"
   ]
  },
  {
   "cell_type": "markdown",
   "id": "8470fc3e-9e62-4439-b77f-0d965234f4a3",
   "metadata": {},
   "source": [
    "# Tail recursion"
   ]
  },
  {
   "cell_type": "markdown",
   "id": "ecf50494-01d1-4b6a-953b-2f49d6a55f7a",
   "metadata": {},
   "source": [
    "Recursion can result in either _tail-recursive_ or _non-tail-recursive_ functions."
   ]
  },
  {
   "cell_type": "markdown",
   "id": "c3673372-2818-4be7-95a1-cf8091c3c800",
   "metadata": {},
   "source": [
    "## Non tail recursive function"
   ]
  },
  {
   "cell_type": "markdown",
   "id": "ebd99f74-693f-45dc-8272-a95ee0d527c9",
   "metadata": {},
   "source": [
    "_Non-tail-recursive_ functions create increasingly long chains of operations, which are then processed at the end of the evaluation. \n",
    "As a result, memory usage grows because additional computation is stored in the call stack."
   ]
  },
  {
   "cell_type": "code",
   "execution_count": 1,
   "id": "160ffbbd-aec0-4616-be10-47daeb51a89f",
   "metadata": {},
   "outputs": [
    {
     "data": {
      "text/plain": [
       "defined \u001b[32mfunction\u001b[39m \u001b[36mfactorial\u001b[39m"
      ]
     },
     "execution_count": 1,
     "metadata": {},
     "output_type": "execute_result"
    }
   ],
   "source": [
    "def factorial(n: Int): Int = if (n == 0) 1 else n * factorial(n - 1)"
   ]
  },
  {
   "cell_type": "code",
   "execution_count": 2,
   "id": "9863244f-1d22-41a8-8232-59301932c2b0",
   "metadata": {},
   "outputs": [
    {
     "data": {
      "text/plain": [
       "\u001b[36mres2\u001b[39m: \u001b[32mInt\u001b[39m = \u001b[32m3628800\u001b[39m"
      ]
     },
     "execution_count": 2,
     "metadata": {},
     "output_type": "execute_result"
    }
   ],
   "source": [
    "factorial(10)"
   ]
  },
  {
   "cell_type": "markdown",
   "id": "bb52f4d6-5bea-4762-803e-ec8cf7a615db",
   "metadata": {},
   "source": [
    "## Tail recursive function"
   ]
  },
  {
   "cell_type": "markdown",
   "id": "abe898ba-2fc6-46a5-bdf5-b6ea24f76e27",
   "metadata": {},
   "source": [
    "In contrast, _tail-recursive_ functions use no additional memory beyond what is needed for the function call itself."
   ]
  },
  {
   "cell_type": "code",
   "execution_count": 3,
   "id": "6f1e70a2-0e4e-4010-879f-6aae409de6c0",
   "metadata": {},
   "outputs": [
    {
     "data": {
      "text/plain": [
       "defined \u001b[32mfunction\u001b[39m \u001b[36mgcd\u001b[39m"
      ]
     },
     "execution_count": 3,
     "metadata": {},
     "output_type": "execute_result"
    }
   ],
   "source": [
    "def gcd(a: Int, b: Int): Int = if (b == 0) a else gcd(b, a % b)"
   ]
  },
  {
   "cell_type": "code",
   "execution_count": 5,
   "id": "9c62fbbc-1773-4971-ac5a-c01ad6b8bfa5",
   "metadata": {},
   "outputs": [
    {
     "data": {
      "text/plain": [
       "\u001b[36mres5\u001b[39m: \u001b[32mInt\u001b[39m = \u001b[32m7\u001b[39m"
      ]
     },
     "execution_count": 5,
     "metadata": {},
     "output_type": "execute_result"
    }
   ],
   "source": [
    "gcd(14, 21)"
   ]
  }
 ],
 "metadata": {
  "kernelspec": {
   "display_name": "Scala 2.13",
   "language": "scala",
   "name": "scala213"
  },
  "language_info": {
   "codemirror_mode": "text/x-scala",
   "file_extension": ".sc",
   "mimetype": "text/x-scala",
   "name": "scala",
   "nbconvert_exporter": "script",
   "version": "2.13.14"
  }
 },
 "nbformat": 4,
 "nbformat_minor": 5
}
