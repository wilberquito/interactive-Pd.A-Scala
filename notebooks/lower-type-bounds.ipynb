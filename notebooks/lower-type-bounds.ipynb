{
 "cells": [
  {
   "cell_type": "markdown",
   "id": "3c3719b3-5e71-485d-9827-51104021ad4f",
   "metadata": {},
   "source": [
    "<p style=\"float: left;\"><a href=\"variances.ipynb\" target=\"_blank\">Previous</a></p>\n",
    "<p style=\"float: right;\"><a href=\"case-classes.ipynb\" target=\"_blank\">Next</a></p>\n",
    "<p style=\"text-align:center;\">Tour of Scala</p>\n",
    "<div style=\"clear: both;\"></div>"
   ]
  },
  {
   "cell_type": "markdown",
   "id": "01300567-9699-4ab6-aa33-97eb8c284b92",
   "metadata": {},
   "source": [
    "# Lower type bounds"
   ]
  },
  {
   "cell_type": "markdown",
   "id": "d02d4cf0-f489-4e6d-a436-2aac86eec63a",
   "metadata": {},
   "source": [
    "We have seen [upper type bounds](upper-types-bounds.ipynb) for type parameters. In a type parameter declaration\n",
    "such as `T <: U`, the type parameter `T` is restricted to range only over subtypes of type\n",
    "`U`.\n",
    "\n",
    "Symmetrical to _upper bounds_ are _lower bounds_ in Scala. In a type parameter declaration `T >: S`, the type parameter `T` is restricted to range only over supertypes of type `S`.\n",
    "\n",
    "Using _lower bounds_, we can generalize the `push` method in `Stack` as follows:\n",
    "\n",
    "```scala\n",
    "class Stack[+A] {\n",
    "    def push[B >: A](elem: B): Stack[B] = . . .\n",
    "}\n",
    "```\n",
    "\n",
    "Technically, this solves our variance problem since now the type parameter `A` appears no longer\n",
    "in contravariance position, i.e., as a parameter type of method `push`. Instead, it appears as _lower\n",
    "type bound_ for another type parameter, which is classified as a co-variant. \n",
    "\n",
    "We have not only solved the technical variance problem but also have generalized the definition of push. \n",
    "Before, we were required to push only elements with\n",
    "types that conform to the declared element type of the stack. Now, **we can push also\n",
    "elements of a supertype of this type, but the type of the returned stack will change\n",
    "accordingly**."
   ]
  },
  {
   "cell_type": "code",
   "execution_count": 37,
   "id": "784b155f-ac24-4e1b-9c4a-762334f78744",
   "metadata": {},
   "outputs": [
    {
     "data": {
      "text/plain": [
       "defined \u001b[32mclass\u001b[39m \u001b[36mStack\u001b[39m\n",
       "defined \u001b[32mclass\u001b[39m \u001b[36mEmptyStack\u001b[39m\n",
       "defined \u001b[32mclass\u001b[39m \u001b[36mNonEmptyStack\u001b[39m"
      ]
     },
     "execution_count": 37,
     "metadata": {},
     "output_type": "execute_result"
    }
   ],
   "source": [
    "abstract class Stack[+A] {\n",
    "    def push[B >: A](x: B): Stack[B] = new NonEmptyStack[B](x, this)\n",
    "    def isEmpty: Boolean\n",
    "    def top: A\n",
    "    def pop: Stack[A]\n",
    "}\n",
    "\n",
    "class EmptyStack[A] extends Stack[A] {\n",
    "    def isEmpty = true\n",
    "    def top = throw new Exception(\"EmptyStack.top\")\n",
    "    def pop = throw new Exception(\"EmptyStack.pop\")\n",
    "\n",
    "    override def toString: String = \"EOS\"\n",
    "  \n",
    "}\n",
    "\n",
    "class NonEmptyStack[A](elem: A, rest: Stack[A]) extends Stack[A] {\n",
    "    def isEmpty = false\n",
    "    def top = elem\n",
    "    def pop = rest\n",
    "  \n",
    "    override def toString(): String = {\n",
    "        top.toString() ++ \"<-\" ++ pop.toString()\n",
    "    } \n",
    "}"
   ]
  },
  {
   "cell_type": "code",
   "execution_count": 38,
   "id": "38400308-bddf-435d-9bd5-262ff69710ad",
   "metadata": {},
   "outputs": [
    {
     "data": {
      "text/plain": [
       "\u001b[36mres38\u001b[39m: \u001b[32mStack\u001b[39m[\u001b[32mInt\u001b[39m] = 1<-EOS"
      ]
     },
     "execution_count": 38,
     "metadata": {},
     "output_type": "execute_result"
    }
   ],
   "source": [
    "new EmptyStack().push(1 : Int)"
   ]
  },
  {
   "cell_type": "code",
   "execution_count": 39,
   "id": "01936675-e328-4e4e-9824-2f084e1af3a4",
   "metadata": {},
   "outputs": [
    {
     "data": {
      "text/plain": [
       "\u001b[36mres39\u001b[39m: \u001b[32mStack\u001b[39m[\u001b[32mAnyVal\u001b[39m] = 1.0<-1<-EOS"
      ]
     },
     "execution_count": 39,
     "metadata": {},
     "output_type": "execute_result"
    }
   ],
   "source": [
    "new EmptyStack().push(1: Int).push(1 : Double)"
   ]
  },
  {
   "cell_type": "code",
   "execution_count": 40,
   "id": "93c9c0bf-8ae6-4387-a82f-6161d81615f6",
   "metadata": {},
   "outputs": [
    {
     "data": {
      "text/plain": [
       "\u001b[36mres40\u001b[39m: \u001b[32mStack\u001b[39m[\u001b[32mAnyVal\u001b[39m] = c<-1.0<-1<-EOS"
      ]
     },
     "execution_count": 40,
     "metadata": {},
     "output_type": "execute_result"
    }
   ],
   "source": [
    "new EmptyStack().push(1: Int).push(1 : Double).push('c')"
   ]
  },
  {
   "cell_type": "code",
   "execution_count": 41,
   "id": "a757053d-c59c-450a-a39c-f09f6e630c17",
   "metadata": {},
   "outputs": [
    {
     "data": {
      "text/plain": [
       "\u001b[36mres41\u001b[39m: \u001b[32mStack\u001b[39m[\u001b[32mAny\u001b[39m] = object AnyRef<-c<-1.0<-1<-EOS"
      ]
     },
     "execution_count": 41,
     "metadata": {},
     "output_type": "execute_result"
    }
   ],
   "source": [
    "new EmptyStack().push(1: Int).push(1 : Double).push('c').push(AnyRef)"
   ]
  },
  {
   "cell_type": "markdown",
   "id": "55dccc89-9616-43f9-8532-a77a5178e2d8",
   "metadata": {},
   "source": [
    "<p style=\"float: left;\"><a href=\"variances.ipynb\" target=\"_blank\">Previous</a></p>\n",
    "<p style=\"float: right;\"><a href=\"case-classes.ipynb\" target=\"_blank\">Next</a></p>\n",
    "<p style=\"text-align:center;\">Tour of Scala</p>\n",
    "<div style=\"clear: both;\"></div>"
   ]
  }
 ],
 "metadata": {
  "kernelspec": {
   "display_name": "Scala 2.13",
   "language": "scala",
   "name": "scala213"
  },
  "language_info": {
   "codemirror_mode": "text/x-scala",
   "file_extension": ".sc",
   "mimetype": "text/x-scala",
   "name": "scala",
   "nbconvert_exporter": "script",
   "version": "2.13.14"
  }
 },
 "nbformat": 4,
 "nbformat_minor": 5
}
