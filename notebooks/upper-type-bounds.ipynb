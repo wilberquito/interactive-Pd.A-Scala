{
 "cells": [
  {
   "cell_type": "markdown",
   "metadata": {},
   "source": [
    "<p style=\"float: left;\"><a href=\"polymorphic-methods.ipynb\" target=\"_blank\">Previous</a></p>\n",
    "<p style=\"float: right;\"><a href=\"variances.ipynb\" target=\"_blank\">Next</a></p>\n",
    "<p style=\"text-align:center;\">Tour of Scala</p>\n",
    "<div style=\"clear: both;\"></div>"
   ]
  },
  {
   "cell_type": "markdown",
   "metadata": {},
   "source": [
    "# Upper Type Bounds\n",
    "\n",
    "In Scala, [type variables](generic-classes.ipynb) and [abstract types](abstract-types.ipynb) may be constrained by a type bound. Such type bounds limit the concrete values of the type variables and possibly reveal more information about the members of such types. \n",
    "\n",
    "An _upper type bound_ or _type constraint_ `T <: A` declares that type variable `T` refers to a subtype of type `A`.\n",
    "Here is an example that demonstrates upper type bound for a type parameter of class `PetContainer`."
   ]
  },
  {
   "cell_type": "code",
   "execution_count": 1,
   "metadata": {
    "attributes": {
     "classes": [
      "tut"
     ],
     "id": ""
    }
   },
   "outputs": [
    {
     "data": {
      "text/plain": [
       "defined \u001b[32mclass\u001b[39m \u001b[36mAnimal\u001b[39m\n",
       "defined \u001b[32mclass\u001b[39m \u001b[36mPet\u001b[39m\n",
       "defined \u001b[32mclass\u001b[39m \u001b[36mCat\u001b[39m\n",
       "defined \u001b[32mclass\u001b[39m \u001b[36mDog\u001b[39m\n",
       "defined \u001b[32mclass\u001b[39m \u001b[36mLion\u001b[39m\n",
       "defined \u001b[32mclass\u001b[39m \u001b[36mPetContainer\u001b[39m\n",
       "\u001b[36mdogContainer\u001b[39m: \u001b[32mPetContainer\u001b[39m[\u001b[32mDog\u001b[39m] = ammonite.$sess.cmd0$Helper$PetContainer@5ce7ef5d\n",
       "\u001b[36mcatContainer\u001b[39m: \u001b[32mPetContainer\u001b[39m[\u001b[32mCat\u001b[39m] = ammonite.$sess.cmd0$Helper$PetContainer@5caf67b8"
      ]
     },
     "execution_count": 1,
     "metadata": {},
     "output_type": "execute_result"
    }
   ],
   "source": [
    "abstract class Animal {\n",
    " def name: String\n",
    "}\n",
    "\n",
    "abstract class Pet extends Animal {}\n",
    "\n",
    "class Cat extends Pet {\n",
    "  override def name: String = \"Cat\"\n",
    "}\n",
    "\n",
    "class Dog extends Pet {\n",
    "  override def name: String = \"Dog\"\n",
    "}\n",
    "\n",
    "class Lion extends Animal {\n",
    "  override def name: String = \"Lion\"\n",
    "}\n",
    "\n",
    "class PetContainer[P <: Pet](p: P) {\n",
    "  def pet: P = p\n",
    "}\n",
    "\n",
    "val dogContainer = new PetContainer[Dog](new Dog)\n",
    "val catContainer = new PetContainer[Cat](new Cat)"
   ]
  },
  {
   "cell_type": "code",
   "execution_count": 2,
   "metadata": {
    "attributes": {
     "classes": [
      "tut"
     ],
     "id": ""
    }
   },
   "outputs": [
    {
     "name": "stderr",
     "output_type": "stream",
     "text": [
      "cmd1.sc:104: type arguments [cmd1.this.cmd0.Lion] do not conform to class PetContainer's type parameter bounds [P <: Helper.this.Pet]\n",
      "val lionContainer = new PetContainer[Lion](new Lion)\n",
      "    ^cmd1.sc:1: type arguments [cmd1.this.cmd0.Lion] do not conform to class PetContainer's type parameter bounds [P <: Helper.this.Pet]\n",
      "val lionContainer = new PetContainer[Lion](new Lion)\n",
      "                        ^cmd1.sc:8: type arguments [cmd1.this.cmd0.Lion] do not conform to class PetContainer's type parameter bounds [P <: Helper.this.Pet]\n",
      "            .print(lionContainer, \"lionContainer\", _root_.scala.None)\n",
      "             ^cmd1.sc:8: type arguments [cmd1.this.cmd0.Lion] do not conform to class PetContainer's type parameter bounds [P <: Helper.this.Pet]\n",
      "            .print(lionContainer, \"lionContainer\", _root_.scala.None)\n",
      "                  ^Compilation Failed"
     ]
    },
    {
     "ename": "",
     "evalue": "",
     "output_type": "error",
     "traceback": [
      "Compilation Failed"
     ]
    }
   ],
   "source": [
    "// this would not compile\n",
    "val lionContainer = new PetContainer[Lion](new Lion)"
   ]
  },
  {
   "cell_type": "markdown",
   "metadata": {},
   "source": [
    "The `class PetContainer` take a type parameter `P` which must be a subtype of `Pet`. `Dog` and `Cat` are subtypes of `Pet` so we can create a new `PetContainer[Dog]` and `PetContainer[Cat]`. However, if we tried to create a `PetContainer[Lion]`, we would get the following Error:\n",
    "\n",
    "`type arguments [Lion] do not conform to class PetContainer's type parameter bounds [P <: Pet]`\n",
    "\n",
    "This is because `Lion` is not a subtype of `Pet`."
   ]
  },
  {
   "cell_type": "markdown",
   "metadata": {},
   "source": [
    "## Another example"
   ]
  },
  {
   "cell_type": "markdown",
   "metadata": {},
   "source": [
    "There are types and methods that, even if they work for a wide variety of types, \n",
    "they do not work for all. For example, the type `Set[T]`, where `T` needs to be a type that can be ordered.\n",
    "\n",
    "Let's define the `Ordered[T]` trait. This definition allows values of type `T` to be comparable."
   ]
  },
  {
   "cell_type": "code",
   "execution_count": 2,
   "metadata": {},
   "outputs": [
    {
     "data": {
      "text/plain": [
       "\u001b[32mimport \u001b[39m\u001b[36mscala.language.postfixOps\u001b[39m\n",
       "defined \u001b[32mtrait\u001b[39m \u001b[36mOrdered\u001b[39m"
      ]
     },
     "execution_count": 2,
     "metadata": {},
     "output_type": "execute_result"
    }
   ],
   "source": [
    "import scala.language.postfixOps\n",
    "\n",
    "trait Ordered[A] {\n",
    "    def compare(that: A): Int\n",
    "    def < (that: A): Boolean = (this compare that) < 0\n",
    "    def > (that: A): Boolean = (this compare that) > 0\n",
    "    def <= (that: A): Boolean = (this compare that) <= 0\n",
    "    def >= (that: A): Boolean = (this compare that) >= 0\n",
    "    def compareTo(that: A): Int = compare(that)\n",
    "}"
   ]
  },
  {
   "cell_type": "markdown",
   "metadata": {},
   "source": [
    "We use the trait `Ordered[T]` as a _type constraint_ in the generic \n",
    "type `Set[T]`, so any type `T` is subtype of `Ordered[T]`."
   ]
  },
  {
   "cell_type": "code",
   "execution_count": 7,
   "metadata": {},
   "outputs": [
    {
     "data": {
      "text/plain": [
       "\u001b[32mimport \u001b[39m\u001b[36mscala.language.postfixOps\u001b[39m\n",
       "defined \u001b[32mclass\u001b[39m \u001b[36mSet\u001b[39m\n",
       "defined \u001b[32mclass\u001b[39m \u001b[36mEmptySet\u001b[39m\n",
       "defined \u001b[32mclass\u001b[39m \u001b[36mNonEmptySet\u001b[39m"
      ]
     },
     "execution_count": 7,
     "metadata": {},
     "output_type": "execute_result"
    }
   ],
   "source": [
    "import scala.language.postfixOps\n",
    "\n",
    "abstract class Set[T <: Ordered[T]] {\n",
    "    def incl(x: T): Set[T]\n",
    "    def contains(x: T): Boolean\n",
    "}\n",
    "\n",
    "class EmptySet[T <: Ordered[T]] extends Set[T] {\n",
    "    def contains(x: T): Boolean = false\n",
    "    def incl(x: T): Set[T] = new NonEmptySet(x, new EmptySet[T], new EmptySet[T])\n",
    "}\n",
    "\n",
    "class NonEmptySet[T <: Ordered[T]](e: T, lset: Set[T], rset: Set[T]) extends Set[T] {\n",
    "    def contains(x: T): Boolean =\n",
    "        if (x < e) lset contains x // T needs to be comparable\n",
    "        else if (x > e) rset contains x\n",
    "        else true\n",
    "    def incl(x: T): Set[T] =\n",
    "        if (x < e) new NonEmptySet(e, lset incl x, rset)\n",
    "        else if (x > e) new NonEmptySet(e, lset, rset incl x)\n",
    "        else this\n",
    "}"
   ]
  },
  {
   "cell_type": "markdown",
   "metadata": {},
   "source": [
    "Finally, we define the type `Num` which implement the behaviour of an `Ordered[Num]` type."
   ]
  },
  {
   "cell_type": "code",
   "execution_count": 8,
   "metadata": {},
   "outputs": [
    {
     "data": {
      "text/plain": [
       "defined \u001b[32mclass\u001b[39m \u001b[36mNum\u001b[39m"
      ]
     },
     "execution_count": 8,
     "metadata": {},
     "output_type": "execute_result"
    }
   ],
   "source": [
    "case class Num(value: Double) extends Ordered[Num] {\n",
    "    def compare(that: Num): Int =\n",
    "    if (this.value < that.value) -1\n",
    "    else if (this.value > that.value) 1\n",
    "    else 0\n",
    "}"
   ]
  },
  {
   "cell_type": "code",
   "execution_count": 9,
   "metadata": {},
   "outputs": [
    {
     "data": {
      "text/plain": [
       "\u001b[36ms\u001b[39m: \u001b[32mSet\u001b[39m[\u001b[32mNum\u001b[39m] = ammonite.$sess.cmd7$Helper$NonEmptySet@30cf942d\n",
       "\u001b[36mres9_1\u001b[39m: \u001b[32mBoolean\u001b[39m = \u001b[32mtrue\u001b[39m"
      ]
     },
     "execution_count": 9,
     "metadata": {},
     "output_type": "execute_result"
    }
   ],
   "source": [
    "val s = new EmptySet[Num].incl(Num(9)).incl(Num(0)).incl(Num(10))\n",
    "s.contains(Num(0))"
   ]
  },
  {
   "cell_type": "markdown",
   "metadata": {},
   "source": [
    "<p style=\"float: left;\"><a href=\"polymorphic-methods.ipynb\" target=\"_blank\">Previous</a></p>\n",
    "<p style=\"float: right;\"><a href=\"variances.ipynb\" target=\"_blank\">Next</a></p>\n",
    "<p style=\"text-align:center;\">Tour of Scala</p>\n",
    "<div style=\"clear: both;\"></div>"
   ]
  }
 ],
 "metadata": {
  "kernelspec": {
   "display_name": "Scala 2.13",
   "language": "scala",
   "name": "scala213"
  },
  "language_info": {
   "codemirror_mode": "text/x-scala",
   "file_extension": ".sc",
   "mimetype": "text/x-scala",
   "name": "scala",
   "nbconvert_exporter": "script",
   "version": "2.13.14"
  }
 },
 "nbformat": 4,
 "nbformat_minor": 4
}
