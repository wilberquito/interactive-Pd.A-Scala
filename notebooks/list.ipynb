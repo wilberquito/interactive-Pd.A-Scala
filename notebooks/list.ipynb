{
 "cells": [
  {
   "cell_type": "markdown",
   "id": "14da582d-dbb2-4170-ba53-4d6757d7d233",
   "metadata": {},
   "source": [
    "<p style=\"float: left;\"><a href=\"tuples.ipynb\" target=\"_blank\">Previous</a></p>\n",
    "<p style=\"float: right;\"><a href=\"list-first-order-methods.ipynb\" target=\"_blank\">Next</a></p>\n",
    "<p style=\"text-align:center;\">Tour of Scala</p>\n",
    "<div style=\"clear: both;\"></div>"
   ]
  },
  {
   "cell_type": "markdown",
   "id": "8cbbad83-1340-4ee4-b1ba-8edc86766f22",
   "metadata": {},
   "source": [
    "# Lists"
   ]
  },
  {
   "cell_type": "markdown",
   "id": "38e245e9-c52c-4ac8-a1d3-832a3dac28f6",
   "metadata": {},
   "source": [
    "Lists are an important data structure in many Scala programs. A list containing the\n",
    "elements $x_1, . . . , x_n$ is written as `List(x1, ..., xn)`. \n",
    "\n",
    "\n",
    "```scala\n",
    "val fruit = List(\"apples\", \"oranges\", \"pears\")\n",
    "val nums  = List(1, 2, 3, 4)\n",
    "val diag3 = List(List(1, 0, 0), List(0, 1, 0), List(0, 0, 1))\n",
    "val empty = List()\n",
    "```\n",
    "\n",
    "Lists are similar to arrays in languages such as `C` or `Java`, but there are also three\n",
    "important differences: \n",
    "\n",
    "- **Lists are immutable.** That is, elements of a list cannot\n",
    "be changed by assignment,\n",
    "- **lists have a structure recursive definition**,\n",
    "- and **they support a rich set of operations**.\n",
    "\n",
    "    - `List` prepend and `head/tail` access is `O(1)` complexity.\n",
    "    -  Most other operations are `O(n)` on the number of elements in the list. This includes the `index-based` lookup of elements, `length`, `append` and `reverse`.\n"
   ]
  },
  {
   "cell_type": "markdown",
   "id": "22ad04f3-12b6-40ad-ac94-6ac21dbe7ab6",
   "metadata": {},
   "source": [
    "## Using lists"
   ]
  },
  {
   "cell_type": "markdown",
   "id": "ecac4482-581d-4bd8-9876-13e007dd1f49",
   "metadata": {},
   "source": [
    "Like arrays, **lists are _homogeneous_**. That is, the elements of a list all\n",
    "have the same type. **The type of a list with elements of type `T` is written `List[T]`.**\n",
    "\n",
    "```scala\n",
    "val fruit: List[String]    = List(\"apples\", \"oranges\", \"pears\")\n",
    "val nums : List[Int]       = List(1, 2, 3, 4)\n",
    "val diag3: List[List[Int]] = List(List(1, 0, 0), List(0, 1, 0), List(0, 0, 1))\n",
    "val empty: List[Int]       = List()\n",
    "```"
   ]
  },
  {
   "cell_type": "markdown",
   "id": "815ec794-b76c-4111-a371-7d417e8baa8d",
   "metadata": {},
   "source": [
    "### List constructors"
   ]
  },
  {
   "cell_type": "markdown",
   "id": "04eb21bf-42d8-4734-ba60-d204237f0269",
   "metadata": {},
   "source": [
    "All lists are built from two fundamental data constructors, `Nil`\n",
    "and `::` (pronounced “cons”).\n",
    "\n",
    "* `Nil` represents an empty list. <span style=\"color:red\">**(The empty list `List()` is suggar syntax for `Nil`)**</span>\n",
    "* The infix operator `::` that expresses list extension. That is, `x :: xs` represents a list whose first element is `x`, \n",
    "which is followed by a list `xs`.\n",
    "\n",
    "```scala\n",
    "val fruits = \"apples\" :: (\"oranges\" :: (\"pears\" :: Nil))\n",
    "val nums = 1 :: (2 :: (3 :: (4 :: Nil)))\n",
    "val diag3 = (1 :: (0 :: (0 :: List()))) ::\n",
    "            (0 :: (1 :: (0 :: List()))) ::\n",
    "            (0 :: (0 :: (1 :: List()))) :: List()\n",
    "val empty = Nil\n",
    "\n",
    "```"
   ]
  },
  {
   "cell_type": "markdown",
   "id": "5ba8c58d-4fa9-4674-a098-1ad5d4d9fb88",
   "metadata": {},
   "source": [
    "**The `::` data constructor is right associative `A :: B :: C`  is interpreted as\n",
    "`A :: (B :: C)`.** "
   ]
  },
  {
   "cell_type": "code",
   "execution_count": 1,
   "id": "5a2ad580-54c2-4044-b0e4-563c663993f8",
   "metadata": {},
   "outputs": [
    {
     "data": {
      "text/plain": [
       "\u001b[36mnums\u001b[39m: \u001b[32mList\u001b[39m[\u001b[32mInt\u001b[39m] = \u001b[33mList\u001b[39m(\u001b[32m1\u001b[39m, \u001b[32m2\u001b[39m, \u001b[32m3\u001b[39m, \u001b[32m4\u001b[39m)"
      ]
     },
     "execution_count": 1,
     "metadata": {},
     "output_type": "execute_result"
    }
   ],
   "source": [
    "val nums = 1 :: 2 :: 3 :: 4 :: Nil"
   ]
  },
  {
   "cell_type": "markdown",
   "id": "6385a07a-931e-4a6a-aa9a-b6a7f2668c3e",
   "metadata": {},
   "source": [
    "### Basic operations"
   ]
  },
  {
   "cell_type": "markdown",
   "id": "f939e51c-1d67-4c6d-9437-c442bc5f4145",
   "metadata": {},
   "source": [
    "All operations on lists can be expressed in terms of the\n",
    "following three:\n",
    "\n",
    "- `head` returns the first element of a list.\n",
    "- `tail` returns the list consisting of all elements except \n",
    "first element.\n",
    "- `isEmpty` returns true iff the list is empty.\n",
    "\n",
    "```scala\n",
    "val fruits = \"apples\" :: (\"oranges\" :: (\"pears\" :: Nil))\n",
    "val empty = Nil\n",
    "\n",
    "println(fruits.head)   // \"apples\"\n",
    "println(fruits.tail)   // List(\"oranges\", \"pears\")\n",
    "println(empty.isEmpty) // true\n",
    "\n",
    "println(empty.head)    // won't compile...\n",
    "println(empty.tail)    // won't compile...\n",
    "\n",
    "```"
   ]
  },
  {
   "cell_type": "markdown",
   "id": "8898779d-c415-4d3f-a2ac-378279290347",
   "metadata": {},
   "source": [
    "### List patterns"
   ]
  },
  {
   "cell_type": "markdown",
   "id": "fd10b807-9436-4377-b9ae-f3db7d8bfada",
   "metadata": {},
   "source": [
    "You can pattern matching over any list `List[A]` using the data constructors `::` and `Nil` or `List()`.\n",
    "\n",
    "```scala\n",
    "def insert(x: Int, xs: List[Int]): List[Int] = \n",
    "    xs match\n",
    "        case Nil     => x :: Nil\n",
    "        case y :: ys => if x > y then y :: insert(x, ys) \n",
    "                        else x :: xs\n",
    "\n",
    "def isort(xs: List[Int]): List[Int] =\n",
    "    if (xs.isEmpty) then \n",
    "        Nil \n",
    "    else \n",
    "        insert(xs.head, isort(xs.tail))\n",
    "\n",
    "println(isort(3 :: 1 :: 50 :: -2 :: Nil)) // List(-2, 1, 3, 50)\n",
    "```"
   ]
  },
  {
   "cell_type": "markdown",
   "id": "1a05e772-cd94-4ac8-860f-c44be344a466",
   "metadata": {},
   "source": [
    "Questions...🖐️\n",
    "\n",
    "- _What is the time complexity of the `isort` algorithm?_\n",
    "- _What should we modify to sort the list in decreasing order?_"
   ]
  },
  {
   "cell_type": "markdown",
   "id": "a915165f-4885-4037-a2f9-021a1bae302b",
   "metadata": {},
   "source": [
    "<p style=\"float: left;\"><a href=\"tuples.ipynb\" target=\"_blank\">Previous</a></p>\n",
    "<p style=\"float: right;\"><a href=\"list-first-order-methods.ipynb\" target=\"_blank\">Next</a></p>\n",
    "<p style=\"text-align:center;\">Tour of Scala</p>\n",
    "<div style=\"clear: both;\"></div>"
   ]
  }
 ],
 "metadata": {
  "kernelspec": {
   "display_name": "Scala 3.6",
   "language": "scala",
   "name": "scala36"
  },
  "language_info": {
   "codemirror_mode": "text/x-scala",
   "file_extension": ".sc",
   "mimetype": "text/x-scala",
   "name": "scala",
   "nbconvert_exporter": "script",
   "version": "2.13.16"
  }
 },
 "nbformat": 4,
 "nbformat_minor": 5
}
