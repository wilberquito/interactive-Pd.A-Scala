{
 "cells": [
  {
   "cell_type": "markdown",
   "id": "5b110dde-b4f1-40ae-aa29-facc1847540a",
   "metadata": {},
   "source": [
    "<p style=\"float: left;\"><a href=\"tour-of-scala.ipynb\" target=\"_blank\">Previous</a></p>\n",
    "<p style=\"float: right;\"><a href=\"basics.ipynb\" target=\"_blank\">Next</a></p>\n",
    "<p style=\"text-align:center;\">Tour of Scala</p>\n",
    "<div style=\"clear: both;\"></div>"
   ]
  },
  {
   "cell_type": "markdown",
   "id": "802c9fb8-dac4-4ada-af89-9d3c0b2ad074",
   "metadata": {},
   "source": [
    "# First example"
   ]
  },
  {
   "cell_type": "markdown",
   "id": "b90f2333-0a37-4609-84b4-7533d913b34c",
   "metadata": {},
   "source": [
    "A first example using Scala. Here, we see Scala's multiparadigm strength."
   ]
  },
  {
   "cell_type": "markdown",
   "id": "9a94f126-3587-4be7-83ab-a085d3243158",
   "metadata": {},
   "source": [
    "## Scala as a \"conventional\" language"
   ]
  },
  {
   "cell_type": "code",
   "execution_count": 6,
   "id": "029a1c6f-73db-4c70-a5d9-cd778a0ae2cc",
   "metadata": {},
   "outputs": [
    {
     "data": {
      "text/plain": [
       "\u001b[32mimport \u001b[39m\u001b[36mscala.language.postfixOps\u001b[39m\n",
       "defined \u001b[32mobject\u001b[39m \u001b[36mSort\u001b[39m"
      ]
     },
     "execution_count": 6,
     "metadata": {},
     "output_type": "execute_result"
    }
   ],
   "source": [
    "import scala.language.postfixOps\n",
    "\n",
    "object Sort {\n",
    "    def sort(xs: Array[Int]): Unit = {\n",
    "        def swap(i: Int, j: Int): Unit = {\n",
    "          val t = xs(i)\n",
    "          xs(i) = xs(j)\n",
    "          xs(j) = t\n",
    "        }\n",
    "        def sort1(l: Int, r: Int): Unit = {\n",
    "          val pivot = xs((l + r) / 2)\n",
    "          var i = l\n",
    "          var j = r\n",
    "          while (i <= j) {\n",
    "            while (xs(i) < pivot) i += 1\n",
    "            while (xs(j) > pivot) j -= 1\n",
    "            if (i <= j) {\n",
    "              swap(i, j)\n",
    "              i += 1\n",
    "              j -= 1\n",
    "            }\n",
    "          }\n",
    "          if (l < j) sort1(l, j)\n",
    "          if (i < r) sort1(i, r)\n",
    "        }\n",
    "        sort1(0, xs.length - 1)\n",
    "    }\n",
    "}"
   ]
  },
  {
   "cell_type": "markdown",
   "id": "e1d0f469-a909-4dde-964d-c2a3762729d0",
   "metadata": {},
   "source": [
    "Definitions start with a reserved word. Function definitions start with `def`,\n",
    "variable definitions start with `var` and definitions of values (i.e. read only variables) start with `val`."
   ]
  },
  {
   "cell_type": "markdown",
   "id": "deee3288-9ba9-476f-8e34-7e7b543fd79e",
   "metadata": {},
   "source": [
    "Executing a definition such as `def x = e` will not evaluate the expression `e`. Instead `e` is evaluated whenever `x` is used.\n",
    "If x is then used subsequently, it is immediately replaced by the\n",
    "pre-computed value of e, so that the expression need not be evaluated again."
   ]
  },
  {
   "cell_type": "code",
   "execution_count": 13,
   "id": "095b36c8-f4c2-4988-8fc6-d66e8817dcb9",
   "metadata": {},
   "outputs": [
    {
     "data": {
      "text/plain": [
       "defined \u001b[32mfunction\u001b[39m \u001b[36mscale\u001b[39m"
      ]
     },
     "execution_count": 13,
     "metadata": {},
     "output_type": "execute_result"
    }
   ],
   "source": [
    "def scale = 5"
   ]
  },
  {
   "cell_type": "code",
   "execution_count": 15,
   "id": "ce23e4fc-2e1b-4b52-af96-f5b63cbb9d45",
   "metadata": {},
   "outputs": [
    {
     "data": {
      "text/plain": [
       "\u001b[36mres15\u001b[39m: \u001b[32mInt\u001b[39m = \u001b[32m5\u001b[39m"
      ]
     },
     "execution_count": 15,
     "metadata": {},
     "output_type": "execute_result"
    }
   ],
   "source": [
    "scale"
   ]
  },
  {
   "cell_type": "code",
   "execution_count": 12,
   "id": "fac2be1c-e91f-4acb-b0a7-46e68f42cec3",
   "metadata": {},
   "outputs": [
    {
     "data": {
      "text/plain": [
       "\u001b[36mscale\u001b[39m: \u001b[32mInt\u001b[39m = \u001b[32m5\u001b[39m"
      ]
     },
     "execution_count": 12,
     "metadata": {},
     "output_type": "execute_result"
    }
   ],
   "source": [
    "val scale = 5"
   ]
  },
  {
   "cell_type": "markdown",
   "id": "d25ac7f9-71e5-4faf-9d20-faeb2d100ccd",
   "metadata": {},
   "source": [
    "What are you thoughts about the state of the array `x` after sort is executed?"
   ]
  },
  {
   "cell_type": "code",
   "execution_count": 17,
   "id": "82d58743-0234-452c-8ac0-5b4682b88b2d",
   "metadata": {},
   "outputs": [
    {
     "data": {
      "text/plain": [
       "\u001b[36mx\u001b[39m: \u001b[32mArray\u001b[39m[\u001b[32mInt\u001b[39m] = \u001b[33mArray\u001b[39m(\u001b[32m4\u001b[39m, \u001b[32m2\u001b[39m, \u001b[32m3\u001b[39m, \u001b[32m5\u001b[39m, \u001b[32m6\u001b[39m, \u001b[32m10\u001b[39m, \u001b[32m1\u001b[39m, \u001b[32m15\u001b[39m, \u001b[32m25\u001b[39m, \u001b[32m7\u001b[39m)"
      ]
     },
     "execution_count": 17,
     "metadata": {},
     "output_type": "execute_result"
    }
   ],
   "source": [
    "val x = Array(4, 2, 3, 5, 6, 10, 1, 15, 25, 7)"
   ]
  },
  {
   "cell_type": "code",
   "execution_count": 17,
   "id": "c6a5a052-f76c-422d-9178-a27ea425607a",
   "metadata": {},
   "outputs": [],
   "source": [
    "// Sort.sort(x)"
   ]
  },
  {
   "cell_type": "markdown",
   "id": "c23f981c-8322-4eec-ad27-3c8cf2bc4633",
   "metadata": {},
   "source": [
    "## Functional style in Scala"
   ]
  },
  {
   "cell_type": "code",
   "execution_count": 19,
   "id": "f373cf10-eae7-4d9a-9fab-804dedc2719d",
   "metadata": {},
   "outputs": [
    {
     "data": {
      "text/plain": [
       "\u001b[32mimport \u001b[39m\u001b[36mscala.language.postfixOps\u001b[39m\n",
       "defined \u001b[32mobject\u001b[39m \u001b[36mSort\u001b[39m"
      ]
     },
     "execution_count": 19,
     "metadata": {},
     "output_type": "execute_result"
    }
   ],
   "source": [
    "import scala.language.postfixOps\n",
    "\n",
    "object Sort {\n",
    "    def sort(xs: Array[Int]): Unit = {\n",
    "        def swap(i: Int, j: Int): Unit = {\n",
    "          val t = xs(i)\n",
    "          xs(i) = xs(j)\n",
    "          xs(j) = t\n",
    "        }\n",
    "        def sort1(l: Int, r: Int): Unit = {\n",
    "          val pivot = xs((l + r) / 2)\n",
    "          var i = l\n",
    "          var j = r\n",
    "          while (i <= j) {\n",
    "            while (xs(i) < pivot) i += 1\n",
    "            while (xs(j) > pivot) j -= 1\n",
    "            if (i <= j) {\n",
    "              swap(i, j)\n",
    "              i += 1\n",
    "              j -= 1\n",
    "            }\n",
    "          }\n",
    "          if (l < j) sort1(l, j)\n",
    "          if (i < r) sort1(i, r)\n",
    "        }\n",
    "        sort1(0, xs.length - 1)\n",
    "    }\n",
    "\n",
    "    def sortf(xs: Array[Int]): Array[Int] = {\n",
    "        if (xs.length <= 1) xs\n",
    "        else {\n",
    "          val pivot = xs(xs.length / 2)\n",
    "          Array.concat(\n",
    "            sortf(xs filter (pivot >)),\n",
    "            xs filter (pivot ==),\n",
    "            sortf(xs filter (pivot <))\n",
    "          )\n",
    "        }\n",
    "    }\n",
    "}"
   ]
  },
  {
   "cell_type": "code",
   "execution_count": 20,
   "id": "0c987251-ee22-492e-a953-63389e886adf",
   "metadata": {},
   "outputs": [
    {
     "data": {
      "text/plain": [
       "\u001b[36mx\u001b[39m: \u001b[32mArray\u001b[39m[\u001b[32mInt\u001b[39m] = \u001b[33mArray\u001b[39m(\u001b[32m4\u001b[39m, \u001b[32m2\u001b[39m, \u001b[32m3\u001b[39m, \u001b[32m5\u001b[39m, \u001b[32m6\u001b[39m, \u001b[32m10\u001b[39m, \u001b[32m1\u001b[39m, \u001b[32m15\u001b[39m, \u001b[32m25\u001b[39m, \u001b[32m7\u001b[39m)\n",
       "\u001b[36mres20_1\u001b[39m: \u001b[32mArray\u001b[39m[\u001b[32mInt\u001b[39m] = \u001b[33mArray\u001b[39m(\u001b[32m1\u001b[39m, \u001b[32m2\u001b[39m, \u001b[32m3\u001b[39m, \u001b[32m4\u001b[39m, \u001b[32m5\u001b[39m, \u001b[32m6\u001b[39m, \u001b[32m7\u001b[39m, \u001b[32m10\u001b[39m, \u001b[32m15\u001b[39m, \u001b[32m25\u001b[39m)"
      ]
     },
     "execution_count": 20,
     "metadata": {},
     "output_type": "execute_result"
    }
   ],
   "source": [
    "val x = Array(4, 2, 3, 5, 6, 10, 1, 15, 25, 7)\n",
    "Sort.sortf(x)"
   ]
  },
  {
   "cell_type": "markdown",
   "id": "1592d466-babd-49e6-b97b-f76f6a415f7c",
   "metadata": {},
   "source": [
    "## Printing arrays"
   ]
  },
  {
   "cell_type": "markdown",
   "id": "0c3ac59d-847b-46d5-bff2-53a27f3fbc64",
   "metadata": {},
   "source": [
    "You need to make sure to transform the array to a string using the `mkString` \n",
    "method of the array to print it using the standard output; otherwise, it will show you the @ memory of the array."
   ]
  },
  {
   "cell_type": "code",
   "execution_count": 18,
   "id": "47b8c224-bf9b-44cb-861f-f754e35c8284",
   "metadata": {},
   "outputs": [
    {
     "name": "stdout",
     "output_type": "stream",
     "text": [
      "[I@430b107d\n"
     ]
    }
   ],
   "source": [
    "val x = Array(4, 2, 3, 5, 6, 10, 1, 15, 25, 7)\n",
    "println(x)"
   ]
  },
  {
   "cell_type": "code",
   "execution_count": 21,
   "id": "06f9df12-8fe1-4900-88d9-bce02554fc91",
   "metadata": {},
   "outputs": [
    {
     "name": "stdout",
     "output_type": "stream",
     "text": [
      "4,2,3,5,6,10,1,15,25,7\n"
     ]
    },
    {
     "data": {
      "text/plain": [
       "\u001b[36mx\u001b[39m: \u001b[32mArray\u001b[39m[\u001b[32mInt\u001b[39m] = \u001b[33mArray\u001b[39m(\u001b[32m4\u001b[39m, \u001b[32m2\u001b[39m, \u001b[32m3\u001b[39m, \u001b[32m5\u001b[39m, \u001b[32m6\u001b[39m, \u001b[32m10\u001b[39m, \u001b[32m1\u001b[39m, \u001b[32m15\u001b[39m, \u001b[32m25\u001b[39m, \u001b[32m7\u001b[39m)"
      ]
     },
     "execution_count": 21,
     "metadata": {},
     "output_type": "execute_result"
    }
   ],
   "source": [
    "val x = Array(4, 2, 3, 5, 6, 10, 1, 15, 25, 7)\n",
    "println(x.mkString(\", \"))"
   ]
  },
  {
   "cell_type": "markdown",
   "id": "2874b3c6-92fe-4128-8372-20867611b3c2",
   "metadata": {},
   "source": [
    "<p style=\"float: left;\"><a href=\"tour-of-scala.ipynb\" target=\"_blank\">Previous</a></p>\n",
    "<p style=\"float: right;\"><a href=\"basics.ipynb\" target=\"_blank\">Next</a></p>\n",
    "<p style=\"text-align:center;\">Tour of Scala</p>\n",
    "<div style=\"clear: both;\"></div>"
   ]
  }
 ],
 "metadata": {
  "kernelspec": {
   "display_name": "Scala 2.13",
   "language": "scala",
   "name": "scala213"
  },
  "language_info": {
   "codemirror_mode": "text/x-scala",
   "file_extension": ".sc",
   "mimetype": "text/x-scala",
   "name": "scala",
   "nbconvert_exporter": "script",
   "version": "2.13.14"
  }
 },
 "nbformat": 4,
 "nbformat_minor": 5
}
