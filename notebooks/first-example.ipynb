{
 "cells": [
  {
   "cell_type": "markdown",
   "id": "5b110dde-b4f1-40ae-aa29-facc1847540a",
   "metadata": {},
   "source": [
    "<p style=\"float: left;\"><a href=\"developing-tools.ipynb\" target=\"_blank\">Previous</a></p>\n",
    "<p style=\"float: right;\"><a href=\"basics.ipynb\" target=\"_blank\">Next</a></p>\n",
    "<p style=\"text-align:center;\">Tour of Scala</p>\n",
    "<div style=\"clear: both;\"></div>"
   ]
  },
  {
   "cell_type": "markdown",
   "id": "802c9fb8-dac4-4ada-af89-9d3c0b2ad074",
   "metadata": {},
   "source": [
    "# First example"
   ]
  },
  {
   "cell_type": "markdown",
   "id": "b90f2333-0a37-4609-84b4-7533d913b34c",
   "metadata": {},
   "source": [
    "A first example using Scala. Here, we see Scala's multiparadigm strength."
   ]
  },
  {
   "cell_type": "markdown",
   "id": "9a94f126-3587-4be7-83ab-a085d3243158",
   "metadata": {},
   "source": [
    "## Scala as a \"conventional\" language"
   ]
  },
  {
   "cell_type": "code",
   "execution_count": 1,
   "id": "029a1c6f-73db-4c70-a5d9-cd778a0ae2cc",
   "metadata": {},
   "outputs": [
    {
     "data": {
      "text/plain": [
       "defined \u001b[32mobject\u001b[39m \u001b[36mSortingAlgorithms\u001b[39m"
      ]
     },
     "execution_count": 1,
     "metadata": {},
     "output_type": "execute_result"
    }
   ],
   "source": [
    "object SortingAlgorithms {\n",
    "    def _swap(i: Int, j: Int, xs: Array[Int]): Unit = {\n",
    "        val t = xs(i)\n",
    "        xs(i) = xs(j)\n",
    "        xs(j) = t\n",
    "    }\n",
    "    \n",
    "    def _quicksort(l: Int, r: Int, xs: Array[Int]): Unit = {\n",
    "        val pivot = xs((l + r) / 2)\n",
    "        var i = l\n",
    "        var j = r\n",
    "        while (i <= j) {\n",
    "            while (xs(i) < pivot) i += 1\n",
    "            while (xs(j) > pivot) j -= 1\n",
    "            if (i <= j) {\n",
    "              _swap(i, j, xs)\n",
    "              i += 1\n",
    "              j -= 1\n",
    "            }\n",
    "          }\n",
    "          if (l < j) _quicksort(l, j, xs)\n",
    "          if (i < r) _quicksort(i, r, xs)\n",
    "    }\n",
    "    \n",
    "    def quicksort(xs: Array[Int]): Unit = {\n",
    "        _quicksort(0, xs.length - 1, xs)\n",
    "    }\n",
    "}"
   ]
  },
  {
   "cell_type": "markdown",
   "id": "7ef7f455-2fd5-4dca-805b-a88438ffa08a",
   "metadata": {},
   "source": [
    "Some questions...\n",
    "\n",
    "- What is the algorithm doing?\n",
    "- What is the differnce between `var` and `val`?\n",
    "- What it means `Unit`?\n",
    "- Why there is not any return line?\n",
    "\n",
    "Some syntax highlits:\n",
    "\n",
    "- The keyboard `def` is used for defining a methods or functions\n",
    "- Acessing a position in a vector `xs(i)`\n",
    "- Typing an argument as follows `xs: Array[Int]`"
   ]
  },
  {
   "cell_type": "code",
   "execution_count": 2,
   "id": "82d58743-0234-452c-8ac0-5b4682b88b2d",
   "metadata": {},
   "outputs": [
    {
     "data": {
      "text/plain": [
       "\u001b[36mxs\u001b[39m: \u001b[32mArray\u001b[39m[\u001b[32mInt\u001b[39m] = \u001b[33mArray\u001b[39m(\u001b[32m4\u001b[39m, \u001b[32m2\u001b[39m, \u001b[32m3\u001b[39m, \u001b[32m5\u001b[39m, \u001b[32m6\u001b[39m, \u001b[32m10\u001b[39m, \u001b[32m1\u001b[39m, \u001b[32m15\u001b[39m, \u001b[32m25\u001b[39m, \u001b[32m7\u001b[39m)"
      ]
     },
     "execution_count": 2,
     "metadata": {},
     "output_type": "execute_result"
    }
   ],
   "source": [
    "val xs: Array[Int] = Array(4, 2, 3, 5, 6, 10, 1, 15, 25, 7)"
   ]
  },
  {
   "cell_type": "code",
   "execution_count": 3,
   "id": "c6a5a052-f76c-422d-9178-a27ea425607a",
   "metadata": {},
   "outputs": [],
   "source": [
    "SortingAlgorithms.quicksort(xs)"
   ]
  },
  {
   "cell_type": "code",
   "execution_count": 4,
   "id": "eb810519-84a6-41ba-b519-95de72c8269a",
   "metadata": {},
   "outputs": [
    {
     "data": {
      "text/plain": [
       "\u001b[36mres4\u001b[39m: \u001b[32mArray\u001b[39m[\u001b[32mInt\u001b[39m] = \u001b[33mArray\u001b[39m(\u001b[32m1\u001b[39m, \u001b[32m2\u001b[39m, \u001b[32m3\u001b[39m, \u001b[32m4\u001b[39m, \u001b[32m5\u001b[39m, \u001b[32m6\u001b[39m, \u001b[32m7\u001b[39m, \u001b[32m10\u001b[39m, \u001b[32m15\u001b[39m, \u001b[32m25\u001b[39m)"
      ]
     },
     "execution_count": 4,
     "metadata": {},
     "output_type": "execute_result"
    }
   ],
   "source": [
    "xs"
   ]
  },
  {
   "cell_type": "markdown",
   "id": "f7dde71e-886d-4382-a985-1be00fcf8848",
   "metadata": {},
   "source": [
    "### The `def` keyword"
   ]
  },
  {
   "cell_type": "markdown",
   "id": "0decb3be-fd13-44c6-a224-13204eae524f",
   "metadata": {},
   "source": [
    "Executing a definition such as `def x = e` will not evaluate the expression `e`, \n",
    "**instead, `e` is only evaluated whenever `x` is used**.\n",
    "\n",
    "If `x` is then used subsequently, it is immediately replaced by the\n",
    "pre-computed value of `e`, so that the expression need not be evaluated again."
   ]
  },
  {
   "cell_type": "code",
   "execution_count": 5,
   "id": "095b36c8-f4c2-4988-8fc6-d66e8817dcb9",
   "metadata": {},
   "outputs": [
    {
     "data": {
      "text/plain": [
       "defined \u001b[32mfunction\u001b[39m \u001b[36mscale\u001b[39m"
      ]
     },
     "execution_count": 5,
     "metadata": {},
     "output_type": "execute_result"
    }
   ],
   "source": [
    "def scale = 5"
   ]
  },
  {
   "cell_type": "code",
   "execution_count": 6,
   "id": "ce23e4fc-2e1b-4b52-af96-f5b63cbb9d45",
   "metadata": {},
   "outputs": [
    {
     "data": {
      "text/plain": [
       "\u001b[36mres6\u001b[39m: \u001b[32mInt\u001b[39m = \u001b[32m5\u001b[39m"
      ]
     },
     "execution_count": 6,
     "metadata": {},
     "output_type": "execute_result"
    }
   ],
   "source": [
    "scale"
   ]
  },
  {
   "cell_type": "markdown",
   "id": "a8cd5042-4d3d-46ce-bd52-631c43ee053c",
   "metadata": {},
   "source": [
    "### The `var` keyword"
   ]
  },
  {
   "cell_type": "markdown",
   "id": "aae9e580-fd47-4168-bddb-25e8e6b26055",
   "metadata": {},
   "source": [
    "The `var` keyword makes a variable mutable. The expression on the right side of the assignment is immediately evaluated."
   ]
  },
  {
   "cell_type": "code",
   "execution_count": 7,
   "id": "e9cbc623-d8cb-4b49-8bc3-0206ff208c5c",
   "metadata": {},
   "outputs": [
    {
     "data": {
      "text/plain": [
       "\u001b[36mseconds\u001b[39m: \u001b[32mInt\u001b[39m = \u001b[32m11\u001b[39m"
      ]
     },
     "execution_count": 7,
     "metadata": {},
     "output_type": "execute_result"
    }
   ],
   "source": [
    "var seconds = 10\n",
    "seconds = seconds + 1"
   ]
  },
  {
   "cell_type": "markdown",
   "id": "d9926bc7-6a46-46c3-a741-c2aa944ad15c",
   "metadata": {},
   "source": [
    "### The `val` keyword"
   ]
  },
  {
   "cell_type": "markdown",
   "id": "9038caa4-c983-45cb-841d-ba1558ab8207",
   "metadata": {},
   "source": [
    "The `val` keyword makes a variable immutable. That's why we can name `val` variables just as a value. \n",
    "The expression on the right side of the assignment is immediately evaluated."
   ]
  },
  {
   "cell_type": "code",
   "execution_count": 7,
   "id": "fac2be1c-e91f-4acb-b0a7-46e68f42cec3",
   "metadata": {},
   "outputs": [
    {
     "name": "stderr",
     "output_type": "stream",
     "text": [
      "-- [E052] Type Error: cmd8.sc:2:21 ---------------------------------------------\n",
      "2 |val res8_1 = seconds = seconds - 1\n",
      "  |             ^^^^^^^^^^^^^^^^^^^^^\n",
      "  |             Reassignment to val seconds\n",
      "  |\n",
      "  | longer explanation available when compiling with `-explain`\n",
      "Compilation Failed"
     ]
    }
   ],
   "source": [
    "val seconds = 10\n",
    "seconds = seconds - 1"
   ]
  },
  {
   "cell_type": "markdown",
   "id": "c23f981c-8322-4eec-ad27-3c8cf2bc4633",
   "metadata": {},
   "source": [
    "## Functional style in Scala"
   ]
  },
  {
   "cell_type": "code",
   "execution_count": 8,
   "id": "f373cf10-eae7-4d9a-9fab-804dedc2719d",
   "metadata": {},
   "outputs": [
    {
     "data": {
      "text/plain": [
       "\u001b[32mimport \u001b[39m\u001b[36mscala.language.postfixOps // <- this is needed for using methods as infix operator or functions\n",
       "\n",
       "\u001b[39m\n",
       "defined \u001b[32mobject\u001b[39m \u001b[36mFunctionSortingAlgorithms\u001b[39m"
      ]
     },
     "execution_count": 8,
     "metadata": {},
     "output_type": "execute_result"
    }
   ],
   "source": [
    "import scala.language.postfixOps // <- this is needed for using methods as infix operator or functions\n",
    "\n",
    "object FunctionSortingAlgorithms {\n",
    "    def quicksortf(xs: Array[Int]): Array[Int] = \n",
    "        if xs.length <= 1 then xs\n",
    "        else \n",
    "          val pivot = xs(xs.length / 2)\n",
    "          Array.concat(\n",
    "            quicksortf(xs filter (x => pivot > x)), // define the whole landa expression\n",
    "            xs filter (_ == pivot),                 // use of lambda short-hand expression\n",
    "            quicksortf(xs filter (pivot < _))       // use of lambda short-hand expression\n",
    "          )\n",
    "}"
   ]
  },
  {
   "cell_type": "markdown",
   "id": "57afbb0d-12a3-40d4-9a1f-8445f191a64f",
   "metadata": {},
   "source": [
    "Arrays `Array[T]` are Scala sequences `Seq[A]`. \n",
    "There are many [**powerful operations**](https://www.scala-lang.org/api/2.12.x/scala/collection/Seq.html)\n",
    "to work with sequences.\n",
    "\n",
    "So far we have seen the higher order function `filter` to work with sequences.\n",
    "\n",
    "```scala\n",
    "def filter(p: A => Boolean): Seq[A]\n",
    "```\n",
    "\n",
    "Scala does not distinguish between identifiers and operator names. \n",
    "Any identifier can be used as an infix operator in Scala. \n",
    "\n",
    "- The binary operation $E \\ op \\ E'$ is always interpreted as the method call $E.op(E')$. \n",
    "\n",
    "- Yet, you need to import the `postfixOps` module.\n",
    "    ```scala\n",
    "    import scala.language.postfixOps\n",
    "    ```\n",
    "\n",
    "Hence, these expressions are equivalent.\n",
    "\n",
    "```scala\n",
    "xs filter (pivot > _)\n",
    "xs.filter(pivot > _)\n",
    "\n",
    "```"
   ]
  },
  {
   "cell_type": "code",
   "execution_count": 9,
   "id": "0c987251-ee22-492e-a953-63389e886adf",
   "metadata": {},
   "outputs": [
    {
     "data": {
      "text/plain": [
       "\u001b[36mxs\u001b[39m: \u001b[32mArray\u001b[39m[\u001b[32mInt\u001b[39m] = \u001b[33mArray\u001b[39m(\u001b[32m4\u001b[39m, \u001b[32m2\u001b[39m, \u001b[32m3\u001b[39m, \u001b[32m5\u001b[39m, \u001b[32m6\u001b[39m, \u001b[32m10\u001b[39m, \u001b[32m1\u001b[39m, \u001b[32m15\u001b[39m, \u001b[32m25\u001b[39m, \u001b[32m7\u001b[39m)"
      ]
     },
     "execution_count": 9,
     "metadata": {},
     "output_type": "execute_result"
    }
   ],
   "source": [
    "val xs = Array(4, 2, 3, 5, 6, 10, 1, 15, 25, 7)"
   ]
  },
  {
   "cell_type": "code",
   "execution_count": 10,
   "id": "754197f8-86f0-441c-8f22-e32cc5e308ca",
   "metadata": {},
   "outputs": [
    {
     "data": {
      "text/plain": [
       "\u001b[36msorted_xs\u001b[39m: \u001b[32mArray\u001b[39m[\u001b[32mInt\u001b[39m] = \u001b[33mArray\u001b[39m(\u001b[32m1\u001b[39m, \u001b[32m2\u001b[39m, \u001b[32m3\u001b[39m, \u001b[32m4\u001b[39m, \u001b[32m5\u001b[39m, \u001b[32m6\u001b[39m, \u001b[32m7\u001b[39m, \u001b[32m10\u001b[39m, \u001b[32m15\u001b[39m, \u001b[32m25\u001b[39m)"
      ]
     },
     "execution_count": 10,
     "metadata": {},
     "output_type": "execute_result"
    }
   ],
   "source": [
    "val sorted_xs = FunctionSortingAlgorithms.quicksortf(xs)"
   ]
  },
  {
   "cell_type": "code",
   "execution_count": 11,
   "id": "e9cfc0cb-7cb0-4261-876f-0a820be05e8d",
   "metadata": {},
   "outputs": [
    {
     "data": {
      "text/plain": [
       "\u001b[36mres11\u001b[39m: \u001b[32mArray\u001b[39m[\u001b[32mInt\u001b[39m] = \u001b[33mArray\u001b[39m(\u001b[32m4\u001b[39m, \u001b[32m2\u001b[39m, \u001b[32m3\u001b[39m, \u001b[32m5\u001b[39m, \u001b[32m6\u001b[39m, \u001b[32m10\u001b[39m, \u001b[32m1\u001b[39m, \u001b[32m15\u001b[39m, \u001b[32m25\u001b[39m, \u001b[32m7\u001b[39m)"
      ]
     },
     "execution_count": 11,
     "metadata": {},
     "output_type": "execute_result"
    }
   ],
   "source": [
    "xs"
   ]
  },
  {
   "cell_type": "markdown",
   "id": "1592d466-babd-49e6-b97b-f76f6a415f7c",
   "metadata": {},
   "source": [
    "## Printing an array"
   ]
  },
  {
   "cell_type": "markdown",
   "id": "0c3ac59d-847b-46d5-bff2-53a27f3fbc64",
   "metadata": {},
   "source": [
    "You need to make sure to transform the array to a string using the `mkString` \n",
    "method of the array to print it using the standard output; otherwise, it will show you the $@$ memory of the array."
   ]
  },
  {
   "cell_type": "code",
   "execution_count": 12,
   "id": "47b8c224-bf9b-44cb-861f-f754e35c8284",
   "metadata": {},
   "outputs": [
    {
     "name": "stdout",
     "output_type": "stream",
     "text": [
      "[I@6b16fa33\n"
     ]
    },
    {
     "data": {
      "text/plain": [
       "\u001b[36my\u001b[39m: \u001b[32mArray\u001b[39m[\u001b[32mInt\u001b[39m] = \u001b[33mArray\u001b[39m(\u001b[32m4\u001b[39m, \u001b[32m2\u001b[39m, \u001b[32m3\u001b[39m, \u001b[32m5\u001b[39m, \u001b[32m6\u001b[39m, \u001b[32m10\u001b[39m, \u001b[32m1\u001b[39m, \u001b[32m15\u001b[39m, \u001b[32m25\u001b[39m, \u001b[32m7\u001b[39m)"
      ]
     },
     "execution_count": 12,
     "metadata": {},
     "output_type": "execute_result"
    }
   ],
   "source": [
    "val y = Array(4, 2, 3, 5, 6, 10, 1, 15, 25, 7)\n",
    "println(y)"
   ]
  },
  {
   "cell_type": "code",
   "execution_count": 13,
   "id": "06f9df12-8fe1-4900-88d9-bce02554fc91",
   "metadata": {},
   "outputs": [
    {
     "name": "stdout",
     "output_type": "stream",
     "text": [
      "4, 2, 3, 5, 6, 10, 1, 15, 25, 7\n"
     ]
    },
    {
     "data": {
      "text/plain": [
       "\u001b[36my\u001b[39m: \u001b[32mArray\u001b[39m[\u001b[32mInt\u001b[39m] = \u001b[33mArray\u001b[39m(\u001b[32m4\u001b[39m, \u001b[32m2\u001b[39m, \u001b[32m3\u001b[39m, \u001b[32m5\u001b[39m, \u001b[32m6\u001b[39m, \u001b[32m10\u001b[39m, \u001b[32m1\u001b[39m, \u001b[32m15\u001b[39m, \u001b[32m25\u001b[39m, \u001b[32m7\u001b[39m)"
      ]
     },
     "execution_count": 13,
     "metadata": {},
     "output_type": "execute_result"
    }
   ],
   "source": [
    "val y = Array(4, 2, 3, 5, 6, 10, 1, 15, 25, 7)\n",
    "println(y.mkString(\", \"))"
   ]
  },
  {
   "cell_type": "code",
   "execution_count": 14,
   "id": "5c41c49a-976b-44e6-85f7-b0e5d4412f82",
   "metadata": {},
   "outputs": [
    {
     "name": "stdout",
     "output_type": "stream",
     "text": [
      "[I@4c646d74"
     ]
    },
    {
     "data": {
      "text/plain": [
       "\u001b[36my\u001b[39m: \u001b[32mArray\u001b[39m[\u001b[32mInt\u001b[39m] = \u001b[33mArray\u001b[39m(\u001b[32m4\u001b[39m, \u001b[32m2\u001b[39m, \u001b[32m3\u001b[39m, \u001b[32m5\u001b[39m, \u001b[32m6\u001b[39m, \u001b[32m10\u001b[39m, \u001b[32m1\u001b[39m, \u001b[32m15\u001b[39m, \u001b[32m25\u001b[39m, \u001b[32m7\u001b[39m)"
      ]
     },
     "execution_count": 14,
     "metadata": {},
     "output_type": "execute_result"
    }
   ],
   "source": [
    "val y = Array(4, 2, 3, 5, 6, 10, 1, 15, 25, 7)\n",
    "print(y.toString())"
   ]
  },
  {
   "cell_type": "markdown",
   "id": "682c4367-a6e5-40f9-b8e7-b89386672b6c",
   "metadata": {},
   "source": [
    "## Activity\n",
    "\n",
    "Use the provided template for:\n",
    "\n",
    "- Defining an object called `SortingAlgorithms` where:\n",
    "  - The `functional` and the `imperative` quicksort is defined.\n",
    "- Play with these algorithms in a `.worksheet` file under the `src/main/scala` folder."
   ]
  },
  {
   "cell_type": "markdown",
   "id": "e5ff6e42-1fbe-446c-9c2b-441bfac6b7c6",
   "metadata": {},
   "source": [
    "<p style=\"float: left;\"><a href=\"developing-tools.ipynb\" target=\"_blank\">Previous</a></p>\n",
    "<p style=\"float: right;\"><a href=\"basics.ipynb\" target=\"_blank\">Next</a></p>\n",
    "<p style=\"text-align:center;\">Tour of Scala</p>\n",
    "<div style=\"clear: both;\"></div>"
   ]
  }
 ],
 "metadata": {
  "kernelspec": {
   "display_name": "Scala 3.6",
   "language": "scala",
   "name": "scala36"
  },
  "language_info": {
   "codemirror_mode": "text/x-scala",
   "file_extension": ".sc",
   "mimetype": "text/x-scala",
   "name": "scala",
   "nbconvert_exporter": "script",
   "version": "2.13.16"
  }
 },
 "nbformat": 4,
 "nbformat_minor": 5
}
