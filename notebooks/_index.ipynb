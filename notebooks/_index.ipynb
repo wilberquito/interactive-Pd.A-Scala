{
 "cells": [
  {
   "cell_type": "markdown",
   "metadata": {},
   "source": [
    "# Functional and Object-oriented Programming (OOP) with Scala"
   ]
  },
  {
   "cell_type": "markdown",
   "metadata": {},
   "source": [
    "A list of Jupyter Notebooks for the Pd.A subject.\n",
    "\n",
    "If you find any mistake please feel free to add an issue on the [**original repository**](https://github.com/wilberquito/interactive-Pd.A-Scala/issues)."
   ]
  },
  {
   "cell_type": "markdown",
   "metadata": {},
   "source": [
    "## Template for working with Scala"
   ]
  },
  {
   "cell_type": "markdown",
   "metadata": {},
   "source": [
    "We provide a simple project template to avoid you to running into problems at the creation of a Scala project.\n",
    "\n",
    "- This template in the original repository in branch [**sbt-template**](https://github.com/wilberquito/interactive-Pd.A-Scala/tree/sbt-template).\n",
    "  \n",
    "- The template uses [**simple build tool (sbt)**](https://www.scala-sbt.org) as the package manager. We will use it also for building and compiling engine tool for Scala.\n",
    "  \n",
    "- We recommend you to use the [**sbt-template**](https://github.com/wilberquito/interactive-Pd.A-Scala/tree/sbt-template) because it is configure with the version of Scala that we will use `Scala 3.6`."
   ]
  },
  {
   "cell_type": "markdown",
   "metadata": {},
   "source": [
    "## What do you need to follow up?"
   ]
  },
  {
   "cell_type": "markdown",
   "metadata": {},
   "source": [
    "In our system we will need the following tools:\n",
    "\n",
    "- [**IntelliJ IDEA**](https://www.jetbrains.com/idea/download) (community edition is enough)\n",
    "    - Java Development Kit version 23 (JDK23)\n",
    "    - Scala plugin\n",
    " \n",
    "The `JDK23` and the `Scala plugin` is installed through `IntelliJ IDEA`.\n",
    "\n",
    "<span style=\"color: green\">You need everything running smoothly for practice purposes.</span>"
   ]
  },
  {
   "cell_type": "markdown",
   "metadata": {},
   "source": [
    "## Notebooks in this repository"
   ]
  },
  {
   "cell_type": "markdown",
   "metadata": {},
   "source": [
    "### P1\n",
    "* [Introduction](tour-of-scala.ipynb)\n",
    "* [Developing tools](developing-tools.ipynb)\n",
    "* [Scala first example](first-example.ipynb)\n",
    "* [Basics](basics.ipynb)\n",
    "* [Unified types](unified-types.ipynb)\n",
    "* [Type inference](type-inference.ipynb)\n",
    "* Expressions and simple functions\n",
    "    * [Evaluation order](by-name-parameters.ipynb)\n",
    "    * [Default parameter values](default-parameter-values.ipynb)\n",
    "    * [Named arguments](named-arguments.ipynb)\n",
    "    * [About if/else](about-if-else.ipynb)\n",
    "* Functions\n",
    "    * [Tail recursion](tail-recursion.ipynb)\n",
    "    * [Nested methods](nested-methods.ipynb)\n",
    "    * [Higher order functions](higher-order-functions.ipynb)\n",
    "    * [Currying](currying.ipynb)\n",
    "* [Exercises](p1-exercises.ipynb)"
   ]
  },
  {
   "cell_type": "markdown",
   "metadata": {},
   "source": [
    "### P2\n",
    "* [Classes](classes.ipynb)\n",
    "* [Objects](singleton-objects.ipynb)\n",
    "* [Traits](traits.ipynb)\n",
    "* [Generic classes](generic-classes.ipynb)\n",
    "* [Polymorphic methods](polymorphic-methods.ipynb)\n",
    "* [Upper type bounds](upper-type-bounds.ipynb)\n",
    "* [Variances](variances.ipynb)\n",
    "* [Lower type bounds](lower-type-bounds.ipynb)\n",
    "* [Case classes](case-classes.ipynb)\n",
    "* [Pattern matching](pattern-matching.ipynb)\n",
    "* [Exercises](p2-exercises.ipynb)"
   ]
  },
  {
   "cell_type": "markdown",
   "metadata": {},
   "source": [
    "### P3\n",
    "\n",
    "* [Tuples](tuples.ipynb)\n",
    "* [List](list.ipynb)\n",
    "* [List - first order methods](list-first-order-methods.ipynb)\n",
    "* [Merge Sort](merge-sort.ipynb)\n",
    "* [List - higher order methods](list-higher-order-methods.ipynb)\n",
    "* [For-Comprehensions](for-comprehensions.ipynb)\n",
    "* [Exercises](p3-exercises.ipynb)"
   ]
  },
  {
   "cell_type": "markdown",
   "metadata": {},
   "source": [
    "### P4\n",
    "* [Introduction to Actor model and AKKA](actor-model.ipynb)\n",
    "* [Exercises](p4-exercises.ipynb)"
   ]
  }
 ],
 "metadata": {
  "kernelspec": {
   "display_name": "Scala 3.6",
   "language": "scala",
   "name": "scala36"
  },
  "language_info": {
   "codemirror_mode": "text/x-scala",
   "file_extension": ".sc",
   "mimetype": "text/x-scala",
   "name": "scala",
   "nbconvert_exporter": "script",
   "version": "2.13.16"
  }
 },
 "nbformat": 4,
 "nbformat_minor": 4
}
