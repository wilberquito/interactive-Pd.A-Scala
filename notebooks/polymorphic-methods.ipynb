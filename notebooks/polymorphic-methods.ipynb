{
 "cells": [
  {
   "cell_type": "markdown",
   "metadata": {},
   "source": [
    "<p style=\"float: left;\"><a href=\"generic-classes.ipynb\" target=\"_blank\">Previous</a></p>\n",
    "<p style=\"float: right;\"><a href=\"upper-type-bounds.ipynb\" target=\"_blank\">Next</a></p>\n",
    "<p style=\"text-align:center;\">Tour of Scala</p>\n",
    "<div style=\"clear: both;\"></div>"
   ]
  },
  {
   "cell_type": "markdown",
   "metadata": {},
   "source": [
    "# Polymorphic methods"
   ]
  },
  {
   "cell_type": "markdown",
   "metadata": {
    "attributes": {
     "classes": [
      "tut"
     ],
     "id": ""
    }
   },
   "source": [
    "- **Methods in Scala can be parameterized by type**. Type parameters are enclosed in square brackets.\n",
    "\n",
    "    ```scala\n",
    "    def listOfDuplicates[A](x: A, length: Int): List[A] =\n",
    "      if (length < 1) Nil\n",
    "      else x :: listOfDuplicates(x, length - 1)\n",
    "    \n",
    "    ```\n",
    "\n",
    "    <br/>\n",
    "\n",
    "- **We explicitly provide the type parameter by writing `[Float]`**.\n",
    "\n",
    "    ```scala\n",
    "    val xsFloats = listOfDuplicates[Float](3, 4) // : List[Float]\n",
    "    \n",
    "    ```\n",
    "\n",
    "    <br/>\n",
    "    \n",
    "- **It is not always needed to provide the type parameter**. The compiler can often infer it based on context or on the types of the value arguments.\n",
    "\n",
    "    ```scala\n",
    "    val xsString = listOfDuplicates(\"La\", 8)  // : List[String]\n",
    "    \n",
    "    ```"
   ]
  },
  {
   "cell_type": "markdown",
   "metadata": {},
   "source": [
    "## Algebraic stack"
   ]
  },
  {
   "cell_type": "markdown",
   "metadata": {},
   "source": [
    "```scala\n",
    "abstract class Stack[A]:\n",
    "    def push(x: A): Stack[A] = new NonEmptyStack(x, this)\n",
    "    def top: A\n",
    "    def pop: Stack[A]\n",
    "    def isEmpty: Boolean\n",
    "\n",
    "class EmptyStack[A] extends Stack[A]:\n",
    "    def isEmpty = true\n",
    "    def top = throw new Exception(\"EmptyStack.top\")\n",
    "    def pop = throw new Exception(\"EmptyStack.pop\")\n",
    "    override def toString: String = \"()\"\n",
    "\n",
    "class NonEmptyStack[A](elem: A, rest: Stack[A]) extends Stack[A]:\n",
    "    def isEmpty = false\n",
    "    def top = elem\n",
    "    def pop = rest\n",
    "    \n",
    "    override def toString(): String =\n",
    "        \"--\" + top.toString() ++ \"-->\" ++ pop.toString()\n",
    "\n",
    "```"
   ]
  },
  {
   "cell_type": "markdown",
   "metadata": {},
   "source": [
    "```scala\n",
    "val stack = new EmptyStack[Int]\n",
    "val a = stack.push(1).push(2).push(3) // --3-->--2-->--1-->()\n",
    "val b = a.pop.pop.pop // ()\n",
    "\n",
    "```"
   ]
  },
  {
   "cell_type": "markdown",
   "metadata": {},
   "source": [
    "Question...🖐️\n",
    "\n",
    "- _Are we working with the same stack every time a `push` or a `pop` is executed?_"
   ]
  },
  {
   "cell_type": "markdown",
   "metadata": {},
   "source": [
    "- We can define polymorphic methods to work with polymorphic classes, e.g.:\n",
    "\n",
    "    ```scala\n",
    "    def isPrefix[A](p: Stack[A], s: Stack[A]): Boolean =\n",
    "        p.isEmpty || p.top == s.top && isPrefix(p.pop, s.pop)\n",
    "\n",
    "    val s = new EmptyStack[String].push(\"hello\")\n",
    "    val e = new EmptyStack[String].push(\"!\").push(\"world\").push(\"hello\")\n",
    "\n",
    "    println(isPrefix(s, e)) // true\n",
    "    ```"
   ]
  },
  {
   "cell_type": "markdown",
   "metadata": {},
   "source": [
    "Questions...🖐️\n",
    "- _What would happen if the query is `isPrefix(e, s)`?_\n",
    "- _Thoughts for solving it?_"
   ]
  },
  {
   "cell_type": "markdown",
   "metadata": {},
   "source": [
    "<p style=\"float: left;\"><a href=\"generic-classes.ipynb\" target=\"_blank\">Previous</a></p>\n",
    "<p style=\"float: right;\"><a href=\"upper-type-bounds.ipynb\" target=\"_blank\">Next</a></p>\n",
    "<p style=\"text-align:center;\">Tour of Scala</p>\n",
    "<div style=\"clear: both;\"></div>"
   ]
  }
 ],
 "metadata": {
  "kernelspec": {
   "display_name": "Scala 3.6",
   "language": "scala",
   "name": "scala36"
  },
  "language_info": {
   "codemirror_mode": "text/x-scala",
   "file_extension": ".sc",
   "mimetype": "text/x-scala",
   "name": "scala",
   "nbconvert_exporter": "script",
   "version": "2.13.16"
  }
 },
 "nbformat": 4,
 "nbformat_minor": 4
}
