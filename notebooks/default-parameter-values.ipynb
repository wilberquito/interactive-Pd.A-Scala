{
 "cells": [
  {
   "cell_type": "markdown",
   "metadata": {},
   "source": [
    "<p style=\"float: left;\"><a href=\"by-name-parameters.ipynb\" target=\"_blank\">Previous</a></p>\n",
    "<p style=\"float: right;\"><a href=\"named-arguments.ipynb\" target=\"_blank\">Next</a></p>\n",
    "<p style=\"text-align:center;\">Tour of Scala</p>\n",
    "<div style=\"clear: both;\"></div>"
   ]
  },
  {
   "cell_type": "markdown",
   "metadata": {},
   "source": [
    "# Default parameter values"
   ]
  },
  {
   "cell_type": "markdown",
   "metadata": {},
   "source": [
    "- Scala provides the ability to give parameters default values that can be used to allow a caller to omit those parameters.\n",
    "\n",
    "    ```scala\n",
    "    def log(message: String, level: String = \"INFO\") = println(s\"$level: ${message}\") // <- string interpolation\n",
    "    \n",
    "    log(\"System starting\")  // INFO: System starting\n",
    "    log(\"User not found\", \"WARNING\")  // WARNING: User not found\n",
    "    \n",
    "    ```\n",
    "\n",
    "    The parameter `level` has a default value so it is optional. On the last line, the argument `\"WARNING\"` overrides the default argument `\"INFO\"`. "
   ]
  },
  {
   "cell_type": "markdown",
   "metadata": {},
   "source": [
    "- If the caller omits an argument, any following arguments must be named.\n",
    "\n",
    "    ```scala\n",
    "    class Point(val x: Double = 0, val y: Double = 0)\n",
    "    \n",
    "    val point1 = new Point()\n",
    "    println(s\"Point(${point1.x}, ${point1.y})\") // Point(0.0, 0.0)\n",
    "    \n",
    "    val point2 = new Point(y = 1)\n",
    "    println(s\"Point(${point2.x}, ${point2.y})\") // Point(0.0, 1.0)\n",
    "    \n",
    "    ```"
   ]
  },
  {
   "cell_type": "markdown",
   "metadata": {},
   "source": [
    "<p style=\"float: left;\"><a href=\"by-name-parameters.ipynb\" target=\"_blank\">Previous</a></p>\n",
    "<p style=\"float: right;\"><a href=\"named-arguments.ipynb\" target=\"_blank\">Next</a></p>\n",
    "<p style=\"text-align:center;\">Tour of Scala</p>\n",
    "<div style=\"clear: both;\"></div>"
   ]
  }
 ],
 "metadata": {
  "kernelspec": {
   "display_name": "Scala 3.6",
   "language": "scala",
   "name": "scala36"
  },
  "language_info": {
   "codemirror_mode": "text/x-scala",
   "file_extension": ".sc",
   "mimetype": "text/x-scala",
   "name": "scala",
   "nbconvert_exporter": "script",
   "version": "2.13.16"
  }
 },
 "nbformat": 4,
 "nbformat_minor": 4
}
