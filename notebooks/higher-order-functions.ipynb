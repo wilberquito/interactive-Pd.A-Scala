{
 "cells": [
  {
   "cell_type": "markdown",
   "metadata": {},
   "source": [
    "<p style=\"float: left;\"><a href=\"nested-methods.ipynb\" target=\"_blank\">Previous</a></p>\n",
    "<p style=\"float: right;\"><a href=\"currying.ipynb\" target=\"_blank\">Next</a></p>\n",
    "<p style=\"text-align:center;\">Tour of Scala</p>\n",
    "<div style=\"clear: both;\"></div>"
   ]
  },
  {
   "cell_type": "markdown",
   "metadata": {},
   "source": [
    "# Higher-order Functions"
   ]
  },
  {
   "cell_type": "markdown",
   "metadata": {},
   "source": [
    "Higher-order functions are functions that either take other functions as parameters or return a function as a result."
   ]
  },
  {
   "cell_type": "markdown",
   "metadata": {},
   "source": [
    "- <span style=\"color:black\">**In Scala, functions and methods are _first-class values_**.</span> In simple terms, this means that <span style=\"color:black\">**functions can be passed around just like any other value**</span>, such as integers or sequences.\n",
    "\n",
    "- <span style=\"color:black\">**The term _higher-order function_ applies to both methods and functions**</span>."
   ]
  },
  {
   "cell_type": "markdown",
   "metadata": {
    "attributes": {
     "classes": [
      "tut"
     ],
     "id": ""
    }
   },
   "source": [
    "Example:\n",
    "\n",
    "```scala\n",
    "import scala.languageFeature.postfixOps\n",
    "\n",
    "val salaries = Seq(20000, 70000, 40000)\n",
    "val doubleSalary = (x: Int) => x * 2 // Int => Int\n",
    "val newSalaries = salaries map doubleSalary // List(40000, 140000, 80000)\n",
    "\n",
    "```"
   ]
  },
  {
   "cell_type": "markdown",
   "metadata": {},
   "source": [
    "To shrink the code, **we could make the function _anonymous_** and pass it directly as\n",
    "an argument to `map`:\n",
    "\n",
    "```scala\n",
    "import scala.languageFeature.postfixOps\n",
    "\n",
    "val salaries = Seq(20000, 70000, 40000)\n",
    "val newSalaries = salaries map (x => x * 2) // List(40000, 140000, 80000)\n",
    "\n",
    "```"
   ]
  },
  {
   "cell_type": "markdown",
   "metadata": {},
   "source": [
    "An even more idiomatic way to write the same piece of code would be:\n",
    "\n",
    "```scala\n",
    "import scala.languageFeature.postfixOps\n",
    "\n",
    "val salaries = Seq(20000, 70000, 40000)\n",
    "val newSalaries = salaries map (_ * 2) // List(40000, 140000, 80000)\n",
    "\n",
    "```"
   ]
  },
  {
   "cell_type": "markdown",
   "metadata": {},
   "source": [
    "## Coercing methods into functions"
   ]
  },
  {
   "cell_type": "markdown",
   "metadata": {},
   "source": [
    "- **You can pass methods as arguments to higher-order functions because\n",
    "the Scala compiler will coerce the method into a function** via _eta-expansion_.\n",
    "\n",
    "    \n",
    "    ```scala\n",
    "    case class WeeklyWeatherForecast(temperatures: Seq[Double]):\n",
    "    \n",
    "      private def convertCtoF(temp: Double) = temp * 1.8 + 32 // Def method\n",
    "      \n",
    "      def forecastInFahrenheit: Seq[Double] = temperatures.map(convertCtoF) // Passing the method convertCtoF. Coercing into function\n",
    "    ```\n",
    "\n",
    "    <br/>\n",
    "    \n",
    "    Here the method `convertCtoF` is passed to `forecastInFahrenheit`. **This is possible because the compiler coerces `convertCtoF` to the function `x => convertCtoF(x)`.**"
   ]
  },
  {
   "cell_type": "markdown",
   "metadata": {},
   "source": [
    "## Functions that accept functions"
   ]
  },
  {
   "cell_type": "markdown",
   "metadata": {},
   "source": [
    "- One reason to use higher-order functions is to reduce redundant code. \n",
    "\n",
    "    Example:\n",
    "\n",
    "    ```scala\n",
    "    object SalaryRaiser {\n",
    "      def smallPromotion(salaries: List[Double]): List[Double] =\n",
    "        salaries.map(salary => salary * 1.1)\n",
    "    \n",
    "      def greatPromotion(salaries: List[Double]): List[Double] =\n",
    "        salaries.map(salary => salary * math.log(salary))\n",
    "    \n",
    "      def hugePromotion(salaries: List[Double]): List[Double] =\n",
    "        salaries.map(salary => salary * salary)\n",
    "    }\n",
    "    ```\n",
    "\n",
    "    <br/>\n",
    "    \n",
    "    <span style=\"color:red\">**Notice how each of the three methods vary only by the multiplication factor.**</span> **We can do better:**\n",
    "    \n",
    "    ```scala\n",
    "    object SalaryRaiser {\n",
    "      private def promotion(salaries: List[Double], promotionFn: Double => Double): List[Double] = // <- private\n",
    "        salaries.map(promotionFn)\n",
    "    \n",
    "      def smallPromotion(salaries: List[Double]): List[Double] =\n",
    "        promotion(salaries, salary => salary * 1.1)\n",
    "    \n",
    "      def bigPromotion(salaries: List[Double]): List[Double] =\n",
    "        promotion(salaries, salary => salary * math.log(salary))\n",
    "    \n",
    "      def hugePromotion(salaries: List[Double]): List[Double] =\n",
    "        promotion(salaries, salary => salary * salary)\n",
    "    }\n",
    "    ```"
   ]
  },
  {
   "cell_type": "markdown",
   "metadata": {},
   "source": [
    "## Functions that return functions\n",
    "\n",
    "- There are certain cases where you want to return a function.\n",
    "\n",
    "    ```scala\n",
    "    def urlBuilder(ssl: Boolean, domainName: String): (String, String) => String =\n",
    "      val schema = if (ssl) \"https://\" else \"http://\"\n",
    "      (endpoint: String, query: String) => s\"$schema$domainName/$endpoint?$query\"\n",
    "    \n",
    "    val domainName = \"www.example.com\"\n",
    "    def getURL = urlBuilder(ssl=true, domainName) \n",
    "    val endpoint = \"users\"\n",
    "    val query = \"id=1\"\n",
    "    val url = getURL(endpoint, query) // \"https://www.example.com/users?id=1\": String\n",
    "    \n",
    "    ```\n",
    "    \n",
    "    <br/>\n",
    "    \n",
    "    <span style=\"color:black\">The method **`urlBuilder`** returns a function of type **`(String, String) => String`**.</span>"
   ]
  },
  {
   "cell_type": "markdown",
   "metadata": {},
   "source": [
    "<p style=\"float: left;\"><a href=\"nested-methods.ipynb\" target=\"_blank\">Previous</a></p>\n",
    "<p style=\"float: right;\"><a href=\"currying.ipynb\" target=\"_blank\">Next</a></p>\n",
    "<p style=\"text-align:center;\">Tour of Scala</p>\n",
    "<div style=\"clear: both;\"></div>"
   ]
  }
 ],
 "metadata": {
  "kernelspec": {
   "display_name": "Scala 3.6",
   "language": "scala",
   "name": "scala36"
  },
  "language_info": {
   "codemirror_mode": "text/x-scala",
   "file_extension": ".sc",
   "mimetype": "text/x-scala",
   "name": "scala",
   "nbconvert_exporter": "script",
   "version": "2.13.16"
  }
 },
 "nbformat": 4,
 "nbformat_minor": 4
}
