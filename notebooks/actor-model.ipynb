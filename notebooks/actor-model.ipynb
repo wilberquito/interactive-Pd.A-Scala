{
 "cells": [
  {
   "cell_type": "markdown",
   "id": "2cb6d4ad-5902-43c5-9100-7dcb2b6b46ee",
   "metadata": {},
   "source": [
    "<p style=\"float: left;\"><a href=\"_index.ipynb\" target=\"_blank\">Previous</a></p>\n",
    "<p style=\"float: right;\"><a href=\"p4-exercises.ipynb\" target=\"_blank\">Next</a></p>\n",
    "<p style=\"text-align:center;\">Tour of Scala</p>\n",
    "<div style=\"clear: both;\"></div>"
   ]
  },
  {
   "cell_type": "markdown",
   "id": "d1de0514-61e0-4016-ac95-7a7f69285edc",
   "metadata": {},
   "source": [
    "# Actor model"
   ]
  },
  {
   "cell_type": "markdown",
   "id": "14ead4e6-4aaa-4282-a5cb-6b2783db9575",
   "metadata": {},
   "source": [
    "The **actor model** is a mathematical framework for managing parallel computation in high-performance networks.\n",
    "\n",
    "It specifically tackles challenges such as:\n",
    "\n",
    "* Encapsulation,\n",
    "* The illusion of a call stack.\n",
    "\n",
    "These challenges arise because **traditional programming assumptions no longer align with the realities of modern multi-threaded, multi-CPU systems.**"
   ]
  },
  {
   "cell_type": "markdown",
   "id": "d3aeb3c9-20ae-4378-a68c-002f30bc40a2",
   "metadata": {},
   "source": [
    "## The Problem of distributed domputation and object-oriented programming (OOP)"
   ]
  },
  {
   "cell_type": "markdown",
   "id": "5693bdfd-1626-4341-924d-afbbf31e0218",
   "metadata": {},
   "source": [
    "- **One of the OPP core pillars  is _encapsulation_.**\n",
    "  \n",
    "- Encapsulation dictates that **the internal data of an object is not accessible directly from the outside**; it can only be modified by invoking a set of curated methods. \n",
    "\n",
    "- The object is responsible for exposing safe operations that protect the invariant nature of its encapsulated data.\n",
    "\n",
    "    ![](https://getakka.net/images/seq_chart.png)\n",
    "    _Runtime behaviour. Interactions of method calls._\n",
    "\n",
    "    - **A _thread_ executes all the method's calls, and the enforcement of invariants occurs on the same thread**\n",
    "    from which the method was called.\n",
    "    \n",
    "        ![](https://getakka.net/images/seq_chart_thread.png)\n",
    "        _Executions accurs on the same thread._\n",
    "\n",
    "    - **In multiple thread system, the invariance might not be respected.**\n",
    "\n",
    "      ![](https://doc.akka.io/libraries/akka-core/current/typed/guide/diagrams/seq_chart_multi_thread.png)\n",
    "        _Method's executions in a multi-thred system._\n",
    "\n",
    "        - **The encapsulation model of objects does not guarantee anything about what happens where two threads enter the same method**.\n",
    "                    \n",
    "        - **The problem appears because objects share mutable data between them (data raise) and <span style=\"color: red\">you are not suppose to abstract over data raises**.</span>\n",
    "\n",
    "        - Instructions of the two invocations can be interleaved in arbitrary ways which eliminate **any hope for keeping the invariants intact without some type of coordination.**\n",
    "\n",
    "        - A common approach to solving this problem is to add a lock around these methods.\n",
    "\n",
    "            - Locks are very costly on modern CPU architectures, requiring heavy-lifting from the operating system to suspend the thread and restore it later.\n",
    "\n",
    "            - The caller thread is now blocked, so it cannot do any other meaningful work.\n",
    "    \n",
    "            - Locks introduce a new menace: deadlocks.\n",
    "\n",
    "            - When it comes to coordinating across multiple machines, the only alternative is distributed locks. <span style=\"color:red\">**Distributed locks are several magnitudes less efficient than local locks**. </span>"
   ]
  },
  {
   "cell_type": "markdown",
   "id": "e57c558e-ffb7-4ef2-895e-5dd691837741",
   "metadata": {
    "jp-MarkdownHeadingCollapsed": true
   },
   "source": [
    "## Call stacks and tasks delegation"
   ]
  },
  {
   "cell_type": "markdown",
   "id": "235dd298-fbef-4eb9-9b81-3b8e55e9b743",
   "metadata": {},
   "source": [
    "- **A call stack is a stack data structure that stores information about the active subroutines of a computer program.**\n",
    "      \n",
    "- Call stacks seems to be a good way to operate between threds.\n",
    "\n",
    "\n",
    "- **They don’t handle asynchronous operations well because they don’t cross thread boundaries (isolated)**\n",
    "\n",
    "    - **Completion notification**: How does the \"caller\" thread know the task is complete in the \"worker\" thread?\n",
    " \n",
    "    - **Exception handling**: If an error occurs, the exception goes to the worker’s handler, bypassing the caller. Without a direct way to notify the caller.\n",
    " \n",
    "    - Messages can be lost. This leaves the system without a way to recover the lost task, even in local (non-networked) communication.\n",
    "    \n",
    "    - Concurrent systems must handle service faults and provide recovery mechanisms.\n",
    "     \n",
    "      ![](https://getakka.net/images/exception_prop.png)"
   ]
  },
  {
   "cell_type": "markdown",
   "id": "9fc9c4e9-17b9-46d9-9bfe-bf3b6b4ac726",
   "metadata": {},
   "source": [
    "## Actors for distributed systems"
   ]
  },
  {
   "cell_type": "markdown",
   "id": "30033c9d-db5e-41e9-88ae-06eceb307177",
   "metadata": {},
   "source": [
    "### What is an actor?"
   ]
  },
  {
   "cell_type": "markdown",
   "id": "c55f1e5f-193b-4a05-9ec5-bf575bc6fffb",
   "metadata": {},
   "source": [
    "- An actor as the basic **building block of concurrent computation.**\n",
    "  \n",
    "- **It encapsulates computation and holds its own private state**\n",
    "  \n",
    "- **Actors communicates with other actors solely by passing asynchronous messages.**\n",
    "  \n",
    "- **Actors have a mailbox where messages arrive and are processed at most one at a time** in the order they are received.\n",
    "  \n",
    "- **How an actor responds / reacts to a message essentially defines its behavior.**\n",
    "\n",
    "- Essenciatily, an actor can:\n",
    "  \n",
    "    1) Send messages to other actors,\n",
    "       \n",
    "    2) Respond to received messages,\n",
    "       \n",
    "    3) Create new actors.\n",
    "\n",
    "\n",
    "![](https://getakka.net/images/serialized_timeline_invariants.png) _Exemple of asynchronous messages between actors_"
   ]
  },
  {
   "cell_type": "markdown",
   "id": "bf1d155a-0636-4a00-a4a7-3dac03d0ee93",
   "metadata": {},
   "source": [
    "### Hierarchical Structure"
   ]
  },
  {
   "cell_type": "markdown",
   "id": "71b44a63-5aed-4f8b-99b2-d89e53087e10",
   "metadata": {},
   "source": [
    "\n",
    "* Similar to an organizational hierarchy, actors in Akka naturally form tiers.\n",
    "  - For example, an actor responsible for a particular function within the program may choose to break down its task into smaller, manageable segments.\n",
    "  - To achieve this, it creates child actors, over which it maintains supervisory control.\n",
    "* Each actor has one supervisor, the actor that initiated its creation.\n",
    "* When an actor is unable to address a certain situation, it sends a failure message to its supervisor, requesting assistance.\n",
    "* This recursive setup enables failure handling at the appropriate level in the hierarchy.\n",
    "\n",
    "<center>\n",
    "    <img src=\"https://getakka.net/images/actor_tree_supervision.png\"/>\n",
    "</center>\n",
    "\n",
    "### Messages and Immutability\n",
    "\n",
    "Messages can be of any kind of object but they have to be immutable. Messages are sent to an Actor using one of the following methods:\n",
    "\n",
    "* **tell (!)** : a \"fire-and-forget\" approach, where a message is sent asynchronously, and the sender returns immediately without waiting for a response.\n",
    "\n",
    "* **ask (?)** : sends a message asynchronously but returns a `Future` that represents a possible reply from the receiver.\n",
    "\n",
    "In each of these methods, the sender has the option to include its own `ActorRef`.\n",
    "This allows the receiving actor to respond directly to the sender, as the reference to the sender is passed along with the message.\n",
    "\n",
    "### Receiving Messages\n",
    "\n",
    "In classic Akka, each actor’s behavior is defined by a type called `Receive`, which is essentially specified by the partial method `def receive`.\n",
    "Summaring, actors receive messages through the `receive` method and the behaviour defined per message in that method defines, what the actors do."
   ]
  },
  {
   "cell_type": "markdown",
   "id": "4ce319ed-179a-4595-a3dc-f47d4f9ef3b8",
   "metadata": {
    "jp-MarkdownHeadingCollapsed": true
   },
   "source": [
    "Actors are objects which encapsulate state and behavior, they communicate exclusively by exchanging messages which are placed into the recipient’s mailbox.\n"
   ]
  },
  {
   "cell_type": "markdown",
   "id": "27ad7c34-7256-4abe-b36f-c24ea8c58ad2",
   "metadata": {},
   "source": [
    "## Actors and Scala\n",
    "\n",
    "_**PSS: We will use the classic AKKA API.**_\n",
    "\n",
    "Integrated within the Akka library:\n",
    "\n",
    "- **AKKA**: A library for distributed actors\n",
    "- **Concurrency**\n",
    "- **Scalability** (locally through additional threads and externally via actors on other nodes)\n",
    "- **Fault tolerance**\n",
    "- **Unified programming model**\n",
    "- **Integrated runtime management**\n",
    "- **Open-source**"
   ]
  },
  {
   "cell_type": "markdown",
   "id": "3c4c58dd-f53a-49d8-80bf-311b42f60cfb",
   "metadata": {},
   "source": [
    "## Let's play with Actors"
   ]
  },
  {
   "cell_type": "code",
   "execution_count": 4,
   "id": "74d60154-df52-445f-b6b5-d3f5ae52746a",
   "metadata": {},
   "outputs": [
    {
     "data": {
      "text/plain": [
       "\u001b[32mimport \u001b[39m\u001b[36m$ivy.$\u001b[39m\n",
       "\u001b[32mimport \u001b[39m\u001b[36makka.actor.{Actor, ActorRef}\u001b[39m\n",
       "\u001b[32mimport \u001b[39m\u001b[36makka.actor.{ActorSystem, PoisonPill, Props}\u001b[39m\n",
       "\u001b[32mimport \u001b[39m\u001b[36makka.actor.{Actor, ActorRef, ActorSystem, PoisonPill, Props, Terminated}\u001b[39m"
      ]
     },
     "execution_count": 4,
     "metadata": {},
     "output_type": "execute_result"
    }
   ],
   "source": [
    "import $ivy.`com.typesafe.akka::akka-actor:2.6.10`\n",
    "import akka.actor.{Actor, ActorRef}\n",
    "import akka.actor.{ActorSystem, PoisonPill, Props}\n",
    "import akka.actor.{Actor, ActorRef, ActorSystem, PoisonPill, Props, Terminated}"
   ]
  },
  {
   "cell_type": "code",
   "execution_count": 2,
   "id": "7410c08a-d2c5-45a6-8eb4-57ea359aa184",
   "metadata": {},
   "outputs": [
    {
     "data": {
      "text/plain": [
       "defined \u001b[32mclass\u001b[39m \u001b[36mGreet\u001b[39m\n",
       "defined \u001b[32mclass\u001b[39m \u001b[36mPraise\u001b[39m\n",
       "defined \u001b[32mclass\u001b[39m \u001b[36mCelebrate\u001b[39m\n",
       "defined \u001b[32mclass\u001b[39m \u001b[36mTalker\u001b[39m"
      ]
     },
     "execution_count": 2,
     "metadata": {},
     "output_type": "execute_result"
    }
   ],
   "source": [
    "case class Greet(name: String)\n",
    "case class Praise(name: String)\n",
    "case class Celebrate(name: String, age: Int)\n",
    "\n",
    "class Talker extends Actor {\n",
    "    var messages = 0\n",
    "    \n",
    "    def receive = {\n",
    "        case Greet(name)          => greet(name)\n",
    "        case Praise(name)         => praise(name)\n",
    "        case Celebrate(name, age) => celebrate(name, age)\n",
    "    }\n",
    "\n",
    "    def updateMessages(n: Int) = {\n",
    "        messages += n\n",
    "        println(s\"Message n: $messages\")\n",
    "    }\n",
    "\n",
    "    def greet(name: String) = {\n",
    "        updateMessages(1)\n",
    "        println(s\"Hello $name\")\n",
    "    }\n",
    "\n",
    "    def praise(name: String) = {\n",
    "        updateMessages(1)\n",
    "        println(s\"$name, you're amazing\")\n",
    "    }\n",
    "\n",
    "    def celebrate(name: String, age: Int) = {\n",
    "        updateMessages(1)\n",
    "        println(s\"Here's to another $age years, $name\")\n",
    "    }\n",
    "}"
   ]
  },
  {
   "cell_type": "code",
   "execution_count": 3,
   "id": "d3c329e9-78c5-4931-b1d9-186f160491aa",
   "metadata": {},
   "outputs": [
    {
     "data": {
      "text/plain": [
       "defined \u001b[32mclass\u001b[39m \u001b[36mMaster\u001b[39m"
      ]
     },
     "execution_count": 3,
     "metadata": {},
     "output_type": "execute_result"
    }
   ],
   "source": [
    "class Master extends Actor {\n",
    "    val talker: ActorRef = context.actorOf(Props(new Talker), \"talker\")\n",
    "    override def preStart(): Unit =  {\n",
    "        context.watch(talker)\n",
    "        talker ! Greet(\"Huey\")\n",
    "        talker ! Praise(\"Dewey\")\n",
    "        talker ! Celebrate(\"Louie\", 16)\n",
    "    }\n",
    "\n",
    "    def receive: Receive = {\n",
    "        case Terminated(`talker`)  => context.system.terminate() // terminate the system\n",
    "    }\n",
    "}"
   ]
  },
  {
   "cell_type": "code",
   "execution_count": 5,
   "id": "dfef83ef-467b-42e2-bf58-3d1393bee61e",
   "metadata": {},
   "outputs": [
    {
     "name": "stdout",
     "output_type": "stream",
     "text": [
      "Message n: 1\n",
      "Hello Huey\n",
      "Message n: 2\n",
      "Dewey, you're amazing\n",
      "Message n: 3\n",
      "Here's to another 16 years, Louie\n"
     ]
    },
    {
     "data": {
      "text/plain": [
       "defined \u001b[32mobject\u001b[39m \u001b[36mHelloActors\u001b[39m\n",
       "\u001b[36mres5_1\u001b[39m: \u001b[32mHelloActors\u001b[39m.type = ammonite.$sess.cmd5$Helper$HelloActors$@42be562"
      ]
     },
     "execution_count": 5,
     "metadata": {},
     "output_type": "execute_result"
    }
   ],
   "source": [
    "object HelloActors {\n",
    "    val system = ActorSystem(\"HelloActors\")\n",
    "    val master = system.actorOf(Props(new Master), \"master\")\n",
    "\n",
    "    system.terminate()\n",
    "}\n",
    "\n",
    "HelloActors"
   ]
  },
  {
   "cell_type": "markdown",
   "id": "87bb81bd-bced-4153-88a4-81aade1f4e5c",
   "metadata": {},
   "source": [
    "Notice that with `actorOf` we have a reference to an `ActorRef` and not to an instance of a `Talker` class."
   ]
  },
  {
   "cell_type": "code",
   "execution_count": 3,
   "id": "633e51ac-ef7c-493f-97ee-57bcf5a590f5",
   "metadata": {},
   "outputs": [
    {
     "name": "stderr",
     "output_type": "stream",
     "text": [
      "cmd4.sc:4: value greet is not a member of akka.actor.ActorRef\n",
      "    talker.greet()\n",
      "           ^\n",
      "Compilation Failed"
     ]
    }
   ],
   "source": [
    "object BadHelloActors {\n",
    "    val system = ActorSystem(\"HelloActors\")\n",
    "    val talker = system.actorOf(Props(new Talker), \"talker\")\n",
    "    talker.greet()\n",
    "    Thread.sleep(10000)\n",
    "    system.terminate()\n",
    "}\n",
    "\n",
    "BadHelloActors"
   ]
  },
  {
   "cell_type": "markdown",
   "id": "140efb67-4092-4bc0-b213-ddf35860482f",
   "metadata": {},
   "source": [
    "**NOTE:** The example below may seem misleading because this notebook is running on a single-thread container, giving the impression that everything is executing synchronously.\n",
    "\n",
    "Let’s dive into the [actors-nightmare](https://github.com/wilberquito/actors-nightmare) repository and get it running on our PCs!"
   ]
  },
  {
   "cell_type": "markdown",
   "id": "d05c11ab-5508-43aa-b05c-5bdd5f584a6c",
   "metadata": {},
   "source": [
    "<p style=\"float: left;\"><a href=\"_index.ipynb\" target=\"_blank\">Previous</a></p>\n",
    "<p style=\"float: right;\"><a href=\"p4-exercises.ipynb\" target=\"_blank\">Next</a></p>\n",
    "<p style=\"text-align:center;\">Tour of Scala</p>\n",
    "<div style=\"clear: both;\"></div>"
   ]
  }
 ],
 "metadata": {
  "kernelspec": {
   "display_name": "Scala 2.13",
   "language": "scala",
   "name": "scala213"
  },
  "language_info": {
   "codemirror_mode": "text/x-scala",
   "file_extension": ".sc",
   "mimetype": "text/x-scala",
   "name": "scala",
   "nbconvert_exporter": "script",
   "version": "2.13.16"
  }
 },
 "nbformat": 4,
 "nbformat_minor": 5
}
