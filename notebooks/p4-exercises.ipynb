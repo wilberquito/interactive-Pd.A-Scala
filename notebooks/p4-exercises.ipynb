{
 "cells": [
  {
   "cell_type": "markdown",
   "id": "ea34b2be-3673-4a89-8ec7-2104b4730a45",
   "metadata": {},
   "source": [
    "<p style=\"float: left;\"><a href=\"actor-model.ipynb\" target=\"_blank\">Previous</a></p>\n",
    "<p style=\"float: right;\"><a href=\"_index.ipynb\" target=\"_blank\">Next</a></p>\n",
    "<p style=\"text-align:center;\">Tour of Scala</p>\n",
    "<div style=\"clear: both;\"></div>"
   ]
  },
  {
   "cell_type": "markdown",
   "id": "711a5465-5bfc-4ba8-8479-d3a73fcf5862",
   "metadata": {},
   "source": [
    "# Exercise"
   ]
  },
  {
   "cell_type": "markdown",
   "id": "170d604d-4dad-4419-9983-111ac53f1e0e",
   "metadata": {},
   "source": [
    "Use the [typed-actors-nightmare](https://github.com/wilberquito/typed-actors-nightmare) repository to solve the following problem.\n",
    "\n",
    "Feel free to add `objects`, `classes`, `traits` and test the functionalities in `*.worksheet.sc` files.\n",
    "\n",
    "<span style=\"color: red;\">**Note:** In Moodle you will find a deliverable task (4/5).</span>"
   ]
  },
  {
   "cell_type": "markdown",
   "id": "02c5655d-2bd0-47a8-a05c-3d28c8038752",
   "metadata": {},
   "source": [
    "## Distributed quicksort"
   ]
  },
  {
   "cell_type": "markdown",
   "id": "bfaa8396-8135-4475-8681-27f274c5d455",
   "metadata": {},
   "source": [
    "In this assignment, you will explore **distributed sorting** of arrays using **actors**.\n",
    "\n",
    "Remember the functional definition of `quicksort` (it is already implemented in the repository, you can use it).\n",
    "\n",
    "```scala\n",
    "def quicksortf(xs: Array[Int]): Array[Int] =\n",
    "    if xs.length <= 1 then xs\n",
    "    else\n",
    "      val pivot: Int = xs(xs.length / 2)\n",
    "      Array.concat(\n",
    "        quicksortf(xs filter (x => pivot > x)), // define the whole lambda expression\n",
    "        xs filter (_ == pivot), // use of lambda shorthand expression\n",
    "        quicksortf(xs filter (pivot < _)) // use of lambda shorthand expression\n",
    "      )\n",
    "\n",
    "\n",
    "```\n",
    "\n",
    "## Task\n",
    "\n",
    "* Implement a **distributed sorting system** that sorts arrays of integers.\n",
    "* You may use a **functional sorting algorithm** (like `quicksortf`) as a reference for local sorting.\n",
    "* Extend it to a **distributed approach** using actors:\n",
    "\n",
    "  * Small arrays (defined by a `limit`) can be sorted directly.\n",
    "  * Larger arrays should be **split** and sorted concurrently by other actors.\n",
    "\n",
    "## Exploration\n",
    "\n",
    "* Experiment with different limits.\n",
    "\n",
    "  * What happens if the `limit` is very low (such as 1)?\n",
    "  * What happens if the `limit` is very high?\n",
    "    \n",
    "* Measure performance and consider the trade-offs between concurrency and overhead.\n",
    "\n",
    "\n",
    "## Output\n",
    "\n",
    "* Ensure your program can produce a **readable, verifiable output** of the sorted array.\n",
    "    * You can tranform an array to a list using the `.toList` method. (lists are printable).\n",
    "      \n",
    "\n",
    "## Goals\n",
    "\n",
    "* Practice **actor-based concurrency messaging**.\n",
    "* Understand **distributed computation patterns**.\n",
    "* Explore how task size affects **performance and efficiency**.\n",
    "  \n",
    "\n",
    "Follow the scheme:\n",
    "\n",
    "\n",
    "```scala\n",
    "import scala.concurrent.{Await, Future}\n",
    "import scala.concurrent.duration.*\n",
    "import scala.language.postfixOps\n",
    "import akka.actor.{Actor, ActorLogging, ActorRef, ActorSystem, Props}\n",
    "import akka.util.Timeout\n",
    "\n",
    "import scala.util.Random\n",
    "import scala.language.postfixOps\n",
    "\n",
    "\n",
    "class Sorter(val limit: Int):\n",
    "\n",
    "    . . .\n",
    "\n",
    "\n",
    "object Main  {\n",
    "\n",
    "  def main(args: Array[String]): Unit = {\n",
    "    val max: Int = 1 << 14 // 2^14\n",
    "    val arr: Array[Int] = (1 to max).toArray\n",
    "    val shuffled: Array[Int] = Random.shuffle(arr).toArray\n",
    "    val limit: Int = 1000\n",
    "\n",
    "    val system: ActorSystem = . . .\n",
    "    val sorter: ActorRef = . . .\n",
    "\n",
    "    implicit val timeout: Timeout = Timeout(30.seconds)\n",
    "    val t0: Long = System.nanoTime\n",
    "\n",
    "    // Use ? to get a Future\n",
    "    val future: Future[Any] = . . .\n",
    "    val result: . . . = Await.result(future, timeout.duration).asInstanceOf[. . .]\n",
    "\n",
    "    println(s\"Main got reply: \")\n",
    "    println(. . .)\n",
    "    println(s\"It took ${ (System.nanoTime - t0) / 1e9d } seconds\")\n",
    "\n",
    "    system.terminate()\n",
    "  }\n",
    "}\n",
    "\n",
    "```\n"
   ]
  },
  {
   "cell_type": "code",
   "execution_count": null,
   "id": "3c50a65c-78da-4fd5-9f6c-cd1a4b9e7129",
   "metadata": {},
   "outputs": [],
   "source": [
    "// code goes here..."
   ]
  },
  {
   "cell_type": "markdown",
   "id": "35960769-92a1-4a91-9d97-eac71bb7d7c8",
   "metadata": {},
   "source": [
    "<p style=\"float: left;\"><a href=\"actor-model.ipynb\" target=\"_blank\">Previous</a></p>\n",
    "<p style=\"float: right;\"><a href=\"_index.ipynb\" target=\"_blank\">Next</a></p>\n",
    "<p style=\"text-align:center;\">Tour of Scala</p>\n",
    "<div style=\"clear: both;\"></div>"
   ]
  }
 ],
 "metadata": {
  "kernelspec": {
   "display_name": "Scala 2.13",
   "language": "scala",
   "name": "scala213"
  },
  "language_info": {
   "codemirror_mode": "text/x-scala",
   "file_extension": ".sc",
   "mimetype": "text/x-scala",
   "name": "scala",
   "nbconvert_exporter": "script",
   "version": "2.13.16"
  }
 },
 "nbformat": 4,
 "nbformat_minor": 5
}
