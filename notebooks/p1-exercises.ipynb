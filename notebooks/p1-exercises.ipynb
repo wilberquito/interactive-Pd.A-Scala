{
 "cells": [
  {
   "cell_type": "markdown",
   "id": "a35db36d-1271-4baa-8770-7896a260a663",
   "metadata": {},
   "source": [
    "<p style=\"float: left;\"><a href=\"currying.ipynb\" target=\"_blank\">Previous</a></p>\n",
    "<p style=\"float: right;\"><a href=\"_index.ipynb\" target=\"_blank\">Next</a></p>\n",
    "<p style=\"text-align:center;\">Tour of Scala</p>\n",
    "<div style=\"clear: both;\"></div>"
   ]
  },
  {
   "cell_type": "markdown",
   "id": "33c0efcd-213e-4501-816a-669d4725adee",
   "metadata": {},
   "source": [
    "# Exercises\n",
    "\n",
    "Use the [sbt-template](https://github.com/wilberquito/sbt-template) to solve the following problems.\n",
    "\n",
    "Feel free to add `objects` and test the funcionalities in `*.worksheet.sc` files."
   ]
  },
  {
   "cell_type": "markdown",
   "id": "aabc7a25-a32e-4953-8570-b01aeb472e87",
   "metadata": {},
   "source": [
    "## Simple functions"
   ]
  },
  {
   "cell_type": "markdown",
   "id": "75516d0b-55a0-49f2-b75d-1f1e176b79b1",
   "metadata": {},
   "source": [
    "_Write a function `square` that takes an integer and returns its square_"
   ]
  },
  {
   "cell_type": "code",
   "execution_count": 1,
   "id": "79b0a712-671d-4ff4-8673-9e64906f1d89",
   "metadata": {},
   "outputs": [],
   "source": [
    "// code goes here..."
   ]
  },
  {
   "cell_type": "markdown",
   "id": "6c6c3d5b-7b92-47fa-94e3-7d8d88532dc6",
   "metadata": {},
   "source": [
    "_Write a method `cube` that calculates the cube of a number using the `square` function_"
   ]
  },
  {
   "cell_type": "code",
   "execution_count": 1,
   "id": "6f7cce70-e66e-4005-853b-eab4b23cdfc1",
   "metadata": {},
   "outputs": [],
   "source": [
    "// code goes here..."
   ]
  },
  {
   "cell_type": "markdown",
   "id": "d089d908-8c0b-4775-a267-9693cf7d14c7",
   "metadata": {},
   "source": [
    "## Evaluation order"
   ]
  },
  {
   "cell_type": "markdown",
   "id": "0f61dd99-ec8c-40ec-9fc0-4e5b669b0445",
   "metadata": {},
   "source": [
    "_Explain the difference between call-by-value and call-by-name. Write one method using the strategy call-by-name_"
   ]
  },
  {
   "cell_type": "code",
   "execution_count": 2,
   "id": "20c04fa9-e7ee-4e27-afad-c77875807370",
   "metadata": {},
   "outputs": [],
   "source": [
    "// explanation goes here..."
   ]
  },
  {
   "cell_type": "code",
   "execution_count": 2,
   "id": "565e1228-9e7f-47f0-91bd-02cc5b0aabbb",
   "metadata": {},
   "outputs": [],
   "source": [
    "// code goes here..."
   ]
  },
  {
   "cell_type": "markdown",
   "id": "51e85a8c-f7fa-4254-9095-636cd9ae6494",
   "metadata": {},
   "source": [
    "## Default parameter values"
   ]
  },
  {
   "cell_type": "markdown",
   "id": "5196b5d3-bef7-40db-8e44-930d05117210",
   "metadata": {},
   "source": [
    "_Create a method `greet` that takes two parameters: a name and a greeting message. The greeting message should have a default value of `\"Hello\"`_"
   ]
  },
  {
   "cell_type": "code",
   "execution_count": 3,
   "id": "857da5be-1939-4797-9cd9-47c6a5cddc14",
   "metadata": {},
   "outputs": [],
   "source": [
    "// code goes here..."
   ]
  },
  {
   "cell_type": "markdown",
   "id": "e7bbfbdb-4839-4715-a592-cdb8bbaf72a7",
   "metadata": {},
   "source": [
    "## Named arguments"
   ]
  },
  {
   "cell_type": "markdown",
   "id": "00bb9de2-691e-4d0e-b31d-0b1642ed2157",
   "metadata": {},
   "source": [
    "_Call the `greet` method from the previous exercise using named arguments and changing the order_"
   ]
  },
  {
   "cell_type": "code",
   "execution_count": 4,
   "id": "a8b7c9a3-d35a-424d-858b-5201c37279e8",
   "metadata": {},
   "outputs": [],
   "source": [
    "// code goes here..."
   ]
  },
  {
   "cell_type": "markdown",
   "id": "f48b66f7-c4f3-41d4-930f-e08464d520fb",
   "metadata": {},
   "source": [
    "## if/else"
   ]
  },
  {
   "cell_type": "markdown",
   "id": "e6175ded-4d81-4fe6-96ea-32642152263b",
   "metadata": {},
   "source": [
    "_Implement a Scala method `lucky` that recives an integer. \n",
    "This method evaluates to \"Lucky!\" whenever it receives a `7`, otherwise \n",
    "it evaluates to \"Not lucky\". Use the `if/else` expression_"
   ]
  },
  {
   "cell_type": "code",
   "execution_count": 5,
   "id": "039b3717-45ae-4b81-a290-f0084bfb9d1b",
   "metadata": {},
   "outputs": [],
   "source": [
    "// code goes here..."
   ]
  },
  {
   "cell_type": "markdown",
   "id": "884c28e5-69a2-496c-a9ad-3f1ebbc0f653",
   "metadata": {},
   "source": [
    "## Tail recursion"
   ]
  },
  {
   "cell_type": "markdown",
   "id": "02380d5f-2450-45a2-bd30-83d59f349e4d",
   "metadata": {},
   "source": [
    "_Write a tail-recursive method to calculate the nth Fibonacci number_"
   ]
  },
  {
   "cell_type": "code",
   "execution_count": 6,
   "id": "36a00c31-457b-42a9-aa45-7ea7d26a0bfa",
   "metadata": {},
   "outputs": [],
   "source": [
    "// code goes here..."
   ]
  },
  {
   "cell_type": "markdown",
   "id": "9233730e-0e0f-49bf-bcd4-d690a20f3cc4",
   "metadata": {},
   "source": [
    "## Higher order functions"
   ]
  },
  {
   "cell_type": "markdown",
   "id": "3a867d1e-1b8b-4676-9318-18ff75a5f53e",
   "metadata": {},
   "source": [
    "_Define the method `cube` that calculates the cube of a number using the `square` function as argument_"
   ]
  },
  {
   "cell_type": "code",
   "execution_count": 8,
   "id": "1c08c367-393b-4359-b661-6b272292dd55",
   "metadata": {},
   "outputs": [],
   "source": [
    "// code goes here..."
   ]
  },
  {
   "cell_type": "markdown",
   "id": "54745308-6717-430c-ac8d-1a25235c6e0b",
   "metadata": {},
   "source": [
    "## Currying"
   ]
  },
  {
   "cell_type": "markdown",
   "id": "619b1b1b-b069-4a1b-ae45-69dbc6c99284",
   "metadata": {},
   "source": [
    "_Write a curried method `add` using the parameter lists that takes two integers one by one and returns their sum_"
   ]
  },
  {
   "cell_type": "code",
   "execution_count": 9,
   "id": "ba053841-c854-47e8-ade2-0c45e8ea62d0",
   "metadata": {},
   "outputs": [],
   "source": [
    "// code goes here..."
   ]
  },
  {
   "cell_type": "markdown",
   "id": "a415f785-04c0-4e0f-b532-0a1af9219525",
   "metadata": {},
   "source": [
    "<p style=\"float: left;\"><a href=\"currying.ipynb\" target=\"_blank\">Previous</a></p>\n",
    "<p style=\"float: right;\"><a href=\"_index.ipynb\" target=\"_blank\">Next</a></p>\n",
    "<p style=\"text-align:center;\">Tour of Scala</p>\n",
    "<div style=\"clear: both;\"></div>"
   ]
  }
 ],
 "metadata": {
  "kernelspec": {
   "display_name": "Scala 2.13",
   "language": "scala",
   "name": "scala213"
  },
  "language_info": {
   "codemirror_mode": "text/x-scala",
   "file_extension": ".sc",
   "mimetype": "text/x-scala",
   "name": "scala",
   "nbconvert_exporter": "script",
   "version": "2.13.16"
  }
 },
 "nbformat": 4,
 "nbformat_minor": 5
}
