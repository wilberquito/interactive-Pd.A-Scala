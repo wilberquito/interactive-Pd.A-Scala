{
 "cells": [
  {
   "cell_type": "markdown",
   "metadata": {},
   "source": [
    "<p style=\"float: left;\"><a href=\"lower-type-bounds.ipynb\" target=\"_blank\">Previous</a></p>\n",
    "<p style=\"float: right;\"><a href=\"pattern-matching.ipynb\" target=\"_blank\">Next</a></p>\n",
    "<p style=\"text-align:center;\">Tour of Scala</p>\n",
    "<div style=\"clear: both;\"></div>"
   ]
  },
  {
   "cell_type": "markdown",
   "metadata": {},
   "source": [
    "# Case Classes"
   ]
  },
  {
   "cell_type": "markdown",
   "metadata": {},
   "source": [
    "\n",
    "Case classes are like regular classes with a few key differences. \n",
    "\n",
    "- Case classes are good for modeling immutable data.\n",
    "  \n",
    "- Case classes are useful in [pattern matching](pattern-matching.ipynb)."
   ]
  },
  {
   "cell_type": "markdown",
   "metadata": {},
   "source": [
    "## Defining a case class"
   ]
  },
  {
   "cell_type": "markdown",
   "metadata": {},
   "source": [
    "A minimal case class requires the keywords `case class`, an identifier, and a parameter list (which may be empty).\n",
    "\n",
    "```scala\n",
    "case class Book(isbn: String)\n",
    "\n",
    "val frankenstein = Book(\"978-0486282114\")\n",
    "\n",
    "```\n",
    "\n",
    "\n",
    "- The keyword `new` was not used to instantiate the `Book` case class.\n",
    "  \n",
    "- Case classes have an `apply` method by default which takes care of object construction.\n",
    "\n",
    "- When you create a case class with parameters, the parameters are public `val` (not mutable).\n",
    "\n",
    "    ```scala\n",
    "    case class Message(sender: String, recipient: String, body: String)\n",
    "    val message1 = Message(\"guillaume@quebec.ca\", \"jorge@catalonia.es\", \"Ça va ?\")\n",
    "    \n",
    "    println(message1.sender)  // prints guillaume@quebec.ca\n",
    "    message1.sender = \"travis@washington.us\"  // this line does not compile\n",
    "    \n",
    "    ```\n",
    "\n",
    "- Case classes are compared by structure and not by reference:\n",
    "\n",
    "    ```scala\n",
    "    case class Message(sender: String, recipient: String, body: String)\n",
    "\n",
    "    val message2 = Message(\"jorge@catalonia.es\", \"guillaume@quebec.ca\", \"Com va?\")\n",
    "    val message3 = Message(\"jorge@catalonia.es\", \"guillaume@quebec.ca\", \"Com va?\")\n",
    "    val messagesAreTheSame = message2 == message3  // true\n",
    "\n",
    "    ```"
   ]
  },
  {
   "cell_type": "markdown",
   "metadata": {},
   "source": [
    "<p style=\"float: left;\"><a href=\"variances.ipynb\" target=\"_blank\">Previous</a></p>\n",
    "<p style=\"float: right;\"><a href=\"pattern-matching.ipynb\" target=\"_blank\">Next</a></p>\n",
    "<p style=\"text-align:center;\">Tour of Scala</p>\n",
    "<div style=\"clear: both;\"></div>"
   ]
  }
 ],
 "metadata": {
  "kernelspec": {
   "display_name": "Scala 3.6",
   "language": "scala",
   "name": "scala36"
  },
  "language_info": {
   "codemirror_mode": "text/x-scala",
   "file_extension": ".sc",
   "mimetype": "text/x-scala",
   "name": "scala",
   "nbconvert_exporter": "script",
   "version": "2.13.16"
  }
 },
 "nbformat": 4,
 "nbformat_minor": 4
}
