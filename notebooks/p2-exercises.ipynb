{
 "cells": [
  {
   "cell_type": "markdown",
   "id": "425d92ee-5ca4-4551-ac96-8a2853c661af",
   "metadata": {},
   "source": [
    "<p style=\"float: left;\"><a href=\"pattern-matching.ipynb\" target=\"_blank\">Previous</a></p>\n",
    "<p style=\"float: right;\"><a href=\"_index.ipynb\" target=\"_blank\">Next</a></p>\n",
    "<p style=\"text-align:center;\">Tour of Scala</p>\n",
    "<div style=\"clear: both;\"></div>"
   ]
  },
  {
   "cell_type": "markdown",
   "id": "5b48dee1-76a4-4052-b88c-4ea8e0f98ec1",
   "metadata": {},
   "source": [
    "# Exercises\n",
    "\n",
    "Use Scala worksheet and the provided template repository to solve the following problems."
   ]
  },
  {
   "cell_type": "markdown",
   "id": "3a9794f9-3a6b-4474-ba73-b576fa756a2a",
   "metadata": {},
   "source": [
    "## This is about Set"
   ]
  },
  {
   "cell_type": "markdown",
   "id": "ca512ce7-8efe-496f-8ea6-005e66997de3",
   "metadata": {},
   "source": [
    "Using the defintions of `trait Ordered[A]`, `class Set[T <: Ordered[T]]` and `case class Num(value: Double)`\n",
    "provided in the [restricting generacity](upper-type-bounds.ipynb) notebook. Implement the following methods defintion.\n",
    "\n",
    "1) Write method `def union(...)` which performs the union of two sets.\n",
    "2) Write method `def intersection(...)` which performs the intersection of two sets.\n",
    "3) Add a method `def excl(x: T)` to return the given set without the element `x`.\n",
    "\n",
    "_Make sure to solve the problem the most functional way possible_."
   ]
  },
  {
   "cell_type": "code",
   "execution_count": null,
   "id": "5744c4c4-e553-42bf-84c9-816c9cc490e0",
   "metadata": {},
   "outputs": [],
   "source": [
    "// code goes here..."
   ]
  },
  {
   "cell_type": "markdown",
   "id": "7366e904-2d8e-4fe3-abf8-9e6b2d833e5a",
   "metadata": {},
   "source": [
    "## Pattern matching!"
   ]
  },
  {
   "cell_type": "markdown",
   "id": "9d0e7531-a2e8-48e7-b9db-b8d93d8e7063",
   "metadata": {},
   "source": [
    "Define the trait `Expr` and the case class `Operator`. Use\n",
    "the case class `Num` to define the function `printExpr`.\n",
    "\n",
    "This should be the behaviour of the function `printExpr`:\n",
    "\n",
    "```scala\n",
    "printExpr(Num(8))\n",
    "It is a number: 8.0\n",
    "\n",
    "printExpr(Operator(\"+\"))\n",
    "It is an operator: +\n",
    "\n",
    "```"
   ]
  },
  {
   "cell_type": "code",
   "execution_count": 3,
   "id": "d60d9437-a2dc-409d-8612-c3555da6c20b",
   "metadata": {},
   "outputs": [],
   "source": [
    "// code goes here..."
   ]
  },
  {
   "cell_type": "markdown",
   "id": "7b2acd2c-b7df-40d4-a97e-bafcd01a9b75",
   "metadata": {},
   "source": [
    "<p style=\"float: left;\"><a href=\"pattern-matching.ipynb\" target=\"_blank\">Previous</a></p>\n",
    "<p style=\"float: right;\"><a href=\"_index.ipynb\" target=\"_blank\">Next</a></p>\n",
    "<p style=\"text-align:center;\">Tour of Scala</p>\n",
    "<div style=\"clear: both;\"></div>"
   ]
  }
 ],
 "metadata": {
  "kernelspec": {
   "display_name": "Scala 2.13",
   "language": "scala",
   "name": "scala213"
  },
  "language_info": {
   "codemirror_mode": "text/x-scala",
   "file_extension": ".sc",
   "mimetype": "text/x-scala",
   "name": "scala",
   "nbconvert_exporter": "script",
   "version": "2.13.14"
  }
 },
 "nbformat": 4,
 "nbformat_minor": 5
}
