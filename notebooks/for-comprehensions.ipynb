{
 "cells": [
  {
   "cell_type": "markdown",
   "metadata": {},
   "source": [
    "<p style=\"float: left;\"><a href=\"list-higher-order-methods.ipynb\" target=\"_blank\">Previous</a></p>\n",
    "<p style=\"float: right;\"><a href=\"p3-exercises.ipynb\" target=\"_blank\">Next</a></p>\n",
    "<p style=\"text-align:center;\">Tour of Scala</p>\n",
    "<div style=\"clear: both;\"></div>"
   ]
  },
  {
   "cell_type": "markdown",
   "metadata": {},
   "source": [
    "# For Comprehensions"
   ]
  },
  {
   "cell_type": "markdown",
   "metadata": {},
   "source": [
    "A `for comprehension` is a compact way to express iteration, filtering, and transformation over collections or monadic values.\n",
    "\n",
    "\n",
    "```scala\n",
    "case class User(name: String, age: Int)\n",
    "\n",
    "val userBase = List(User(\"Travis\", 28),\n",
    "                    User(\"Kelly\", 33),\n",
    "                    User(\"Jennifer\", 44),\n",
    "                    User(\"Dennis\", 23))\n",
    "\n",
    "val twentySomethings = for (user <- userBase if (user.age >=20 && user.age < 30)) yield user  // Generates a list `List[User]`\n",
    "\n",
    "```\n",
    "\n",
    "- Syntax for-comprehension:\n",
    "  \n",
    "    - Because we wrote `yield user`, it generates  `List[User]`.\n",
    "      \n",
    "    - `user <- userBase` is our generator.\n",
    "      \n",
    "    - `if (user.age >=20 && user.age < 30)` is a guard that filters out users who are not in their 20s.\n",
    "      \n",
    "    - Notice that we can pattern match `User(name, _)` in the for expression.\n",
    " \n",
    "    - You can omit `yield` in a comprehension. Useful in case side effects are needed.\n",
    " \n",
    "        ```scala\n",
    "        for (User(name, _) <- twentySomethings) println(name)  // prints Travis Dennis\n",
    "        \n",
    "        ```\n",
    "\n",
    "        <br/>\n",
    "  \n",
    "    - We can define multiple iterators inside a for-comprehension:\n",
    "    \n",
    "        ```scala\n",
    "        def foo(n: Int, v: Int) =\n",
    "           for (i <- 0 until n;\n",
    "                j <- i until n if i + j == v)\n",
    "           yield (i, j)\n",
    "        \n",
    "        foo(10, 5) foreach println // prints (0, 5) (1, 4) (2,3)\n",
    "        \n",
    "        ```\n"
   ]
  },
  {
   "cell_type": "markdown",
   "metadata": {},
   "source": [
    "### For-Comprehensions and the Maybe Monad"
   ]
  },
  {
   "cell_type": "markdown",
   "metadata": {},
   "source": [
    "In Scala the `Maybe` monad is known as `Option`. You can construct an `Option[A]` value using the type constructors `Some(_)` and `None`.\n",
    "\n",
    "Notice how when iterating monads `x <- mx`, you actually iterate over the wrapped values inside the monad, same as in collections.\n"
   ]
  },
  {
   "cell_type": "code",
   "execution_count": 11,
   "metadata": {},
   "outputs": [
    {
     "data": {
      "text/plain": [
       "\u001b[36ma\u001b[39m: \u001b[32mOption\u001b[39m[\u001b[32mString\u001b[39m] = \u001b[33mSome\u001b[39m(value = \u001b[32m\"hola\"\u001b[39m)\n",
       "\u001b[36mb\u001b[39m: \u001b[32mOption\u001b[39m[\u001b[32mString\u001b[39m] = \u001b[32mNone\u001b[39m\n",
       "\u001b[36mc\u001b[39m: \u001b[32mOption\u001b[39m[\u001b[32mString\u001b[39m] = \u001b[33mSome\u001b[39m(value = \u001b[32m\"nois/es\"\u001b[39m)\n",
       "\u001b[36mxs\u001b[39m: \u001b[32mList\u001b[39m[\u001b[32mOption\u001b[39m[\u001b[32mString\u001b[39m]] = \u001b[33mList\u001b[39m(\n",
       "  \u001b[33mSome\u001b[39m(value = \u001b[32m\"hola\"\u001b[39m),\n",
       "  \u001b[32mNone\u001b[39m,\n",
       "  \u001b[33mSome\u001b[39m(value = \u001b[32m\"nois/es\"\u001b[39m)\n",
       ")\n",
       "\u001b[36mres11_4\u001b[39m: \u001b[32mList\u001b[39m[\u001b[32mString\u001b[39m] = \u001b[33mList\u001b[39m(\u001b[32m\"hola\"\u001b[39m, \u001b[32m\"nois/es\"\u001b[39m)"
      ]
     },
     "execution_count": 11,
     "metadata": {},
     "output_type": "execute_result"
    }
   ],
   "source": [
    "val a: Option[String] = Some(\"hola\")\n",
    "val b: Option[String] = None\n",
    "val c: Option[String] = Some(\"nois/es\")\n",
    "\n",
    "val xs: List[Option[String]] = List(a, b, c)\n",
    "\n",
    "for (mx <- xs; x <- mx) yield x"
   ]
  },
  {
   "cell_type": "markdown",
   "metadata": {},
   "source": [
    "### For-Comprehensions: A readable alternative to higher-order functions"
   ]
  },
  {
   "cell_type": "markdown",
   "metadata": {},
   "source": [
    "- Higher-order functions such as `map`, `flatMap`,\n",
    "`filter` provide powerful constructions for dealing with lists.\n",
    "\n",
    "- But sometimes the level of abstraction required by these functions makes a program hard to understand.\n",
    "\n",
    "- In such cases, use of for-comprenension might be a good alternative:\n",
    "\n",
    "    _\"Given a positive integer $n$, find all\n",
    "    pairs of positive integers $i$ and $j$, where $1 \\leq j \\leq i < n$ such that $i + j$ is prime. If $n = 7$.\"_\n",
    "\n",
    "    ```scala\n",
    "    def isPrime(n: Int): Boolean = {\n",
    "        def nestedIsPrime(i: Int): Boolean =\n",
    "            if (i * i > n) true\n",
    "            else if (n % i == 0) false\n",
    "            else nestedIsPrime(i + 1)\n",
    "    \n",
    "        if (n <= 1) false\n",
    "        else if (n == 2) true\n",
    "        else nestedIsPrime(2)\n",
    "    }\n",
    "    \n",
    "    val n = 7\n",
    "    \n",
    "    for (i <- 1 until n;\n",
    "         j <- 1 until i if isPrime(i + j)) yield (i, j)\n",
    "    \n",
    "    ```\n",
    "\n",
    "    <br/>\n",
    "    \n",
    "    \n",
    "    | i | j | i + j |\n",
    "    |---|---|-------|\n",
    "    | 2 | 1 | 3     |\n",
    "    | 3 | 2 | 5     |\n",
    "    | 4 | 1 | 5     |\n",
    "    | 4 | 3 | 7     |\n",
    "    | 5 | 2 | 7     |\n",
    "    | 6 | 1 | 7     |\n",
    "    | 6 | 5 | 11    |\n"
   ]
  },
  {
   "cell_type": "markdown",
   "metadata": {},
   "source": [
    "<p style=\"float: left;\"><a href=\"list-higher-order-methods.ipynb\" target=\"_blank\">Previous</a></p>\n",
    "<p style=\"float: right;\"><a href=\"p3-exercises.ipynb\" target=\"_blank\">Next</a></p>\n",
    "<p style=\"text-align:center;\">Tour of Scala</p>\n",
    "<div style=\"clear: both;\"></div>"
   ]
  }
 ],
 "metadata": {
  "kernelspec": {
   "display_name": "Scala 3.6",
   "language": "scala",
   "name": "scala36"
  },
  "language_info": {
   "codemirror_mode": "text/x-scala",
   "file_extension": ".sc",
   "mimetype": "text/x-scala",
   "name": "scala",
   "nbconvert_exporter": "script",
   "version": "2.13.16"
  }
 },
 "nbformat": 4,
 "nbformat_minor": 4
}
