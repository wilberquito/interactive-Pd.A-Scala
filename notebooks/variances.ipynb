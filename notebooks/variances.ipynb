{
 "cells": [
  {
   "cell_type": "markdown",
   "metadata": {},
   "source": [
    "<p style=\"float: left;\"><a href=\"upper-type-bounds.ipynb\" target=\"_blank\">Previous</a></p>\n",
    "<p style=\"float: right;\"><a href=\"lower-type-bounds.ipynb\" target=\"_blank\">Next</a></p>\n",
    "<p style=\"text-align:center;\">Tour of Scala</p>\n",
    "<div style=\"clear: both;\"></div>"
   ]
  },
  {
   "cell_type": "markdown",
   "metadata": {},
   "source": [
    "# Variance annotations"
   ]
  },
  {
   "cell_type": "markdown",
   "metadata": {},
   "source": [
    "**Variance is how subtyping between more complex types (generic types) relates to subtyping between their components (type variables).**\n",
    "\n",
    "- Suppose `A` and `B` are types, and `K<U>` denotes application of a type constructor `K` with type variable `U`. \n",
    "\n",
    "- The kind of subtyping relationships are:\n",
    "\n",
    "    - **variant** if covariant or contravariant.\n",
    "        \n",
    "        - **covariant** if `A` $\\leq$ `B`, then `K<A>` $\\leq$ `K<B>`.\n",
    "          \n",
    "        - **contravariant** if `A` $\\leq$ `B`, then `K<B>` $\\leq$ `K<A>`.\n",
    "          \n",
    "    - **invariant** or nonvariant if not variant."
   ]
  },
  {
   "cell_type": "markdown",
   "metadata": {},
   "source": [
    "- Scala class syntax for the different subtyping relationships:\n",
    "\n",
    "    ```scala\n",
    "    class Foo[+A] // A covariant class\n",
    "    class Bar[-A] // A contravariant class\n",
    "    class Baz[A]  // An invariant class\n",
    "    \n",
    "    ```"
   ]
  },
  {
   "cell_type": "markdown",
   "metadata": {},
   "source": [
    "## The variance problem"
   ]
  },
  {
   "cell_type": "markdown",
   "metadata": {},
   "source": [
    "- The combination of type parameters and subtyping poses some interesting questions. \n",
    " \n",
    "    - _Should **Stack[String]** be a subtype of **Stack[AnyRef]**?_\n",
    "\n",
    "        - This seems OK, since a stack of `String` is a special case of a stack of `AnyRef`.\n",
    "    \n",
    "        <br/>\n",
    "    \n",
    "- **In a purely functional world, all types could be covariant**. However, <span style=\"color:red\">**the situation changes once we introduce mutable data.**</span>\n",
    "\n",
    "    ```java\n",
    "    class Fruit\n",
    "    \n",
    "    val x = new Array[String](1)\n",
    "    val y: Array[AnyRef] = x // Covariant assignment, this would be legit in Java not in Scala!!!\n",
    "    y(0) = new Fruit         // Introducing a `Fruit` into `Array[String]`?\n",
    "    ```\n",
    "\n",
    "    <br/>\n",
    "\n",
    "    - In Java, arrays are covariant. <span style=\"color:black\">**This might seem natural but leads to safety problems that require special _runtime checks_.**</span>\n",
    "    \n",
    "        - **<span style=\"color:red\">We would end up storing a `Fruit` in an array `Array[String]` which clearly violates type soundness.</span>**"
   ]
  },
  {
   "cell_type": "markdown",
   "metadata": {},
   "source": [
    "## Scala's variance approuch"
   ]
  },
  {
   "cell_type": "markdown",
   "metadata": {},
   "source": [
    "- Scala solves the variance problem statically instead of in runtime.\n",
    "\n",
    "- Covariant type variables may appear in:\n",
    "    \n",
    "    1. The types of values (fields) defined in the class.\n",
    "       \n",
    "       ```scala\n",
    "       class Box[+A](val value: A) // covariant in A\n",
    "       \n",
    "       ```\n",
    "\n",
    "        <br/>\n",
    "       \n",
    "    3. The result types of methods in the class.\n",
    "       \n",
    "        ```scala\n",
    "        trait Producer[+A]\n",
    "          def produce(): A // result type is covariant\n",
    "          \n",
    "        ```\n",
    "        \n",
    "    5. Type variables to other covariant types.\n",
    "       \n",
    "       ```scala\n",
    "       case class Node[+A](head: A, tail: List[A]) // List is covariant\n",
    "       \n",
    "       ```\n",
    "\n",
    "    <br/>\n",
    "    \n",
    "- **But, <span style=\"color:red\">formal parameter types of methods cannot be covariant**.<span>\n",
    "\n",
    "    \n",
    "    ```scala\n",
    "    class Array[+A] {\n",
    "      def apply(index: Int): A\n",
    "      def update(index: Int, elem: A) // ❌ not allowed\n",
    "    }\n",
    "    ```\n",
    "\n",
    "    <br/>\n",
    "\n",
    "    - **Since the `update` method might change the internal state (mutation):**\n",
    "      \n",
    "        -  <span style=\"color:red\">**It might invalidate the subtyping relationship (break type safety).**</span>\n",
    "\n",
    "        <br/>\n",
    "\n",
    "    - **There are methods which do not mutate state, but type parameter still appears contravariant position...**\n",
    "\n",
    "        ```scala\n",
    "        class Stack[+A] {\n",
    "            def push(x: A): Stack[A] = . . . // Do not mutate the internal state, returns a new stack\n",
    "        }\n",
    "        ```\n",
    "\n",
    "        <br/>\n",
    "\n",
    "         - **Stacks are purely functional data structures.** <span style=\"color:red\">**Covariant subtyping should be allowed**.</span>\n",
    "       \n",
    "         - For solving this problem we can use [lower type parameter bound](lower-type-bounds.ipynb)."
   ]
  },
  {
   "cell_type": "markdown",
   "metadata": {},
   "source": [
    "<p style=\"float: left;\"><a href=\"upper-type-bounds.ipynb\" target=\"_blank\">Previous</a></p>\n",
    "<p style=\"float: right;\"><a href=\"lower-type-bounds.ipynb\" target=\"_blank\">Next</a></p>\n",
    "<p style=\"text-align:center;\">Tour of Scala</p>\n",
    "<div style=\"clear: both;\"></div>"
   ]
  }
 ],
 "metadata": {
  "kernelspec": {
   "display_name": "Scala 3.6",
   "language": "scala",
   "name": "scala36"
  },
  "language_info": {
   "codemirror_mode": "text/x-scala",
   "file_extension": ".sc",
   "mimetype": "text/x-scala",
   "name": "scala",
   "nbconvert_exporter": "script",
   "version": "2.13.16"
  }
 },
 "nbformat": 4,
 "nbformat_minor": 4
}
