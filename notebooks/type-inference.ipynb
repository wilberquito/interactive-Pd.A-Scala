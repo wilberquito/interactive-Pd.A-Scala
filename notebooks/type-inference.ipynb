{
 "cells": [
  {
   "cell_type": "markdown",
   "metadata": {},
   "source": [
    "<p style=\"float: left;\"><a href=\"unified-types.ipynb\" target=\"_blank\">Previous</a></p>\n",
    "<p style=\"float: right;\"><a href=\"by-name-parameters.ipynb\" target=\"_blank\">Next</a></p>\n",
    "<p style=\"text-align:center;\">Tour of Scala</p>\n",
    "<div style=\"clear: both;\"></div>"
   ]
  },
  {
   "cell_type": "markdown",
   "metadata": {},
   "source": [
    "# Type Inference\n",
    "\n",
    "The Scala compiler can often infer the type of an expression so you don't have to declare it explicitly."
   ]
  },
  {
   "cell_type": "markdown",
   "metadata": {},
   "source": [
    "## Omitting the type"
   ]
  },
  {
   "cell_type": "code",
   "execution_count": 1,
   "metadata": {
    "attributes": {
     "classes": [
      "tut"
     ],
     "id": ""
    }
   },
   "outputs": [
    {
     "data": {
      "text/plain": [
       "\u001b[36mbusinessName\u001b[39m: \u001b[32mString\u001b[39m = \u001b[32m\"Montreux Jazz Caf\\u00e9\"\u001b[39m"
      ]
     },
     "execution_count": 1,
     "metadata": {},
     "output_type": "execute_result"
    }
   ],
   "source": [
    "val businessName = \"Montreux Jazz Café\""
   ]
  },
  {
   "cell_type": "markdown",
   "metadata": {},
   "source": [
    "The compiler can detect that `businessName` is a String. \n",
    "\n",
    "It works similarly with methods:"
   ]
  },
  {
   "cell_type": "code",
   "execution_count": null,
   "metadata": {
    "attributes": {
     "classes": [
      "tut"
     ],
     "id": ""
    }
   },
   "outputs": [],
   "source": [
    "def squareOf(x: Int) = x * x // Int => Int"
   ]
  },
  {
   "cell_type": "markdown",
   "metadata": {},
   "source": [
    "The compiler can infer that the return type is an `Int`, so no explicit return type is required.\n",
    "\n",
    "<span style=\"color:red\">**For recursive methods, the compiler is not able to infer a result type.**</span> Here is a program which will fail the compiler for this reason:"
   ]
  },
  {
   "cell_type": "code",
   "execution_count": null,
   "metadata": {
    "attributes": {
     "classes": [
      "tut"
     ],
     "id": ""
    }
   },
   "outputs": [
    {
     "name": "stderr",
     "output_type": "stream",
     "text": [
      "-- [E044] Cyclic Error: cmd1.sc:1:41 -------------------------------------------\n",
      "1 |def fac(n: Int) = if (n == 0) 1 else n * fac(n - 1)\n",
      "  |                                         ^\n",
      "  |                      Overloaded or recursive method fac needs return type\n",
      "  |\n",
      "  |                       Run with -explain-cyclic for more details.\n",
      "  |\n",
      "  | longer explanation available when compiling with `-explain`\n",
      "Compilation Failed"
     ]
    }
   ],
   "source": [
    "def fac(n: Int) = if (n == 0) 1 else n * fac(n - 1)"
   ]
  },
  {
   "cell_type": "markdown",
   "metadata": {},
   "source": [
    "In this case is compulsory to specity the resulting type. "
   ]
  },
  {
   "cell_type": "code",
   "execution_count": null,
   "metadata": {},
   "outputs": [],
   "source": [
    "def fac(n: Int): Int = if (n == 0) 1 else n * fac(n - 1)"
   ]
  },
  {
   "cell_type": "markdown",
   "metadata": {},
   "source": [
    "For [polymorphic methods](polymorphic-methods.ipynb) and [generic classes](generic-classes.ipynb) \n",
    "\n",
    "- It is also not compulsory to specify type parameters when  are called or are instantiated. \n",
    "- The Scala compiler will infer such missing type parameters from the context and from the types of the actual method/constructor parameters."
   ]
  },
  {
   "cell_type": "code",
   "execution_count": 1,
   "metadata": {
    "attributes": {
     "classes": [
      "tut"
     ],
     "id": ""
    }
   },
   "outputs": [
    {
     "data": {
      "text/plain": [
       "defined \u001b[32mclass\u001b[39m \u001b[36mMyPair\u001b[39m\n",
       "\u001b[36mp\u001b[39m: \u001b[32mMyPair\u001b[39m[\u001b[32mInt\u001b[39m, \u001b[32mString\u001b[39m] = \u001b[33mMyPair\u001b[39m(x = \u001b[32m1\u001b[39m, y = \u001b[32m\"scala\"\u001b[39m)\n",
       "defined \u001b[32mfunction\u001b[39m \u001b[36mid\u001b[39m\n",
       "\u001b[36mq\u001b[39m: \u001b[32mInt\u001b[39m = \u001b[32m1\u001b[39m"
      ]
     },
     "execution_count": 1,
     "metadata": {},
     "output_type": "execute_result"
    }
   ],
   "source": [
    "// Generc class\n",
    "case class MyPair[A, B](x: A, y: B)\n",
    "\n",
    "val p = MyPair(1, \"scala\") // type: MyPair[Int, String]\n",
    "\n",
    "// Polymorphic method\n",
    "def id[T](x: T) = x\n",
    "\n",
    "val q = id(1)              // q: Int"
   ]
  },
  {
   "cell_type": "markdown",
   "metadata": {},
   "source": [
    "The compiler uses the types of the arguments of `MyPair` to figure out what type `A` and `B` are. Likewise for the type of `x`."
   ]
  },
  {
   "cell_type": "markdown",
   "metadata": {},
   "source": [
    "Yet, **sometimes, you will need to enforce the type by specifying the type parameter, e.g., `id[Double](1)`**."
   ]
  },
  {
   "cell_type": "code",
   "execution_count": 2,
   "metadata": {},
   "outputs": [
    {
     "data": {
      "text/plain": [
       "\u001b[36mq\u001b[39m: \u001b[32mDouble\u001b[39m = \u001b[32m1.0\u001b[39m"
      ]
     },
     "execution_count": 2,
     "metadata": {},
     "output_type": "execute_result"
    }
   ],
   "source": [
    "val q = id[Double](1)      // q: Double"
   ]
  },
  {
   "cell_type": "markdown",
   "metadata": {},
   "source": [
    "## Parameters of polymorphic methods\n",
    "\n",
    "The compiler never infers method parameter types. However, in certain cases, it can infer anonymous function parameter types when the function is passed as argument.\n",
    "\n",
    "For map the paramater is a funciton of type `f: A => B`, but it infers a more specific type `f: Int => Int`."
   ]
  },
  {
   "cell_type": "code",
   "execution_count": null,
   "metadata": {
    "attributes": {
     "classes": [
      "tut"
     ],
     "id": ""
    }
   },
   "outputs": [],
   "source": [
    "Seq(1, 3, 4).map(x => x * 2)  // List(2, 6, 8)"
   ]
  },
  {
   "cell_type": "markdown",
   "metadata": {},
   "source": [
    "Because the compiler infers that the sequences is of type `Seq[Int]`, then;\n",
    "\n",
    "- The compiler knows that `A` is `Int` (i.e. that `x` is an integer).\n",
    "- From `x * 2` the compiler infers that `B` is type `Int`.\n",
    "\n",
    "## When _not_ to rely on type inference\n",
    "\n",
    "It is generally considered more readable to declare the type of members exposed in a public API.  Therefore, we recommended that you make the type explicit for any APIs that will be exposed to users of your code.\n",
    "\n",
    "Also, type inference can sometimes infer a too-specific type.  Suppose we write:"
   ]
  },
  {
   "cell_type": "code",
   "execution_count": 2,
   "metadata": {
    "attributes": {
     "classes": [
      "tut"
     ],
     "id": ""
    }
   },
   "outputs": [
    {
     "data": {
      "text/html": [
       "<div class=\"jp-RenderedText\">\n",
       "<pre><code><span style=\"color: rgb(0, 187, 187)\"><span class=\"ansi-cyan-fg\">obj</span></span>: <span style=\"color: rgb(0, 187, 0)\"><span class=\"ansi-green-fg\">Null</span></span> = <span style=\"color: rgb(0, 187, 0)\"><span class=\"ansi-green-fg\">null</span></span></code></pre>\n",
       "</div>"
      ],
      "text/plain": [
       "\u001b[36mobj\u001b[39m: \u001b[32mNull\u001b[39m = \u001b[32mnull\u001b[39m"
      ]
     },
     "metadata": {},
     "output_type": "display_data"
    }
   ],
   "source": [
    "var obj = null"
   ]
  },
  {
   "cell_type": "markdown",
   "metadata": {},
   "source": [
    "We can't then go on and make this reassignment:"
   ]
  },
  {
   "cell_type": "code",
   "execution_count": 2,
   "metadata": {
    "attributes": {
     "classes": [
      "tut"
     ],
     "id": ""
    }
   },
   "outputs": [
    {
     "name": "stderr",
     "output_type": "stream",
     "text": [
      "cmd3.sc:1: type mismatch;\n",
      " found   : Object\n",
      " required: Null\n",
      "val res3 = obj = new AnyRef\n",
      "                 ^\n",
      "Compilation Failed"
     ]
    }
   ],
   "source": [
    "obj = new AnyRef"
   ]
  },
  {
   "cell_type": "markdown",
   "metadata": {},
   "source": [
    "It won't compile, because the type inferred for `obj` was `Null`. **Since the only value of type `Null` is `null`, it is impossible to assign a different value**.\n",
    "\n",
    "But you could do something like this <span style=\"color:red\">**(yet it is not safe):</span>**"
   ]
  },
  {
   "cell_type": "code",
   "execution_count": 5,
   "metadata": {},
   "outputs": [
    {
     "data": {
      "text/plain": [
       "\u001b[36mobj\u001b[39m: \u001b[32mObject\u001b[39m = \u001b[32mnull\u001b[39m"
      ]
     },
     "execution_count": 5,
     "metadata": {},
     "output_type": "execute_result"
    }
   ],
   "source": [
    "var obj: AnyRef = \"hola\"\n",
    "obj = null"
   ]
  },
  {
   "cell_type": "markdown",
   "metadata": {},
   "source": [
    "<p style=\"float: left;\"><a href=\"unified-types.ipynb\" target=\"_blank\">Previous</a></p>\n",
    "<p style=\"float: right;\"><a href=\"by-name-parameters.ipynb\" target=\"_blank\">Next</a></p>\n",
    "<p style=\"text-align:center;\">Tour of Scala</p>\n",
    "<div style=\"clear: both;\"></div>"
   ]
  }
 ],
 "metadata": {
  "kernelspec": {
   "display_name": "Scala 3.6",
   "language": "scala",
   "name": "scala36"
  },
  "language_info": {
   "codemirror_mode": "text/x-scala",
   "file_extension": ".sc",
   "mimetype": "text/x-scala",
   "name": "scala",
   "nbconvert_exporter": "script",
   "version": "2.13.16"
  }
 },
 "nbformat": 4,
 "nbformat_minor": 4
}
