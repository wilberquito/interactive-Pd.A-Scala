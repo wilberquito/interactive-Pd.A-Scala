{
 "cells": [
  {
   "cell_type": "code",
   "execution_count": 1,
   "id": "74d60154-df52-445f-b6b5-d3f5ae52746a",
   "metadata": {},
   "outputs": [
    {
     "data": {
      "text/plain": [
       "\u001b[32mimport \u001b[39m\u001b[36m$ivy.$\u001b[39m\n",
       "\u001b[32mimport \u001b[39m\u001b[36makka.actor.{Actor, ActorRef, Props}\u001b[39m\n",
       "\u001b[32mimport \u001b[39m\u001b[36makka.actor.{ActorSystem, PoisonPill, Props}\u001b[39m"
      ]
     },
     "execution_count": 1,
     "metadata": {},
     "output_type": "execute_result"
    }
   ],
   "source": [
    "import $ivy.`com.typesafe.akka::akka-actor:2.6.10`\n",
    "import akka.actor.{Actor, ActorRef, Props}\n",
    "import akka.actor.{ActorSystem, PoisonPill, Props}"
   ]
  },
  {
   "cell_type": "code",
   "execution_count": 2,
   "id": "90b9f583-c520-4d2d-9967-e373578418a6",
   "metadata": {},
   "outputs": [
    {
     "data": {
      "text/plain": [
       "defined \u001b[32mclass\u001b[39m \u001b[36mGreet\u001b[39m\n",
       "defined \u001b[32mclass\u001b[39m \u001b[36mPraise\u001b[39m\n",
       "defined \u001b[32mclass\u001b[39m \u001b[36mCelebrate\u001b[39m"
      ]
     },
     "execution_count": 2,
     "metadata": {},
     "output_type": "execute_result"
    }
   ],
   "source": [
    "case class Greet(name: String)\n",
    "case class Praise(name: String)\n",
    "case class Celebrate(name: String, age: Int)"
   ]
  },
  {
   "cell_type": "code",
   "execution_count": 3,
   "id": "7410c08a-d2c5-45a6-8eb4-57ea359aa184",
   "metadata": {},
   "outputs": [
    {
     "data": {
      "text/plain": [
       "defined \u001b[32mclass\u001b[39m \u001b[36mTalker\u001b[39m"
      ]
     },
     "execution_count": 3,
     "metadata": {},
     "output_type": "execute_result"
    }
   ],
   "source": [
    "class Talker extends Actor {\n",
    "    def receive = {\n",
    "        case Greet(name)          => println(s\"Hello $name\")\n",
    "        case Praise(name)         => println(s\"$name, you're amazing\")\n",
    "        case Celebrate(name, age) => println(s\"Here's to another $age years, $name\")\n",
    "    }\n",
    "}"
   ]
  },
  {
   "cell_type": "code",
   "execution_count": 4,
   "id": "dfef83ef-467b-42e2-bf58-3d1393bee61e",
   "metadata": {},
   "outputs": [
    {
     "data": {
      "text/plain": [
       "defined \u001b[32mobject\u001b[39m \u001b[36mHelloActors\u001b[39m"
      ]
     },
     "execution_count": 4,
     "metadata": {},
     "output_type": "execute_result"
    }
   ],
   "source": [
    "object HelloActors {\n",
    "    val system = ActorSystem(\"HelloActors\")\n",
    "    val talker = system.actorOf(Props(new Talker), \"talker\")\n",
    "    talker ! Greet(\"Huey\")\n",
    "    talker ! Praise(\"Dewey\")\n",
    "    talker ! Celebrate(\"Louie\", 16)\n",
    "    Thread.sleep(2000)\n",
    "    system.terminate()\n",
    "}"
   ]
  },
  {
   "cell_type": "code",
   "execution_count": 5,
   "id": "633e51ac-ef7c-493f-97ee-57bcf5a590f5",
   "metadata": {},
   "outputs": [
    {
     "name": "stdout",
     "output_type": "stream",
     "text": [
      "Hello Huey\n",
      "Dewey, you're amazing\n",
      "Here's to another 16 years, Louie\n"
     ]
    },
    {
     "data": {
      "text/plain": [
       "\u001b[36mres5\u001b[39m: \u001b[32mHelloActors\u001b[39m.type = ammonite.$sess.cmd4$Helper$HelloActors$@4942b3b1"
      ]
     },
     "execution_count": 5,
     "metadata": {},
     "output_type": "execute_result"
    }
   ],
   "source": [
    "HelloActors"
   ]
  }
 ],
 "metadata": {
  "kernelspec": {
   "display_name": "Scala 2.13",
   "language": "scala",
   "name": "scala213"
  },
  "language_info": {
   "codemirror_mode": "text/x-scala",
   "file_extension": ".sc",
   "mimetype": "text/x-scala",
   "name": "scala",
   "nbconvert_exporter": "script",
   "version": "2.13.14"
  }
 },
 "nbformat": 4,
 "nbformat_minor": 5
}
