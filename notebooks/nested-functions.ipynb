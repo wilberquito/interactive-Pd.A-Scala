{
 "cells": [
  {
   "cell_type": "markdown",
   "metadata": {},
   "source": [
    "<p style=\"float: left;\"><a href=\"higher-order-functions.ipynb\" target=\"_blank\">Previous</a></p>\n",
    "<p style=\"float: right;\"><a href=\"multiple-parameter-lists.ipynb\" target=\"_blank\">Next</a></p>\n",
    "<p style=\"text-align:center;\">Tour of Scala</p>\n",
    "<div style=\"clear: both;\"></div>"
   ]
  },
  {
   "cell_type": "markdown",
   "metadata": {},
   "source": [
    "# Nested methods and currying"
   ]
  },
  {
   "cell_type": "markdown",
   "metadata": {},
   "source": [
    "## Nested methods"
   ]
  },
  {
   "cell_type": "markdown",
   "metadata": {},
   "source": [
    "In Scala it is possible to nest method definitions."
   ]
  },
  {
   "cell_type": "code",
   "execution_count": 1,
   "metadata": {
    "attributes": {
     "classes": [
      "tut"
     ],
     "id": ""
    }
   },
   "outputs": [
    {
     "name": "stdout",
     "output_type": "stream",
     "text": [
      "Factorial of 2: 2\n",
      "Factorial of 3: 6\n"
     ]
    },
    {
     "data": {
      "text/plain": [
       "defined \u001b[32mfunction\u001b[39m \u001b[36mfactorial\u001b[39m"
      ]
     },
     "execution_count": 1,
     "metadata": {},
     "output_type": "execute_result"
    }
   ],
   "source": [
    " def factorial(x: Int): Int = {\n",
    "    def fact(x: Int, accumulator: Int): Int = {\n",
    "      if (x <= 1) accumulator\n",
    "      else fact(x - 1, x * accumulator)\n",
    "    }  \n",
    "    fact(x, 1)\n",
    " }\n",
    "\n",
    " println(\"Factorial of 2: \" + factorial(2))\n",
    " println(\"Factorial of 3: \" + factorial(3))"
   ]
  },
  {
   "cell_type": "markdown",
   "metadata": {},
   "source": [
    "## Currying "
   ]
  },
  {
   "cell_type": "markdown",
   "metadata": {},
   "source": [
    "Currying is the process of transforming a function that takes multiple arguments in a tuple as its argument, \n",
    "into a function that takes just a single argument and returns another function which accepts further arguments, one by one, \n",
    "that the original function would receive in the rest of that tuple. \n",
    "**Functions in curried form are usually convenient because it allows partial application**.\n",
    "\n",
    "Abstraction are associate _to the right_.\n",
    "\n",
    "```haskell\n",
    "f :: a -> (b -> c) \n",
    "```\n",
    "\n",
    "This currying mechanism \n",
    "is not a default behaviour in Scala as it is in other languages such as Haskell, but we\n",
    "can emulate the behaviour returning functions that receive the rest of the arguments."
   ]
  },
  {
   "cell_type": "code",
   "execution_count": 6,
   "metadata": {},
   "outputs": [
    {
     "data": {
      "text/plain": [
       "defined \u001b[32mfunction\u001b[39m \u001b[36msum\u001b[39m\n",
       "defined \u001b[32mfunction\u001b[39m \u001b[36mpowerOfTwo\u001b[39m\n",
       "defined \u001b[32mfunction\u001b[39m \u001b[36msumInts\u001b[39m\n",
       "defined \u001b[32mfunction\u001b[39m \u001b[36msumSquares\u001b[39m\n",
       "defined \u001b[32mfunction\u001b[39m \u001b[36msumPowersOfTwo\u001b[39m"
      ]
     },
     "execution_count": 6,
     "metadata": {},
     "output_type": "execute_result"
    }
   ],
   "source": [
    "def sum(f: Int => Int): (Int, Int) => Int = {\n",
    "    def sumF(a: Int, b: Int): Int =\n",
    "        if (a > b) 0 else f(a) + sumF(a + 1, b)\n",
    "    sumF\n",
    "}\n",
    "\n",
    "def powerOfTwo(x: Int): Int = if (x == 0) 1 else 2 * powerOfTwo(x - 1)\n",
    "\n",
    "def sumInts(a: Int, b: Int): Int = sum(x => x)(a, b)\n",
    "def sumSquares(a: Int, b: Int): Int = sum(x => x * x)(a, b)\n",
    "def sumPowersOfTwo(a: Int, b: Int): Int = sum(powerOfTwo)(a, b)"
   ]
  },
  {
   "cell_type": "code",
   "execution_count": 4,
   "metadata": {},
   "outputs": [
    {
     "data": {
      "text/plain": [
       "\u001b[36mres4\u001b[39m: \u001b[32mInt\u001b[39m = \u001b[32m55\u001b[39m"
      ]
     },
     "execution_count": 4,
     "metadata": {},
     "output_type": "execute_result"
    }
   ],
   "source": [
    "sumInts(a = 1, b = 10)"
   ]
  },
  {
   "cell_type": "code",
   "execution_count": 5,
   "metadata": {},
   "outputs": [
    {
     "data": {
      "text/plain": [
       "\u001b[36mres5\u001b[39m: \u001b[32mInt\u001b[39m = \u001b[32m385\u001b[39m"
      ]
     },
     "execution_count": 5,
     "metadata": {},
     "output_type": "execute_result"
    }
   ],
   "source": [
    "sumSquares(a = 1, b = 10)"
   ]
  },
  {
   "cell_type": "code",
   "execution_count": 7,
   "metadata": {},
   "outputs": [
    {
     "data": {
      "text/plain": [
       "\u001b[36mres7\u001b[39m: \u001b[32mInt\u001b[39m = \u001b[32m2046\u001b[39m"
      ]
     },
     "execution_count": 7,
     "metadata": {},
     "output_type": "execute_result"
    }
   ],
   "source": [
    "sumPowersOfTwo(1, 10)"
   ]
  },
  {
   "cell_type": "markdown",
   "metadata": {},
   "source": [
    "<p style=\"float: left;\"><a href=\"higher-order-functions.ipynb\" target=\"_blank\">Previous</a></p>\n",
    "<p style=\"float: right;\"><a href=\"multiple-parameter-lists.ipynb\" target=\"_blank\">Next</a></p>\n",
    "<p style=\"text-align:center;\">Tour of Scala</p>\n",
    "<div style=\"clear: both;\"></div>"
   ]
  }
 ],
 "metadata": {
  "kernelspec": {
   "display_name": "Scala 2.13",
   "language": "scala",
   "name": "scala213"
  },
  "language_info": {
   "codemirror_mode": "text/x-scala",
   "file_extension": ".sc",
   "mimetype": "text/x-scala",
   "name": "scala",
   "nbconvert_exporter": "script",
   "version": "2.13.14"
  }
 },
 "nbformat": 4,
 "nbformat_minor": 4
}
