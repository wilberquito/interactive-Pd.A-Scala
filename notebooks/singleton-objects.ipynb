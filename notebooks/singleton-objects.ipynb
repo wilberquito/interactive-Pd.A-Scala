{
 "cells": [
  {
   "cell_type": "markdown",
   "id": "8822e7bc-a346-481e-a483-b85f275c91de",
   "metadata": {},
   "source": [
    "<p style=\"float: left;\"><a href=\"pattern-matching.ipynb\" target=\"_blank\">Previous</a></p>\n",
    "<p style=\"float: right;\"><a href=\"regular-expression-patterns.ipynb\" target=\"_blank\">Next</a></p>\n",
    "<p style=\"text-align:center;\">Tour of Scala</p>\n",
    "<div style=\"clear: both;\"></div>\n",
    "\n",
    "# Singleton Objects\n",
    "An object is a class that has exactly one instance. It is created lazily when it is referenced, like a lazy val.\n",
    "\n",
    "As a top-level value, an object is a singleton.\n",
    "\n",
    "As a member of an enclosing class or as a local value, it behaves exactly like a lazy val.\n",
    "# Defining a singleton object\n",
    "An object is a value. The definition of an object looks like a class, but uses the keyword `object`:"
   ]
  },
  {
   "cell_type": "code",
   "execution_count": 1,
   "id": "14ae4123-ab94-41b0-91d8-149067178152",
   "metadata": {},
   "outputs": [
    {
     "data": {
      "text/plain": [
       "defined \u001b[32mobject\u001b[39m \u001b[36mBox\u001b[39m"
      ]
     },
     "execution_count": 1,
     "metadata": {},
     "output_type": "execute_result"
    }
   ],
   "source": [
    "object Box"
   ]
  },
  {
   "cell_type": "markdown",
   "id": "0a7a30fa-1e3b-424b-a924-1290cdc9462f",
   "metadata": {},
   "source": [
    "Here's an example of an object with a method:"
   ]
  },
  {
   "cell_type": "markdown",
   "id": "43791144-fc53-4e06-982c-e6794db7c85e",
   "metadata": {},
   "source": [
    "```scala\n",
    "package logging\n",
    "\n",
    "object Logger {\n",
    "  def info(message: String): Unit = println(s\"INFO: $message\")\n",
    "}\n",
    "```\n"
   ]
  },
  {
   "cell_type": "markdown",
   "id": "bbe3b425-1a64-4a4c-a398-b685eb0add2c",
   "metadata": {},
   "source": [
    "The method `info` can be imported from anywhere in the program. Creating utility methods like this is a common use case for singleton objects.\n",
    "\n",
    "Let's see how to use `info` in another package:"
   ]
  },
  {
   "cell_type": "markdown",
   "id": "452748b3-5636-4a56-8ab6-cc528441f7ee",
   "metadata": {},
   "source": [
    "```scala\n",
    "import logging.Logger.info\n",
    "\n",
    "class Project(name: String, daysToComplete: Int)\n",
    "\n",
    "class Test {\n",
    "  val project1 = new Project(\"TPS Reports\", 1)\n",
    "  val project2 = new Project(\"Website redesign\", 5)\n",
    "  info(\"Created projects\")  // Prints \"INFO: Created projects\"\n",
    "}\n",
    "```\n"
   ]
  },
  {
   "cell_type": "markdown",
   "id": "e4f11e2c-6df7-48b8-842b-b77d72215157",
   "metadata": {},
   "source": [
    "The `info` method is visible because of the import statement, `import logging.Logger.info`.\n",
    "\n",
    "Imports require a \"stable path\" to the imported symbol, and an object is a stable path.\n",
    "\n",
    "Note: If an `object` is not top-level but is nested in another class or object, then the object is \"path-dependent\" like any other member. This means that given two kinds of beverages, `class Milk` and `class OrangeJuice`, a class member `object NutritionInfo` \"depends\" on the enclosing instance, either milk or orange juice. `milk.NutritionInfo` is entirely distinct from `oj.NutritionInfo`.\n",
    "\n",
    "## Companion objects\n",
    "\n",
    "An object with the same name as a class is called a _companion object_. Conversely, the class is the object's companion class. A companion class or object can access the private members of its companion. Use a companion object for methods and values which are not specific to instances of the companion class."
   ]
  },
  {
   "cell_type": "code",
   "execution_count": null,
   "id": "3038028d-3c7a-4523-bebf-2d6c5eff35ab",
   "metadata": {},
   "outputs": [],
   "source": []
  }
 ],
 "metadata": {
  "kernelspec": {
   "display_name": "Scala 3.3",
   "language": "scala",
   "name": "scala33"
  },
  "language_info": {
   "codemirror_mode": "text/x-scala",
   "file_extension": ".sc",
   "mimetype": "text/x-scala",
   "name": "scala",
   "nbconvert_exporter": "script",
   "version": "2.13.14"
  }
 },
 "nbformat": 4,
 "nbformat_minor": 5
}
