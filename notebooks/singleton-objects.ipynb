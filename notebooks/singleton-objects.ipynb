{
 "cells": [
  {
   "cell_type": "markdown",
   "metadata": {},
   "source": [
    "<p style=\"float: left;\"><a href=\"classes.ipynb\" target=\"_blank\">Previous</a></p>\n",
    "<p style=\"float: right;\"><a href=\"traits.ipynb\" target=\"_blank\">Next</a></p>\n",
    "<p style=\"text-align:center;\">Tour of Scala</p>\n",
    "<div style=\"clear: both;\"></div>"
   ]
  },
  {
   "cell_type": "markdown",
   "metadata": {},
   "source": [
    "# Singleton Objects"
   ]
  },
  {
   "cell_type": "markdown",
   "metadata": {},
   "source": [
    "```scala\n",
    "object IdFactory:\n",
    "  private var counter = 0\n",
    "\n",
    "  def create(): Int =\n",
    "    counter += 1\n",
    "    counter\n",
    "\n",
    "val newId: Int = IdFactory.create()\n",
    "println(newId) // 1\n",
    "\n",
    "val newerId: Int = IdFactory.create()\n",
    "println(newerId) // 2\n",
    "\n",
    "```\n",
    "\n",
    "- **An object is a class that has exactly one instance.** As a top-level value, an object is a singleton."
   ]
  },
  {
   "cell_type": "markdown",
   "metadata": {},
   "source": [
    "## Creating utility methods"
   ]
  },
  {
   "cell_type": "markdown",
   "metadata": {},
   "source": [
    "```scala\n",
    "package logging\n",
    "\n",
    "object Logger {\n",
    "  def info(message: String): Unit = println(s\"INFO: $message\")\n",
    "}\n",
    "```\n"
   ]
  },
  {
   "cell_type": "markdown",
   "metadata": {},
   "source": [
    "```scala\n",
    "import logging.Logger.info\n",
    "\n",
    "class Project(name: String, daysToComplete: Int)\n",
    "\n",
    "class Test {\n",
    "  val project1 = new Project(\"TPS Reports\", 1)\n",
    "  val project2 = new Project(\"Website redesign\", 5)\n",
    "  info(\"Created projects\")  // Prints \"INFO: Created projects\"\n",
    "}\n",
    "```\n"
   ]
  },
  {
   "cell_type": "markdown",
   "metadata": {},
   "source": [
    "- The method `info` can be imported from anywhere in the program.\n",
    "  \n",
    "- Creating utility methods like this is a common use case for singleton objects.\n",
    "\n",
    "- The `info` method is visible because of the import statement, `import logging.Logger.info`."
   ]
  },
  {
   "cell_type": "markdown",
   "metadata": {
    "jp-MarkdownHeadingCollapsed": true
   },
   "source": [
    "<p style=\"float: left;\"><a href=\"classes.ipynb\" target=\"_blank\">Previous</a></p>\n",
    "<p style=\"float: right;\"><a href=\"traits.ipynb\" target=\"_blank\">Next</a></p>\n",
    "<p style=\"text-align:center;\">Tour of Scala</p>\n",
    "<div style=\"clear: both;\"></div>"
   ]
  }
 ],
 "metadata": {
  "kernelspec": {
   "display_name": "Scala 3.6",
   "language": "scala",
   "name": "scala36"
  },
  "language_info": {
   "codemirror_mode": "text/x-scala",
   "file_extension": ".sc",
   "mimetype": "text/x-scala",
   "name": "scala",
   "nbconvert_exporter": "script",
   "version": "2.13.16"
  }
 },
 "nbformat": 4,
 "nbformat_minor": 4
}
