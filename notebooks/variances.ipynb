{
 "cells": [
  {
   "cell_type": "markdown",
   "metadata": {},
   "source": [
    "<p style=\"float: left;\"><a href=\"upper-type-bounds.ipynb\" target=\"_blank\">Previous</a></p>\n",
    "<p style=\"float: right;\"><a href=\"lower-type-bounds.ipynb\" target=\"_blank\">Next</a></p>\n",
    "<p style=\"text-align:center;\">Tour of Scala</p>\n",
    "<div style=\"clear: both;\"></div>"
   ]
  },
  {
   "cell_type": "markdown",
   "metadata": {},
   "source": [
    "# Variance annotations"
   ]
  },
  {
   "cell_type": "markdown",
   "metadata": {},
   "source": [
    "Variance is how subtyping between more complex types relates to subtyping between their components.\n",
    "\n",
    "Suppose `A` and `B` are types, and `K<U>` denotes application of a type constructor `K` with type argument `U`. \n",
    "\n",
    "The kind of subtyping relationships are:\n",
    "\n",
    "- **covariant** if `A` $\\leq$ `B`, then `K<A>` $\\leq$ `K<B>`.\n",
    "- **contravariant** if `A` $\\leq$ `B`, then `K<B>` $\\leq$ `K<A>`.\n",
    "- **variant** if covariant or contravariant;\n",
    "- **invariant** or nonvariant if not variant."
   ]
  },
  {
   "cell_type": "code",
   "execution_count": null,
   "metadata": {},
   "outputs": [],
   "source": [
    "class Foo[+A] // A covariant class\n",
    "class Bar[-A] // A contravariant class\n",
    "class Baz[A]  // An invariant class"
   ]
  },
  {
   "cell_type": "markdown",
   "metadata": {},
   "source": [
    "The combination of type parameters and subtyping poses some interesting questions. For instance, _**should Stack[String] be a subtype of Stack[AnyRef]?**_\n",
    "\n",
    "Intuitively, this seems OK, since a stack of `String` is a special case of a stack of `AnyRef`.\n",
    "\n",
    "```scala\n",
    "class Stack[+A]\n",
    "```\n",
    "\n",
    "In a purely functional world, all types could be co-variant. However, the situation\n",
    "changes once we introduce mutable data. \n",
    "\n",
    "Consider the case of arrays in Java.\n",
    "\n",
    "\n",
    "\n",
    "```java\n",
    "class Array[A] {\n",
    "    def apply(index: Int): A\n",
    "    def update(index: Int, elem: A)\n",
    "}\n",
    "```\n",
    "\n",
    "In Java, arrays are covaraint.\n",
    "This might seem natural but\n",
    "leads to safety problems that require special _runtime checks_.\n",
    "\n",
    "```java\n",
    "val x = new Array[String](1)\n",
    "val y: Array[Any] = x\n",
    "y(0) = new Rational(1, 2) \n",
    "```\n",
    "\n",
    "**We end up storing a rational number in an\n",
    "array of strings**, which clearly violates type soundness."
   ]
  },
  {
   "cell_type": "markdown",
   "metadata": {},
   "source": [
    "## Scala's variance approuch"
   ]
  },
  {
   "cell_type": "markdown",
   "metadata": {},
   "source": [
    "Scala solves this problem instead statically instead of in runtime.\n",
    "\n",
    "Scala uses a conservative approximation to verify soundness of variance annotations. \n",
    "**A covariant type parameter of a class may only appear in co-variant positions inside the class**. \n",
    "\n",
    "The co-variant positions are:\n",
    "\n",
    "1) the types of values in the class,\n",
    "2) the result types of methods in the class,\n",
    "3) and type arguments to other covariant types.\n",
    "\n",
    "**Not co-variant are types of formal method parameters**. \n",
    "\n",
    "Hence, the following class definition would have been rejected:\n",
    "\n",
    "```scala\n",
    "class Array[+A] {\n",
    "    def apply(index: Int): A\n",
    "    def update(index: Int, elem: A)\n",
    "}\n",
    "```\n",
    "\n",
    "Intuitively, the compiler was correct in rejecting the update procedure in a co-variant class because update potentially changes state, and therefore\n",
    "undermines the soundness of co-variant subtyping.\n",
    "\n",
    "However, **there are also methods which do not mutate state, but where a type parameter still appears contra-variantly**. \n",
    "\n",
    "An example is `push` in type `Stack`.\n",
    "\n",
    "\n",
    "```scala\n",
    "class Stack[+A] {\n",
    "    def push(x: A): Stack[A] = . . .\n",
    "}\n",
    "```\n",
    "\n",
    "This is a pity, because, **unlike arrays, stacks are purely functional data structures and\n",
    "therefore should enable co-variant subtyping**. However, there is a a way to solve the\n",
    "problem by using a polymorphic method with a [lower type parameter bound](lower-type-bounds.ipynb)."
   ]
  },
  {
   "cell_type": "markdown",
   "metadata": {},
   "source": [
    "<p style=\"float: left;\"><a href=\"upper-type-bounds.ipynb\" target=\"_blank\">Previous</a></p>\n",
    "<p style=\"float: right;\"><a href=\"lower-type-bounds.ipynb\" target=\"_blank\">Next</a></p>\n",
    "<p style=\"text-align:center;\">Tour of Scala</p>\n",
    "<div style=\"clear: both;\"></div>"
   ]
  }
 ],
 "metadata": {
  "kernelspec": {
   "display_name": "Scala 2.13",
   "language": "scala",
   "name": "scala213"
  },
  "language_info": {
   "codemirror_mode": "text/x-scala",
   "file_extension": ".sc",
   "mimetype": "text/x-scala",
   "name": "scala",
   "nbconvert_exporter": "script",
   "version": "2.13.14"
  }
 },
 "nbformat": 4,
 "nbformat_minor": 4
}
