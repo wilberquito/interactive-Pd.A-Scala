{
 "cells": [
  {
   "cell_type": "markdown",
   "metadata": {},
   "source": [
    "<p style=\"float: left;\"><a href=\"case-classes.ipynb\" target=\"_blank\">Previous</a></p>\n",
    "<p style=\"float: right;\"><a href=\"p2-exercises.ipynb\" target=\"_blank\">Next</a></p>\n",
    "<p style=\"text-align:center;\">Tour of Scala</p>\n",
    "<div style=\"clear: both;\"></div>"
   ]
  },
  {
   "cell_type": "markdown",
   "metadata": {},
   "source": [
    "# Pattern matching"
   ]
  },
  {
   "cell_type": "markdown",
   "metadata": {},
   "source": [
    "```scala\n",
    "import scala.util.Random\n",
    "\n",
    "val x: Int = Random.nextInt(10)\n",
    "\n",
    "val txt = x match\n",
    "              case 0 => \"zero\"\n",
    "              case 1 => \"one\"\n",
    "              case 2 => \"two\"\n",
    "              case _ => \"many\"\n",
    "              \n",
    "```\n",
    "\n",
    "\n",
    "- **Pattern matching is a mechanism for checking a value against a pattern**. \n",
    "\n",
    "- A successful match can also deconstruct a value into its constituent parts. \n",
    "\n",
    "- It is a more powerful version of the `switch` statement in `Java` and **it can be used in place of a series of if/else statements.**\n",
    "\n",
    "- The _catch all_ `_` case is a ward for any other match.\n"
   ]
  },
  {
   "cell_type": "markdown",
   "metadata": {},
   "source": [
    "## Matching on case classes"
   ]
  },
  {
   "cell_type": "markdown",
   "metadata": {},
   "source": [
    "- Case classes are especially useful for pattern matching.\n",
    "\n",
    "    ```scala\n",
    "    abstract class Notification\n",
    "\n",
    "    case class Email(sender: String, title: String, body: String) extends Notification\n",
    "    case class SMS(caller: String, message: String) extends Notification\n",
    "    case class VoiceRecording(contactName: String, link: String) extends Notification\n",
    "    \n",
    "    ```\n",
    "\n",
    "    <br/>\n",
    "\n",
    "- We can do pattern matching over a `notification` on case classes or algebraic data type:\n",
    "\n",
    "    ```scala\n",
    "    def showNotification(notification: Notification): String =\n",
    "      notification match\n",
    "        case Email(email, title, _) =>\n",
    "          s\"You got an email from $email with title: $title\"\n",
    "        case SMS(number, message) =>\n",
    "          s\"You got an SMS from $number! Message: $message\"\n",
    "    ```\n",
    "\n",
    "Question...🖐️\n",
    "\n",
    "- _What append if I have to show a `VoiceRecording` notification?_"
   ]
  },
  {
   "cell_type": "markdown",
   "metadata": {},
   "source": [
    "## Pattern guards"
   ]
  },
  {
   "cell_type": "markdown",
   "metadata": {
    "attributes": {
     "classes": [
      "tut"
     ],
     "id": ""
    }
   },
   "source": [
    "- Pattern guards are simply boolean expressions which are used to make cases more specific.\n",
    "\n",
    "    ```scala\n",
    "    def showImportantNotification(notification: Notification, importantPeopleInfo: Seq[String]): String =\n",
    "      notification match\n",
    "        case Email(email, _, _) if importantPeopleInfo.contains(email) =>\n",
    "          \"You got an email from special someone!\"\n",
    "        case SMS(number, _) if importantPeopleInfo.contains(number) =>\n",
    "          \"You got an SMS from special someone!\"\n",
    "        case other =>\n",
    "          showNotification(other) // nothing special, delegate to our original showNotification function\n",
    "    ```\n",
    "    \n",
    "    <br/>\n",
    "    \n",
    "    - In the `case Email(email, _, _) if importantPeopleInfo.contains(email)`, the pattern is matched only if the `email` is in the list of important people.\n"
   ]
  },
  {
   "cell_type": "markdown",
   "metadata": {},
   "source": [
    "## Matching on type only"
   ]
  },
  {
   "cell_type": "markdown",
   "metadata": {
    "attributes": {
     "classes": [
      "tut"
     ],
     "id": ""
    }
   },
   "source": [
    "- You can match on the type like so:\n",
    "    \n",
    "    ```scala\n",
    "    abstract class Device\n",
    "    \n",
    "    case class Phone(model: String) extends Device\n",
    "      def screenOff = \"Turning screen off\"\n",
    "    \n",
    "    case class Computer(model: String) extends Device\n",
    "      def screenSaverOn = \"Turning screen saver on...\"\n",
    "    \n",
    "    def goIdle(device: Device) = device match\n",
    "      case p: Phone => p.screenOff\n",
    "      case c: Computer => c.screenSaverOn\n",
    "    \n",
    "    ```"
   ]
  },
  {
   "cell_type": "markdown",
   "metadata": {},
   "source": [
    "<p style=\"float: left;\"><a href=\"case-classes.ipynb\" target=\"_blank\">Previous</a></p>\n",
    "<p style=\"float: right;\"><a href=\"p2-exercises.ipynb\" target=\"_blank\">Next</a></p>\n",
    "<p style=\"text-align:center;\">Tour of Scala</p>\n",
    "<div style=\"clear: both;\"></div>"
   ]
  }
 ],
 "metadata": {
  "kernelspec": {
   "display_name": "Scala 3.6",
   "language": "scala",
   "name": "scala36"
  },
  "language_info": {
   "codemirror_mode": "text/x-scala",
   "file_extension": ".sc",
   "mimetype": "text/x-scala",
   "name": "scala",
   "nbconvert_exporter": "script",
   "version": "2.13.16"
  }
 },
 "nbformat": 4,
 "nbformat_minor": 4
}
