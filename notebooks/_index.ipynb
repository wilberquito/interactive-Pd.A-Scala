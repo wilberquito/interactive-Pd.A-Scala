{
 "cells": [
  {
   "cell_type": "markdown",
   "metadata": {},
   "source": [
    "# [Functional and OOP with SCALA](notebooks/_index.ipynb)\n",
    "\n",
    "The SCALA content will be available through Jupyter Notebooks and some GitHub templates.\n",
    "\n",
    "If you find any mistakes, please feel free to open an issue on the [**original repository**](https://github.com/wilberquito/interactive-Pd.A-SCALA/issues).\n",
    "\n",
    "## Templates for working with SCALA\n",
    "\n",
    "- **Exercisis template**\n",
    "\t\n",
    "\t> You can find the template [here](https://github.com/wilberquito/sbt-template)\n",
    "\t\n",
    "\tWe provide a simple project template to help you avoid issues when creating a SCALA project.\n",
    "\t\n",
    "\tThe template uses [**simple build tool (sbt)**](https://www.scala-sbt.org) as the package manager. We will use it also for building and compiling engine tool for SCALA.\n",
    "\t  \n",
    "\tWe **recommend** using the [**sbt-template**](https://github.com/wilberquito/sbt-template) because it is configured with the version of SCALA that we will use: `SCALA 3.6`.\n",
    "\n",
    "- **Actor's template**\n",
    "\n",
    "\t> You can find the template [here](https://github.com/wilberquito/typed-actors-nightmare)\n",
    "\t\n",
    "\tThis template is a fork of the “Exercises template.” It is also configured with `SCALA 3.6` and includes the `AKKA actors` package.\n",
    "\n",
    "## What do you need to follow along?\n",
    "\n",
    "In our setup, you will need the following tools:\n",
    "\n",
    "- [**IntelliJ IDEA**](https://www.jetbrains.com/idea/download) (Community Edition is sufficient)\n",
    "    - Java Development Kit version 23 (JDK 23)\n",
    "    - SCALA plugin\n",
    " \n",
    "The `JDK 23` and the `SCALA plugin` are installed through `IntelliJ IDEA`.\n",
    "\n",
    "<span style=\"color: green\">Make sure everything is running smoothly for practice purposes.</span>"
   ]
  },
  {
   "cell_type": "markdown",
   "metadata": {},
   "source": [
    "## Notebooks in this repository"
   ]
  },
  {
   "cell_type": "markdown",
   "metadata": {},
   "source": [
    "### P1\n",
    "* [Introduction](tour-of-scala.ipynb)\n",
    "* [Developing tools](developing-tools.ipynb)\n",
    "* [Scala first example](first-example.ipynb)\n",
    "* [Basics](basics.ipynb)\n",
    "* [Unified types](unified-types.ipynb)\n",
    "* [Type inference](type-inference.ipynb)\n",
    "* Expressions and simple functions\n",
    "    * [Evaluation order](by-name-parameters.ipynb)\n",
    "    * [Default parameter values](default-parameter-values.ipynb)\n",
    "    * [Named arguments](named-arguments.ipynb)\n",
    "    * [About if/else](about-if-else.ipynb)\n",
    "* Functions\n",
    "    * [Tail recursion](tail-recursion.ipynb)\n",
    "    * [Nested methods](nested-methods.ipynb)\n",
    "    * [Higher order functions](higher-order-functions.ipynb)\n",
    "    * [Currying](currying.ipynb)\n",
    "* [Exercises](p1-exercises.ipynb)"
   ]
  },
  {
   "cell_type": "markdown",
   "metadata": {},
   "source": [
    "### P2\n",
    "\n",
    "* [Case classes](case-classes.ipynb)\n",
    "* [Pattern matching](pattern-matching.ipynb)\n",
    "* [Classes](classes.ipynb)\n",
    "* [Objects](singleton-objects.ipynb)\n",
    "* [Traits](traits.ipynb)\n",
    "* [Generic classes](generic-classes.ipynb)\n",
    "* [Polymorphic methods](polymorphic-methods.ipynb)\n",
    "* [Upper type bounds](upper-type-bounds.ipynb)\n",
    "* [Variances](variances.ipynb)\n",
    "* [Lower type bounds](lower-type-bounds.ipynb)\n",
    "* [Exercises](p2-exercises.ipynb)"
   ]
  },
  {
   "cell_type": "markdown",
   "metadata": {},
   "source": [
    "### P3\n",
    "\n",
    "* [Tuples](tuples.ipynb)\n",
    "* [List](list.ipynb)\n",
    "* [List - first order methods](list-first-order-methods.ipynb)\n",
    "* [Merge Sort](merge-sort.ipynb)\n",
    "* [List - higher order methods](list-higher-order-methods.ipynb)\n",
    "* [For-Comprehensions](for-comprehensions.ipynb)\n",
    "* [Exercises](p3-exercises.ipynb)\n",
    "* Final assignment (1/2)"
   ]
  },
  {
   "cell_type": "markdown",
   "metadata": {},
   "source": [
    "### P4\n",
    "\n",
    "* [Introduction to Actor model and AKKA](actor-model.ipynb)\n",
    "* [Exercises](p4-exercises.ipynb)"
   ]
  },
  {
   "cell_type": "markdown",
   "metadata": {},
   "source": [
    "### P5\n",
    "\n",
    "* Introduction to MapReduce\n",
    "* Final assignment (2/2)"
   ]
  }
 ],
 "metadata": {
  "kernelspec": {
   "display_name": "Scala 3.6",
   "language": "scala",
   "name": "scala36"
  },
  "language_info": {
   "codemirror_mode": "text/x-scala",
   "file_extension": ".sc",
   "mimetype": "text/x-scala",
   "name": "scala",
   "nbconvert_exporter": "script",
   "version": "2.13.16"
  }
 },
 "nbformat": 4,
 "nbformat_minor": 4
}
