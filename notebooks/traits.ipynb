{
 "cells": [
  {
   "cell_type": "markdown",
   "metadata": {},
   "source": [
    "<p style=\"float: left;\"><a href=\"singleton-objects.ipynb\" target=\"_blank\">Previous</a></p>\n",
    "<p style=\"float: right;\"><a href=\"generic-classes.ipynb\" target=\"_blank\">Next</a></p>\n",
    "<p style=\"text-align:center;\">Tour of Scala</p>\n",
    "<div style=\"clear: both;\"></div>"
   ]
  },
  {
   "cell_type": "markdown",
   "metadata": {},
   "source": [
    "# Abstract classes and Traits"
   ]
  },
  {
   "cell_type": "markdown",
   "metadata": {},
   "source": [
    "In Scala, we can achieve abstraction by using abstract classes and traits."
   ]
  },
  {
   "cell_type": "markdown",
   "metadata": {},
   "source": [
    "## Abstract classes"
   ]
  },
  {
   "cell_type": "markdown",
   "metadata": {},
   "source": [
    " ```scala\n",
    "abstract class Pet(name: String):\n",
    "  def greeting: String\n",
    "  def age: Int\n",
    "\n",
    "  override def toString = s\"My name is $name, I say $greeting, and I’m $age years old\" // String interpolation\n",
    "\n",
    "class Dog(name: String, _age: Int) extends Pet(name):\n",
    "    def greeting = \"Woof\"\n",
    "    def age = _age\n",
    "\n",
    "val d = new Dog(\"Fido\", 3)\n",
    "\n",
    "println(d) // My name is Fido, I say Woof, and I’m 3 years old\n",
    "\n",
    "```\n",
    "\n",
    "- When you want to write a class, but you know it will have abstract members, you can either create a trait or an abstract class.\n",
    "\n",
    "- **In most situations you’ll use traits, but historically there have been two situations where it’s better to use an abstract class than a trait.**\n",
    "    \n",
    "    - You want to create a base class that takes constructor arguments (<font color='red'>**not anymore in `Scala 3`**</font>)\n",
    "\n",
    "    - The code will be called from Java code."
   ]
  },
  {
   "cell_type": "markdown",
   "metadata": {},
   "source": [
    "## Traits"
   ]
  },
  {
   "cell_type": "markdown",
   "metadata": {},
   "source": [
    "```scala\n",
    "trait HasLegs(nlegs: Int = 0):\n",
    "  def numLegs: Int = nlegs\n",
    "  def walk(): Unit\n",
    "  def stop() = println(\"Stopped walking\")\n",
    "\n",
    "trait HasTail:\n",
    "  def tailColor: String\n",
    "  def wagTail() = println(\"Tail is wagging\")\n",
    "  def stopTail() = println(\"Tail is stopped\")\n",
    "\n",
    "class IrishSetter(name: String, nlegs: Int) extends HasLegs(nlegs) with HasTail: // Multiple trait subtyping\n",
    "  val tailColor = \"Red\"\n",
    "  def walk() = println(s\"I’m walking with my ${numLegs} legs\")\n",
    "  override def stop() = println(\"Stopped walking for 5s\") // Overriding here is mandatory because `stop` is concrete in `HasLegs`\n",
    "  override def toString = s\"$name is a Dog\"\n",
    "\n",
    "val pelusa = new IrishSetter(\"Pelusa\", 4)\n",
    "\n",
    "pelusa.walk()     // I’m walking with my 4 legs\n",
    "pelusa.wagTail()  // Tail is wagging\n",
    "pelusa.stop()     // Stopped walking for 5s\n",
    "pelusa.stopTail() // Tail is stopped\n",
    "\n",
    "```\n",
    "\n",
    "- Traits are used to share interfaces and fields between classes. \n",
    "\n",
    "- They might contain:\n",
    "\n",
    "    - Abstract methods and fields\n",
    "\n",
    "    - Concrete methods and fields\n",
    " \n",
    "\n",
    "- Use the `extends` keyword to extend a trait.\n",
    "\n",
    "- Implement all abstract members and use the `override` keyword if the trait implemented the behaviour.\n",
    "\n",
    "- If you need to extend from more than one trait, use the keyword `with`.\n"
   ]
  },
  {
   "cell_type": "markdown",
   "metadata": {},
   "source": [
    "- **Traits are especially powerful when defined with type parameters and abstract methods.**\n",
    "\n",
    "    ```scala\n",
    "    trait Iterator[A] {\n",
    "      def hasNext: Boolean\n",
    "      def next(): A\n",
    "    }\n",
    "    ```\n",
    "\n",
    "    <br/>\n",
    "\n",
    "    ```scala\n",
    "    trait Iterator[A]:\n",
    "      def hasNext: Boolean\n",
    "      def next(): A\n",
    "    \n",
    "    class IntIterator(to: Int) extends Iterator[Int]:\n",
    "      private var current = 0\n",
    "      override def hasNext: Boolean = current < to\n",
    "      override def next(): Int =\n",
    "        if (hasNext) then\n",
    "          val t = current\n",
    "          current += 1\n",
    "          t\n",
    "        else 0\n",
    "     \n",
    "    \n",
    "    val iterator = new IntIterator(10)\n",
    "    \n",
    "    iterator.next()  // returns 0\n",
    "    iterator.next()  // returns 1\n",
    "\n",
    "    ```"
   ]
  },
  {
   "cell_type": "markdown",
   "metadata": {},
   "source": [
    "## Subtyping"
   ]
  },
  {
   "cell_type": "markdown",
   "metadata": {},
   "source": [
    "```scala\n",
    "import scala.collection.mutable.ArrayBuffer\n",
    "\n",
    "trait Pet:\n",
    "  val name: String\n",
    "\n",
    "class Cat(val name: String) extends Pet // Syntactically you are defining the field `name`\n",
    "class Dog(val name: String) extends Pet\n",
    "\n",
    "val dog = new Dog(\"Harry\")\n",
    "val cat = new Cat(\"Sally\")\n",
    "\n",
    "val animals = ArrayBuffer.empty[Pet]\n",
    "animals.append(dog)\n",
    "animals.append(cat)\n",
    "\n",
    "animals.foreach(pet => println(pet.name))  // Prints Harry Sally\n",
    "\n",
    "```\n",
    "\n",
    "- Where a given behaviour is required, **a subtype of the trait can be used instead**.\n",
    "\n",
    "- Traits are more flexible to compose\n",
    "  \n",
    "- **You can mix multiple traits, but only extend from one class**.\n",
    "  \n",
    "- <span style=\"color:red\">**The rule of thumb is to use classes whenever you want to create instances of a particular type, and traits when you want to decompose and reuse behaviour.</span>**\n"
   ]
  },
  {
   "cell_type": "markdown",
   "metadata": {},
   "source": [
    "<p style=\"float: left;\"><a href=\"singleton-objects.ipynb\" target=\"_blank\">Previous</a></p>\n",
    "<p style=\"float: right;\"><a href=\"generic-classes.ipynb\" target=\"_blank\">Next</a></p>\n",
    "<p style=\"text-align:center;\">Tour of Scala</p>\n",
    "<div style=\"clear: both;\"></div>"
   ]
  }
 ],
 "metadata": {
  "kernelspec": {
   "display_name": "Scala 3.6",
   "language": "scala",
   "name": "scala36"
  },
  "language_info": {
   "codemirror_mode": "text/x-scala",
   "file_extension": ".sc",
   "mimetype": "text/x-scala",
   "name": "scala",
   "nbconvert_exporter": "script",
   "version": "2.13.16"
  }
 },
 "nbformat": 4,
 "nbformat_minor": 4
}
