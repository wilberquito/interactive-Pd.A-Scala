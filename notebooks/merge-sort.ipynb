{
 "cells": [
  {
   "cell_type": "markdown",
   "id": "5308ca46-7a12-4aaf-8b80-b50ef4ab189f",
   "metadata": {},
   "source": [
    "# Merge sort"
   ]
  },
  {
   "cell_type": "markdown",
   "id": "4d50cc33-c50f-43c6-9bdb-ef45bdc3cd63",
   "metadata": {},
   "source": [
    "The previous `isort` algorithm is horrible talking about the time complexity. \n",
    "There is a very well know algorithm based on divide an conquer called `merge sort`.\n",
    "\n",
    "```scala\n",
    "def msort[A](less: (A, A) => Boolean)(xs: List[A]): List[A] = {\n",
    "    def merge(xs1: List[A], xs2: List[A]): List[A] =\n",
    "        if (xs1.isEmpty) xs2\n",
    "        else if (xs2.isEmpty) xs1\n",
    "        else if (less(xs1.head, xs2.head)) xs1.head :: merge(xs1.tail, xs2)\n",
    "        else xs2.head :: merge(xs1, xs2.tail)\n",
    "    val n = xs.length / 2\n",
    "    if (n == 0) xs // an element\n",
    "    else merge(msort(less)(xs take n), msort(less)(xs drop n))\n",
    "}\n",
    "```\n",
    "\n",
    "This algorithm is a $O(Nlog(N))$ time complexity \n",
    "on worst case scenario. \n",
    "\n",
    "Here is why:\n",
    "\n",
    "1) $N$ is the length of the list,\n",
    "2) there are $O(log(N))$ calls till the empty list,\n",
    "3) splitting the list in 2 and joining it takes $O(N)$,\n",
    "4) so putting it all toguetter you have $log(N)$ calls of $O(N)$ complexity, with a resulting $O(Nlog(N))$ time complexity algorithm."
   ]
  }
 ],
 "metadata": {
  "kernelspec": {
   "display_name": "Scala 2.13",
   "language": "scala",
   "name": "scala213"
  },
  "language_info": {
   "codemirror_mode": "text/x-scala",
   "file_extension": ".sc",
   "mimetype": "text/x-scala",
   "name": "scala",
   "nbconvert_exporter": "script",
   "version": "2.13.14"
  }
 },
 "nbformat": 4,
 "nbformat_minor": 5
}
