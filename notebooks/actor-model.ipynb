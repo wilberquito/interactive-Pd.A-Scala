{
 "cells": [
  {
   "cell_type": "markdown",
   "id": "2cb6d4ad-5902-43c5-9100-7dcb2b6b46ee",
   "metadata": {},
   "source": [
    "<p style=\"float: left;\"><a href=\"_index.ipynb\" target=\"_blank\">Previous</a></p>\n",
    "<p style=\"float: right;\"><a href=\"p4-exercises.ipynb\" target=\"_blank\">Next</a></p>\n",
    "<p style=\"text-align:center;\">Tour of Scala</p>\n",
    "<div style=\"clear: both;\"></div>"
   ]
  },
  {
   "cell_type": "markdown",
   "id": "d1de0514-61e0-4016-ac95-7a7f69285edc",
   "metadata": {},
   "source": [
    "# Actor model"
   ]
  },
  {
   "cell_type": "markdown",
   "id": "14ead4e6-4aaa-4282-a5cb-6b2783db9575",
   "metadata": {},
   "source": [
    "The **actor model** is a mathematical framework for managing parallel computation in high-performance networks.\n",
    "\n",
    "It specifically tackles challenges such as:\n",
    "\n",
    "* Encapsulation,\n",
    "* The illusion of a call stack.\n",
    "\n",
    "These challenges arise because **traditional programming assumptions no longer align with the realities of modern multi-threaded, multi-CPU systems.**"
   ]
  },
  {
   "cell_type": "markdown",
   "id": "d3aeb3c9-20ae-4378-a68c-002f30bc40a2",
   "metadata": {},
   "source": [
    "## The Problem of distributed domputation and object-oriented programming (OOP)"
   ]
  },
  {
   "cell_type": "markdown",
   "id": "5693bdfd-1626-4341-924d-afbbf31e0218",
   "metadata": {},
   "source": [
    "- **One of the OPP core pillars  is _encapsulation_.**\n",
    "  \n",
    "- Encapsulation dictates that **the internal data of an object is not accessible directly from the outside**; it can only be modified by invoking a set of curated methods. \n",
    "\n",
    "- The object is responsible for exposing safe operations that protect the invariant nature of its encapsulated data.\n",
    "\n",
    "    ![](https://getakka.net/images/seq_chart.png)\n",
    "    _Runtime behaviour. Interactions of method calls._\n",
    "\n",
    "    - **A _thread_ executes all the method's calls, and the enforcement of invariants occurs on the same thread**\n",
    "    from which the method was called.\n",
    "    \n",
    "        ![](https://getakka.net/images/seq_chart_thread.png)\n",
    "        _Executions accurs on the same thread._\n",
    "\n",
    "    - **In multiple thread system, the invariance might not be respected.**\n",
    "\n",
    "      ![](https://doc.akka.io/libraries/akka-core/current/typed/guide/diagrams/seq_chart_multi_thread.png)\n",
    "        _Method's executions in a multi-thred system._\n",
    "\n",
    "        - **The encapsulation model of objects does not guarantee anything about what happens where two threads enter the same method**.\n",
    "                    \n",
    "        - **The problem appears because objects share mutable data between them (data raise) and <span style=\"color: red\">you are not suppose to abstract over data raises**.</span>\n",
    "\n",
    "        - Instructions of the two invocations can be interleaved in arbitrary ways which eliminate **any hope for keeping the invariants intact without some type of coordination.**\n",
    "\n",
    "        - A common approach to solving this problem is to add a lock around these methods.\n",
    "\n",
    "            - Locks are very costly on modern CPU architectures, requiring heavy-lifting from the operating system to suspend the thread and restore it later.\n",
    "\n",
    "            - The caller thread is now blocked, so it cannot do any other meaningful work.\n",
    "    \n",
    "            - Locks introduce a new menace: deadlocks.\n",
    "\n",
    "            - When it comes to coordinating across multiple machines, the only alternative is distributed locks. <span style=\"color:red\">**Distributed locks are several magnitudes less efficient than local locks**. </span>"
   ]
  },
  {
   "cell_type": "markdown",
   "id": "e57c558e-ffb7-4ef2-895e-5dd691837741",
   "metadata": {},
   "source": [
    "## Call stacks and tasks delegation"
   ]
  },
  {
   "cell_type": "markdown",
   "id": "235dd298-fbef-4eb9-9b81-3b8e55e9b743",
   "metadata": {},
   "source": [
    "- **A call stack is a stack data structure that stores information about the active subroutines of a computer program.**\n",
    "      \n",
    "- Call stacks seems to be a good way to operate between threds.\n",
    "\n",
    "\n",
    "- **They don’t handle asynchronous operations well because they don’t cross thread boundaries <span style=\"color:red\">(isolated)</span>**\n",
    "\n",
    "    - **Completion notification**: How does the \"caller\" thread know the task is complete in the \"worker\" thread?\n",
    " \n",
    "    - **Exception handling**: If an error occurs, the exception goes to the worker’s handler, bypassing the caller. Without a direct way to notify the caller.\n",
    " \n",
    "    - Messages can be lost. This leaves the system without a way to recover the lost task, even in local (non-networked) communication.\n",
    "         \n",
    "      ![](https://getakka.net/images/exception_prop.png)\n",
    "\n",
    "-  <span style=\"color:red\">Concurrent systems must handle service faults and provide recovery mechanisms.</span>\n"
   ]
  },
  {
   "cell_type": "markdown",
   "id": "9fc9c4e9-17b9-46d9-9bfe-bf3b6b4ac726",
   "metadata": {},
   "source": [
    "## Actors for distributed systems"
   ]
  },
  {
   "cell_type": "markdown",
   "id": "30033c9d-db5e-41e9-88ae-06eceb307177",
   "metadata": {},
   "source": [
    "### What is an actor?"
   ]
  },
  {
   "cell_type": "markdown",
   "id": "c55f1e5f-193b-4a05-9ec5-bf575bc6fffb",
   "metadata": {},
   "source": [
    "- An actor as the basic **building block of concurrent computation.**\n",
    "  \n",
    "- **It encapsulates computation and holds its own private state**\n",
    "  \n",
    "- **Actors communicates with other actors solely by passing asynchronous messages.**\n",
    "  \n",
    "- **Actors have a mailbox where messages arrive and are processed at most one at a time** in the order they are received.\n",
    "  \n",
    "- **How an actor responds / reacts to a message essentially defines its behavior.**\n",
    "\n",
    "- Essenciatily, an actor can:\n",
    "  \n",
    "    1) Send messages to other actors,\n",
    "       \n",
    "    2) Respond to received messages,\n",
    "       \n",
    "    3) Create new actors.\n",
    "\n",
    "\n",
    "![](https://getakka.net/images/serialized_timeline_invariants.png) _Exemple of asynchronous messages between actors_"
   ]
  },
  {
   "cell_type": "markdown",
   "id": "3de5fc0f-28d5-41e2-b370-558347b6b08b",
   "metadata": {},
   "source": [
    "### Actor's hierarchical structure"
   ]
  },
  {
   "cell_type": "markdown",
   "id": "66ba2ec5-31e4-48bc-b0aa-87c836f91f39",
   "metadata": {},
   "source": [
    "- **Actors are hierarchy organized.**\n",
    "\n",
    "    - An actor responsible for a particular function might choose to break down into smaller manageable segments.\n",
    "\n",
    "    - Creating child actors, over which it maintains control.\n",
    " \n",
    "- **Each actor has one supervisor, the actor that initiated its creation.**\n",
    "  \n",
    "- **When an actor is unable to address a certain situation, it sends a failure message to its supervisor**, requesting assistance.\n",
    "\n",
    "- **This recursive setup enables failure handling at the appropriate level in the hierarchy.**\n",
    "\n",
    "![](https://getakka.net/images/actor_tree_supervision.png) _Actor's hierarchy. Failure handling_"
   ]
  },
  {
   "cell_type": "markdown",
   "id": "27ad7c34-7256-4abe-b36f-c24ea8c58ad2",
   "metadata": {},
   "source": [
    "## Actors & SCALA"
   ]
  },
  {
   "cell_type": "code",
   "execution_count": null,
   "id": "708a625f-dffb-44b4-be49-967b09717f24",
   "metadata": {},
   "outputs": [],
   "source": [
    "import $ivy.`com.typesafe.akka::akka-actor:2.6.10`"
   ]
  },
  {
   "cell_type": "code",
   "execution_count": 1,
   "id": "82c32882-f225-4b92-85a9-825e57803f42",
   "metadata": {},
   "outputs": [
    {
     "data": {
      "text/plain": [
       "\u001b[36mres1\u001b[39m: \u001b[32mString\u001b[39m = \u001b[32m\"version 2.13.16\"\u001b[39m"
      ]
     },
     "execution_count": 1,
     "metadata": {},
     "output_type": "execute_result"
    }
   ],
   "source": [
    "scala.util.Properties.versionString"
   ]
  },
  {
   "cell_type": "markdown",
   "id": "d30107dd-c1a9-4337-ae79-8db13118738d",
   "metadata": {},
   "source": [
    "\n",
    "- We will use the [Akka actors](https://doc.akka.io/libraries/akka-core/current/typed/actors.html#akka-actors) of the [Akka platform](https://github.com/akka/akka).\n",
    "\n",
    "- Akka’s actor model provides an abstraction that simplifies writing correct concurrent, parallel, and distributed systems.\n",
    "\n",
    "- The Akka platform offers:\n",
    "\n",
    "  - **Akka actors** – toolkit for building concurrent and distributed applications\n",
    "    \n",
    "  - **Concurrency** – safe and efficient message-driven execution\n",
    "    \n",
    "  - **Scalability** – scale locally with threads or across nodes with remote actors\n",
    "    \n",
    "  - **Fault tolerance** – supervision and self-healing mechanisms\n",
    "    \n",
    "  - **Unified programming model** – same abstraction for local and distributed actors\n",
    "    \n",
    "  - **Integrated runtime management** – monitoring and deployment tools\n",
    "    \n",
    "  - **Open-source** – community-driven and widely adopted\n",
    " \n",
    "- <span style=\"color:red\">**We will use the object-oriented style.**</span> **Where a concrete class for the actor behavior is defined and mutable state is kept inside of it as fields.**"
   ]
  },
  {
   "cell_type": "markdown",
   "id": "7a319f2b-b5db-46d5-92ac-1a00c3ca62e7",
   "metadata": {},
   "source": [
    "### Defining an actor"
   ]
  },
  {
   "cell_type": "markdown",
   "id": "6b82f180-49ea-42be-863d-33b1354fa4a4",
   "metadata": {},
   "source": [
    "- You can create an actor extending a class from the `Actor` class\n",
    "\n",
    "    ```scala\n",
    "    class Master extends Actor {\n",
    "        . . .\n",
    "    }\n",
    "    \n",
    "    ```\n",
    "\n",
    "    <br/>\n",
    "\n",
    "- The `Akka Actor` has a key lifecycle hooks like `preStart`, `postStop`, `preRestart`, and `postRestart` that can be overrided.\n",
    "\n",
    "- The lifecycle of a child actor is tied to the parent – **a child can stop itself or be stopped at any time but it can never outlive its parent.**\n",
    "\n",
    "- Each actor must define the partial method `receive`, it defines the behaviour of the actor."
   ]
  },
  {
   "cell_type": "markdown",
   "id": "b472af97-0440-48f8-aa96-5ebff95ade44",
   "metadata": {},
   "source": [
    "### Context and actor factory"
   ]
  },
  {
   "cell_type": "markdown",
   "id": "2d7f1758-1697-41ec-811f-5b690c97edc4",
   "metadata": {},
   "source": [
    "- **Actor context** - the view of the actor cell from the actor.\n",
    "\n",
    "  - Exposes contextual information for the actor and the current message.\n",
    " \n",
    "    ```scala\n",
    "    context.self // Self reference of the actor\n",
    "    \n",
    "    ```\n",
    "    \n",
    "    <br/>\n",
    "    \n",
    "  - Let us create other actors:\n",
    "\n",
    "    ```scala\n",
    "    context.actorOf(Props[MyActor]) // : ActorRef\n",
    "    context.actorOf(Props(classOf[MyActor], arg1, arg2), \"name\") // : ActorRef\n",
    "    \n",
    "    ```\n",
    "\n",
    "<br/>\n",
    "\n",
    "- **Actor system** - a hierarchical group of actors which share common configuration.\n",
    "\n",
    "    ```scala\n",
    "    system.actorOf(Props[MyActor], \"name\") // : ActorSystem\n",
    "    system.actorOf(Props(classOf[MyActor], arg1, arg2), \"name\") // : ActorSystem\n",
    "\n",
    "    ```"
   ]
  },
  {
   "cell_type": "markdown",
   "id": "c10e468d-db7f-48cd-b9da-517b71ad2f11",
   "metadata": {},
   "source": [
    "\n"
   ]
  },
  {
   "cell_type": "markdown",
   "id": "1e545747-e911-44b1-b941-d367ff908930",
   "metadata": {},
   "source": [
    "### Receiving messages"
   ]
  },
  {
   "cell_type": "markdown",
   "id": "a845fa2c-36f3-47b6-8879-2a8c38ba1d1c",
   "metadata": {},
   "source": [
    "- In classic Akka, **each actor’s behavior is defined by the partial function returned by the method `receive`.**\n",
    "  \n",
    "    ```scala\n",
    "    class Talker extends Actor {\n",
    "\n",
    "        . . .\n",
    "        \n",
    "        def receive: Receive = {\n",
    "            case Greet(name)          => greet(name)\n",
    "            case Praise(name)         => praise(name)\n",
    "            case Celebrate(name, age) => celebrate(name, age)\n",
    "        }\n",
    "    \n",
    "        . . .\n",
    "    }\n",
    "    \n",
    "    ```"
   ]
  },
  {
   "cell_type": "markdown",
   "id": "7dffffef-9133-4965-af6f-a5d8b8ef7978",
   "metadata": {},
   "source": [
    "### Sending messages"
   ]
  },
  {
   "cell_type": "markdown",
   "id": "c19ab3e3-8e09-4e43-b093-957088db8f98",
   "metadata": {},
   "source": [
    "- Messages contain objects of any type, but they must be immutable.\n",
    "\n",
    "- `case class` objects *fit like a glove* for messaging purposes.\n",
    "\n",
    "  - They are immutable.\n",
    "    \n",
    "  - They have semantic meaning.\n",
    "\n",
    "- Types of messages:\n",
    "\n",
    "    - **tell (!)**: a \"fire-and-forget\" approach, where **a message is sent asynchronously without waiting for a response.**\n",
    "      \n",
    "    - **ask (?)**: sends a message asynchronously but returns a `Future` representing a possible reply from the receiver.\n",
    "     \n",
    "        - You can \"subscribe\" to the future, allowing the thread to remain idle until the result is ready <span style=\"color:red\">**(We will see this latter)**</span>\n",
    "        \n",
    "        <br/>\n",
    "  \n",
    "    - The sender can include its own `ActorRef`, allowing the receiving actor to respond directly to the sender.\n",
    "\n",
    "- **The only way to communicate with an actor is through messaging.** <span style=\"color:red\">**(You don’t call methods on actors)**</span> \n",
    "\n",
    "Example:\n",
    "\n",
    "```scala\n",
    "case class Greet(name: String, ar: ActorRef)\n",
    "case class Praise(name: String)\n",
    "case class Celebrate(name: String, age: Int)\n",
    "\n",
    "class Master extends Actor {\n",
    "    val talker: ActorRef = context.actorOf(Props(new Talker), \"talker\") // Actor, creates another actor to communicate with\n",
    "    \n",
    "    override def preStart(): Unit =  {\n",
    "        context.watch(talker)\n",
    "        talker ! Greet(\"Huey\", self) // Sending self actorRef\n",
    "        talker ! Praise(\"Dewey\")\n",
    "        talker ! Celebrate(\"Louie\", 16)\n",
    "    }\n",
    "\n",
    "    . . .\n",
    "}\n",
    "\n",
    "```"
   ]
  },
  {
   "cell_type": "markdown",
   "id": "3c4c58dd-f53a-49d8-80bf-311b42f60cfb",
   "metadata": {},
   "source": [
    "### Demo actors"
   ]
  },
  {
   "cell_type": "markdown",
   "id": "97b56334-0fbc-48d9-b288-0d84a3881321",
   "metadata": {},
   "source": [
    "<span style=\"color:red\">**This example is using Scala 2.13.**</span>"
   ]
  },
  {
   "cell_type": "markdown",
   "id": "149ba311-7752-4f32-801b-1d93e1467ba1",
   "metadata": {},
   "source": [
    "- Installing the `Akka actor` library."
   ]
  },
  {
   "cell_type": "code",
   "execution_count": null,
   "id": "74d60154-df52-445f-b6b5-d3f5ae52746a",
   "metadata": {},
   "outputs": [],
   "source": [
    "import $ivy.`com.typesafe.akka::akka-actor:2.6.10`\n",
    "\n",
    "import akka.actor.{Actor, ActorRef}\n",
    "import akka.actor.{ActorSystem, PoisonPill, Props}\n",
    "import akka.actor.{Actor, ActorRef, ActorSystem, PoisonPill, Props, Terminated}"
   ]
  },
  {
   "cell_type": "markdown",
   "id": "7238799d-79dd-455f-a9d8-2d7d8ff503a7",
   "metadata": {},
   "source": [
    "- Defining the `Talker` actor."
   ]
  },
  {
   "cell_type": "code",
   "execution_count": null,
   "id": "7410c08a-d2c5-45a6-8eb4-57ea359aa184",
   "metadata": {},
   "outputs": [],
   "source": [
    "case class Greet(name: String, ar: ActorRef)\n",
    "case class Praise(name: String)\n",
    "case class Celebrate(name: String, age: Int)\n",
    "\n",
    "class Talker extends Actor {\n",
    "    var nMessages = 0\n",
    "    val limitMessages = 2\n",
    "    \n",
    "    def receive: Receive  = {\n",
    "        case Greet(name, ar)      => greet(name, ar)\n",
    "        case Praise(name)         => praise(name)\n",
    "        case Celebrate(name, age) => celebrate(name, age)\n",
    "    }\n",
    "\n",
    "    def updateMessages(n: Int): Unit = {\n",
    "        nMessages += n\n",
    "        println(s\"> updateMessages: nMessages: $nMessages\")\n",
    "\n",
    "        if (nMessages >= limitMessages)\n",
    "            stopSelf()\n",
    "    }\n",
    "\n",
    "    private def stopSelf(): Unit = {\n",
    "        println(\"> stopSelf: stopping talker actor\")\n",
    "        context.stop(self)\n",
    "    }\n",
    "\n",
    "    def greet(name: String, ar: ActorRef): Unit = {\n",
    "        println(s\"> Greet($name, $ar): Hello $name from ${ar.toString}\" )\n",
    "        updateMessages(1)\n",
    "    }\n",
    "\n",
    "    def praise(name: String): Unit = {\n",
    "        println(s\"> Praise($name): $name, you're amazing\")\n",
    "        updateMessages(1)\n",
    "    }\n",
    "\n",
    "    def celebrate(name: String, age: Int): Unit = {\n",
    "        println(s\"> Celebrate($name, $age): Here's to another $age years, $name\")\n",
    "        updateMessages(1)\n",
    "    }\n",
    "}"
   ]
  },
  {
   "cell_type": "markdown",
   "id": "cd6e2a6e-4bb1-410f-b93d-21c3a0a3815c",
   "metadata": {},
   "source": [
    "- Defining the `Master` actor."
   ]
  },
  {
   "cell_type": "code",
   "execution_count": null,
   "id": "5bddd320-8420-4c2d-92b3-a1d82c84fc47",
   "metadata": {},
   "outputs": [],
   "source": [
    "class Master extends Actor {\n",
    "    val child: ActorRef = context.actorOf(Props(new Talker), \"talker\") // Creates the talker actor...\n",
    "    \n",
    "    override def preStart(): Unit =  {\n",
    "        context.watch(child)                           // Watch talker actor child\n",
    "        talker ! Greet(\"Huey\", self)\n",
    "        talker ! Praise(\"Dewey\")\n",
    "        talker ! Celebrate(\"Louie\", 16) \n",
    "    }\n",
    "\n",
    "    def receive: Receive = {\n",
    "        case Terminated(ref) if ref == child   => {    // Child whatched has been terminated...\n",
    "            println(\"> Terminated(`talker`): talker terminated, finishing system...\")\n",
    "            context.system.terminate()                 // Terminate the system\n",
    "        }\n",
    "    }\n",
    "}"
   ]
  },
  {
   "cell_type": "code",
   "execution_count": null,
   "id": "dfef83ef-467b-42e2-bf58-3d1393bee61e",
   "metadata": {},
   "outputs": [],
   "source": [
    "object Main {\n",
    "    def main(args: Array[String]): Unit = {\n",
    "        val system: ActorSystem = ActorSystem(\"HelloActors\")\n",
    "        val master: ActorRef = system.actorOf(Props(new Master), \"master\")\n",
    "\n",
    "        Thread.sleep(5000)   // This is arbitrary...\n",
    "\n",
    "       // system.terminate() // Do we need this?\n",
    "        println(\"> After sleep...\")\n",
    "    }\n",
    "}"
   ]
  },
  {
   "cell_type": "markdown",
   "id": "13303f8c-e3f6-4b65-9711-d3674552542a",
   "metadata": {},
   "source": [
    "- Executing the program..."
   ]
  },
  {
   "cell_type": "code",
   "execution_count": 73,
   "id": "4fc88140-e4f3-4805-bbb5-0a051fc8a4dc",
   "metadata": {},
   "outputs": [
    {
     "name": "stdout",
     "output_type": "stream",
     "text": [
      "> Greet(Huey, Actor[akka://HelloActors/user/master#1286490416]): Hello Huey from Actor[akka://HelloActors/user/master#1286490416]\n",
      "> updateMessages: nMessages: 1\n",
      "> Praise(Dewey): Dewey, you're amazing\n",
      "> updateMessages: nMessages: 2\n",
      "> stopSelf: stopping talker actor\n",
      "> Terminated(`talker`): talker terminated, finishing system...\n",
      "[INFO] [akkaDeadLetter][09/18/2025 08:52:41.597] [HelloActors-akka.actor.default-dispatcher-7] [akka://HelloActors/user/master/talker] Message [ammonite.$sess.cmd55$Helper$Celebrate] from Actor[akka://HelloActors/user/master#1286490416] to Actor[akka://HelloActors/user/master/talker#629864955] was not delivered. [1] dead letters encountered. If this is not an expected behavior then Actor[akka://HelloActors/user/master/talker#629864955] may have terminated unexpectedly. This logging can be turned off or adjusted with configuration settings 'akka.log-dead-letters' and 'akka.log-dead-letters-during-shutdown'.\n",
      "> After sleep...\n"
     ]
    }
   ],
   "source": [
    "Main.main(Array(\"\"))"
   ]
  },
  {
   "cell_type": "markdown",
   "id": "15e19e46-089f-403b-9a2f-c44cfa5b7814",
   "metadata": {},
   "source": [
    "**NOTES:**\n",
    "\n",
    "- The previous example might be misleading because it ran on a single-threaded container.\n",
    "\n",
    "  - In that case, it looks as if everything happens **step by step** in a nice, predictable order.\n",
    "    \n",
    "  - But in a real multi-threaded system, messages are like **letters arriving at a busy post office**: they may come in a different order than you expect.\n",
    "    \n",
    "  - The key point is that **the order of arrival and execution is not guaranteed**.\n",
    "\n",
    "  - **The atomic one-by-one processis is ensured** though."
   ]
  },
  {
   "cell_type": "markdown",
   "id": "b941eaf5-97d8-4c1a-b930-e4ebe4bd6658",
   "metadata": {},
   "source": [
    "# Activity ✋"
   ]
  },
  {
   "cell_type": "markdown",
   "id": "140efb67-4092-4bc0-b213-ddf35860482f",
   "metadata": {},
   "source": [
    "Let's work witht the repo [actors-nightmare](https://github.com/wilberquito/typed-actors-nightmare)\n",
    "\n",
    "- Open the project in your PC."
   ]
  },
  {
   "cell_type": "markdown",
   "id": "d05c11ab-5508-43aa-b05c-5bdd5f584a6c",
   "metadata": {},
   "source": [
    "<p style=\"float: left;\"><a href=\"_index.ipynb\" target=\"_blank\">Previous</a></p>\n",
    "<p style=\"float: right;\"><a href=\"p4-exercises.ipynb\" target=\"_blank\">Next</a></p>\n",
    "<p style=\"text-align:center;\">Tour of Scala</p>\n",
    "<div style=\"clear: both;\"></div>"
   ]
  }
 ],
 "metadata": {
  "kernelspec": {
   "display_name": "Scala 2.13",
   "language": "scala",
   "name": "scala213"
  },
  "language_info": {
   "codemirror_mode": "text/x-scala",
   "file_extension": ".sc",
   "mimetype": "text/x-scala",
   "name": "scala",
   "nbconvert_exporter": "script",
   "version": "2.13.16"
  }
 },
 "nbformat": 4,
 "nbformat_minor": 5
}
