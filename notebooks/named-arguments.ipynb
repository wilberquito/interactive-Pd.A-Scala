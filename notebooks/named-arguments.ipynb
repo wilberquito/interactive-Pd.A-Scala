{
 "cells": [
  {
   "cell_type": "markdown",
   "metadata": {},
   "source": [
    "<p style=\"float: left;\"><a href=\"default-parameter-values.ipynb\" target=\"_blank\">Previous</a></p>\n",
    "<p style=\"float: right;\"><a href=\"about-if-else.ipynb\" target=\"_blank\">Next</a></p>\n",
    "<p style=\"text-align:center;\">Tour of Scala</p>\n",
    "<div style=\"clear: both;\"></div>"
   ]
  },
  {
   "cell_type": "markdown",
   "metadata": {},
   "source": [
    "# Named Arguments"
   ]
  },
  {
   "cell_type": "markdown",
   "metadata": {},
   "source": [
    "- When calling methods, you can label the arguments with their parameter names like so:\n",
    "\n",
    "    ```scala\n",
    "    def printName(first: String, last: String): Unit = \n",
    "      println(first + \" \" + last)\n",
    "    \n",
    "    \n",
    "    printName(\"John\", \"Smith\")  // \"John Smith\"\n",
    "    printName(first = \"John\", last = \"Smith\")  // \"John Smith\"\n",
    "    printName(last = \"Smith\", first = \"John\")  // \"John Smith\"\n",
    "    \n",
    "    ```\n",
    "\n",
    "    <br/>\n",
    "    \n",
    "    **Notice how the order of named arguments can be rearranged.**"
   ]
  },
  {
   "cell_type": "markdown",
   "metadata": {},
   "source": [
    "- If some arguments are named and others are not, the unnamed arguments must come first.\n",
    "\n",
    "    ```scala\n",
    "    printName(\"John\", last=\"Smith\") // \"John Smith\"\n",
    "    printName(last = \"Smith\", \"john\") // error: positional after named argument\n",
    "    \n",
    "    ```"
   ]
  },
  {
   "cell_type": "markdown",
   "metadata": {},
   "source": [
    "<p style=\"float: left;\"><a href=\"default-parameter-values.ipynb\" target=\"_blank\">Previous</a></p>\n",
    "<p style=\"float: right;\"><a href=\"about-if-else.ipynb\" target=\"_blank\">Next</a></p>\n",
    "<p style=\"text-align:center;\">Tour of Scala</p>\n",
    "<div style=\"clear: both;\"></div>"
   ]
  }
 ],
 "metadata": {
  "kernelspec": {
   "display_name": "Scala 2.13",
   "language": "scala",
   "name": "scala213"
  },
  "language_info": {
   "codemirror_mode": "text/x-scala",
   "file_extension": ".sc",
   "mimetype": "text/x-scala",
   "name": "scala",
   "nbconvert_exporter": "script",
   "version": "2.13.16"
  }
 },
 "nbformat": 4,
 "nbformat_minor": 4
}
