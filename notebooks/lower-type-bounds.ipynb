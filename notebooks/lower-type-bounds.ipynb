{
 "cells": [
  {
   "cell_type": "markdown",
   "id": "3c3719b3-5e71-485d-9827-51104021ad4f",
   "metadata": {},
   "source": [
    "<p style=\"float: left;\"><a href=\"variances.ipynb\" target=\"_blank\">Previous</a></p>\n",
    "<p style=\"float: right;\"><a href=\"p2-exercises.ipynb\" target=\"_blank\">Next</a></p>\n",
    "<p style=\"text-align:center;\">Tour of Scala</p>\n",
    "<div style=\"clear: both;\"></div>"
   ]
  },
  {
   "cell_type": "markdown",
   "id": "01300567-9699-4ab6-aa33-97eb8c284b92",
   "metadata": {},
   "source": [
    "## Lower type bounds"
   ]
  },
  {
   "cell_type": "markdown",
   "id": "d02d4cf0-f489-4e6d-a436-2aac86eec63a",
   "metadata": {},
   "source": [
    "- Remember [upper type bounds](upper-type-bounds.ipynb) for type parameters. \n",
    "\n",
    "    - In a type parameter declaration such as `T <: U`.\n",
    "      \n",
    "    - The type parameter **`T` is restricted to range only over <span style=\"color:red\">subtypes</span> of type `U`**.\n",
    "\n",
    "- Symmetrical to _upper bounds_ are _lower bounds_ in Scala. \n",
    "\n",
    "    - In a type parameter declaration `T >: S`.\n",
    "      \n",
    "    - The type parameter **`T` is restricted to range only over <span style=\"color:red\">supertypes</span> of type `S`**.\n",
    "\n",
    "- Using _lower bounds_, we can generalize the `push` method in `Stack` as follows:\n",
    "\n",
    "    ```scala\n",
    "    class Stack[+A] {\n",
    "        def push[B >: A](elem: B): Stack[B] = . . .\n",
    "    }\n",
    "    \n",
    "    ```\n",
    "\n",
    "    <br/>\n",
    "\n",
    "    - This solves the variance problem since **the type parameter `A` appears no longer in contravariance position**.\n",
    "\n",
    "    - Instead, `A` appears as _lower type bound_ for another type parameter, `B`. **The compiler must respect:**\n",
    "     \n",
    "        1) Requires `B` to be a supertype of the current element type `A`.\n",
    "           \n",
    "        2) The argument of type `B` must to accept the actual argument passed.\n",
    "\n",
    "        In practice, compiler picks the **least upper bound (LUB)** of `A` and the argument’s type. <span style=\"color:red\">**Updating the a stack’s type accordingly to `Stack[B]`</span>.**\n",
    "\n",
    "        ```scala\n",
    "        trait Stack[+A]:\n",
    "          def push[B >: A](elem: B): Stack[B] = . . .\n",
    "        \n",
    "        val s: Stack[Int] = . . .\n",
    "        val s2 = s.push(\"hello\")   // inferred B = AnyVal, s2: Stack[AnyVal]\n",
    "\n",
    "        ```\n",
    "\n",
    "\n"
   ]
  },
  {
   "cell_type": "markdown",
   "id": "42199f5f-5ce7-4d24-814a-e3e0af7b3cce",
   "metadata": {},
   "source": [
    "## Union types"
   ]
  },
  {
   "cell_type": "markdown",
   "id": "410cd299-b35b-4d06-b174-ee311b9c6065",
   "metadata": {},
   "source": [
    "Scala 3 introduced the union type (`A | B`).\n",
    "\n",
    "- <span style=\"color:red\">**When you push an element of type `B` onto a `Stack[A]`, the resulting stack has the type `Stack[A | B]` instead of `Stack[B]`</span>.**"
   ]
  },
  {
   "cell_type": "code",
   "execution_count": 2,
   "id": "784b155f-ac24-4e1b-9c4a-762334f78744",
   "metadata": {},
   "outputs": [
    {
     "data": {
      "text/plain": [
       "defined \u001b[32mclass\u001b[39m \u001b[36mStack\u001b[39m\n",
       "defined \u001b[32mclass\u001b[39m \u001b[36mEmptyStack\u001b[39m\n",
       "defined \u001b[32mclass\u001b[39m \u001b[36mNonEmptyStack\u001b[39m"
      ]
     },
     "execution_count": 2,
     "metadata": {},
     "output_type": "execute_result"
    }
   ],
   "source": [
    "abstract class Stack[+A]:\n",
    "    def push[B](x: B): Stack[A | B] = new NonEmptyStack[A | B](x, this)\n",
    "    def isEmpty: Boolean\n",
    "    def top: A\n",
    "    def pop: Stack[A]\n",
    "\n",
    "class EmptyStack[A] extends Stack[A]:\n",
    "    def isEmpty = true\n",
    "    def top = throw new Exception(\"EmptyStack.top\")\n",
    "    def pop = throw new Exception(\"EmptyStack.pop\")\n",
    "    override def toString: String = \"--()\"\n",
    "\n",
    "class NonEmptyStack[A](elem: A, rest: Stack[A]) extends Stack[A]:\n",
    "    def isEmpty = false\n",
    "    def top = elem\n",
    "    def pop = rest\n",
    "    override def toString(): String =\n",
    "        \"--\" ++ top.toString() ++ \"--<\" ++ pop.toString()"
   ]
  },
  {
   "cell_type": "code",
   "execution_count": 3,
   "id": "38400308-bddf-435d-9bd5-262ff69710ad",
   "metadata": {},
   "outputs": [
    {
     "data": {
      "text/plain": [
       "\u001b[36mstackInt\u001b[39m: \u001b[32mStack\u001b[39m[\u001b[32mInt\u001b[39m] = --1--<--()"
      ]
     },
     "execution_count": 3,
     "metadata": {},
     "output_type": "execute_result"
    }
   ],
   "source": [
    "val stackInt = new EmptyStack().push(1 : Int)"
   ]
  },
  {
   "cell_type": "code",
   "execution_count": 4,
   "id": "01936675-e328-4e4e-9824-2f084e1af3a4",
   "metadata": {
    "scrolled": true
   },
   "outputs": [
    {
     "data": {
      "text/plain": [
       "\u001b[36mstackDouble\u001b[39m: \u001b[32mStack\u001b[39m[ammonite.$sess.cmd3.wrapper.cmd2.Stack[scala.Int | scala.Double]] = --1.0--<--1--<--()"
      ]
     },
     "execution_count": 4,
     "metadata": {},
     "output_type": "execute_result"
    }
   ],
   "source": [
    "val stackDouble = stackInt.push(1 : Double)"
   ]
  },
  {
   "cell_type": "code",
   "execution_count": 17,
   "id": "93c9c0bf-8ae6-4387-a82f-6161d81615f6",
   "metadata": {},
   "outputs": [
    {
     "data": {
      "text/plain": [
       "\u001b[36mres17\u001b[39m: \u001b[32mStack\u001b[39m[cmd17.this.cmd8.Stack[scala.Int | scala.Double | scala.Char]] = --c--<--1.0--<--1--<--()"
      ]
     },
     "execution_count": 17,
     "metadata": {},
     "output_type": "execute_result"
    }
   ],
   "source": [
    "new EmptyStack().push(1: Int).push(1 : Double).push('c')"
   ]
  },
  {
   "cell_type": "markdown",
   "id": "678a8d46-ba80-45a6-84ea-2ccf05f9af15",
   "metadata": {},
   "source": [
    "## Lower type bounds vs union types.\n",
    "\n",
    "More **precision** in types. With _lower type bounds_ and **LUB (least upper bound, Scala 2 style), the compiler often jumps too far up the type hierarchy.**\n",
    "\n",
    "```scala\n",
    "val xs = List(1, \"hi\")\n",
    "// Scala 2: List[Any]\n",
    "// Scala 3: List[Int | String]\n",
    "```\n",
    "\n",
    "<br/>\n",
    "\n",
    "- `List[Any]`: you lose track of what’s inside, everything is “just Any.”\n",
    "\n",
    "- `List[Int | String]`: the compiler still knows it can *only* be `Int` or `String`.\n",
    "\n",
    "That extra precision means:\n",
    "\n",
    "- You can safely pattern match later without casting.\n",
    "\n",
    "- The compiler warns you if you forget a case.\n",
    "\n",
    "\n",
    "### Safer code through exhaustiveness\n",
    "\n",
    "- Union types allow the compiler to check *all possibilities*:\n",
    "\n",
    "    ```scala\n",
    "    def size(x: Int | String): Int =\n",
    "      x match\n",
    "        case i: Int    => i\n",
    "        case s: String => s.length\n",
    "    ```\n",
    "\n",
    "### No need for “artificial” bounds\n",
    "\n",
    "- Old style:\n",
    "\n",
    "    ```scala\n",
    "    def push[B >: A](elem: B): Stack[B]\n",
    "    ```\n",
    "\n",
    "    <br/>\n",
    "    \n",
    "- New style:\n",
    "\n",
    "    ```scala\n",
    "    def push[B](elem: B): Stack[A | B]\n",
    "    ```\n",
    "\n",
    "    <br/>\n",
    "\n",
    "    - **You don’t have to reason about variance bounds (`B >: A`).** Instead, the semantics are clearer: *“new stack contains elements of either the old type or the new one.”*\n",
    "\n",
    "\n",
    "### You can still widen when you want\n",
    "\n",
    "- If you don’t want to carry around `Int | String | Double | Foo | Bar`, you can always widen:\n",
    "\n",
    "    ```scala\n",
    "    val xs: List[AnyVal] = List(1).appended(3.14)\n",
    "    ```\n",
    "\n",
    "    <br/>\n",
    "\n",
    "    **So you don’t lose the old behaviour - you gain the option of being precise by default.**\n"
   ]
  },
  {
   "cell_type": "markdown",
   "id": "55dccc89-9616-43f9-8532-a77a5178e2d8",
   "metadata": {},
   "source": [
    "<p style=\"float: left;\"><a href=\"variances.ipynb\" target=\"_blank\">Previous</a></p>\n",
    "<p style=\"float: right;\"><a href=\"p2-exercises.ipynb\" target=\"_blank\">Next</a></p>\n",
    "<p style=\"text-align:center;\">Tour of Scala</p>\n",
    "<div style=\"clear: both;\"></div>"
   ]
  }
 ],
 "metadata": {
  "kernelspec": {
   "display_name": "Scala 3.6",
   "language": "scala",
   "name": "scala36"
  },
  "language_info": {
   "codemirror_mode": "text/x-scala",
   "file_extension": ".sc",
   "mimetype": "text/x-scala",
   "name": "scala",
   "nbconvert_exporter": "script",
   "version": "2.13.16"
  }
 },
 "nbformat": 4,
 "nbformat_minor": 5
}
