{
 "cells": [
  {
   "cell_type": "markdown",
   "id": "5b110dde-b4f1-40ae-aa29-facc1847540a",
   "metadata": {},
   "source": [
    "<p style=\"float: left;\"><a href=\"developing-tools.ipynb\" target=\"_blank\">Previous</a></p>\n",
    "<p style=\"float: right;\"><a href=\"basics.ipynb\" target=\"_blank\">Next</a></p>\n",
    "<p style=\"text-align:center;\">Tour of Scala</p>\n",
    "<div style=\"clear: both;\"></div>"
   ]
  },
  {
   "cell_type": "markdown",
   "id": "802c9fb8-dac4-4ada-af89-9d3c0b2ad074",
   "metadata": {},
   "source": [
    "# First example"
   ]
  },
  {
   "cell_type": "markdown",
   "id": "b90f2333-0a37-4609-84b4-7533d913b34c",
   "metadata": {},
   "source": [
    "A first example using Scala. Here, we see Scala's multiparadigm strength."
   ]
  },
  {
   "cell_type": "markdown",
   "id": "9a94f126-3587-4be7-83ab-a085d3243158",
   "metadata": {},
   "source": [
    "## Scala as a \"conventional\" language"
   ]
  },
  {
   "cell_type": "markdown",
   "id": "c0217724-94a8-4580-895a-ad0a9b07c0fa",
   "metadata": {},
   "source": [
    "```scala\n",
    "object ImperativeSortingAlgorithms:\n",
    "\n",
    "    private def _swap(i: Int, j: Int, xs: Array[Int]): Unit =\n",
    "        val t = xs(i)\n",
    "        xs(i) = xs(j)\n",
    "        xs(j) = t\n",
    "\n",
    "    private def _quicksort(l: Int, r: Int, xs: Array[Int]): Unit =\n",
    "        val pivot = xs((l + r) / 2)\n",
    "        var i = l\n",
    "        var j = r\n",
    "        while (i <= j) {\n",
    "            while (xs(i) < pivot) i += 1\n",
    "            while (xs(j) > pivot) j -= 1\n",
    "            if (i <= j) {\n",
    "              _swap(i, j, xs)\n",
    "              i += 1\n",
    "              j -= 1\n",
    "            }\n",
    "          }\n",
    "          if (l < j) _quicksort(l, j, xs)\n",
    "          if (i < r) _quicksort(i, r, xs)\n",
    " \n",
    "    def quicksort(xs: Array[Int]): Unit =\n",
    "        _quicksort(0, xs.length - 1, xs)\n",
    "\n",
    "```"
   ]
  },
  {
   "cell_type": "markdown",
   "id": "7ef7f455-2fd5-4dca-805b-a88438ffa08a",
   "metadata": {},
   "source": [
    "Some questions...🖐️\n",
    "\n",
    "- _What is the algorithm doing?_\n",
    "- _What is the differnce between `var` and `val`?_\n",
    "- _Why there is not any return line?_\n",
    "- _What `Unit` means?_\n",
    "- _Is it mutating the original array?_"
   ]
  },
  {
   "cell_type": "markdown",
   "id": "f7dde71e-886d-4382-a985-1be00fcf8848",
   "metadata": {},
   "source": [
    "### The `def` keyword"
   ]
  },
  {
   "cell_type": "markdown",
   "id": "0decb3be-fd13-44c6-a224-13204eae524f",
   "metadata": {},
   "source": [
    "- Executing a definition such as `def x = e` will not evaluate the expression `e`, \n",
    "instead, `e` is only evaluated whenever `x` is used.\n",
    "\n",
    "- If `x` is then used subsequently, it is immediately replaced by the\n",
    "pre-computed value of `e`, so that the expression need not be evaluated again.\n",
    "\n",
    "`def` example:\n",
    "\n",
    "```scala\n",
    "def scale = 2 + 3 // Does not evaluate\n",
    "println(scale)    // Forces the evaluation of `scale`\n",
    "\n",
    "```"
   ]
  },
  {
   "cell_type": "markdown",
   "id": "a8cd5042-4d3d-46ce-bd52-631c43ee053c",
   "metadata": {},
   "source": [
    "### The `var` keyword"
   ]
  },
  {
   "cell_type": "markdown",
   "id": "aae9e580-fd47-4168-bddb-25e8e6b26055",
   "metadata": {},
   "source": [
    "- The `var` keyword makes a variable mutable.\n",
    "- The expression on the right side of the assignment is immediately evaluated.\n",
    "\n",
    "`var` example:\n",
    "\n",
    "```scala\n",
    "var seconds = 10      // Evaluates\n",
    "seconds = seconds + 1 // Mutates the state\n",
    "\n",
    "```"
   ]
  },
  {
   "cell_type": "markdown",
   "id": "d9926bc7-6a46-46c3-a741-c2aa944ad15c",
   "metadata": {},
   "source": [
    "### The `val` keyword"
   ]
  },
  {
   "cell_type": "markdown",
   "id": "9038caa4-c983-45cb-841d-ba1558ab8207",
   "metadata": {},
   "source": [
    "- The `val` keyword makes a variable immutable. That's why we can name `val` variables just as a value. \n",
    "- The expression on the right side of the assignment is immediately evaluated.\n",
    "\n",
    "`val` example:\n",
    "\n",
    "```scala\n",
    "val seconds = 10      // Evaluates\n",
    "seconds = seconds - 1 // Compilation error\n",
    "\n",
    "```"
   ]
  },
  {
   "cell_type": "markdown",
   "id": "c23f981c-8322-4eec-ad27-3c8cf2bc4633",
   "metadata": {},
   "source": [
    "## Functional style in Scala"
   ]
  },
  {
   "cell_type": "markdown",
   "id": "c43590b4-85f5-45f6-bf14-c7f73120c532",
   "metadata": {},
   "source": [
    "```scala\n",
    "import scala.language.postfixOps // This is needed for using methods as infix operator or functions\n",
    "\n",
    "object FunctionSortingAlgorithms:\n",
    "\n",
    "    def quicksortf(xs: Array[Int]): Array[Int] = \n",
    "        if xs.length <= 1 then \n",
    "            xs\n",
    "        else \n",
    "          val pivot = xs(xs.length / 2)\n",
    "          Array.concat(\n",
    "            quicksortf(xs filter (x => pivot > x)), // Define the whole lambda expression\n",
    "            xs filter (_ == pivot),                 // Use of lambda short-hand expression\n",
    "            quicksortf(xs filter (pivot < _))       // Use of lambda short-hand expression\n",
    "          )\n",
    "\n",
    "```"
   ]
  },
  {
   "cell_type": "markdown",
   "id": "57afbb0d-12a3-40d4-9a1f-8445f191a64f",
   "metadata": {},
   "source": [
    "- Scala does not distinguish between identifiers and operator names. \n",
    "\n",
    "- The binary operation $E \\ op \\ E'$ is always interpreted as the method call $E.op(E')$. \n",
    "\n",
    "- Yet, you need to import the `postfixOps` module.\n",
    "  \n",
    "    ```scala\n",
    "    import scala.language.postfixOps\n",
    "    \n",
    "    ```\n",
    "    <br/>\n",
    "\n",
    "- Hence, these expressions are equivalent.\n",
    "    \n",
    "    ```scala\n",
    "    xs filter (x => pivot > x)\n",
    "    xs.filter(x => pivot > x)\n",
    "    \n",
    "    ```"
   ]
  },
  {
   "cell_type": "markdown",
   "id": "a8deea85-4d3e-4818-8792-b838c652573b",
   "metadata": {},
   "source": [
    "Some questions...🖐️\n",
    "\n",
    "- _Is it mutating the original array_?\n",
    "- _What is the worst computational time complexity of `quicksortf`?_ <span style=\"color:red\">**PSS: something may go wrong with in the partition phase...**</span>"
   ]
  },
  {
   "cell_type": "markdown",
   "id": "1592d466-babd-49e6-b97b-f76f6a415f7c",
   "metadata": {},
   "source": [
    "## Printing an array"
   ]
  },
  {
   "cell_type": "markdown",
   "id": "0c3ac59d-847b-46d5-bff2-53a27f3fbc64",
   "metadata": {},
   "source": [
    "You need to make sure to transform the array to a string using the `mkString` \n",
    "method of the array to print it using the standard output; otherwise, it will show you the $@$ memory of the array."
   ]
  },
  {
   "cell_type": "code",
   "execution_count": 12,
   "id": "47b8c224-bf9b-44cb-861f-f754e35c8284",
   "metadata": {},
   "outputs": [
    {
     "name": "stdout",
     "output_type": "stream",
     "text": [
      "[I@661a7123\n"
     ]
    },
    {
     "data": {
      "text/plain": [
       "\u001b[36my\u001b[39m: \u001b[32mArray\u001b[39m[\u001b[32mInt\u001b[39m] = \u001b[33mArray\u001b[39m(\u001b[32m4\u001b[39m, \u001b[32m2\u001b[39m, \u001b[32m3\u001b[39m, \u001b[32m5\u001b[39m, \u001b[32m6\u001b[39m, \u001b[32m10\u001b[39m, \u001b[32m1\u001b[39m, \u001b[32m15\u001b[39m, \u001b[32m25\u001b[39m, \u001b[32m7\u001b[39m)"
      ]
     },
     "execution_count": 12,
     "metadata": {},
     "output_type": "execute_result"
    }
   ],
   "source": [
    "val y = Array(4, 2, 3, 5, 6, 10, 1, 15, 25, 7)\n",
    "println(y)"
   ]
  },
  {
   "cell_type": "code",
   "execution_count": 13,
   "id": "06f9df12-8fe1-4900-88d9-bce02554fc91",
   "metadata": {},
   "outputs": [
    {
     "name": "stdout",
     "output_type": "stream",
     "text": [
      "4, 2, 3, 5, 6, 10, 1, 15, 25, 7\n"
     ]
    },
    {
     "data": {
      "text/plain": [
       "\u001b[36my\u001b[39m: \u001b[32mArray\u001b[39m[\u001b[32mInt\u001b[39m] = \u001b[33mArray\u001b[39m(\u001b[32m4\u001b[39m, \u001b[32m2\u001b[39m, \u001b[32m3\u001b[39m, \u001b[32m5\u001b[39m, \u001b[32m6\u001b[39m, \u001b[32m10\u001b[39m, \u001b[32m1\u001b[39m, \u001b[32m15\u001b[39m, \u001b[32m25\u001b[39m, \u001b[32m7\u001b[39m)"
      ]
     },
     "execution_count": 13,
     "metadata": {},
     "output_type": "execute_result"
    }
   ],
   "source": [
    "val y = Array(4, 2, 3, 5, 6, 10, 1, 15, 25, 7)\n",
    "println(y.mkString(\", \"))"
   ]
  },
  {
   "cell_type": "code",
   "execution_count": 14,
   "id": "5c41c49a-976b-44e6-85f7-b0e5d4412f82",
   "metadata": {},
   "outputs": [
    {
     "name": "stdout",
     "output_type": "stream",
     "text": [
      "[I@36956ba4"
     ]
    },
    {
     "data": {
      "text/plain": [
       "\u001b[36my\u001b[39m: \u001b[32mArray\u001b[39m[\u001b[32mInt\u001b[39m] = \u001b[33mArray\u001b[39m(\u001b[32m4\u001b[39m, \u001b[32m2\u001b[39m, \u001b[32m3\u001b[39m, \u001b[32m5\u001b[39m, \u001b[32m6\u001b[39m, \u001b[32m10\u001b[39m, \u001b[32m1\u001b[39m, \u001b[32m15\u001b[39m, \u001b[32m25\u001b[39m, \u001b[32m7\u001b[39m)"
      ]
     },
     "execution_count": 14,
     "metadata": {},
     "output_type": "execute_result"
    }
   ],
   "source": [
    "val y = Array(4, 2, 3, 5, 6, 10, 1, 15, 25, 7)\n",
    "print(y.toString())"
   ]
  },
  {
   "cell_type": "markdown",
   "id": "682c4367-a6e5-40f9-b8e7-b89386672b6c",
   "metadata": {},
   "source": [
    "## Activity 🖐️\n",
    "\n",
    "Use the [sbt-template](https://github.com/wilberquito/sbt-template) for:\n",
    "\n",
    "- Defining an object called `SortingAlgorithms` where:\n",
    "  - The `functional` and the `imperative` quicksort are defined.\n",
    "- Play with these algorithms in a `.worksheet.sc` file under the `src/main/scala` folder."
   ]
  },
  {
   "cell_type": "markdown",
   "id": "e5ff6e42-1fbe-446c-9c2b-441bfac6b7c6",
   "metadata": {},
   "source": [
    "<p style=\"float: left;\"><a href=\"developing-tools.ipynb\" target=\"_blank\">Previous</a></p>\n",
    "<p style=\"float: right;\"><a href=\"basics.ipynb\" target=\"_blank\">Next</a></p>\n",
    "<p style=\"text-align:center;\">Tour of Scala</p>\n",
    "<div style=\"clear: both;\"></div>"
   ]
  }
 ],
 "metadata": {
  "kernelspec": {
   "display_name": "Scala 3.6",
   "language": "scala",
   "name": "scala36"
  },
  "language_info": {
   "codemirror_mode": "text/x-scala",
   "file_extension": ".sc",
   "mimetype": "text/x-scala",
   "name": "scala",
   "nbconvert_exporter": "script",
   "version": "2.13.16"
  }
 },
 "nbformat": 4,
 "nbformat_minor": 5
}
