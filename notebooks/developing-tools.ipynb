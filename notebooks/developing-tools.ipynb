{
 "cells": [
  {
   "cell_type": "markdown",
   "id": "47753e19-5007-42fd-b077-88222ecb2c0c",
   "metadata": {},
   "source": [
    "<p style=\"float: left;\"><a href=\"first-example.ipynb\" target=\"_blank\">Previous</a></p>\n",
    "<p style=\"float: right;\"><a href=\"basics.ipynb\" target=\"_blank\">Next</a></p>\n",
    "<p style=\"text-align:center;\">Tour of Scala</p>\n",
    "<div style=\"clear: both;\"></div>"
   ]
  },
  {
   "cell_type": "markdown",
   "id": "dbb5e2d3-f23c-4ae8-b57d-0814e3f5390f",
   "metadata": {},
   "source": [
    "From http://www.scala-lang.org/ you can download it for your operating system. In the classroom, we have it installed on Linux:\n",
    "- SBT (Simple Build Tool), a shell-type tool but with support for incremental compilation, library dependencies, testing, interpreter (Scala REPL, Read-Evaluate-Print Loop)...\n",
    "- VSCode + Metals pluging, a dedicated editor, online type inference, error markers, worksheet, ...\n",
    "- Shell (scala, scalac, ... not installed in the classrooms)"
   ]
  },
  {
   "cell_type": "markdown",
   "id": "7acc0556-b293-4e06-a64d-a75bf4d8d468",
   "metadata": {},
   "source": [
    "We are basically going to use `sbt` to create Scala projects. For avoid any\n",
    "kind of problem related to sbt version and scala version we provide to you \n",
    "a sbt [template](https://github.com/wilberquito/interactive-Pd.A-Scala/tree/scala-project-tpl) which have everything setted to download and run to work with VSCode + Metals."
   ]
  },
  {
   "cell_type": "markdown",
   "id": "aeea0a70-e87f-411f-aa64-2216d7aea19f",
   "metadata": {},
   "source": [
    "<p style=\"float: left;\"><a href=\"first-example.ipynb\" target=\"_blank\">Previous</a></p>\n",
    "<p style=\"float: right;\"><a href=\"basics.ipynb\" target=\"_blank\">Next</a></p>\n",
    "<p style=\"text-align:center;\">Tour of Scala</p>\n",
    "<div style=\"clear: both;\"></div>"
   ]
  }
 ],
 "metadata": {
  "kernelspec": {
   "display_name": "Scala 2.13",
   "language": "scala",
   "name": "scala213"
  },
  "language_info": {
   "codemirror_mode": "text/x-scala",
   "file_extension": ".sc",
   "mimetype": "text/x-scala",
   "name": "scala",
   "nbconvert_exporter": "script",
   "version": "2.13.14"
  }
 },
 "nbformat": 4,
 "nbformat_minor": 5
}
