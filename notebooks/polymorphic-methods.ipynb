{
 "cells": [
  {
   "cell_type": "markdown",
   "metadata": {},
   "source": [
    "<p style=\"float: left;\"><a href=\"generic-classes.ipynb\" target=\"_blank\">Previous</a></p>\n",
    "<p style=\"float: right;\"><a href=\"upper-type-bounds.ipynb\" target=\"_blank\">Next</a></p>\n",
    "<p style=\"text-align:center;\">Tour of Scala</p>\n",
    "<div style=\"clear: both;\"></div>"
   ]
  },
  {
   "cell_type": "markdown",
   "metadata": {},
   "source": [
    "# Polymorphic methods\n",
    "\n",
    "Methods in Scala can be parameterized by type as well as value. Type parameters are enclosed in square brackets, while value parameters are enclosed in parentheses.\n",
    "\n",
    "Here is an example:"
   ]
  },
  {
   "cell_type": "code",
   "execution_count": 1,
   "metadata": {
    "attributes": {
     "classes": [
      "tut"
     ],
     "id": ""
    }
   },
   "outputs": [
    {
     "name": "stdout",
     "output_type": "stream",
     "text": [
      "List(3, 3, 3, 3)\n",
      "List(La, La, La, La, La, La, La, La)\n"
     ]
    },
    {
     "data": {
      "text/plain": [
       "defined \u001b[32mfunction\u001b[39m \u001b[36mlistOfDuplicates\u001b[39m"
      ]
     },
     "execution_count": 1,
     "metadata": {},
     "output_type": "execute_result"
    }
   ],
   "source": [
    "def listOfDuplicates[A](x: A, length: Int): List[A] = {\n",
    "  if (length < 1)\n",
    "    Nil\n",
    "  else\n",
    "    x :: listOfDuplicates(x, length - 1)\n",
    "}\n",
    "println(listOfDuplicates[Int](3, 4))  // List(3, 3, 3, 3)\n",
    "println(listOfDuplicates(\"La\", 8))  // List(La, La, La, La, La, La, La, La)"
   ]
  },
  {
   "cell_type": "markdown",
   "metadata": {},
   "source": [
    "The method `listOfDuplicates` takes a type parameter `A` and value parameters `x` and `length`. Value `x` is of type `A`. If `length < 1` we return an empty list. Otherwise we prepend `x` to the the list of duplicates returned by the recursive call. (Note that `::` means prepend an element on the left to a list on the right.)\n",
    "\n",
    "In first example call, we explicitly provide the type parameter by writing `[Int]`. Therefore the first argument must be an `Int` and the return type will be `List[Int]`.\n",
    "\n",
    "The second example call shows that you don't always need to explicitly provide the type parameter.  The compiler can often infer it based on context or on the types of the value arguments.  In this example, `\"La\"` is a `String` so the compiler knows `A` must be `String`."
   ]
  },
  {
   "cell_type": "markdown",
   "metadata": {},
   "source": [
    "## Another example"
   ]
  },
  {
   "cell_type": "markdown",
   "metadata": {},
   "source": [
    "Give the generic stack definition:"
   ]
  },
  {
   "cell_type": "code",
   "execution_count": 4,
   "metadata": {},
   "outputs": [
    {
     "data": {
      "text/plain": [
       "defined \u001b[32mclass\u001b[39m \u001b[36mStack\u001b[39m\n",
       "defined \u001b[32mclass\u001b[39m \u001b[36mEmptyStack\u001b[39m\n",
       "defined \u001b[32mclass\u001b[39m \u001b[36mNonEmptyStack\u001b[39m"
      ]
     },
     "execution_count": 4,
     "metadata": {},
     "output_type": "execute_result"
    }
   ],
   "source": [
    "abstract class Stack[A] {\n",
    "    def push(x: A): Stack[A] = new NonEmptyStack(x, this)\n",
    "    def top: A\n",
    "    def pop: Stack[A]\n",
    "    def isEmpty: Boolean\n",
    "}\n",
    "\n",
    "class EmptyStack[A] extends Stack[A] {\n",
    "    def isEmpty = true\n",
    "    def top = throw new Exception(\"EmptyStack.top\")\n",
    "    def pop = throw new Exception(\"EmptyStack.pop\")\n",
    "\n",
    "    override def toString: String = \"EOS\"\n",
    "  \n",
    "}\n",
    "\n",
    "class NonEmptyStack[A](elem: A, rest: Stack[A]) extends Stack[A] {\n",
    "    def isEmpty = false\n",
    "    def top = elem\n",
    "    def pop = rest\n",
    "  \n",
    "    \n",
    "    override def toString(): String = {\n",
    "        top.toString() ++ \"<-\" ++ pop.toString()\n",
    "    } \n",
    "}"
   ]
  },
  {
   "cell_type": "code",
   "execution_count": 5,
   "metadata": {},
   "outputs": [
    {
     "data": {
      "text/plain": [
       "\u001b[36mstack\u001b[39m: \u001b[32mEmptyStack\u001b[39m[\u001b[32mInt\u001b[39m] = EOS\n",
       "\u001b[36ma\u001b[39m: \u001b[32mStack\u001b[39m[\u001b[32mInt\u001b[39m] = 2<-1<-EOS\n",
       "\u001b[36mb\u001b[39m: \u001b[32mStack\u001b[39m[\u001b[32mInt\u001b[39m] = EOS"
      ]
     },
     "execution_count": 5,
     "metadata": {},
     "output_type": "execute_result"
    }
   ],
   "source": [
    "val stack = new EmptyStack[Int]\n",
    "val a = stack.push(1).push(2)\n",
    "val b = a.pop.pop"
   ]
  },
  {
   "cell_type": "code",
   "execution_count": 6,
   "metadata": {},
   "outputs": [
    {
     "data": {
      "text/plain": [
       "defined \u001b[32mfunction\u001b[39m \u001b[36misPrefix\u001b[39m"
      ]
     },
     "execution_count": 6,
     "metadata": {},
     "output_type": "execute_result"
    }
   ],
   "source": [
    "def isPrefix[A](p: Stack[A], s: Stack[A]): Boolean = {\n",
    "    p.isEmpty ||\n",
    "    p.top == s.top && isPrefix(p.pop, s.pop)\n",
    "}"
   ]
  },
  {
   "cell_type": "code",
   "execution_count": 7,
   "metadata": {},
   "outputs": [
    {
     "data": {
      "text/plain": [
       "\u001b[36ms\u001b[39m: \u001b[32mStack\u001b[39m[\u001b[32mString\u001b[39m] = hello<-EOS\n",
       "\u001b[36mres7_1\u001b[39m: \u001b[32mBoolean\u001b[39m = \u001b[32mtrue\u001b[39m"
      ]
     },
     "execution_count": 7,
     "metadata": {},
     "output_type": "execute_result"
    }
   ],
   "source": [
    "val s = new EmptyStack[String].push(\"hello\")\n",
    "isPrefix(s, s)"
   ]
  },
  {
   "cell_type": "markdown",
   "metadata": {},
   "source": [
    "<p style=\"float: left;\"><a href=\"generic-classes.ipynb\" target=\"_blank\">Previous</a></p>\n",
    "<p style=\"float: right;\"><a href=\"upper-type-bounds.ipynb\" target=\"_blank\">Next</a></p>\n",
    "<p style=\"text-align:center;\">Tour of Scala</p>\n",
    "<div style=\"clear: both;\"></div>"
   ]
  }
 ],
 "metadata": {
  "kernelspec": {
   "display_name": "Scala 2.13",
   "language": "scala",
   "name": "scala213"
  },
  "language_info": {
   "codemirror_mode": "text/x-scala",
   "file_extension": ".sc",
   "mimetype": "text/x-scala",
   "name": "scala",
   "nbconvert_exporter": "script",
   "version": "2.13.16"
  }
 },
 "nbformat": 4,
 "nbformat_minor": 4
}
