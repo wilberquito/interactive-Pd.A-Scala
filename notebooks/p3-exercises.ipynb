{
 "cells": [
  {
   "cell_type": "markdown",
   "id": "fd0c4896-51a3-4096-a5c4-c93c70f4d47a",
   "metadata": {},
   "source": [
    "<p style=\"float: left;\"><a href=\"for-comprehensions.ipynb\" target=\"_blank\">Previous</a></p>\n",
    "<p style=\"float: right;\"><a href=\"_index.ipynb\" target=\"_blank\">Next</a></p>\n",
    "<p style=\"text-align:center;\">Tour of Scala</p>\n",
    "<div style=\"clear: both;\"></div>"
   ]
  },
  {
   "cell_type": "markdown",
   "id": "8e9343fb-6289-4747-b82d-eea4205fc820",
   "metadata": {},
   "source": [
    "# Exercises"
   ]
  },
  {
   "cell_type": "markdown",
   "id": "239025e0-936f-4bf3-8e98-e800576b3f2c",
   "metadata": {},
   "source": [
    "Use Scala worksheet and the provided template repository to solve the following problems."
   ]
  },
  {
   "cell_type": "markdown",
   "id": "0d5467f7-3ab7-4c77-a390-67674582aca4",
   "metadata": {},
   "source": [
    "## The lenght of a list"
   ]
  },
  {
   "cell_type": "markdown",
   "id": "f7ba9bf1-e176-4e33-b4c6-ea350f9da6e7",
   "metadata": {},
   "source": [
    "Design a tail-recursive method that compute the of length a list. Use pattern-matching.\n",
    "\n",
    "```scala\n",
    "def length[..](xs: ...): ... =\n",
    "    ...    "
   ]
  },
  {
   "cell_type": "code",
   "execution_count": null,
   "id": "c962c178-0a40-4aec-9e48-a796cbd82fdc",
   "metadata": {},
   "outputs": [],
   "source": [
    "// code goes here..."
   ]
  },
  {
   "cell_type": "markdown",
   "id": "d634df93-0483-4b44-bcfb-03b369a16daa",
   "metadata": {},
   "source": [
    "## Optimize reversing lists"
   ]
  },
  {
   "cell_type": "markdown",
   "id": "a1bf0559-c82f-437e-8454-7ac668cd5cf8",
   "metadata": {},
   "source": [
    "Given the following reversing list implementation,\n",
    "\n",
    "```scala\n",
    "def reverse[A](xs: List[A]): List[A] = xs match {\n",
    "    case Nil     => Nil\n",
    "    case x :: xs => reverse(xs) ::: List(x)\n",
    "}\n",
    "```\n",
    "\n",
    "which time complexity is $O(n(n + 1)/2)$, **implement a more efficient algorithm folding the list.**"
   ]
  },
  {
   "cell_type": "markdown",
   "id": "a1b86af5-106d-474e-9ab1-f6365e634939",
   "metadata": {},
   "source": [
    "## Fill the gaps"
   ]
  },
  {
   "cell_type": "markdown",
   "id": "2b4e4b18-855e-46f0-814a-302cce6c84fd",
   "metadata": {},
   "source": [
    "Fill in the missing expressions to complete the following definitions of some basic list-manipulation operations using `fold`.\n",
    "\n",
    "The methods you need to implement are the following:\n",
    "\n",
    "```scala\n",
    "def mapFun[A, B](xs: List[A], f: A => B): List[B] = \n",
    "    (xs foldRight List[B]()){ ... }\n",
    "    \n",
    "def filterFun[A](xs: List[A], p: A => Boolean): List[A] = \n",
    "    (xs foldLeft List[A]()){ ... }\n",
    "    \n",
    "```"
   ]
  },
  {
   "cell_type": "code",
   "execution_count": null,
   "id": "3afc2143-2a08-4803-9715-2ff33501ff29",
   "metadata": {},
   "outputs": [],
   "source": [
    "// code goes here..."
   ]
  },
  {
   "cell_type": "markdown",
   "id": "c3b8f712-100c-4930-9a43-b564444999cf",
   "metadata": {},
   "source": [
    "## For-Comprehansion"
   ]
  },
  {
   "cell_type": "markdown",
   "id": "7829d4ea-2ea8-486f-b3b1-d2c06331dae3",
   "metadata": {},
   "source": [
    "Given the following dataset:\n",
    "\n",
    "```scala\n",
    "val books: List[Book] = List(\n",
    "    Book(\"Structure and Interpretation of Computer Programs\",\n",
    "         List(\"Abelson, Harold\", \"Sussman, Gerald J.\")),\n",
    "    Book(\"Principles of Compiler Design\",\n",
    "        List(\"Aho, Alfred\", \"Ullman, Jeffrey\")),\n",
    "    Book(\"Programming in Modula-2\",\n",
    "         List(\"Wirth, Niklaus\")),\n",
    "    Book(\"Introduction to Functional Programming\",\n",
    "        List(\"Bird, Richard\"))\n",
    "        \n",
    "```\n",
    "\n",
    "1) Give the definiton of `Book`,\n",
    "2) and by means of `for-comprehension` take the samples where the number of authors $>= 2$. The resulting dataset is of type `List[(String, Int))`."
   ]
  },
  {
   "cell_type": "code",
   "execution_count": 20,
   "id": "70f188d9-3f42-420e-bf69-8bc04b581a37",
   "metadata": {},
   "outputs": [],
   "source": [
    "// code goes here..."
   ]
  },
  {
   "cell_type": "markdown",
   "id": "95e1fb5d-c997-4014-85f4-6cb5358a8362",
   "metadata": {},
   "source": [
    "<p style=\"float: left;\"><a href=\"for-comprehensions.ipynb\" target=\"_blank\">Previous</a></p>\n",
    "<p style=\"float: right;\"><a href=\"_index.ipynb\" target=\"_blank\">Next</a></p>\n",
    "<p style=\"text-align:center;\">Tour of Scala</p>\n",
    "<div style=\"clear: both;\"></div>"
   ]
  }
 ],
 "metadata": {
  "kernelspec": {
   "display_name": "Scala 2.13",
   "language": "scala",
   "name": "scala213"
  },
  "language_info": {
   "codemirror_mode": "text/x-scala",
   "file_extension": ".sc",
   "mimetype": "text/x-scala",
   "name": "scala",
   "nbconvert_exporter": "script",
   "version": "2.13.16"
  }
 },
 "nbformat": 4,
 "nbformat_minor": 5
}
