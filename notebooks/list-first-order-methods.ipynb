{
 "cells": [
  {
   "cell_type": "markdown",
   "id": "de03a16c-32b1-4d53-9df2-6c905665e374",
   "metadata": {},
   "source": [
    "<p style=\"float: left;\"><a href=\"list.ipynb\" target=\"_blank\">Previous</a></p>\n",
    "<p style=\"float: right;\"><a href=\"merge-sort.ipynb\" target=\"_blank\">Next</a></p>\n",
    "<p style=\"text-align:center;\">Tour of Scala</p>\n",
    "<div style=\"clear: both;\"></div>"
   ]
  },
  {
   "cell_type": "markdown",
   "id": "0b44f374-4620-4c21-96d7-1153e3566526",
   "metadata": {},
   "source": [
    "# Definition of class List: First Order Methods"
   ]
  },
  {
   "cell_type": "markdown",
   "id": "91d448a0-11c2-43b9-890d-00a95f13bedb",
   "metadata": {},
   "source": [
    "In Scala, lists are **not built-in** primitives. Instead, they are defined by an **abstract class** `List`, which has two concrete subclasses:\n",
    "\n",
    "* `::` (pronounced *cons*), representing a non-empty list, and\n",
    "* `Nil`, representing the empty list.\n",
    "\n",
    "```scala\n",
    "abstract class List[+A]\n",
    "```\n",
    "\n",
    "* Since `List` is an abstract class, you cannot instantiate it directly with `new List`.\n",
    "* A list is a **generic type**, parameterized by `A`, the type of its elements.\n",
    "* Lists are **covariant**, written as `List[+A]`. This means that if `S` is a subtype of `T` (`S <: T`), then `List[S]` is also considered a subtype of `List[T]` (`List[S] <: List[T]`).\n"
   ]
  },
  {
   "cell_type": "markdown",
   "id": "9fa30cdf-cb84-4f6f-bef8-d882d288000d",
   "metadata": {},
   "source": [
    "### Decomposing lists"
   ]
  },
  {
   "cell_type": "markdown",
   "id": "b69f1b20-a59d-4c3a-af34-1502cdcea2d7",
   "metadata": {},
   "source": [
    "<span style=\"color:red\">**_Examples bellow emulates actual implementation of some methods inside the class List[+A]_**</span>"
   ]
  },
  {
   "cell_type": "markdown",
   "id": "ab93b658-5aca-42a2-b0ca-4813d5ba4a2a",
   "metadata": {},
   "source": [
    "There are three basic methods:\n",
    "\n",
    "```scala\n",
    "def isEmpty: Boolean = this match {\n",
    "    case Nil     => true\n",
    "    case x :: xs => false\n",
    "\n",
    "def head: A = this match {\n",
    "    case Nil     => error(\"Nil.head\")\n",
    "    case x :: xs => x\n",
    "}\n",
    "\n",
    "def tail: List[A] = this match {\n",
    "    case Nil     => error(\"Nil.tail\")\n",
    "    case x :: xs => xs\n",
    "}\n",
    "\n",
    "```"
   ]
  },
  {
   "cell_type": "markdown",
   "id": "cdaec500-e13c-450e-9df2-61ae5f12b686",
   "metadata": {},
   "source": [
    "Length of a list:\n",
    "\n",
    "```scala\n",
    "def length: Int = this match = {\n",
    "    case Nil     => 0\n",
    "    case x :: xs => 1 + xs.length\n",
    "}\n",
    "```"
   ]
  },
  {
   "cell_type": "markdown",
   "id": "040bc0ac-b879-40f8-9ce3-c8af0dc029db",
   "metadata": {},
   "source": [
    "The next three functions return a prefix of the list, or a suffix, or both:\n",
    "\n",
    "```scala\n",
    "def take(n: Int): List[A] = \n",
    "    if (n == 0 || isEmpty) Nil else head :: tail.take(n-1)\n",
    "\n",
    "def drop(n: Int): List[A] =\n",
    "    if (n == 0 || isEmpty) Nil this else tail.drop(n - 1)\n",
    "\n",
    "def split(n: Int): (List[A], List[A]) = (take(n), drop(n))\n",
    "\n",
    "```"
   ]
  },
  {
   "cell_type": "markdown",
   "id": "6a07d6a3-fe35-4af5-8732-81bc8c731479",
   "metadata": {},
   "source": [
    "The next function returns an element at a given index in a list. \n",
    "\n",
    "```scala\n",
    "def apply(n: Int): A = drop(n).head\n",
    "\n",
    "```"
   ]
  },
  {
   "cell_type": "markdown",
   "id": "2a0c2939-f9c7-4ad9-b30f-223edb734ef4",
   "metadata": {},
   "source": [
    "### Zipping lists"
   ]
  },
  {
   "cell_type": "markdown",
   "id": "0b9f6c58-1a22-43ab-9892-0b65d2b78f67",
   "metadata": {},
   "source": [
    "Given two list `xs = List(x1, ..., xn)` and `ys = List(y1, ..., yn)`, `xs zip ys` constructs the list `List((x1, y1), ..., (xn, yn))`.\n",
    "\n",
    "```scala\n",
    "def zip[B](that: List[B]): List[(A, B)] = \n",
    "    if (this.isEmpty || that.isEmpty) Nil\n",
    "    else (this.head, that.head) :: (this.tail zip that.tail)\n",
    "    \n",
    "```"
   ]
  },
  {
   "cell_type": "markdown",
   "id": "0e3453e9-57a1-4ae4-83e4-443b3f5e9021",
   "metadata": {},
   "source": [
    "### Composing lists"
   ]
  },
  {
   "cell_type": "markdown",
   "id": "ad421e7e-55a7-46a2-887e-d3cdf83a482d",
   "metadata": {},
   "source": [
    "The data constructor `::`, commonly used as an operator, is actually defined as a method in the abstract class `List[+A]`.\n",
    "\n",
    "In the expression `x :: xs`, the list instance is `xs`. How is this possible?\n",
    "Scala gives special treatment to operators whose names end with a colon (`:`):\n",
    "\n",
    "**All such operators are interpreted as methods of their right operand.**\n",
    "\n",
    "For example:\n",
    "\n",
    "```scala\n",
    "x :: xs   // is interpreted as\n",
    "xs.::(x)\n",
    "```\n",
    "\n",
    "By contrast, a “normal” operator like the concatenation `+` is interpreted as a method of its left operand:\n",
    "\n",
    "```scala\n",
    "x ++ y   // is interpreted as\n",
    "x.++(y)\n",
    "```\n",
    "\n",
    "Another key difference is **associativity**:\n",
    "\n",
    "* Operators ending in `:` are **right-associative**.\n",
    "* All other operators are **left-associative**.\n",
    "\n",
    "Examples:\n",
    "\n",
    "```scala\n",
    "x :: y :: z   // is interpreted as\n",
    "x :: (y :: z)\n",
    "```\n",
    "\n",
    "```scala\n",
    "x + y + z     // is interpreted as\n",
    "(x + y) + z\n",
    "```"
   ]
  },
  {
   "cell_type": "markdown",
   "id": "f77e5e03-8a7d-4a5f-99be-6ec7500277c1",
   "metadata": {},
   "source": [
    "The definition of `::` as a method in class `List` follows:\n",
    "\n",
    "```scala\n",
    "def ::[B >: A](x: B): List[B] = new ::(x, this)\n",
    "\n",
    "```"
   ]
  },
  {
   "cell_type": "markdown",
   "id": "5100c556-30d1-48a0-8954-3096343f62f7",
   "metadata": {},
   "source": [
    "### Concatening lists"
   ]
  },
  {
   "cell_type": "markdown",
   "id": "f628b86a-35f5-4de8-b513-a5cb7533bbbc",
   "metadata": {},
   "source": [
    "An operation similar to `::` is list concatenation, written `:::`.\n",
    "The result of `(xs ::: ys)` is a list consisting of all elements of `xs`, followed by all\n",
    "elements of `ys`. Because it ends in a colon, `:::` is right-associative and is considered\n",
    "as a method of its right-hand operand. Therefore:\n",
    "\n",
    "```scala\n",
    "xs ::: ys ::: zs = zs.:::(ys).:::(xs)\n",
    "\n",
    "```\n",
    "\n",
    "Here is the implementation of the `:::` method.\n",
    "\n",
    "```scala\n",
    "def :::[B >: A](prefix: List[B]): List[B] = prefix match {\n",
    "    case Nil     => this\n",
    "    case p :: ps => this.:::(ps).::(p)   \n",
    "}\n",
    "```"
   ]
  },
  {
   "cell_type": "code",
   "execution_count": null,
   "id": "b7c15e37-f4fc-4b9e-a3f0-0d3aed25aea2",
   "metadata": {},
   "outputs": [],
   "source": [
    "val a = List(1, 2)\n",
    "val b = List(3, 4, 5)\n",
    "\n",
    "a ::: b // List(1, 2, 3, 4, 5)"
   ]
  },
  {
   "cell_type": "markdown",
   "id": "3577638f-32dc-4515-95b5-5db1cbe6125a",
   "metadata": {},
   "source": [
    "```scala\n",
    "def :::[B >: A](prefix: List[B]): List[B] = prefix match {\n",
    "    case Nil     => this                          // (`:::` 1)\n",
    "    case p :: ps => this.:::(ps).::(p)            // (`:::` 2)\n",
    "}\n",
    "\n",
    "def ::[B >: A](x: B): List[B] = new ::(x, this)   // (`::` 1)\n",
    "\n",
    "List(1, 2) ::: List(3, 4, 5)\n",
    "\n",
    "```\n",
    "\n",
    "`a ::: b == b.:::(a)`\n",
    "\n",
    "Steps:\n",
    "\n",
    "```text\n",
    "> List(1, 2) ::: List(3, 4, 5)\n",
    "> List(3, 4, 5).:::(List(1, 2))\n",
    "> (List(3, 4, 5).:::List(2)).::(1)          // (`:::` 2)\n",
    "> ((List(3, 4, 5).:::List()).::(2)).::(1)   // (`:::` 2)\n",
    "> (List(3, 4, 5).::(2)).::(1)               // (`:::` 1)\n",
    "> List(2, 3, 4, 5).::(1)                    // (`::` 1)\n",
    "> List(1, 2, 3, 4, 5)                       // (`::` 1)\n",
    "```"
   ]
  },
  {
   "cell_type": "markdown",
   "id": "120ec2ad-4b64-4620-a375-1faf509d9a99",
   "metadata": {},
   "source": [
    "### Reversing lists"
   ]
  },
  {
   "cell_type": "markdown",
   "id": "007d161d-a918-4941-8c9c-e601265757bd",
   "metadata": {},
   "source": [
    "```scala\n",
    "def reverse[A](xs: List[A]): List[A] = xs match {\n",
    "    case Nil     => Nil\n",
    "    case x :: xs => reverse(xs) ::: List(x)\n",
    "}\n",
    "```"
   ]
  },
  {
   "cell_type": "markdown",
   "id": "a36836cf-85c3-48bc-a239-1ed14b24a35c",
   "metadata": {},
   "source": [
    "Questions...🖐️\n",
    "\n",
    "- _What is the time complexity of `reverse`?_"
   ]
  },
  {
   "cell_type": "markdown",
   "id": "a17a6ad0-0d18-49e8-9d0a-95abaa8931af",
   "metadata": {},
   "source": [
    "<p style=\"float: left;\"><a href=\"list.ipynb\" target=\"_blank\">Previous</a></p>\n",
    "<p style=\"float: right;\"><a href=\"merge-sort.ipynb\" target=\"_blank\">Next</a></p>\n",
    "<p style=\"text-align:center;\">Tour of Scala</p>\n",
    "<div style=\"clear: both;\"></div>"
   ]
  }
 ],
 "metadata": {
  "kernelspec": {
   "display_name": "Scala 3.6",
   "language": "scala",
   "name": "scala36"
  },
  "language_info": {
   "codemirror_mode": "text/x-scala",
   "file_extension": ".sc",
   "mimetype": "text/x-scala",
   "name": "scala",
   "nbconvert_exporter": "script",
   "version": "2.13.16"
  }
 },
 "nbformat": 4,
 "nbformat_minor": 5
}
