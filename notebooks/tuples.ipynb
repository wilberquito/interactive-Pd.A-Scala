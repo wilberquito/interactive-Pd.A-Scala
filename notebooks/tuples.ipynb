{
 "cells": [
  {
   "cell_type": "markdown",
   "metadata": {},
   "source": [
    "<p style=\"float: left;\"><a href=\"_index.ipynb\" target=\"_blank\">Previous</a></p>\n",
    "<p style=\"float: right;\"><a href=\"list.ipynb\" target=\"_blank\">Next</a></p>\n",
    "<p style=\"text-align:center;\">Tour of Scala</p>\n",
    "<div style=\"clear: both;\"></div>"
   ]
  },
  {
   "cell_type": "markdown",
   "metadata": {},
   "source": [
    "# Tuples"
   ]
  },
  {
   "cell_type": "markdown",
   "metadata": {},
   "source": [
    "In Scala, a tuple is a class that can hold elements of different types.\n",
    "\n",
    "* Tuples are immutable\n",
    "* Tuples come in handy when we have to return multiple values from a function\n",
    "\n",
    "```scala\n",
    "val ingredient = (\"Sugar\" , 25): Tuple2[String, Double]\n",
    "\n",
    "```"
   ]
  },
  {
   "cell_type": "markdown",
   "metadata": {},
   "source": [
    "Tuple in Scala is a series of classes: `Tuple2`, `Tuple3`, etc., through `Tuple22`.\n",
    "\n",
    "So when we create a tuple with `n` elements (between `2` and `22`), Scala basically instantiates\n",
    "one of the corresponding classes from the group, parameterized with types of constituent elements.\n",
    "\n",
    "```scala\n",
    "val tupl5 = (1, '2' , 3.1, \"hola\", null): Tuple5[Int, Char, Double, String, AnyRef]\n",
    "\n",
    "```"
   ]
  },
  {
   "cell_type": "markdown",
   "metadata": {},
   "source": [
    "## Accessing the elements"
   ]
  },
  {
   "cell_type": "markdown",
   "metadata": {},
   "source": [
    "Tuple elements are accessed using underscore syntax.\n",
    "`tuple._n` gives nth element (given there are that many elements).\n",
    "\n",
    "```scala\n",
    "val ingredient = (\"Sugar\" , 25): Tuple2[String, Double]\n",
    "\n",
    "println(ingredient._1) // \"Sugar\"\n",
    "println(ingredient._2) // 25.0\n",
    "\n",
    "```"
   ]
  },
  {
   "cell_type": "markdown",
   "metadata": {},
   "source": [
    "## Destructuring tuple data"
   ]
  },
  {
   "cell_type": "markdown",
   "metadata": {},
   "source": [
    "Tuples can be destructured:\n",
    "\n",
    "```scala\n",
    "val ingredient = (\"Sugar\" , 25): Tuple2[String, Double]\n",
    "\n",
    "val (name, quantity) = ingredient // <- destructuring\n",
    "\n",
    "println(name) // \"Sugar\"\n",
    "println(quantity) // 25"
   ]
  },
  {
   "cell_type": "markdown",
   "metadata": {},
   "source": [
    "Tuple destructuring can be used in pattern matching too.\n",
    "\n",
    "```scala\n",
    "scala.languageFeature.postfixOps\n",
    "\n",
    "val planetDistanceFromSun = List(\n",
    "    (\"Mercury\", 57.9), \n",
    "    (\"Venus\", 108.2), \n",
    "    (\"Earth\", 149.6 ), \n",
    "    (\"Mars\", 227.9), \n",
    "    (\"Jupiter\", 778.3)\n",
    ")\n",
    "\n",
    "planetDistanceFromSun foreach \n",
    "(tuple =>\n",
    "  tuple match\n",
    "      case (\"Mercury\", distance)  => println(s\"Mercury is $distance millions km far from Sun\") // destructuring\n",
    "      case (\"Venus\", distance)    => println(s\"Venus is $distance millions km far from Sun\")   // destructuring\n",
    "      case p if (p._1 == \"Earth\") => println(s\"Blue planet is ${p._2} millions km far from Sun\")\n",
    "      case _ => println(\"Too far....\")\n",
    ")\n",
    "\n",
    "```"
   ]
  },
  {
   "cell_type": "markdown",
   "metadata": {},
   "source": [
    "Or, in for-comprehension.\n",
    "\n",
    "```scala\n",
    "val numPairs = List((2, 5), (3, -7), (20, 56))\n",
    "\n",
    "for ((a, b) <- numPairs) println(a * b)\n",
    "\n",
    "```"
   ]
  },
  {
   "cell_type": "markdown",
   "metadata": {},
   "source": [
    "## Tuple vs. Case Class"
   ]
  },
  {
   "cell_type": "markdown",
   "metadata": {},
   "source": [
    "You may sometimes find hard to choose between `Tuple` and `case classes`. _**As a rule of thumb; case classes are preferred over tuples if elements carry more meaning**_."
   ]
  },
  {
   "cell_type": "markdown",
   "metadata": {},
   "source": [
    "<p style=\"float: left;\"><a href=\"_index.ipynb\" target=\"_blank\">Previous</a></p>\n",
    "<p style=\"float: right;\"><a href=\"list.ipynb\" target=\"_blank\">Next</a></p>\n",
    "<p style=\"text-align:center;\">Tour of Scala</p>\n",
    "<div style=\"clear: both;\"></div>"
   ]
  }
 ],
 "metadata": {
  "kernelspec": {
   "display_name": "Scala 3.6",
   "language": "scala",
   "name": "scala36"
  },
  "language_info": {
   "codemirror_mode": "text/x-scala",
   "file_extension": ".sc",
   "mimetype": "text/x-scala",
   "name": "scala",
   "nbconvert_exporter": "script",
   "version": "2.13.16"
  }
 },
 "nbformat": 4,
 "nbformat_minor": 4
}
