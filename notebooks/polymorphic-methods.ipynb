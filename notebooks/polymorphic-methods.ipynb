{
 "cells": [
  {
   "cell_type": "markdown",
   "metadata": {},
   "source": [
    "<p style=\"float: left;\"><a href=\"generic-classes.ipynb\" target=\"_blank\">Previous</a></p>\n",
    "<p style=\"float: right;\"><a href=\"upper-type-bounds.ipynb\" target=\"_blank\">Next</a></p>\n",
    "<p style=\"text-align:center;\">Tour of Scala</p>\n",
    "<div style=\"clear: both;\"></div>"
   ]
  },
  {
   "cell_type": "markdown",
   "metadata": {},
   "source": [
    "# Polymorphic methods\n",
    "\n",
    "Methods in Scala can be parameterized by type as well as value. Type parameters are enclosed in square brackets, while value parameters are enclosed in parentheses.\n",
    "\n",
    "Here is an example:"
   ]
  },
  {
   "cell_type": "code",
   "execution_count": 1,
   "metadata": {
    "attributes": {
     "classes": [
      "tut"
     ],
     "id": ""
    }
   },
   "outputs": [
    {
     "data": {
      "text/plain": [
       "defined \u001b[32mfunction\u001b[39m \u001b[36mlistOfDuplicates\u001b[39m"
      ]
     },
     "execution_count": 1,
     "metadata": {},
     "output_type": "execute_result"
    }
   ],
   "source": [
    "def listOfDuplicates[A](x: A, length: Int): List[A] =\n",
    "  if (length < 1) then Nil\n",
    "  else x :: listOfDuplicates(x, length - 1)"
   ]
  },
  {
   "cell_type": "code",
   "execution_count": 2,
   "metadata": {},
   "outputs": [
    {
     "data": {
      "text/plain": [
       "\u001b[36mxsInt\u001b[39m: \u001b[32mList\u001b[39m[\u001b[32mInt\u001b[39m] = \u001b[33mList\u001b[39m(\u001b[32m3\u001b[39m, \u001b[32m3\u001b[39m, \u001b[32m3\u001b[39m, \u001b[32m3\u001b[39m)"
      ]
     },
     "execution_count": 2,
     "metadata": {},
     "output_type": "execute_result"
    }
   ],
   "source": [
    "val xsInt = listOfDuplicates[Int](3, 4)  // List(3, 3, 3, 3)"
   ]
  },
  {
   "cell_type": "markdown",
   "metadata": {},
   "source": [
    "In first example call, **we explicitly provide the type parameter by writing `[Int]`**. Therefore the first argument must be an `Int` and the return type will be `List[Int]`."
   ]
  },
  {
   "cell_type": "code",
   "execution_count": 3,
   "metadata": {},
   "outputs": [
    {
     "data": {
      "text/plain": [
       "\u001b[36mxsString\u001b[39m: \u001b[32mList\u001b[39m[\u001b[32mString\u001b[39m] = \u001b[33mList\u001b[39m(\u001b[32m\"La\"\u001b[39m, \u001b[32m\"La\"\u001b[39m, \u001b[32m\"La\"\u001b[39m, \u001b[32m\"La\"\u001b[39m, \u001b[32m\"La\"\u001b[39m, \u001b[32m\"La\"\u001b[39m, \u001b[32m\"La\"\u001b[39m, \u001b[32m\"La\"\u001b[39m)"
      ]
     },
     "execution_count": 3,
     "metadata": {},
     "output_type": "execute_result"
    }
   ],
   "source": [
    "val xsString = listOfDuplicates(\"La\", 8)  // List(La, La, La, La, La, La, La, La)"
   ]
  },
  {
   "cell_type": "markdown",
   "metadata": {},
   "source": [
    "The second example call shows that **you don't always need to explicitly provide the type parameter**. \n",
    "\n",
    "- The compiler can often infer it based on context or on the types of the value arguments.\n",
    "- In this example, `\"La\"` is a `String` so the compiler knows that the type variable `A` must be `String`."
   ]
  },
  {
   "cell_type": "markdown",
   "metadata": {},
   "source": [
    "## Another example"
   ]
  },
  {
   "cell_type": "markdown",
   "metadata": {},
   "source": [
    "Give the algebraic stack definition:"
   ]
  },
  {
   "cell_type": "code",
   "execution_count": 21,
   "metadata": {},
   "outputs": [
    {
     "data": {
      "text/plain": [
       "defined \u001b[32mclass\u001b[39m \u001b[36mStack\u001b[39m\n",
       "defined \u001b[32mclass\u001b[39m \u001b[36mEmptyStack\u001b[39m\n",
       "defined \u001b[32mclass\u001b[39m \u001b[36mNonEmptyStack\u001b[39m"
      ]
     },
     "execution_count": 21,
     "metadata": {},
     "output_type": "execute_result"
    }
   ],
   "source": [
    "abstract class Stack[A]:\n",
    "    def push(x: A): Stack[A] = new NonEmptyStack(x, this)\n",
    "    def top: A\n",
    "    def pop: Stack[A]\n",
    "    def isEmpty: Boolean\n",
    "\n",
    "class EmptyStack[A] extends Stack[A]:\n",
    "    def isEmpty = true\n",
    "    def top = throw new Exception(\"EmptyStack.top\")\n",
    "    def pop = throw new Exception(\"EmptyStack.pop\")\n",
    "    override def toString: String = \"()\"\n",
    "\n",
    "class NonEmptyStack[A](elem: A, rest: Stack[A]) extends Stack[A]:\n",
    "    def isEmpty = false\n",
    "    def top = elem\n",
    "    def pop = rest\n",
    "    \n",
    "    override def toString(): String =\n",
    "        top.toString() ++ \"<--\" ++ pop.toString()"
   ]
  },
  {
   "cell_type": "code",
   "execution_count": 23,
   "metadata": {},
   "outputs": [
    {
     "data": {
      "text/plain": [
       "\u001b[36mstack\u001b[39m: \u001b[32mEmptyStack\u001b[39m[\u001b[32mInt\u001b[39m] = ()\n",
       "\u001b[36ma\u001b[39m: \u001b[32mStack\u001b[39m[\u001b[32mInt\u001b[39m] = 3<--2<--1<--()\n",
       "\u001b[36mb\u001b[39m: \u001b[32mStack\u001b[39m[\u001b[32mInt\u001b[39m] = ()"
      ]
     },
     "execution_count": 23,
     "metadata": {},
     "output_type": "execute_result"
    }
   ],
   "source": [
    "val stack = new EmptyStack[Int]\n",
    "val a = stack.push(1).push(2).push(3)\n",
    "val b = a.pop.pop.pop"
   ]
  },
  {
   "cell_type": "markdown",
   "metadata": {},
   "source": [
    "Questions...🖐️\n",
    "\n",
    "- _Are we working with the same stack every time a `push` or a `pop` is executed?_"
   ]
  },
  {
   "cell_type": "markdown",
   "metadata": {},
   "source": [
    "We can define polymorphic methods to work with polymorphic classes, e.g.:"
   ]
  },
  {
   "cell_type": "code",
   "execution_count": 25,
   "metadata": {},
   "outputs": [
    {
     "data": {
      "text/plain": [
       "defined \u001b[32mfunction\u001b[39m \u001b[36misPrefix\u001b[39m"
      ]
     },
     "execution_count": 25,
     "metadata": {},
     "output_type": "execute_result"
    }
   ],
   "source": [
    "def isPrefix[A](p: Stack[A], s: Stack[A]): Boolean =\n",
    "    p.isEmpty || p.top == s.top && isPrefix(p.pop, s.pop)"
   ]
  },
  {
   "cell_type": "code",
   "execution_count": 31,
   "metadata": {},
   "outputs": [
    {
     "data": {
      "text/plain": [
       "\u001b[36ms\u001b[39m: \u001b[32mStack\u001b[39m[\u001b[32mString\u001b[39m] = hello<--()\n",
       "\u001b[36me\u001b[39m: \u001b[32mStack\u001b[39m[\u001b[32mString\u001b[39m] = hello<--world<--!<--()"
      ]
     },
     "execution_count": 31,
     "metadata": {},
     "output_type": "execute_result"
    }
   ],
   "source": [
    "val s = new EmptyStack[String].push(\"hello\")\n",
    "val e = new EmptyStack[String].push(\"!\").push(\"world\").push(\"hello\")"
   ]
  },
  {
   "cell_type": "code",
   "execution_count": 32,
   "metadata": {},
   "outputs": [
    {
     "data": {
      "text/plain": [
       "\u001b[36mres32\u001b[39m: \u001b[32mBoolean\u001b[39m = \u001b[32mtrue\u001b[39m"
      ]
     },
     "execution_count": 32,
     "metadata": {},
     "output_type": "execute_result"
    }
   ],
   "source": [
    "isPrefix(s, e)"
   ]
  },
  {
   "cell_type": "markdown",
   "metadata": {},
   "source": [
    "Questions...🖐️\n",
    "- _What would happen if the query is `isPrefix(e, s)`?_\n",
    "- _Thoughts for solving it?_"
   ]
  },
  {
   "cell_type": "markdown",
   "metadata": {},
   "source": [
    "<p style=\"float: left;\"><a href=\"generic-classes.ipynb\" target=\"_blank\">Previous</a></p>\n",
    "<p style=\"float: right;\"><a href=\"upper-type-bounds.ipynb\" target=\"_blank\">Next</a></p>\n",
    "<p style=\"text-align:center;\">Tour of Scala</p>\n",
    "<div style=\"clear: both;\"></div>"
   ]
  }
 ],
 "metadata": {
  "kernelspec": {
   "display_name": "Scala 3.6",
   "language": "scala",
   "name": "scala36"
  },
  "language_info": {
   "codemirror_mode": "text/x-scala",
   "file_extension": ".sc",
   "mimetype": "text/x-scala",
   "name": "scala",
   "nbconvert_exporter": "script",
   "version": "2.13.16"
  }
 },
 "nbformat": 4,
 "nbformat_minor": 4
}
