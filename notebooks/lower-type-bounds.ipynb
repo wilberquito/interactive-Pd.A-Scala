{
 "cells": [
  {
   "cell_type": "markdown",
   "id": "3c3719b3-5e71-485d-9827-51104021ad4f",
   "metadata": {},
   "source": [
    "<p style=\"float: left;\"><a href=\"variances.ipynb\" target=\"_blank\">Previous</a></p>\n",
    "<p style=\"float: right;\"><a href=\"case-classes.ipynb\" target=\"_blank\">Next</a></p>\n",
    "<p style=\"text-align:center;\">Tour of Scala</p>\n",
    "<div style=\"clear: both;\"></div>"
   ]
  },
  {
   "cell_type": "markdown",
   "id": "01300567-9699-4ab6-aa33-97eb8c284b92",
   "metadata": {},
   "source": [
    "# Lower type bounds"
   ]
  },
  {
   "cell_type": "markdown",
   "id": "d02d4cf0-f489-4e6d-a436-2aac86eec63a",
   "metadata": {},
   "source": [
    "We have seen [upper type bounds](upper-types-bounds.ipynb) for type parameters. \n",
    "\n",
    "- In a type parameter declaration such as `T <: U`, \n",
    "- the type parameter **`T` is restricted to range only over <span style=\"color:red\">subtypes</span> of type `U`**.\n",
    "\n",
    "Symmetrical to _upper bounds_ are _lower bounds_ in Scala. \n",
    "\n",
    "- In a type parameter declaration `T >: S`,\n",
    "- the type parameter **`T` is restricted to range only over <span style=\"color:red\">supertypes</span> of type `S`**.\n",
    "\n",
    "Using _lower bounds_, we can generalize the `push` method in `Stack` as follows:\n",
    "\n",
    "```scala\n",
    "class Stack[+A] {\n",
    "    def push[B >: A](elem: B): Stack[B] = . . .\n",
    "}\n",
    "```\n",
    "\n",
    "Technically, this solves our variance problem since **now the type parameter `A` appears no longer\n",
    "in contravariance position**, i.e., as a parameter type of method `push`. Instead, **`A` appears as _lower\n",
    "type bound_ for another type parameter, `B`**.\n",
    "\n",
    "\n",
    "We’ve fixed the variance issue and generalized `push`: **we can now add elements of type `B` (a supertype of `A`), and the returned stack’s type updates accordingly to `Stack[B]`.**"
   ]
  },
  {
   "cell_type": "code",
   "execution_count": null,
   "id": "784b155f-ac24-4e1b-9c4a-762334f78744",
   "metadata": {},
   "outputs": [],
   "source": [
    "abstract class Stack[+A]:\n",
    "    def push[B >: A](x: B): Stack[B] = new NonEmptyStack[B](x, this)\n",
    "    def isEmpty: Boolean\n",
    "    def top: A\n",
    "    def pop: Stack[A]\n",
    "\n",
    "class EmptyStack[A] extends Stack[A]:\n",
    "    def isEmpty = true\n",
    "    def top = throw new Exception(\"EmptyStack.top\")\n",
    "    def pop = throw new Exception(\"EmptyStack.pop\")\n",
    "    override def toString: String = \"--()\"\n",
    "\n",
    "class NonEmptyStack[A](elem: A, rest: Stack[A]) extends Stack[A]:\n",
    "    def isEmpty = false\n",
    "    def top = elem\n",
    "    def pop = rest\n",
    "    override def toString(): String =\n",
    "        \"--\" ++ top.toString() ++ \"--<\" ++ pop.toString()"
   ]
  },
  {
   "cell_type": "markdown",
   "id": "410cd299-b35b-4d06-b174-ee311b9c6065",
   "metadata": {},
   "source": [
    "Not exactly… **Scala 3 introduces union types (`A | B`), so <span style=\"color:red\"> when you push an element of type `B` onto a `Stack[A]`, the resulting stack has the type `Stack[A | B]` instead of `Stack[B]`</span>.**"
   ]
  },
  {
   "cell_type": "code",
   "execution_count": 15,
   "id": "38400308-bddf-435d-9bd5-262ff69710ad",
   "metadata": {},
   "outputs": [
    {
     "data": {
      "text/plain": [
       "\u001b[36mstackInt\u001b[39m: \u001b[32mStack\u001b[39m[\u001b[32mInt\u001b[39m] = --1--<--()"
      ]
     },
     "execution_count": 15,
     "metadata": {},
     "output_type": "execute_result"
    }
   ],
   "source": [
    "val stackInt = new EmptyStack().push(1 : Int)"
   ]
  },
  {
   "cell_type": "code",
   "execution_count": 16,
   "id": "01936675-e328-4e4e-9824-2f084e1af3a4",
   "metadata": {
    "scrolled": true
   },
   "outputs": [
    {
     "data": {
      "text/plain": [
       "\u001b[36mstackDouble\u001b[39m: \u001b[32mStack\u001b[39m[ammonite.$sess.cmd15.wrapper.cmd8.Stack[scala.Int | scala.Double]] = --1.0--<--1--<--()"
      ]
     },
     "execution_count": 16,
     "metadata": {},
     "output_type": "execute_result"
    }
   ],
   "source": [
    "val stackDouble = stackInt.push(1 : Double)"
   ]
  },
  {
   "cell_type": "code",
   "execution_count": 17,
   "id": "93c9c0bf-8ae6-4387-a82f-6161d81615f6",
   "metadata": {},
   "outputs": [
    {
     "data": {
      "text/plain": [
       "\u001b[36mres17\u001b[39m: \u001b[32mStack\u001b[39m[cmd17.this.cmd8.Stack[scala.Int | scala.Double | scala.Char]] = --c--<--1.0--<--1--<--()"
      ]
     },
     "execution_count": 17,
     "metadata": {},
     "output_type": "execute_result"
    }
   ],
   "source": [
    "new EmptyStack().push(1: Int).push(1 : Double).push('c')"
   ]
  },
  {
   "cell_type": "markdown",
   "id": "55dccc89-9616-43f9-8532-a77a5178e2d8",
   "metadata": {},
   "source": [
    "<p style=\"float: left;\"><a href=\"variances.ipynb\" target=\"_blank\">Previous</a></p>\n",
    "<p style=\"float: right;\"><a href=\"case-classes.ipynb\" target=\"_blank\">Next</a></p>\n",
    "<p style=\"text-align:center;\">Tour of Scala</p>\n",
    "<div style=\"clear: both;\"></div>"
   ]
  }
 ],
 "metadata": {
  "kernelspec": {
   "display_name": "Scala 3.6",
   "language": "scala",
   "name": "scala36"
  },
  "language_info": {
   "codemirror_mode": "text/x-scala",
   "file_extension": ".sc",
   "mimetype": "text/x-scala",
   "name": "scala",
   "nbconvert_exporter": "script",
   "version": "2.13.16"
  }
 },
 "nbformat": 4,
 "nbformat_minor": 5
}
