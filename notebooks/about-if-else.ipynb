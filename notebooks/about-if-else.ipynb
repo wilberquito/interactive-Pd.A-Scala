{
 "cells": [
  {
   "cell_type": "markdown",
   "id": "0e6aa19b-0be0-4258-8f6f-c71147a72e56",
   "metadata": {},
   "source": [
    "<p style=\"float: left;\"><a href=\"named-arguments.ipynb\" target=\"_blank\">Previous</a></p>\n",
    "<p style=\"float: right;\"><a href=\"tail-recursion.ipynb\" target=\"_blank\">Next</a></p>\n",
    "<p style=\"text-align:center;\">Tour of Scala</p>\n",
    "<div style=\"clear: both;\"></div>"
   ]
  },
  {
   "cell_type": "markdown",
   "id": "727ff7ac-e44a-4391-8a1e-76153e1417c7",
   "metadata": {},
   "source": [
    "# About if/else"
   ]
  },
  {
   "cell_type": "markdown",
   "id": "b510ae76-e42e-4775-8a8c-48833840b085",
   "metadata": {},
   "source": [
    "## The if/else construct"
   ]
  },
  {
   "cell_type": "markdown",
   "id": "e132d23f-5b77-481d-b0be-5172c929554a",
   "metadata": {},
   "source": [
    "A simple `if` statement looks like this:"
   ]
  },
  {
   "cell_type": "code",
   "execution_count": null,
   "id": "d829e441-4fbd-4ff6-8180-1e235f750342",
   "metadata": {},
   "outputs": [],
   "source": [
    "val x = 1\n",
    "if (x == 1) println(x) // 1"
   ]
  },
  {
   "cell_type": "markdown",
   "id": "b56c33b4-14bd-40bb-90c7-e4990641343f",
   "metadata": {},
   "source": [
    "The `if/else` statement looks like this:"
   ]
  },
  {
   "cell_type": "code",
   "execution_count": 3,
   "id": "e2251475-c8f5-426e-b7e4-8b3f2dda834b",
   "metadata": {},
   "outputs": [
    {
     "name": "stdout",
     "output_type": "stream",
     "text": [
      "x is 1, as you can see:\n",
      "1\n"
     ]
    },
    {
     "data": {
      "text/plain": [
       "\u001b[36mx\u001b[39m: \u001b[32mInt\u001b[39m = \u001b[32m1\u001b[39m"
      ]
     },
     "execution_count": 3,
     "metadata": {},
     "output_type": "execute_result"
    }
   ],
   "source": [
    "val x = 1\n",
    "\n",
    "if (x == 1) {\n",
    "  println(\"x is 1, as you can see:\")\n",
    "  println(x)\n",
    "} else {\n",
    "  println(\"x was not 1\")\n",
    "}"
   ]
  },
  {
   "cell_type": "markdown",
   "id": "75046132-3f19-45b9-a761-5606cee4ab19",
   "metadata": {},
   "source": [
    "And of course diferent executions path can be represented with the `if/else-if/else` like this:"
   ]
  },
  {
   "cell_type": "code",
   "execution_count": 4,
   "id": "3abff76c-a951-499d-99f7-770d7e24fac4",
   "metadata": {},
   "outputs": [
    {
     "name": "stdout",
     "output_type": "stream",
     "text": [
      "positive\n"
     ]
    },
    {
     "data": {
      "text/plain": [
       "\u001b[36mx\u001b[39m: \u001b[32mInt\u001b[39m = \u001b[32m1\u001b[39m"
      ]
     },
     "execution_count": 4,
     "metadata": {},
     "output_type": "execute_result"
    }
   ],
   "source": [
    "val x = 1\n",
    "\n",
    "if (x < 0)\n",
    "  println(\"negative\")\n",
    "else if (x == 0)\n",
    "  println(\"zero\")\n",
    "else\n",
    "  println(\"positive\")"
   ]
  },
  {
   "cell_type": "markdown",
   "id": "39c4fbe4-98ae-4875-b1a0-952b4b224882",
   "metadata": {},
   "source": [
    "## The if/else expression"
   ]
  },
  {
   "cell_type": "markdown",
   "id": "5d294a07-d6df-4d23-8e5a-bd5cee4d8eac",
   "metadata": {},
   "source": [
    "In Scala, the `if/else` can behave as an expression rather than a control statement. \n",
    "\n",
    "<span style=\"color:black\">**When it behaves as an expression the result of the `if/else` expression is a value**, not a decision between execution paths.</span>"
   ]
  },
  {
   "cell_type": "code",
   "execution_count": null,
   "id": "0b12d625-0c99-435d-8677-34699f61da58",
   "metadata": {},
   "outputs": [],
   "source": [
    "val a = 2\n",
    "val b = 4\n",
    "val minValue = if a < b then a else b\n",
    "\n",
    "println(minValue) // 2"
   ]
  },
  {
   "cell_type": "markdown",
   "id": "826ef6ae-1df6-4fb0-a498-e2e3ba54bb57",
   "metadata": {},
   "source": [
    "Because they return a value, you can use `if/else` expressions as the body of a method:"
   ]
  },
  {
   "cell_type": "code",
   "execution_count": 4,
   "id": "319416a3-11ba-4cae-b9fc-6d33a1710869",
   "metadata": {},
   "outputs": [
    {
     "data": {
      "text/plain": [
       "defined \u001b[32mfunction\u001b[39m \u001b[36mcompare\u001b[39m\n",
       "\u001b[36mres4_1\u001b[39m: \u001b[32mString\u001b[39m = \u001b[32m\"==\"\u001b[39m"
      ]
     },
     "execution_count": 4,
     "metadata": {},
     "output_type": "execute_result"
    }
   ],
   "source": [
    "def compare(a: Int, b: Int): String =\n",
    "  if (a < b) then \"<\"\n",
    "  else if (a == b) then \"==\"\n",
    "  else \">\"\n",
    "\n",
    "println(compare(b=2, a=2)) // \"==\""
   ]
  },
  {
   "cell_type": "markdown",
   "id": "3c468e8c-122f-4c93-acc0-abfd70da9410",
   "metadata": {},
   "source": [
    "<p style=\"float: left;\"><a href=\"named-arguments.ipynb\" target=\"_blank\">Previous</a></p>\n",
    "<p style=\"float: right;\"><a href=\"tail-recursion.ipynb\" target=\"_blank\">Next</a></p>\n",
    "<p style=\"text-align:center;\">Tour of Scala</p>\n",
    "<div style=\"clear: both;\"></div>"
   ]
  }
 ],
 "metadata": {
  "kernelspec": {
   "display_name": "Scala 3.6",
   "language": "scala",
   "name": "scala36"
  },
  "language_info": {
   "codemirror_mode": "text/x-scala",
   "file_extension": ".sc",
   "mimetype": "text/x-scala",
   "name": "scala",
   "nbconvert_exporter": "script",
   "version": "2.13.16"
  }
 },
 "nbformat": 4,
 "nbformat_minor": 5
}
