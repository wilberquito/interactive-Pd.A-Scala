{
 "cells": [
  {
   "cell_type": "markdown",
   "metadata": {},
   "source": [
    "<p style=\"float: left;\"><a href=\"_index.ipynb\" target=\"_blank\">Previous</a></p>\n",
    "<p style=\"float: right;\"><a href=\"singleton-objects.ipynb\" target=\"_blank\">Next</a></p>\n",
    "<p style=\"text-align:center;\">Tour of Scala</p>\n",
    "<div style=\"clear: both;\"></div>"
   ]
  },
  {
   "cell_type": "markdown",
   "metadata": {},
   "source": [
    "# Classes\n",
    "\n",
    "Classes in Scala are blueprints for creating objects. \n",
    "\n",
    "They can contain _members_ which can be:\n",
    "\n",
    "- `methods`\n",
    "- `values`,\n",
    "- `variables`\n",
    "- `types`,\n",
    "- `objects`\n",
    "- `traits`\n",
    "- `classes`\n",
    "- $\\cdots$"
   ]
  },
  {
   "cell_type": "markdown",
   "metadata": {},
   "source": [
    "## Defining a class"
   ]
  },
  {
   "cell_type": "markdown",
   "metadata": {},
   "source": [
    "- A minimal class definition is simply the keyword `class`.\n",
    "\n",
    "- Class names should be capitalized.\n",
    "\n",
    "- The primary constructor of a class is in the class signature.\n",
    "\n",
    "    ```scala\n",
    "    class User\n",
    "    \n",
    "    ```\n",
    "\n",
    "    <br/>\n",
    "\n",
    "- The keyword `new` is used to create an instance of the class.\n",
    "    \n",
    "    ```scala\n",
    "    val user1 = new User\n",
    "    \n",
    "    ```"
   ]
  },
  {
   "cell_type": "markdown",
   "metadata": {},
   "source": [
    "- You'll often want constructor parameters with class body, e.g., `Rational`.\n",
    "\n",
    "    ```scala\n",
    "    class Rational(n: Int, d: Int): // supertype AnyRef\n",
    "\n",
    "    private def gcd(x: Int, y: Int): Int =\n",
    "        if (x == 0) y\n",
    "        else if (x < 0) gcd(-x, y)\n",
    "        else if (y < 0) -gcd(x, -y)\n",
    "        else gcd(y % x, x)\n",
    "    \n",
    "    private val g = gcd(n, d)\n",
    "    \n",
    "    val numer: Int = n/g\n",
    "    val denom: Int = d/g\n",
    "    \n",
    "    def +(that: Rational) =\n",
    "        new Rational(numer * that.denom + that.numer * denom, denom * that.denom)\n",
    "    \n",
    "    def -(that: Rational) = \n",
    "        new Rational(numer * that.denom - that.numer * denom, denom * that.denom)\n",
    "    \n",
    "    def *(that: Rational) =\n",
    "        new Rational(numer * that.numer, denom * that.denom)\n",
    "    \n",
    "    def /(that: Rational) =\n",
    "        new Rational(numer * that.denom, denom * that.numer)\n",
    "\n",
    "    override def toString = \"\" + numer + \"/\" + denom  // As in Java you can override methods defined in parent classes\n",
    "    \n",
    "    ```\n",
    "\n",
    "    <br/>\n",
    "\n",
    "    - Instantiate objects of type `Rational`:\n",
    "     \n",
    "        ```scala\n",
    "        val a = new Rational(2, 3) // 2/3\n",
    "        val b = new Rational(4, 9) // 4/9\n",
    "        a + b // 10/9\n",
    "        \n",
    "        ```"
   ]
  },
  {
   "cell_type": "markdown",
   "metadata": {},
   "source": [
    "## Constructors"
   ]
  },
  {
   "cell_type": "markdown",
   "metadata": {},
   "source": [
    "**Constructors can have optional parameters by providing a default value** like so:\n",
    "\n",
    "\n",
    "```scala\n",
    "class Point(var x: Int = 0, var y: Int = 0)\n",
    "\n",
    "val origin = new Point  // x and y are both set to 0\n",
    "val point1 = new Point(1)\n",
    "\n",
    "println(point1.x)  // 1\n",
    "println(origin.y)  // 0\n",
    "\n",
    "```"
   ]
  },
  {
   "cell_type": "markdown",
   "metadata": {},
   "source": [
    "- Because the constructor reads arguments left to right, **if you just wanted to pass in a `y` value, you would need to name the parameter.**\n",
    "\n",
    "    ```scala\n",
    "    val point2 = new Point(y=2)\n",
    "    \n",
    "    println(point2.y)  // 2\n",
    "    ```"
   ]
  },
  {
   "cell_type": "markdown",
   "metadata": {},
   "source": [
    "## Private members and getter/setter."
   ]
  },
  {
   "cell_type": "markdown",
   "metadata": {},
   "source": [
    "- **Members are public by default.**\n",
    "  \n",
    "- Use the `private` access modifier to hide them from outside of the class.\n",
    "  \n",
    "- In this version of the `Point` class:\n",
    "\n",
    "    ```scala\n",
    "    class Point:\n",
    "      private var _x = 0\n",
    "      private var _y = 0\n",
    "      private val bound = 100\n",
    "    \n",
    "      def x = _x // Getter & setter of private data\n",
    "    \n",
    "      def x_= (newValue: Int): Unit = // <- Setter validator, called by setter automatically\n",
    "        if (newValue < bound) _x = newValue else printWarning\n",
    "    \n",
    "      def y = _y\n",
    "    \n",
    "      def y_= (newValue: Int): Unit =\n",
    "        if (newValue < bound) _y = newValue else printWarning\n",
    "    \n",
    "      private def printWarning = println(\"WARNING: Out of bounds\")\n",
    "    \n",
    "    ```\n",
    "\n",
    "    <br/>\n",
    "    \n",
    "    - The data is stored in private variables `_x` and `_y`.\n",
    "      \n",
    "    - There are methods `def x` and `def y` for accessing the private data.\n",
    "      \n",
    "    - `def x_=` and `def y_=` are for validating and setting the value of `_x` and `_y`.\n",
    " \n",
    "      Questions...🖐️\n",
    "    \n",
    "        ```scala\n",
    "        val point1 = new Point\n",
    "        \n",
    "        point1.x = 99\n",
    "        point1.y = 101\n",
    "        \n",
    "        ```\n",
    "  \n",
    "        <br/>\n",
    "        \n",
    "        - _What assignment prints a warning, and why?_\n",
    "          \n",
    "        - _What will print `println(point1.y)`?_"
   ]
  },
  {
   "cell_type": "markdown",
   "metadata": {},
   "source": [
    "- **Primary constructor parameters with `val` and `var` are public.**\n",
    "\n",
    "    ```scala\n",
    "    class Point(val x: Int, val y: Int)\n",
    "    val point = new Point(1, 2)\n",
    "    println(point.x) // 1\n",
    "    \n",
    "    ```\n",
    "\n",
    "    <br/>\n",
    "    \n",
    "    Question...🖐️\n",
    "\n",
    "    - _Is this `point.x = 3` allowed?_"
   ]
  },
  {
   "cell_type": "markdown",
   "metadata": {},
   "source": [
    "- **Parameters without `val` or `var` are private values and not mutable**, visible only within the class.\n",
    "\n",
    "    ```scala\n",
    "    class Point(x: Int, y: Int)\n",
    "    val point = new Point(1, 2)\n",
    "    println(point.x) // Does not compile!!\n",
    "    ```"
   ]
  },
  {
   "cell_type": "markdown",
   "metadata": {},
   "source": [
    "<p style=\"float: left;\"><a href=\"_index.ipynb\" target=\"_blank\">Previous</a></p>\n",
    "<p style=\"float: right;\"><a href=\"singleton-objects.ipynb\" target=\"_blank\">Next</a></p>\n",
    "<p style=\"text-align:center;\">Tour of Scala</p>\n",
    "<div style=\"clear: both;\"></div>"
   ]
  }
 ],
 "metadata": {
  "kernelspec": {
   "display_name": "Scala 3.6",
   "language": "scala",
   "name": "scala36"
  },
  "language_info": {
   "codemirror_mode": "text/x-scala",
   "file_extension": ".sc",
   "mimetype": "text/x-scala",
   "name": "scala",
   "nbconvert_exporter": "script",
   "version": "2.13.16"
  }
 },
 "nbformat": 4,
 "nbformat_minor": 4
}
