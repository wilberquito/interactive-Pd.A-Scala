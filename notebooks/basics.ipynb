{
 "cells": [
  {
   "cell_type": "markdown",
   "metadata": {},
   "source": [
    "<p style=\"float: left;\"><a href=\"first-example.ipynb\" target=\"_blank\">Previous</a></p>\n",
    "<p style=\"float: right;\"><a href=\"unified-types.ipynb\" target=\"_blank\">Next</a></p>\n",
    "<p style=\"text-align:center;\">Tour of Scala</p>\n",
    "<div style=\"clear: both;\"></div>"
   ]
  },
  {
   "cell_type": "markdown",
   "metadata": {},
   "source": [
    "# Basics\n",
    "\n",
    "In this page, we will cover basics of Scala."
   ]
  },
  {
   "cell_type": "markdown",
   "metadata": {},
   "source": [
    "### Expressions"
   ]
  },
  {
   "cell_type": "markdown",
   "metadata": {},
   "source": [
    "- **An expression is any construct that can be evaluated to produce a value.** \n",
    "\n",
    "    - It is any piece of code that **has both a type and a value.**\n",
    "    - **Their evaluation is free of side effects**.\n",
    "\n",
    "Expression example:\n",
    "\n",
    "```scala\n",
    "1 + 1 // 2\n",
    "```"
   ]
  },
  {
   "cell_type": "markdown",
   "metadata": {},
   "source": [
    "### Statement"
   ]
  },
  {
   "cell_type": "markdown",
   "metadata": {},
   "source": [
    "- A statement is any piece of code that changes the state of a program. This may involve:\n",
    "    - Updating variables.\n",
    "     - Altering the program’s control flow.\n",
    "     - Or producing side effects such as `input/output` operations.\n",
    "- **Every statement in Scala has type `Unit`. The `Unit` type has exactly one value: `()`.** Therefore, when evaluated, each statement produces the value `()`.\n",
    "\n",
    "Statement example:\n",
    "\n",
    "```scala\n",
    "println(1) // 1\n",
    "println(1 + 1) // 2\n",
    "println(\"Hello!\") // Hello!\n",
    "println(\"Hello,\" + \" world!\") // Hello, world!\n",
    "\n",
    "```"
   ]
  },
  {
   "cell_type": "markdown",
   "metadata": {},
   "source": [
    "### Values\n",
    "\n",
    "- You can name results of expressions with the `val` keyword.\n",
    "    \n",
    "    ```scala\n",
    "    val x = 1 + 1\n",
    "    println(x) // 2\n",
    "    \n",
    "    ```"
   ]
  },
  {
   "cell_type": "markdown",
   "metadata": {},
   "source": [
    "- Named results, such as `x` here, are called values. <span style=\"color:red\">**Values cannot be re-assigned.**</span>\n",
    "\n",
    "    ```scala\n",
    "    val x = 1 + 1\n",
    "    x = 3 // This does not compile.\n",
    "    \n",
    "    ```"
   ]
  },
  {
   "cell_type": "markdown",
   "metadata": {},
   "source": [
    "- Types of values can be inferred, but you can also explicitly state the type, like this:\n",
    "    \n",
    "    ```scala\n",
    "    val x: Double = 1 + 1\n",
    "    \n",
    "    ```\n",
    "    <br/>\n",
    "    \n",
    "    **Notice how the type declaration `:Int` comes after the identifier `x`.**"
   ]
  },
  {
   "cell_type": "markdown",
   "metadata": {},
   "source": [
    "### Variables"
   ]
  },
  {
   "cell_type": "markdown",
   "metadata": {},
   "source": [
    "- Variables are like values, except you can re-assign them. You can define a variable with the `var` keyword.\n",
    "    \n",
    "    ```scala\n",
    "    var x = 1 + 1\n",
    "    x = 3 // This compiles because \"x\" is declared with the \"var\" keyword.\n",
    "    println(x * x) // 9\n",
    "    \n",
    "    ```\n",
    "\n",
    "    <br/>\n",
    "\n",
    "- As with values, you can explicitly state the type if you want:\n",
    "    \n",
    "    ```scala\n",
    "    var x: Int = 1 + 1 // 2\n",
    "    \n",
    "    ```"
   ]
  },
  {
   "cell_type": "markdown",
   "metadata": {},
   "source": [
    "## Blocks\n",
    "\n",
    "- You can combine expressions by surrounding them with `{}`. We call this a block.\n",
    "- <span style=\"color:black\">**The result of the last expression in the block is the result of the overall block.**</span>\n",
    "\n",
    "Block example:\n",
    "\n",
    "```scala\n",
    "println({\n",
    "  val x = 1 + 1\n",
    "  x + 1\n",
    "}) // 3\n",
    "\n",
    "```"
   ]
  },
  {
   "cell_type": "markdown",
   "metadata": {},
   "source": [
    "## Functions\n",
    "\n",
    "- **Functions are expressions that take parameters and are evaluated to some value.**\n",
    "- You can define an anonymous function (i.e. no name):\n",
    "\n",
    "    ```scala\n",
    "    (x: Int) => x + 1 // Int => Int\n",
    "    \n",
    "    ```"
   ]
  },
  {
   "cell_type": "markdown",
   "metadata": {},
   "source": [
    "- You can also name functions.\n",
    "\n",
    "    ```scala\n",
    "    val addOne = (x: Int) => x + 1\n",
    "    println(addOne(1)) // 2\n",
    "    \n",
    "    ```\n"
   ]
  },
  {
   "cell_type": "markdown",
   "metadata": {},
   "source": [
    "- Functions may take multiple parameters.\n",
    "\n",
    "    ```scala\n",
    "    val add = (x: Int, y: Int) => x + y\n",
    "    println(add(1, 2)) // 3\n",
    "    \n",
    "    ```"
   ]
  },
  {
   "cell_type": "markdown",
   "metadata": {},
   "source": [
    "- Or it can take no parameters.\n",
    "\n",
    "    ```scala\n",
    "    val getTheAnswer = () => 42\n",
    "    println(getTheAnswer()) // 42\n",
    "    \n",
    "    ```"
   ]
  },
  {
   "cell_type": "markdown",
   "metadata": {},
   "source": [
    "## Methods"
   ]
  },
  {
   "cell_type": "markdown",
   "metadata": {},
   "source": [
    "\n",
    "- Methods look and behave very similar to functions.\n",
    "\n",
    "- Methods are defined with the `def` keyword. The keyword `def` is followed by a name, parameter lists, a return type, and a body.\n",
    "\n",
    "    ```scala\n",
    "    def add(x: Int, y: Int): Int = x + y\n",
    "    \n",
    "    println(add(1, 2)) // 3\n",
    "    \n",
    "    ```"
   ]
  },
  {
   "cell_type": "markdown",
   "metadata": {},
   "source": [
    "- Methods can take multiple parameter lists.\n",
    "\n",
    "    ```scala\n",
    "    def addThenMultiply(x: Int, y: Int)(multiplier: Int): Int = (x + y) * multiplier\n",
    "    \n",
    "    println(addThenMultiply(1, 2)(3)) // 9\n",
    "    \n",
    "    ```"
   ]
  },
  {
   "cell_type": "markdown",
   "metadata": {},
   "source": [
    "- Or no parameter lists at all.\n",
    "\n",
    "    ```scala\n",
    "    def name: String = System.getProperty(\"user.name\")\n",
    "    \n",
    "    println(\"Hello, \" + name + \"!\") // Hello, wilberquito!\n",
    "    \n",
    "    ```"
   ]
  },
  {
   "cell_type": "markdown",
   "metadata": {},
   "source": [
    "- <span style=\"color:black\">The last expression in the body is the method's return value.</span>\n",
    "\n",
    "    ```scala\n",
    "    def getSquareString(input: Double): String =\n",
    "      val square = input * input\n",
    "      square.toString\n",
    "    \n",
    "    ```\n",
    "    <br/>\n",
    "\n",
    "- <span style=\"color:red\">**Scala has the `return` keyword, but it is not recommended to be used.</span>**"
   ]
  },
  {
   "cell_type": "markdown",
   "metadata": {},
   "source": [
    "## Functions vs. methods"
   ]
  },
  {
   "cell_type": "markdown",
   "metadata": {},
   "source": [
    "- Currying with function values means explicitly defining functions that return other functions.\n",
    "\n",
    "    ```scala\n",
    "    val add = (a: Int) => (b: Int) => a + b\n",
    "    val partialAdd1 = add(1)\n",
    "    \n",
    "    println(partialAdd1(21))  // 22\n",
    "    \n",
    "    ```\n",
    "    <br/>\n",
    "\n",
    "- Methods in the other hand, uses multiple parameter lists achieves a similar effect, but the compiler takes care of turning partial applications into functions.\n",
    "\n",
    "    ```scala\n",
    "    def add(a: Int)(b: Int) = a + b\n",
    "    val partialAdd1 = add(1)\n",
    "    \n",
    "    println(partialAdd1(2))  // 3\n",
    "    \n",
    "    ```"
   ]
  },
  {
   "cell_type": "markdown",
   "metadata": {},
   "source": [
    "- Methods can have named and default arguments, functions can't.\n",
    "    \n",
    "    ```scala\n",
    "    def adder1(a: Int, b: Int)(c: Int = 1) = a + b + c\n",
    "    \n",
    "    println(adder1(b=1, a=3)()) // 5\n",
    "    \n",
    "    ```"
   ]
  },
  {
   "cell_type": "markdown",
   "metadata": {},
   "source": [
    "3) Methods are not values that can be passed around. **But Scala hiddenly turns methods into a functions via _eta-expansion_**, it can not go the other way around.\n",
    "\n",
    "    **The _eta-expansion_ of an expression `e` is the expression `fn z => e z`, where `z` does not occur in `e`.**\n",
    "        \n",
    "    - This only makes sense if `e` denotes a function, i.e. is of arrow type.\n",
    "    - _eta-expansion_ delays the evaluation of e until the function is applied,\n",
    "    - and will re-evaluate `e` each time the function is applied.\n",
    "  \n",
    "   <br/>\n",
    "    \n",
    "        \n",
    "    ```scala\n",
    "    def times10(i: Int) = i * 10       // a method\n",
    "    \n",
    "    List(1, 2, 3).map(x => times10(x)) // List(10, 20, 30)\n",
    "    List(1, 2, 3).map(times10)         // <- hidden eta-expansion\n",
    "\n",
    "    ```"
   ]
  },
  {
   "cell_type": "markdown",
   "metadata": {},
   "source": [
    "## Classes"
   ]
  },
  {
   "cell_type": "markdown",
   "metadata": {},
   "source": [
    "- You can define classes with the `class` keyword followed by its name and constructor parameters.\n",
    "\n",
    "```scala\n",
    "class Greeter(prefix: String, suffix: String):\n",
    "  def greet(name: String): Unit =\n",
    "    println(prefix + name + suffix)\n",
    "    \n",
    "```"
   ]
  },
  {
   "cell_type": "markdown",
   "metadata": {},
   "source": [
    "- You can make an instance of a class with the `new` keyword.\n",
    "\n",
    "```scala\n",
    "val greeter = new Greeter(\"Hello, \", \"!\")\n",
    "greeter.greet(\"Scala developer\") // Hello, Scala developer!\n",
    "\n",
    "```"
   ]
  },
  {
   "cell_type": "markdown",
   "metadata": {},
   "source": [
    "- By default, instances of classes are compared by reference.\n",
    "\n",
    "```scala\n",
    "val greeter1 = new Greeter(\"Hello, \", \"!\")\n",
    "val greeter2 = new Greeter(\"Hello, \", \"!\")\n",
    "\n",
    "gretter1 == greater2 // false"
   ]
  },
  {
   "cell_type": "markdown",
   "metadata": {},
   "source": [
    "## Case classes"
   ]
  },
  {
   "cell_type": "markdown",
   "metadata": {},
   "source": [
    "- By default, **case classes are immutable and compared by value.** You can define case classes with the `case class` keywords.\n",
    "\n",
    "    ```scala\n",
    "    case class Point(x: Int, y: Int)\n",
    "    \n",
    "    ```\n",
    "\n",
    "- You can instantiate case classes without `new` keyword.\n",
    "\n",
    "    ```scala\n",
    "    val point = Point(1, 2)\n",
    "    println(point) // Point(1,2)\n",
    "    \n",
    "    ```\n",
    "\n",
    "- Case class objects can be compared by value.\n",
    "\n",
    "    ```scala\n",
    "    val q = Point(1, 2)\n",
    "    val p = Point(1, 2)\n",
    "    q == p // true\n",
    "    \n",
    "    ```"
   ]
  },
  {
   "cell_type": "markdown",
   "metadata": {},
   "source": [
    "## Objects\n",
    "\n",
    "- Objects are single instances of their own definitions. You can think of them as singletons of their own classes.\n",
    "\n",
    "- You can define objects with the `object` keyword.\n",
    "\n",
    "    ```scala\n",
    "    object IdFactory:\n",
    "      private var counter = 0\n",
    "    \n",
    "      def create(): Int =\n",
    "        counter += 1\n",
    "        counter\n",
    "    \n",
    "    ```\n",
    "\n",
    "- You can access an object by referring to its name.\n",
    "\n",
    "    ```scala\n",
    "    val newId: Int = IdFactory.create()\n",
    "    println(newId)    // 1\n",
    "    val newerId: Int = IdFactory.create()\n",
    "    println(newerId)  // 2\n",
    "    \n",
    "    ```"
   ]
  },
  {
   "cell_type": "markdown",
   "metadata": {},
   "source": [
    "## Traits\n",
    "\n",
    "- **Traits are types containing certain fields and methods.** You can define traits with `trait` keyword.\n",
    "\n",
    "    ```scala\n",
    "    trait Greeter:\n",
    "      def greet(name: String): Unit\n",
    "    \n",
    "    ```\n",
    "\n",
    "- Multiple traits can be combined.\n",
    "\n",
    "\n",
    "- Traits can also have default implementations.\n",
    "\n",
    "    ```scala\n",
    "    trait Greeter:\n",
    "      def greet(name: String): Unit =\n",
    "        println(\"Hello, \" + name + \"!\") // default implementation\n",
    "    \n",
    "    class DefaultGreeter extends Greeter\n",
    "    \n",
    "    class CustomizableGreeter(prefix: String, postfix: String) extends Greeter:\n",
    "      override def greet(name: String): Unit = // overrides implementation\n",
    "        println(prefix + name + postfix)\n",
    "    \n",
    "    // Defining greeters... :p\n",
    "    \n",
    "    val greeter = new DefaultGreeter()\n",
    "    greeter.greet(\"Scala developer\") // Hello, Scala developer!\n",
    "    \n",
    "    val customGreeter = new CustomizableGreeter(\"How are you, \", \"?\")\n",
    "    customGreeter.greet(\"Scala developer\") // How are you, Scala developer?\n",
    "    \n",
    "    ```\n",
    "\n",
    "- <span style=\"color:red\">**If multiple traits define the same attribute name, Scala 3 requires you to explicitly resolve the conflict (by overriding `override`) whenever there are competing concrete definitions.**</span>"
   ]
  },
  {
   "cell_type": "markdown",
   "metadata": {},
   "source": [
    "## Main Method"
   ]
  },
  {
   "cell_type": "markdown",
   "metadata": {},
   "source": [
    "- The `main` method is an entry point of a program.\n",
    "- The Java Virtual\n",
    "Machine requires a main method to be named `main` and take one\n",
    "argument, an array of strings.\n",
    "\n",
    "Example:\n",
    "\n",
    "```scala\n",
    "object Main {\n",
    "  def main(args: Array[String]): Unit =\n",
    "    println(\"Hello, Scala developer!\")\n",
    "}\n",
    "\n",
    "```"
   ]
  },
  {
   "cell_type": "markdown",
   "metadata": {},
   "source": [
    "<p style=\"float: left;\"><a href=\"first-example.ipynb\" target=\"_blank\">Previous</a></p>\n",
    "<p style=\"float: right;\"><a href=\"unified-types.ipynb\" target=\"_blank\">Next</a></p>\n",
    "<p style=\"text-align:center;\">Tour of Scala</p>\n",
    "<div style=\"clear: both;\"></div>"
   ]
  }
 ],
 "metadata": {
  "kernelspec": {
   "display_name": "Scala 3.6",
   "language": "scala",
   "name": "scala36"
  },
  "language_info": {
   "codemirror_mode": "text/x-scala",
   "file_extension": ".sc",
   "mimetype": "text/x-scala",
   "name": "scala",
   "nbconvert_exporter": "script",
   "version": "2.13.16"
  }
 },
 "nbformat": 4,
 "nbformat_minor": 4
}
