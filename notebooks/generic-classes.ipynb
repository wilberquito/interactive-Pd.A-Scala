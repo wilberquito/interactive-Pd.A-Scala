{
 "cells": [
  {
   "cell_type": "markdown",
   "metadata": {},
   "source": [
    "<p style=\"float: left;\"><a href=\"traits.ipynb\" target=\"_blank\">Previous</a></p>\n",
    "<p style=\"float: right;\"><a href=\"polymorphic-methods.ipynb\" target=\"_blank\">Next</a></p>\n",
    "<p style=\"text-align:center;\">Tour of Scala</p>\n",
    "<div style=\"clear: both;\"></div>"
   ]
  },
  {
   "cell_type": "markdown",
   "metadata": {},
   "source": [
    "# Generic Classes\n",
    "\n",
    "**Generic classes are classes which take a type as a parameter.** They are particularly useful for defining collection classes."
   ]
  },
  {
   "cell_type": "markdown",
   "metadata": {},
   "source": [
    "## Defining a generic class\n",
    "\n",
    "Generic classes take a type as a variable within square brackets `[]`. One convention is to use the letter `A` as type variable identifier, though any parameter name may be used."
   ]
  },
  {
   "cell_type": "code",
   "execution_count": null,
   "metadata": {
    "attributes": {
     "classes": [
      "tut"
     ],
     "id": ""
    }
   },
   "outputs": [],
   "source": [
    "class Stack[A]:\n",
    "  private var elements: List[A] = Nil\n",
    "  def push(x: A): Unit = { elements = x :: elements }\n",
    "  def peek: A = elements.head\n",
    "  def pop: A =\n",
    "    val currentTop = peek\n",
    "    elements = elements.tail\n",
    "    currentTop"
   ]
  },
  {
   "cell_type": "markdown",
   "metadata": {},
   "source": [
    "This implementation of a `Stack` class takes any type `A` as a parameter. \n",
    "\n",
    "- The underlying list, `var elements: List[A] = Nil`, can only store elements of type `A`.\n",
    "- The procedure `def push` only accepts objects of type `A`."
   ]
  },
  {
   "cell_type": "markdown",
   "metadata": {},
   "source": [
    "## Usage"
   ]
  },
  {
   "cell_type": "markdown",
   "metadata": {},
   "source": [
    "To use a generic class, put the type in the square brackets in place of `A`. \n",
    "\n",
    "We could instantiate an instance of `Stack[Int]` that can only take `Int` as follows:"
   ]
  },
  {
   "cell_type": "code",
   "execution_count": null,
   "metadata": {},
   "outputs": [],
   "source": [
    "val stack = new Stack[Int]\n",
    "stack.push(1)\n",
    "stack.push(2)\n",
    "println(stack.pop) // 2\n",
    "println(stack.pop) // 1\n",
    "println(stack.pop) // ???"
   ]
  },
  {
   "cell_type": "markdown",
   "metadata": {},
   "source": [
    "Question...🖐️\n",
    "\n",
    "- _What will happen at the execution of the third `pop`?_"
   ]
  },
  {
   "cell_type": "markdown",
   "metadata": {},
   "source": [
    "**If the type argument had subtypes, instances of those could be passed in:**"
   ]
  },
  {
   "cell_type": "code",
   "execution_count": null,
   "metadata": {},
   "outputs": [],
   "source": [
    "class Fruit\n",
    "\n",
    "class Apple extends Fruit:\n",
    "    override def toString() = \"I am an apple\"\n",
    "class Banana extends Fruit:\n",
    "    override def toString() = \"I am a banana\"\n",
    "\n",
    "val stack = new Stack[Fruit]\n",
    "val apple = new Apple\n",
    "val banana = new Banana\n",
    "\n",
    "stack.push(apple)\n",
    "stack.push(banana)\n",
    "\n",
    "println(stack.pop) // I am a banana\n",
    "println(stack.pop) // I am an apple"
   ]
  },
  {
   "cell_type": "markdown",
   "metadata": {},
   "source": [
    "- Both `Apple` and `Banana` classes extend the `Fruit` class, which allows us to push instances of `Apple` and `Banana` onto a stack of `Fruit`.\n",
    "- Due to **dynamic binding**, the method `toString` is determined by the actual runtime type of the object."
   ]
  },
  {
   "cell_type": "markdown",
   "metadata": {},
   "source": [
    "## Subtyping of generic types"
   ]
  },
  {
   "cell_type": "markdown",
   "metadata": {},
   "source": [
    "**In Scala, generic types are invariant by default.** This means: \n",
    "\n",
    "- even if `T <: A`, it does not imply that `K[T] <: K[A]`.\n",
    "- `K[T]` is only a subtype of `K[A]` if `T` and `A` are exactly the same type.\n",
    "- Otherwise, allowing such subtyping would break type safety (unsoundness)."
   ]
  },
  {
   "cell_type": "markdown",
   "metadata": {},
   "source": [
    "<a href=\"https://docs.scala-lang.org/resources/images/tour/type-casting-diagram.svg\"><img  style=\"width:100%\" src=\"https://docs.scala-lang.org/resources/images/tour/type-casting-diagram.svg\" alt=\"Scala Type Hierarchy\"></a>"
   ]
  },
  {
   "cell_type": "markdown",
   "metadata": {},
   "source": [
    "For example `Char <: Int`, yet an `Stack[Char]` cannot be used as `Stack[Int]`. **Otherwise, this would be unsound because it would enable us to enter true integers into the character stack.** "
   ]
  },
  {
   "cell_type": "code",
   "execution_count": 12,
   "metadata": {},
   "outputs": [
    {
     "data": {
      "text/plain": [
       "\u001b[36mstackInt\u001b[39m: \u001b[32mStack\u001b[39m[\u001b[32mInt\u001b[39m] = ammonite.$sess.cmd2$Helper$Stack@4b44a374\n",
       "\u001b[36mstackChar\u001b[39m: \u001b[32mStack\u001b[39m[\u001b[32mChar\u001b[39m] = ammonite.$sess.cmd2$Helper$Stack@64e36e7d\n",
       "defined \u001b[32mfunction\u001b[39m \u001b[36mpush\u001b[39m"
      ]
     },
     "execution_count": 12,
     "metadata": {},
     "output_type": "execute_result"
    }
   ],
   "source": [
    "val stackInt = new Stack[Int]\n",
    "val stackChar = new Stack[Char]\n",
    "\n",
    "def push(stack: Stack[Int], e: Int): Unit =\n",
    "    stack.push(e)\n",
    "    println(s\"Int $e pushed into the stack\")"
   ]
  },
  {
   "cell_type": "code",
   "execution_count": 13,
   "metadata": {},
   "outputs": [
    {
     "name": "stdout",
     "output_type": "stream",
     "text": [
      "Int 87 pushed into the stack\n"
     ]
    }
   ],
   "source": [
    "push(stackInt, 'W')"
   ]
  },
  {
   "cell_type": "code",
   "execution_count": 14,
   "metadata": {},
   "outputs": [
    {
     "name": "stdout",
     "output_type": "stream",
     "text": [
      "Int 2 pushed into the stack\n"
     ]
    }
   ],
   "source": [
    "push(stackInt, 2)"
   ]
  },
  {
   "cell_type": "code",
   "execution_count": 13,
   "metadata": {},
   "outputs": [
    {
     "name": "stderr",
     "output_type": "stream",
     "text": [
      "-- [E007] Type Mismatch Error: cmd14.sc:1:17 -----------------------------------\n",
      "1 |val res14 = push(stackChar, 2)\n",
      "  |                 ^^^^^^^^^\n",
      "  |Found:    (cmd14.this.cmd12.stackChar : ammonite.$sess.cmd12².wrapper.cmd2.Stack[Char])\n",
      "  |Required: ammonite.$sess.cmd12².wrapper.cmd2.Stack[Int]\n",
      "  |\n",
      "  |where:    cmd12  is a value in class cmd14\n",
      "  |          cmd12² is a object in package ammonite.$sess\n",
      "  |\n",
      "  | longer explanation available when compiling with `-explain`\n",
      "Compilation Failed"
     ]
    }
   ],
   "source": [
    "push(stackChar, 2)"
   ]
  },
  {
   "cell_type": "markdown",
   "metadata": {},
   "source": [
    "Since this can be quite restrictive, Scala offers a [type parameter annotation mechanism](variances.ipynb) to control the subtyping behavior of generic types."
   ]
  },
  {
   "cell_type": "markdown",
   "metadata": {},
   "source": [
    "<p style=\"float: left;\"><a href=\"traits.ipynb\" target=\"_blank\">Previous</a></p>\n",
    "<p style=\"float: right;\"><a href=\"polymorphic-methods.ipynb\" target=\"_blank\">Next</a></p>\n",
    "<p style=\"text-align:center;\">Tour of Scala</p>\n",
    "<div style=\"clear: both;\"></div>"
   ]
  }
 ],
 "metadata": {
  "kernelspec": {
   "display_name": "Scala 3.6",
   "language": "scala",
   "name": "scala36"
  },
  "language_info": {
   "codemirror_mode": "text/x-scala",
   "file_extension": ".sc",
   "mimetype": "text/x-scala",
   "name": "scala",
   "nbconvert_exporter": "script",
   "version": "2.13.16"
  }
 },
 "nbformat": 4,
 "nbformat_minor": 4
}
