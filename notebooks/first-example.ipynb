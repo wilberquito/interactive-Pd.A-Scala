{
 "cells": [
  {
   "cell_type": "markdown",
   "id": "5b110dde-b4f1-40ae-aa29-facc1847540a",
   "metadata": {},
   "source": [
    "<p style=\"float: left;\"><a href=\"developing-tools.ipynb\" target=\"_blank\">Previous</a></p>\n",
    "<p style=\"float: right;\"><a href=\"basics.ipynb\" target=\"_blank\">Next</a></p>\n",
    "<p style=\"text-align:center;\">Tour of Scala</p>\n",
    "<div style=\"clear: both;\"></div>"
   ]
  },
  {
   "cell_type": "markdown",
   "id": "802c9fb8-dac4-4ada-af89-9d3c0b2ad074",
   "metadata": {},
   "source": [
    "# First example"
   ]
  },
  {
   "cell_type": "markdown",
   "id": "b90f2333-0a37-4609-84b4-7533d913b34c",
   "metadata": {},
   "source": [
    "A first example using Scala. Here, we see Scala's multiparadigm strength."
   ]
  },
  {
   "cell_type": "markdown",
   "id": "9a94f126-3587-4be7-83ab-a085d3243158",
   "metadata": {
    "jp-MarkdownHeadingCollapsed": true
   },
   "source": [
    "## Scala as a \"conventional\" language"
   ]
  },
  {
   "cell_type": "code",
   "execution_count": 3,
   "id": "029a1c6f-73db-4c70-a5d9-cd778a0ae2cc",
   "metadata": {},
   "outputs": [
    {
     "data": {
      "text/plain": [
       "\u001b[32mimport \u001b[39m\u001b[36mscala.language.postfixOps\u001b[39m\n",
       "defined \u001b[32mobject\u001b[39m \u001b[36mSort\u001b[39m"
      ]
     },
     "execution_count": 3,
     "metadata": {},
     "output_type": "execute_result"
    }
   ],
   "source": [
    "import scala.language.postfixOps\n",
    "\n",
    "object Sort {\n",
    "    def sort(xs: Array[Int]): Unit = {\n",
    "        def swap(i: Int, j: Int): Unit = {\n",
    "          val t = xs(i)\n",
    "          xs(i) = xs(j)\n",
    "          xs(j) = t\n",
    "        }\n",
    "        def sort1(l: Int, r: Int): Unit = {\n",
    "          val pivot = xs((l + r) / 2)\n",
    "          var i = l\n",
    "          var j = r\n",
    "          while (i <= j) {\n",
    "            while (xs(i) < pivot) i += 1\n",
    "            while (xs(j) > pivot) j -= 1\n",
    "            if (i <= j) {\n",
    "              swap(i, j)\n",
    "              i += 1\n",
    "              j -= 1\n",
    "            }\n",
    "          }\n",
    "          if (l < j) sort1(l, j)\n",
    "          if (i < r) sort1(i, r)\n",
    "        }\n",
    "        sort1(0, xs.length - 1)\n",
    "    }\n",
    "}"
   ]
  },
  {
   "cell_type": "code",
   "execution_count": 5,
   "id": "82d58743-0234-452c-8ac0-5b4682b88b2d",
   "metadata": {},
   "outputs": [
    {
     "data": {
      "text/plain": [
       "\u001b[36mx\u001b[39m: \u001b[32mArray\u001b[39m[\u001b[32mInt\u001b[39m] = \u001b[33mArray\u001b[39m(\u001b[32m4\u001b[39m, \u001b[32m2\u001b[39m, \u001b[32m3\u001b[39m, \u001b[32m5\u001b[39m, \u001b[32m6\u001b[39m, \u001b[32m10\u001b[39m, \u001b[32m1\u001b[39m, \u001b[32m15\u001b[39m, \u001b[32m25\u001b[39m, \u001b[32m7\u001b[39m)"
      ]
     },
     "execution_count": 5,
     "metadata": {},
     "output_type": "execute_result"
    }
   ],
   "source": [
    "val x = Array(4, 2, 3, 5, 6, 10, 1, 15, 25, 7)"
   ]
  },
  {
   "cell_type": "markdown",
   "id": "d25ac7f9-71e5-4faf-9d20-faeb2d100ccd",
   "metadata": {},
   "source": [
    "What are you thoughts about the state of the array `x` after sort is executed?"
   ]
  },
  {
   "cell_type": "code",
   "execution_count": 6,
   "id": "c6a5a052-f76c-422d-9178-a27ea425607a",
   "metadata": {},
   "outputs": [],
   "source": [
    "Sort.sort(x)"
   ]
  },
  {
   "cell_type": "code",
   "execution_count": 7,
   "id": "eb810519-84a6-41ba-b519-95de72c8269a",
   "metadata": {},
   "outputs": [],
   "source": [
    "// x"
   ]
  },
  {
   "cell_type": "markdown",
   "id": "75949dae-8c1b-44ab-9c21-f24d50c17e9d",
   "metadata": {},
   "source": [
    "### Code details"
   ]
  },
  {
   "cell_type": "markdown",
   "id": "e1d0f469-a909-4dde-964d-c2a3762729d0",
   "metadata": {},
   "source": [
    "Definitions start with a reserved word. Function definitions start with `def`,\n",
    "variable definitions start with `var` and definitions of values (i.e. read only variables) start with `val`."
   ]
  },
  {
   "cell_type": "markdown",
   "id": "f7dde71e-886d-4382-a985-1be00fcf8848",
   "metadata": {},
   "source": [
    "#### The `def` keyword"
   ]
  },
  {
   "cell_type": "markdown",
   "id": "0decb3be-fd13-44c6-a224-13204eae524f",
   "metadata": {},
   "source": [
    "Executing a definition such as `def x = e` will not evaluate the expression `e`, \n",
    "**instead, `e` is only evaluated whenever `x` is used**.\n",
    "If `x` is then used subsequently, it is immediately replaced by the\n",
    "pre-computed value of `e`, so that the expression need not be evaluated again."
   ]
  },
  {
   "cell_type": "code",
   "execution_count": 17,
   "id": "095b36c8-f4c2-4988-8fc6-d66e8817dcb9",
   "metadata": {},
   "outputs": [
    {
     "data": {
      "text/plain": [
       "defined \u001b[32mfunction\u001b[39m \u001b[36mscale\u001b[39m"
      ]
     },
     "execution_count": 17,
     "metadata": {},
     "output_type": "execute_result"
    }
   ],
   "source": [
    "def scale = 5"
   ]
  },
  {
   "cell_type": "code",
   "execution_count": 18,
   "id": "ce23e4fc-2e1b-4b52-af96-f5b63cbb9d45",
   "metadata": {},
   "outputs": [
    {
     "data": {
      "text/plain": [
       "\u001b[36mres18\u001b[39m: \u001b[32mInt\u001b[39m = \u001b[32m5\u001b[39m"
      ]
     },
     "execution_count": 18,
     "metadata": {},
     "output_type": "execute_result"
    }
   ],
   "source": [
    "scale"
   ]
  },
  {
   "cell_type": "markdown",
   "id": "a8cd5042-4d3d-46ce-bd52-631c43ee053c",
   "metadata": {},
   "source": [
    "#### The `var` keyword"
   ]
  },
  {
   "cell_type": "markdown",
   "id": "aae9e580-fd47-4168-bddb-25e8e6b26055",
   "metadata": {},
   "source": [
    "The `var` keyword makes a variable mutable. The expression on the right side of the assignment is immediately evaluated."
   ]
  },
  {
   "cell_type": "code",
   "execution_count": 19,
   "id": "e9cbc623-d8cb-4b49-8bc3-0206ff208c5c",
   "metadata": {},
   "outputs": [
    {
     "data": {
      "text/html": [
       "<div class=\"jp-RenderedText\">\n",
       "<pre><code><span style=\"color: rgb(0, 187, 187)\"><span class=\"ansi-cyan-fg\">seconds</span></span>: <span style=\"color: rgb(0, 187, 0)\"><span class=\"ansi-green-fg\">Int</span></span> = <style>@keyframes fadein { from { opacity: 0; } to { opacity: 1; } }</style><span style=\"animation: fadein 2s;\"><span style=\"color: rgb(0, 187, 0)\"><span class=\"ansi-green-fg\">11</span></span></span></code></pre>\n",
       "</div>"
      ],
      "text/plain": [
       "\u001b[36mseconds\u001b[39m: \u001b[32mInt\u001b[39m = \u001b[32m11\u001b[39m"
      ]
     },
     "metadata": {},
     "output_type": "display_data"
    }
   ],
   "source": [
    "var seconds = 10"
   ]
  },
  {
   "cell_type": "code",
   "execution_count": 20,
   "id": "56a2f4bb-b351-45a1-9aa6-5c108aeda39b",
   "metadata": {},
   "outputs": [
    {
     "data": {
      "text/plain": [
       "\u001b[36mres20_1\u001b[39m: \u001b[32mInt\u001b[39m = \u001b[32m11\u001b[39m"
      ]
     },
     "execution_count": 20,
     "metadata": {},
     "output_type": "execute_result"
    }
   ],
   "source": [
    "seconds += 1\n",
    "seconds"
   ]
  },
  {
   "cell_type": "markdown",
   "id": "d9926bc7-6a46-46c3-a741-c2aa944ad15c",
   "metadata": {},
   "source": [
    "#### The `val` keyword"
   ]
  },
  {
   "cell_type": "markdown",
   "id": "9038caa4-c983-45cb-841d-ba1558ab8207",
   "metadata": {},
   "source": [
    "The `val` keyword makes a variable immutable. That's why we can name `val` variables just as a value. \n",
    "The expression on the right side of the assignment is immediately evaluated."
   ]
  },
  {
   "cell_type": "code",
   "execution_count": 21,
   "id": "fac2be1c-e91f-4acb-b0a7-46e68f42cec3",
   "metadata": {},
   "outputs": [
    {
     "data": {
      "text/plain": [
       "\u001b[36mseconds\u001b[39m: \u001b[32mInt\u001b[39m = \u001b[32m10\u001b[39m"
      ]
     },
     "execution_count": 21,
     "metadata": {},
     "output_type": "execute_result"
    }
   ],
   "source": [
    "val seconds = 10"
   ]
  },
  {
   "cell_type": "code",
   "execution_count": 21,
   "id": "ea2d273f-030d-4a52-a6b1-a13ea59932b4",
   "metadata": {},
   "outputs": [
    {
     "name": "stderr",
     "output_type": "stream",
     "text": [
      "cmd22.sc:1: value -= is not a member of Int\n",
      "  Expression does not convert to assignment because receiver is not assignable.\n",
      "val res22 = seconds -= 1\n",
      "                    ^\n",
      "Compilation Failed"
     ]
    }
   ],
   "source": [
    "seconds -= 1"
   ]
  },
  {
   "cell_type": "markdown",
   "id": "c23f981c-8322-4eec-ad27-3c8cf2bc4633",
   "metadata": {
    "jp-MarkdownHeadingCollapsed": true
   },
   "source": [
    "## Functional style in Scala"
   ]
  },
  {
   "cell_type": "code",
   "execution_count": 9,
   "id": "f373cf10-eae7-4d9a-9fab-804dedc2719d",
   "metadata": {},
   "outputs": [
    {
     "data": {
      "text/plain": [
       "\u001b[32mimport \u001b[39m\u001b[36mscala.language.postfixOps\u001b[39m\n",
       "defined \u001b[32mobject\u001b[39m \u001b[36mSort\u001b[39m"
      ]
     },
     "execution_count": 9,
     "metadata": {},
     "output_type": "execute_result"
    }
   ],
   "source": [
    "import scala.language.postfixOps\n",
    "\n",
    "object Sort {\n",
    "    def sortf(xs: Array[Int]): Array[Int] = {\n",
    "        if (xs.length <= 1) xs\n",
    "        else {\n",
    "          val pivot = xs(xs.length / 2)\n",
    "          Array.concat(\n",
    "            sortf(xs filter (pivot >)),\n",
    "            xs filter (pivot ==),\n",
    "            sortf(xs filter (pivot <))\n",
    "          )\n",
    "        }\n",
    "    }\n",
    "}"
   ]
  },
  {
   "cell_type": "code",
   "execution_count": 8,
   "id": "0c987251-ee22-492e-a953-63389e886adf",
   "metadata": {},
   "outputs": [
    {
     "data": {
      "text/plain": [
       "\u001b[36mx\u001b[39m: \u001b[32mArray\u001b[39m[\u001b[32mInt\u001b[39m] = \u001b[33mArray\u001b[39m(\u001b[32m4\u001b[39m, \u001b[32m2\u001b[39m, \u001b[32m3\u001b[39m, \u001b[32m5\u001b[39m, \u001b[32m6\u001b[39m, \u001b[32m10\u001b[39m, \u001b[32m1\u001b[39m, \u001b[32m15\u001b[39m, \u001b[32m25\u001b[39m, \u001b[32m7\u001b[39m)"
      ]
     },
     "execution_count": 8,
     "metadata": {},
     "output_type": "execute_result"
    }
   ],
   "source": [
    "val x = Array(4, 2, 3, 5, 6, 10, 1, 15, 25, 7)"
   ]
  },
  {
   "cell_type": "code",
   "execution_count": 10,
   "id": "754197f8-86f0-441c-8f22-e32cc5e308ca",
   "metadata": {},
   "outputs": [
    {
     "data": {
      "text/plain": [
       "\u001b[36mres10\u001b[39m: \u001b[32mArray\u001b[39m[\u001b[32mInt\u001b[39m] = \u001b[33mArray\u001b[39m(\u001b[32m1\u001b[39m, \u001b[32m2\u001b[39m, \u001b[32m3\u001b[39m, \u001b[32m4\u001b[39m, \u001b[32m5\u001b[39m, \u001b[32m6\u001b[39m, \u001b[32m7\u001b[39m, \u001b[32m10\u001b[39m, \u001b[32m15\u001b[39m, \u001b[32m25\u001b[39m)"
      ]
     },
     "execution_count": 10,
     "metadata": {},
     "output_type": "execute_result"
    }
   ],
   "source": [
    "Sort.sortf(x)"
   ]
  },
  {
   "cell_type": "markdown",
   "id": "a83154c8-3d23-4d7d-99c1-b3966c025daa",
   "metadata": {},
   "source": [
    "### Code details"
   ]
  },
  {
   "cell_type": "markdown",
   "id": "57afbb0d-12a3-40d4-9a1f-8445f191a64f",
   "metadata": {},
   "source": [
    "Arrays `Array[T]` are Scala sequences `Seq[A]`. \n",
    "There are many [**powerful operations**](https://www.scala-lang.org/api/2.12.x/scala/collection/Seq.html)\n",
    "to work with sequences.\n",
    "\n",
    "So far we have seen the higher order function `filter` to work with sequences.\n",
    "\n",
    "```scala\n",
    "def filter(p: A => Boolean): Seq[A]\n",
    "```\n",
    "\n",
    "Scala does not distinguish between identifiers and operator names. Any identifier can be used as an infix operator in Scala. \n",
    "The binary operation $E \\ op \\ E'$ is always interpreted as the method call $E.op(E')$. \n",
    "\n",
    "Hence, these expressions are equivalent.\n",
    "\n",
    "```scala\n",
    "xs filter (pivot >)\n",
    "xs.filter(pivot >)\n",
    "\n",
    "```\n"
   ]
  },
  {
   "cell_type": "markdown",
   "id": "1592d466-babd-49e6-b97b-f76f6a415f7c",
   "metadata": {},
   "source": [
    "## Printing array"
   ]
  },
  {
   "cell_type": "markdown",
   "id": "0c3ac59d-847b-46d5-bff2-53a27f3fbc64",
   "metadata": {},
   "source": [
    "You need to make sure to transform the array to a string using the `mkString` \n",
    "method of the array to print it using the standard output; otherwise, it will show you the @ memory of the array."
   ]
  },
  {
   "cell_type": "code",
   "execution_count": 11,
   "id": "47b8c224-bf9b-44cb-861f-f754e35c8284",
   "metadata": {},
   "outputs": [
    {
     "name": "stdout",
     "output_type": "stream",
     "text": [
      "[I@13939b9\n"
     ]
    },
    {
     "data": {
      "text/plain": [
       "\u001b[36my\u001b[39m: \u001b[32mArray\u001b[39m[\u001b[32mInt\u001b[39m] = \u001b[33mArray\u001b[39m(\u001b[32m4\u001b[39m, \u001b[32m2\u001b[39m, \u001b[32m3\u001b[39m, \u001b[32m5\u001b[39m, \u001b[32m6\u001b[39m, \u001b[32m10\u001b[39m, \u001b[32m1\u001b[39m, \u001b[32m15\u001b[39m, \u001b[32m25\u001b[39m, \u001b[32m7\u001b[39m)"
      ]
     },
     "execution_count": 11,
     "metadata": {},
     "output_type": "execute_result"
    }
   ],
   "source": [
    "val y = Array(4, 2, 3, 5, 6, 10, 1, 15, 25, 7)\n",
    "println(y)"
   ]
  },
  {
   "cell_type": "code",
   "execution_count": 13,
   "id": "06f9df12-8fe1-4900-88d9-bce02554fc91",
   "metadata": {},
   "outputs": [
    {
     "name": "stdout",
     "output_type": "stream",
     "text": [
      "4, 2, 3, 5, 6, 10, 1, 15, 25, 7\n"
     ]
    },
    {
     "data": {
      "text/plain": [
       "\u001b[36my\u001b[39m: \u001b[32mArray\u001b[39m[\u001b[32mInt\u001b[39m] = \u001b[33mArray\u001b[39m(\u001b[32m4\u001b[39m, \u001b[32m2\u001b[39m, \u001b[32m3\u001b[39m, \u001b[32m5\u001b[39m, \u001b[32m6\u001b[39m, \u001b[32m10\u001b[39m, \u001b[32m1\u001b[39m, \u001b[32m15\u001b[39m, \u001b[32m25\u001b[39m, \u001b[32m7\u001b[39m)"
      ]
     },
     "execution_count": 13,
     "metadata": {},
     "output_type": "execute_result"
    }
   ],
   "source": [
    "val y = Array(4, 2, 3, 5, 6, 10, 1, 15, 25, 7)\n",
    "println(y.mkString(\", \"))"
   ]
  },
  {
   "cell_type": "markdown",
   "id": "2874b3c6-92fe-4128-8372-20867611b3c2",
   "metadata": {},
   "source": [
    "<p style=\"float: left;\"><a href=\"developing-tools.ipynb\" target=\"_blank\">Previous</a></p>\n",
    "<p style=\"float: right;\"><a href=\"basics.ipynb\" target=\"_blank\">Next</a></p>\n",
    "<p style=\"text-align:center;\">Tour of Scala</p>\n",
    "<div style=\"clear: both;\"></div>"
   ]
  },
  {
   "cell_type": "markdown",
   "id": "682c4367-a6e5-40f9-b8e7-b89386672b6c",
   "metadata": {},
   "source": [
    "### Activity\n",
    "\n",
    "- Download the template repository\n",
    "- Make it run in VSCode + Metals plugin\n",
    "- What happen if you get rid of `import scala.language.postfixOps` in the file `Sort.scala`?\n",
    "- Create a worksheet and define an array of type `Array[Int]`. Print it."
   ]
  }
 ],
 "metadata": {
  "kernelspec": {
   "display_name": "Scala 2.13",
   "language": "scala",
   "name": "scala213"
  },
  "language_info": {
   "codemirror_mode": "text/x-scala",
   "file_extension": ".sc",
   "mimetype": "text/x-scala",
   "name": "scala",
   "nbconvert_exporter": "script",
   "version": "2.13.14"
  }
 },
 "nbformat": 4,
 "nbformat_minor": 5
}
