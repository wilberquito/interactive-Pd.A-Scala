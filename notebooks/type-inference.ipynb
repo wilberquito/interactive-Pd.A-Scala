{
 "cells": [
  {
   "cell_type": "markdown",
   "metadata": {},
   "source": [
    "<p style=\"float: left;\"><a href=\"unified-types.ipynb\" target=\"_blank\">Previous</a></p>\n",
    "<p style=\"float: right;\"><a href=\"by-name-parameters.ipynb\" target=\"_blank\">Next</a></p>\n",
    "<p style=\"text-align:center;\">Tour of Scala</p>\n",
    "<div style=\"clear: both;\"></div>"
   ]
  },
  {
   "cell_type": "markdown",
   "metadata": {},
   "source": [
    "# Type Inference\n",
    "\n",
    "The Scala compiler can often infer the type of an expression so you don't have to declare it explicitly."
   ]
  },
  {
   "cell_type": "markdown",
   "metadata": {},
   "source": [
    "## Omitting the type"
   ]
  },
  {
   "cell_type": "markdown",
   "metadata": {},
   "source": [
    "- The compiler can detect that `businessName` is a String.\n",
    "\n",
    "    ```scala\n",
    "    val businessName = \"Montreux Jazz Café\" // String\n",
    "    \n",
    "    ```\n",
    "\n",
    "- It works similarly with methods:\n",
    "    \n",
    "    ```scala\n",
    "    def squareOf(x: Int) = x * x // Int => Int\n",
    "    \n",
    "    ```"
   ]
  },
  {
   "cell_type": "markdown",
   "metadata": {},
   "source": [
    "- <span style=\"color:red\">**For recursive methods, the compiler is not able to infer a result type...**</span>"
   ]
  },
  {
   "cell_type": "code",
   "execution_count": null,
   "metadata": {
    "attributes": {
     "classes": [
      "tut"
     ],
     "id": ""
    }
   },
   "outputs": [
    {
     "name": "stderr",
     "output_type": "stream",
     "text": [
      "-- [E044] Cyclic Error: cmd1.sc:1:41 -------------------------------------------\n",
      "1 |def fac(n: Int) = if (n == 0) 1 else n * fac(n - 1)\n",
      "  |                                         ^\n",
      "  |                      Overloaded or recursive method fac needs return type\n",
      "  |\n",
      "  |                       Run with -explain-cyclic for more details.\n",
      "  |\n",
      "  | longer explanation available when compiling with `-explain`\n",
      "Compilation Failed"
     ]
    }
   ],
   "source": [
    "def fac(n: Int) = if (n == 0) 1 else n * fac(n - 1)"
   ]
  },
  {
   "cell_type": "markdown",
   "metadata": {},
   "source": [
    "- In this case is compulsory to specity the resulting type `: Int` of the method.\n",
    "    \n",
    "    ```scala\n",
    "    def fac(n: Int): Int = if (n == 0) 1 else n * fac(n - 1)\n",
    "    ```"
   ]
  },
  {
   "cell_type": "markdown",
   "metadata": {},
   "source": [
    "- For [polymorphic methods](polymorphic-methods.ipynb) and [generic classes](generic-classes.ipynb) \n",
    "\n",
    "    - It is also not compulsory to specify type parameters when  are called or are instantiated. \n",
    "    - The Scala compiler will infer such missing type parameters from the context and from the types of the actual method/constructor parameters.\n",
    "\n",
    "    <br/>\n",
    "    Example:\n",
    "  \n",
    "    <br/>\n",
    "  \n",
    "    ```scala\n",
    "    \n",
    "    // Generic class\n",
    "    case class MyPair[A, B](x: A, y: B)\n",
    "\n",
    "    // Polymorphic method\n",
    "    def id[T](x: T) = x\n",
    "\n",
    "    \n",
    "    val p = MyPair(1, \"scala\") // type: MyPair[Int, String]\n",
    "    val q = id(1)              // q: Int\n",
    "    \n",
    "    ```\n"
   ]
  },
  {
   "cell_type": "markdown",
   "metadata": {},
   "source": [
    "## Parameters of polymorphic methods"
   ]
  },
  {
   "cell_type": "markdown",
   "metadata": {},
   "source": [
    "\n",
    "- In certain cases, the Scala compiler can infer anonymous function parameter types when the function is passed as argument.\n",
    "\n",
    "- For the `map` method, the paramater is a funciton of type `f: A => B`, but it infers a more specific type `f: Int => Int`.\n",
    "\n",
    "    ```scala\n",
    "    Seq(1, 3, 4).map(x => x * 2)  // List(2, 6, 8)\n",
    "    \n",
    "    ```\n",
    "    <br/>\n",
    "\n",
    "    - The compiler infers that the sequences is of type `Seq[Int]`.\n",
    "    \n",
    "    - The compiler knows that `A` is `Int` (i.e. that `x` is an integer).\n",
    "      \n",
    "    - From `x * 2` the compiler infers that `B` is type `Int`."
   ]
  },
  {
   "cell_type": "markdown",
   "metadata": {},
   "source": [
    "## When _not_ to rely on type inference"
   ]
  },
  {
   "cell_type": "markdown",
   "metadata": {},
   "source": [
    "- It is generally considered more readable to declare the type of members exposed in a public API.\n",
    "  \n",
    "- We recommended that you make the type explicit for any APIs that will be exposed to users of your code.\n",
    "  \n",
    "- **Type inference can sometimes infer a too-specific type.**  Suppose we write:\n",
    "\n",
    "    ```scala\n",
    "    var obj = null   // obj: Null\n",
    "    obj = new AnyRef // It won't compile!\n",
    "    \n",
    "    ```\n",
    "    <br/>\n",
    "    \n",
    "    It won't compile, because the type inferred for `obj` was `Null`. **Since the only value of type `Null` is `null`, it is impossible to assign a different value**."
   ]
  },
  {
   "cell_type": "markdown",
   "metadata": {},
   "source": [
    "<p style=\"float: left;\"><a href=\"unified-types.ipynb\" target=\"_blank\">Previous</a></p>\n",
    "<p style=\"float: right;\"><a href=\"by-name-parameters.ipynb\" target=\"_blank\">Next</a></p>\n",
    "<p style=\"text-align:center;\">Tour of Scala</p>\n",
    "<div style=\"clear: both;\"></div>"
   ]
  }
 ],
 "metadata": {
  "kernelspec": {
   "display_name": "Scala 3.6",
   "language": "scala",
   "name": "scala36"
  },
  "language_info": {
   "codemirror_mode": "text/x-scala",
   "file_extension": ".sc",
   "mimetype": "text/x-scala",
   "name": "scala",
   "nbconvert_exporter": "script",
   "version": "2.13.16"
  }
 },
 "nbformat": 4,
 "nbformat_minor": 4
}
