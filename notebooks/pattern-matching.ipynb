{
 "cells": [
  {
   "cell_type": "markdown",
   "metadata": {},
   "source": [
    "<p style=\"float: left;\"><a href=\"case-classes.ipynb\" target=\"_blank\">Previous</a></p>\n",
    "<p style=\"float: right;\"><a href=\"p2-exercises.ipynb\" target=\"_blank\">Next</a></p>\n",
    "<p style=\"text-align:center;\">Tour of Scala</p>\n",
    "<div style=\"clear: both;\"></div>"
   ]
  },
  {
   "cell_type": "markdown",
   "metadata": {},
   "source": [
    "# Pattern matching\n",
    "\n",
    "**Pattern matching is a mechanism for checking a value against a pattern**. A successful match can also deconstruct a value into its constituent parts. \n",
    "\n",
    "It is a more powerful version of the `switch` statement in Java and it can likewise be used in place of a series of if/else statements.\n",
    "\n",
    "## Syntax\n",
    "A match expression has a value, the `match` keyword, and at least one `case` clause."
   ]
  },
  {
   "cell_type": "code",
   "execution_count": null,
   "metadata": {
    "attributes": {
     "classes": [
      "tut"
     ],
     "id": ""
    }
   },
   "outputs": [],
   "source": [
    "import scala.util.Random\n",
    "\n",
    "val x: Int = Random.nextInt(10)\n",
    "\n",
    "val txt = x match\n",
    "              case 0 => \"zero\"\n",
    "              case 1 => \"one\"\n",
    "              case 2 => \"two\"\n",
    "              case _ => \"many\""
   ]
  },
  {
   "cell_type": "markdown",
   "metadata": {},
   "source": [
    "- The `val x` above is a random integer between 0 and 10.\n",
    "- `x` becomes the left operand of the `match` operator and on the right is an expression with four cases.\n",
    "- The last case `_` is a _catch all_ case for any number greater than 2."
   ]
  },
  {
   "cell_type": "code",
   "execution_count": null,
   "metadata": {
    "attributes": {
     "classes": [
      "tut"
     ],
     "id": ""
    }
   },
   "outputs": [],
   "source": [
    "def matchTest(x: Int): String = x match {\n",
    "  case 1 => \"one\"\n",
    "  case 2 => \"two\"\n",
    "  case _ => \"many\"\n",
    "}\n",
    "\n",
    "matchTest(3)  // many\n",
    "matchTest(1)  // one"
   ]
  },
  {
   "cell_type": "markdown",
   "metadata": {},
   "source": [
    "## Matching on case classes\n",
    "\n",
    "Case classes are especially useful for pattern matching."
   ]
  },
  {
   "cell_type": "code",
   "execution_count": null,
   "metadata": {
    "attributes": {
     "classes": [
      "tut"
     ],
     "id": ""
    }
   },
   "outputs": [],
   "source": [
    "abstract class Notification\n",
    "\n",
    "case class Email(sender: String, title: String, body: String) extends Notification\n",
    "case class SMS(caller: String, message: String) extends Notification\n",
    "case class VoiceRecording(contactName: String, link: String) extends Notification"
   ]
  },
  {
   "cell_type": "markdown",
   "metadata": {},
   "source": [
    "Now we can do pattern matching over a `notification` on case classes or algebraic data type:"
   ]
  },
  {
   "cell_type": "code",
   "execution_count": null,
   "metadata": {
    "attributes": {
     "classes": [
      "tut"
     ],
     "id": ""
    }
   },
   "outputs": [],
   "source": [
    "def showNotification(notification: Notification): String =\n",
    "  notification match\n",
    "    case Email(email, title, _) =>\n",
    "      s\"You got an email from $email with title: $title\"\n",
    "    case SMS(number, message) =>\n",
    "      s\"You got an SMS from $number! Message: $message\""
   ]
  },
  {
   "cell_type": "markdown",
   "metadata": {},
   "source": [
    "**<span style=\"color:red\"> Notice how powerful is deconstructing in pattern mathing as we can use its component.</span>**"
   ]
  },
  {
   "cell_type": "markdown",
   "metadata": {},
   "source": [
    "Question...🖐️\n",
    "\n",
    "- _What append if I have to show a `VoiceRecording` notification?_"
   ]
  },
  {
   "cell_type": "markdown",
   "metadata": {},
   "source": [
    "## Pattern guards\n",
    "\n",
    "Pattern guards are simply boolean expressions which are used to make cases more specific. \n",
    "\n",
    "- Just add `if <boolean expression>` after the pattern."
   ]
  },
  {
   "cell_type": "code",
   "execution_count": null,
   "metadata": {
    "attributes": {
     "classes": [
      "tut"
     ],
     "id": ""
    }
   },
   "outputs": [],
   "source": [
    "def showImportantNotification(notification: Notification, importantPeopleInfo: Seq[String]): String =\n",
    "  notification match\n",
    "    case Email(email, _, _) if importantPeopleInfo.contains(email) =>\n",
    "      \"You got an email from special someone!\"\n",
    "    case SMS(number, _) if importantPeopleInfo.contains(number) =>\n",
    "      \"You got an SMS from special someone!\"\n",
    "    case other =>\n",
    "      showNotification(other) // nothing special, delegate to our original showNotification function"
   ]
  },
  {
   "cell_type": "markdown",
   "metadata": {},
   "source": [
    "In the `case Email(email, _, _) if importantPeopleInfo.contains(email)`, the pattern is matched only if the `email` is in the list of important people.\n",
    "\n",
    "## Matching on type only\n",
    "You can match on the type like so:"
   ]
  },
  {
   "cell_type": "code",
   "execution_count": null,
   "metadata": {
    "attributes": {
     "classes": [
      "tut"
     ],
     "id": ""
    }
   },
   "outputs": [],
   "source": [
    "abstract class Device\n",
    "\n",
    "case class Phone(model: String) extends Device\n",
    "  def screenOff = \"Turning screen off\"\n",
    "\n",
    "case class Computer(model: String) extends Device\n",
    "  def screenSaverOn = \"Turning screen saver on...\"\n",
    "\n",
    "def goIdle(device: Device) = device match\n",
    "  case p: Phone => p.screenOff\n",
    "  case c: Computer => c.screenSaverOn"
   ]
  },
  {
   "cell_type": "markdown",
   "metadata": {},
   "source": [
    "<p style=\"float: left;\"><a href=\"case-classes.ipynb\" target=\"_blank\">Previous</a></p>\n",
    "<p style=\"float: right;\"><a href=\"p2-exercises.ipynb\" target=\"_blank\">Next</a></p>\n",
    "<p style=\"text-align:center;\">Tour of Scala</p>\n",
    "<div style=\"clear: both;\"></div>"
   ]
  }
 ],
 "metadata": {
  "kernelspec": {
   "display_name": "Scala 3.6",
   "language": "scala",
   "name": "scala36"
  },
  "language_info": {
   "codemirror_mode": "text/x-scala",
   "file_extension": ".sc",
   "mimetype": "text/x-scala",
   "name": "scala",
   "nbconvert_exporter": "script",
   "version": "2.13.16"
  }
 },
 "nbformat": 4,
 "nbformat_minor": 4
}
