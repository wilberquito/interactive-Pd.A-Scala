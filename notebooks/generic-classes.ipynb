{
 "cells": [
  {
   "cell_type": "markdown",
   "metadata": {},
   "source": [
    "<p style=\"float: left;\"><a href=\"traits.ipynb\" target=\"_blank\">Previous</a></p>\n",
    "<p style=\"float: right;\"><a href=\"polymorphic-methods.ipynb\" target=\"_blank\">Next</a></p>\n",
    "<p style=\"text-align:center;\">Tour of Scala</p>\n",
    "<div style=\"clear: both;\"></div>"
   ]
  },
  {
   "cell_type": "markdown",
   "metadata": {},
   "source": [
    "# Generic Classes\n",
    "\n",
    "**Generic classes are classes which can take one or more types as a parameter.** They are particularly useful for defining collection classes."
   ]
  },
  {
   "cell_type": "markdown",
   "metadata": {},
   "source": [
    "## Defining a generic class"
   ]
  },
  {
   "cell_type": "markdown",
   "metadata": {},
   "source": [
    "```scala\n",
    "class Stack[A]:\n",
    "  private var elements: List[A] = Nil\n",
    "  \n",
    "  def push(x: A): Unit = { elements = x :: elements }\n",
    "  \n",
    "  def peek: A = elements.head\n",
    "  \n",
    "  def pop: A =\n",
    "    val currentTop = peek\n",
    "    elements = elements.tail\n",
    "    currentTop\n",
    "    \n",
    "```\n",
    "\n",
    "- Generic classes take type variable within square brackets `[]`.\n",
    "  \n",
    "- One convention is to use the letter `A` as type variable identifier, though any parameter name may be used.\n"
   ]
  },
  {
   "cell_type": "markdown",
   "metadata": {},
   "source": [
    "## Usage"
   ]
  },
  {
   "cell_type": "markdown",
   "metadata": {},
   "source": [
    "- To use a generic class, put the type in the square brackets in place of `A`. \n",
    "\n",
    "    ```scala\n",
    "    val stack = new Stack[Int]\n",
    "    stack.push(1)\n",
    "    stack.push(2)\n",
    "    println(stack.pop) // 2\n",
    "    println(stack.pop) // 1\n",
    "    println(stack.pop) // Error!\n",
    "    \n",
    "    ```"
   ]
  },
  {
   "cell_type": "markdown",
   "metadata": {},
   "source": [
    "- **If the type argument had subtypes, instances of those types could be passed in:**\n",
    "\n",
    "    ```scala\n",
    "    class Fruit\n",
    "    \n",
    "    class Apple extends Fruit:\n",
    "        override def toString() = \"I am an apple\"\n",
    "    class Banana extends Fruit:\n",
    "        override def toString() = \"I am a banana\"\n",
    "    \n",
    "    val stack = new Stack[Fruit]\n",
    "    val apple = new Apple\n",
    "    val banana = new Banana\n",
    "    \n",
    "    stack.push(apple)\n",
    "    stack.push(banana)\n",
    "    \n",
    "    println(stack.pop) // I am a banana\n",
    "    println(stack.pop) // I am an apple\n",
    "\n",
    "```"
   ]
  },
  {
   "cell_type": "markdown",
   "metadata": {},
   "source": [
    "## Subtyping of generic types"
   ]
  },
  {
   "cell_type": "markdown",
   "metadata": {},
   "source": [
    "**In Scala, generic types are nonvariant by default.** This means: \n",
    "\n",
    "- If `T <: A`, it does not imply that `K[T] <: K[A]`.\n",
    "  \n",
    "- `K[T]` is only a subtype of `K[A]` if `T` and `A` are exactly the same type.\n",
    "  \n",
    "- Otherwise, <span style=\"color:red\">**allowing such subtyping would break type safety (unsoundness).**</span>"
   ]
  },
  {
   "cell_type": "markdown",
   "metadata": {},
   "source": [
    "**Example:**\n",
    "\n",
    "<a href=\"https://docs.scala-lang.org/resources/images/tour/type-casting-diagram.svg\"><img  style=\"width:100%\" src=\"https://docs.scala-lang.org/resources/images/tour/type-casting-diagram.svg\" alt=\"Scala Type Hierarchy\"></a>\n",
    "\n",
    "- `Char <: Int`, yet an `Stack[Char]` is not subtype of `Stack[Int]`. This would be unsound.\n",
    "  \n",
    "    ```scala\n",
    "    def push(stack: Stack[Int], e: Int): Unit =\n",
    "        stack.push(e)\n",
    "        println(s\"Int $e pushed into the stack\")\n",
    "    \n",
    "    ```\n",
    "\n",
    "    <br/>\n",
    "\n",
    "- Let's define one stack of integers and one stack of characters.\n",
    "\n",
    "    ```scala\n",
    "    val stackInt = new Stack[Int]\n",
    "    val stackChar = new Stack[Char]\n",
    "    \n",
    "    push(stackInt, 'W') // Int 87 pushed into the stack\n",
    "    push(stackInt, 2)   // Int 2 pushed into the stack\n",
    "    push(stackChar, 2)  // Type Mismatch Error!\n",
    "    \n",
    "    ```\n",
    "\n",
    "    <br/>\n",
    "          \n",
    "- **<span style=\"color:red\">If generic types would be invariant, we would be able to enter true integers into the character stack.</span>**\n",
    "\n",
    "- Since this can be quite restrictive, Scala offers a [type parameter annotation mechanism](variances.ipynb) to control the subtyping behavior of generic types."
   ]
  },
  {
   "cell_type": "markdown",
   "metadata": {},
   "source": [
    "<p style=\"float: left;\"><a href=\"traits.ipynb\" target=\"_blank\">Previous</a></p>\n",
    "<p style=\"float: right;\"><a href=\"polymorphic-methods.ipynb\" target=\"_blank\">Next</a></p>\n",
    "<p style=\"text-align:center;\">Tour of Scala</p>\n",
    "<div style=\"clear: both;\"></div>"
   ]
  }
 ],
 "metadata": {
  "kernelspec": {
   "display_name": "Scala 3.6",
   "language": "scala",
   "name": "scala36"
  },
  "language_info": {
   "codemirror_mode": "text/x-scala",
   "file_extension": ".sc",
   "mimetype": "text/x-scala",
   "name": "scala",
   "nbconvert_exporter": "script",
   "version": "2.13.16"
  }
 },
 "nbformat": 4,
 "nbformat_minor": 4
}
