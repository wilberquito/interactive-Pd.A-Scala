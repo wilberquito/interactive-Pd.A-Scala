{
 "cells": [
  {
   "cell_type": "markdown",
   "id": "ea34b2be-3673-4a89-8ec7-2104b4730a45",
   "metadata": {},
   "source": [
    "<p style=\"float: left;\"><a href=\"actor-model.ipynb\" target=\"_blank\">Previous</a></p>\n",
    "<p style=\"float: right;\"><a href=\"_index.ipynb\" target=\"_blank\">Next</a></p>\n",
    "<p style=\"text-align:center;\">Tour of Scala</p>\n",
    "<div style=\"clear: both;\"></div>"
   ]
  },
  {
   "cell_type": "markdown",
   "id": "711a5465-5bfc-4ba8-8479-d3a73fcf5862",
   "metadata": {},
   "source": [
    "# Exercise"
   ]
  },
  {
   "cell_type": "markdown",
   "id": "170d604d-4dad-4419-9983-111ac53f1e0e",
   "metadata": {},
   "source": [
    "Use the [actors-nightmare](https://github.com/wilberquito/actors-nightmare) repository to solve this problem."
   ]
  },
  {
   "cell_type": "markdown",
   "id": "bfaa8396-8135-4475-8681-27f274c5d455",
   "metadata": {},
   "source": [
    "## Parallel Sum of a Large List\n",
    "\n",
    "Imagine you have a massive list of numbers, and you want to compute the sum quickly. \n",
    "Instead of summing the numbers sequentially, \n",
    "we can divide the list into chunks, assign each chunk to an actor, and then sum the partial results at the end.\n",
    "\n",
    "_**What do you have to do?**_\n",
    "\n",
    "Define two actors; `MasterActor` and `SumWorker` and the corresponding `case classes` or `object` for messaging.\n",
    "\n",
    "* `MasterActor`: receives the entire list, splits it into chunks, and assigns each chunk to a `SumWorker` actor. This actor is also\n",
    "in charge of collecting the partial sums. Once all results are collected it outputs the total sum.\n",
    "* `SumWorker`: calculates the sum of its chunk and sends back the partial sum.\n",
    "\n",
    "**NOTICE**: It does not matter how many `SumWorker` you use to solve the problem but, all chunks must have the same size.\n",
    "\n",
    "Are you able to shutdown the system correctly?\n",
    "\n",
    "**PSS**: You can generate a long list of numbers this way:\n",
    "\n",
    "```scala\n",
    "val largeList = (1 to 1000000).toList\n",
    "\n",
    "```"
   ]
  },
  {
   "cell_type": "markdown",
   "id": "35960769-92a1-4a91-9d97-eac71bb7d7c8",
   "metadata": {},
   "source": [
    "<p style=\"float: left;\"><a href=\"actor-model.ipynb\" target=\"_blank\">Previous</a></p>\n",
    "<p style=\"float: right;\"><a href=\"_index.ipynb\" target=\"_blank\">Next</a></p>\n",
    "<p style=\"text-align:center;\">Tour of Scala</p>\n",
    "<div style=\"clear: both;\"></div>"
   ]
  }
 ],
 "metadata": {
  "kernelspec": {
   "display_name": "Scala 2.13",
   "language": "scala",
   "name": "scala213"
  },
  "language_info": {
   "codemirror_mode": "text/x-scala",
   "file_extension": ".sc",
   "mimetype": "text/x-scala",
   "name": "scala",
   "nbconvert_exporter": "script",
   "version": "2.13.14"
  }
 },
 "nbformat": 4,
 "nbformat_minor": 5
}
