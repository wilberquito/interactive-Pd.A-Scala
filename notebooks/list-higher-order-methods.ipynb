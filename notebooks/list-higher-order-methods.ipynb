{
 "cells": [
  {
   "cell_type": "markdown",
   "id": "e61c56a0-8dce-477e-9afe-92f0aca03f46",
   "metadata": {},
   "source": [
    "<p style=\"float: left;\"><a href=\"merge-sort.ipynb\" target=\"_blank\">Previous</a></p>\n",
    "<p style=\"float: right;\"><a href=\"for-comprehensions.ipynb\" target=\"_blank\">Next</a></p>\n",
    "<p style=\"text-align:center;\">Tour of Scala</p>\n",
    "<div style=\"clear: both;\"></div>"
   ]
  },
  {
   "cell_type": "markdown",
   "id": "083f8c4e-58bf-48aa-b2ac-a467b0fded26",
   "metadata": {},
   "source": [
    "# Definition of class List II: Higher-Order Methods"
   ]
  },
  {
   "cell_type": "markdown",
   "id": "cd4eee9c-fc04-4de2-beaa-607c38122a79",
   "metadata": {},
   "source": [
    "- **Functional programming** languages **enable programmers to write general functions\n",
    "which implement patterns by means of higher order functions**.\n",
    "\n",
    "- We can identify several patterns of computation over lists, like:\n",
    "    \n",
    "    * Transforming every element of a list in some way.\n",
    "      \n",
    "    * Extracting from a list all elements satisfying a criterion.\n",
    "      \n",
    "    * Combine the elements of a list using some operator."
   ]
  },
  {
   "cell_type": "markdown",
   "id": "4d9543b2-85fe-4698-bbee-75ad73d1bb9b",
   "metadata": {},
   "source": [
    "## Mapping"
   ]
  },
  {
   "cell_type": "markdown",
   "id": "1d0ec1ca-380b-42e8-9959-8ba8b4c7998f",
   "metadata": {},
   "source": [
    "- A common operation is to transform each element of a list\n",
    "and then return the lists of results.\n",
    "\n",
    "    ```scala\n",
    "    def map[B](f: A => B): List[B] = this match {\n",
    "        case Nil     => this\n",
    "        case x :: xs => f(x) :: xs map f\n",
    "    }\n",
    "\n",
    "\n",
    "    (1 to 3).toList map (_ * 2) // List(2, 4, 6)\n",
    "    ```\n"
   ]
  },
  {
   "cell_type": "markdown",
   "id": "9a2347b3-6183-456e-a181-d16da852969d",
   "metadata": {},
   "source": [
    "## Foreach"
   ]
  },
  {
   "cell_type": "markdown",
   "id": "25881b4a-6e2f-4e42-b65e-1c94b70d00bf",
   "metadata": {},
   "source": [
    "- `foreach` applies a given function to all\n",
    "elements of a list, but does not construct a list of results.\n",
    "\n",
    "- The function is thus applied only for its side effect.\n",
    "\n",
    "```scala\n",
    "def foreach(f: A => Unit): Unit =\n",
    "    this match {\n",
    "        case Nil     => ()\n",
    "        case x :: xs => {\n",
    "            f(x)\n",
    "            xs foreach f\n",
    "        }\n",
    "\n",
    "\n",
    "(1 to 3).toList foreach println // 1, 2, 3\n",
    "```\n"
   ]
  },
  {
   "cell_type": "markdown",
   "id": "fd26c6d0-a017-48fb-94bc-78b74464ee2d",
   "metadata": {},
   "source": [
    "## Filtering"
   ]
  },
  {
   "cell_type": "markdown",
   "id": "9528a5bc-a405-4c09-9030-26d09cce85b2",
   "metadata": {},
   "source": [
    "- Another common operation is selecting from a list all elements that satisfies a `predicate`.\n",
    "\n",
    "    ```scala\n",
    "    def filter(p: A => Boolean): List[A] = this match {\n",
    "        case Nil     => this\n",
    "        case x :: xs => if p(x) then x :: xs filter p else xs filter p\n",
    "    }\n",
    "\n",
    "    (1 to 3).toList filter (_ >= 3) // List(3)\n",
    "    \n",
    "    ```"
   ]
  },
  {
   "cell_type": "markdown",
   "id": "ad62b22d-eb5d-4c09-8038-d5042ce71b34",
   "metadata": {},
   "source": [
    "## Folding"
   ]
  },
  {
   "cell_type": "markdown",
   "id": "bf6e6994-b508-43d7-ae19-a2ea4fa3c25b",
   "metadata": {},
   "source": [
    "- Another common operation is to combine the elements of a list with some operator.\n",
    "\n",
    "    * `sum(List(x1, ..., xn))`  $ = 0 + x_1 + \\dots + x_n$\n",
    "      \n",
    "    * `product(List(x1, ..., xn))` $ = 1 * x_1 * \\dots * x_n$"
   ]
  },
  {
   "cell_type": "markdown",
   "id": "6c86dd41-97b6-43da-b168-a72543a75b33",
   "metadata": {},
   "source": [
    "### Fold left"
   ]
  },
  {
   "cell_type": "markdown",
   "id": "1f784b9c-8968-43f6-a1a5-8e48ff2a3797",
   "metadata": {},
   "source": [
    "```scala\n",
    "def foldLeft[B](z: B)(op: (B, A) => B): B = this match {\n",
    "    case Nil     => z                            // `foldLeft [1]`\n",
    "    case x :: xs => (xs foldLeft op(z, x))(op)   // `foldLeft [2]`\n",
    "}\n",
    "```\n",
    "\n",
    "- Applies a binary operator $\\Theta$ to a start value $z$ and all elements of a list $x_1, x_2, .., x_n$, going left to right.\n",
    "\n",
    "- **`foldLeft` generates the <span style=\"color:red\">left associative expression</span> $ (\\cdots ((z \\ \\Theta \\ x_1) \\ \\Theta \\ x_2) \\ \\cdots ) \\ \\Theta \\ x_n$ simplified by the expression:** $z \\ \\Theta \\ x_1 \\ \\Theta \\ x_2 \\ \\cdots \\ \\Theta \\ x_n$.\n",
    "\n",
    "**Example:**\n",
    "\n",
    "```scala\n",
    "List(1, 2, 3).foldLeft(0)(_ + _)\n",
    "\n",
    "```\n",
    "\n",
    "- Step-by-step evaluation\n",
    "\n",
    "    \n",
    "    ```txt\n",
    "    > List(1, 2, 3).foldLeft (0) (_ + _)        \n",
    "    > List(2, 3).foldLeft (1) (_ + _)     // `foldLeft [2]`\n",
    "    > List(3).foldLeft (3) (_ + _)        // `foldLeft [2]`\n",
    "    > List().foldLeft (6) (_ + _)         // `foldLeft [2]`\n",
    "    > 6                                   // `foldLeft [1]`\n",
    "    ```"
   ]
  },
  {
   "cell_type": "markdown",
   "id": "792a1787-66f4-4c85-ae03-2ba5b591a791",
   "metadata": {},
   "source": [
    "### Fold right"
   ]
  },
  {
   "cell_type": "markdown",
   "id": "974db25a-3769-49e4-82fd-ea3d6463d638",
   "metadata": {},
   "source": [
    "\n",
    "```scala\n",
    "def foldRight[B](z: B)(op: (A, B) => B): B = this match {\n",
    "    case Nil     => z                                // `foldRight [1]`\n",
    "    case x :: xs => op(x, (xs foldRight z)(op))      // `foldRight [2]`\n",
    "}\n",
    "```\n",
    "\n",
    "- Applies a binary operator $\\Theta$ for all elements of a list $x_1, x_2, .., x_n$ and a start value $z$, going right to left.\n",
    "  \n",
    "- `foldRight` **produces a <span style=\"color:red\">right-associative expression:</span>** $x_1 \\ \\Theta \\ (x_2 \\ \\Theta \\ \\cdots \\ (x_n \\ \\Theta \\ z) \\cdots )$.\n",
    "\n",
    "**Example:**\n",
    "\n",
    "```scala\n",
    "List(1, 2, 3).foldRight(0)(_ + _)\n",
    "\n",
    "```\n",
    "\n",
    "Step-by-step evaluation:\n",
    "\n",
    "```txt\n",
    "> List(1, 2, 3).foldRight (0) (_ + _)        \n",
    "> 1 + List(2, 3).foldRight 0 (_ + _)            // `foldRight [2]`\n",
    "> 1 + (2 + List(3).foldRight 0) (_ + _))        // `foldRight [2]`\n",
    "> 1 + (2 + (3 + List().foldRight 0) (_ + _)))   // `foldRight [2]`\n",
    "> 1 + (2 + (3 + 0))                             // `foldRight [1]`\n",
    "> 1 + (2 + 3)                                   // stack call\n",
    "> 1 + 5                                         // stack call\n",
    "> 6                                             // stack call\n",
    "```"
   ]
  },
  {
   "cell_type": "markdown",
   "id": "e692dfbe-c3c5-422b-bfaa-e591dce0b3c9",
   "metadata": {},
   "source": [
    "### `foldLeft` vs. `foldRight`"
   ]
  },
  {
   "cell_type": "markdown",
   "id": "ed7b6822-7c18-41df-b08c-c3d0b3ddf58d",
   "metadata": {
    "jp-MarkdownHeadingCollapsed": true
   },
   "source": [
    "Both `foldLeft` and `foldRight` are very similar, but the key difference is the way the expressions are generated.\n",
    "\n",
    "- `foldLeft` is _tail-recursive_ **(it evaluates the accumulator at each step)**\n",
    "  \n",
    "- `foldRight` is _non tail-cursive_ <span style=\"color:red\">**(large lists can cause stack overflow)**</span>\n",
    "  \n",
    "- Use `foldRight` when you need to preserve the structure _right-to-left_ or you are working with lazzy data stractures such as `Strem` or `LazyList`.\n",
    "    \n",
    "    - You can _short-circuit_ without generating the whole structure.\n"
   ]
  },
  {
   "cell_type": "markdown",
   "id": "0028ba39-bea9-4f2f-bd77-97fa2f8e5efd",
   "metadata": {},
   "source": [
    "#### Structure"
   ]
  },
  {
   "cell_type": "markdown",
   "id": "682fa204-e977-48f8-9d59-9d0f4dedff4e",
   "metadata": {},
   "source": [
    "- Variance of the structure using `foldLeft` and `foldRight`.\n",
    "\n",
    "    ```scala\n",
    "    import scala.language.postfixOps\n",
    "\n",
    "    val yys = List (\n",
    "        List.range(1, 5),\n",
    "        List.range(6, 10),\n",
    "        List.range(11, 15)\n",
    "    )\n",
    "    \n",
    "    ```\n",
    "\n",
    "    - Flatten list from _left-to-right_.\n",
    " \n",
    "        ```scala\n",
    "        (yys foldLeft (Nil)) ((xxs, xs) => xxs ::: xs) // List(1, 2, 3, 4, 6, 7, 8, 9, 11, 12, 13, 14)\n",
    "        \n",
    "        ```\n",
    "\n",
    "        <br/>\n",
    "\n",
    "    - Flatten list from _right-to-left_.\n",
    " \n",
    "        ```scala\n",
    "        (yys foldRight (Nil)) ((xs, xxs) => xxs ::: xs) // List(11, 12, 13, 14, 6, 7, 8, 9, 1, 2, 3, 4)\n",
    "\n",
    "        ```\n"
   ]
  },
  {
   "cell_type": "markdown",
   "id": "9ae36e72-a01f-4c93-848b-be3549b309f1",
   "metadata": {},
   "source": [
    "#### Short-circuit"
   ]
  },
  {
   "cell_type": "markdown",
   "id": "f194eed8-1b38-4dc9-a886-dca22d3428f0",
   "metadata": {},
   "source": [
    "- `foldRight` is can _short-circuit_ if:\n",
    "\n",
    "    - you work with lazzy data structures,\n",
    "    \n",
    "    - and the operator itself **doesn’t force the second argument**, like in boolean `&&` or `||`.\n",
    "      \n",
    "    **Example:**\n",
    "\n",
    "\n",
    "    ```scala\n",
    "    def foldRight[B](z: B)(op: (A, B) => B): B = this match {\n",
    "        case Nil     => z                                // `foldRight [1]`\n",
    "        case x :: xs => op(x, (xs foldRight z)(op))      // `foldRight [2]`\n",
    "    }\n",
    "    \n",
    "    ```\n",
    "\n",
    "    <br/>\n",
    "    \n",
    "    ```scala\n",
    "    (False :: True :: Nil).foldRight (True) (_ && _)\n",
    "    \n",
    "    ```\n",
    "\n",
    "    <br/>\n",
    "    \n",
    "    - Step-by-step evaluation:\n",
    "        \n",
    "        ```txt\n",
    "        > (False :: True :: Nil).foldRight (True) (_ && _)        \n",
    "        > False && ((True :: Nil).foldRight (True) (_ + _))     // `foldRight [2]`\n",
    "        > False                                                 // Short-cutting\n",
    "        \n",
    "        ```\n",
    "\n",
    "    <br/>\n",
    "    \n",
    "- `foldLeft` can never _short-circuit_, you process the whole structure.\n",
    "\n",
    "    **Example:**\n",
    "\n",
    "    ```scala\n",
    "    def foldLeft[B](z: B)(op: (B, A) => B): B = this match {\n",
    "        case Nil     => z                            // `foldLeft [1]`\n",
    "        case x :: xs => (xs foldLeft op(z, x))(op)   // `foldLeft [2]`\n",
    "    }\n",
    "    \n",
    "    ```\n",
    "\n",
    "    <br/>\n",
    "\n",
    "    ```scala\n",
    "    (False :: True :: Nil).foldLeft (True) (_ && _)\n",
    "    \n",
    "    ```\n",
    "\n",
    "    <br/>\n",
    "\n",
    "    - Step-by-step evaluation:\n",
    "        \n",
    "        ```scala\n",
    "        >> (False :: True :: Nil).foldLeft (True) (_ && _)     \n",
    "        >> (True :: Nil).foldLeft (False) (_ && _)       // `foldLeft [2]`\n",
    "        >> (Nil).foldLeft (False) (_ && _)               // `foldLeft [2]`\n",
    "        >> False                                         // `foldLeft [1]`\n",
    "        \n",
    "        ```"
   ]
  },
  {
   "cell_type": "markdown",
   "id": "6d6c484e-aece-4248-a3fa-a49caf3bccc5",
   "metadata": {},
   "source": [
    "### ReduceLeft & ReduceRight"
   ]
  },
  {
   "cell_type": "markdown",
   "id": "7137efb2-58bd-4b7d-acf0-42fe957f17c3",
   "metadata": {},
   "source": [
    "The method `reduceLeft` and `reduceRight` behaves similar to they analogous methods `foldLeft` and `foldRight`.\n",
    "<span style=\"color:red\">**But they require that the list is not empty.**</span>"
   ]
  },
  {
   "cell_type": "markdown",
   "id": "3782a0cb-1415-4c33-a79e-3a40d88c516f",
   "metadata": {},
   "source": [
    "```scala\n",
    "def reduceLeft(op: (A, A) => A): A = this match {\n",
    "    case Nil     => error(\"Nil.reduceLeft\")    \n",
    "    case x :: xs => (xs foldLeft x)(op)        \n",
    "}\n",
    "\n",
    "def reduceRight(op: (A, A) => A): A = this match {\n",
    "    case Nil      => error(\"Nil.reduceRight\")        \n",
    "    case x :: Nil => x                              \n",
    "    case x :: xs  => op(x, xs reduceRight op)        \n",
    "}\n",
    "\n",
    "```"
   ]
  },
  {
   "cell_type": "markdown",
   "id": "94b970b3-b1fa-4dc5-b38d-059871050cf6",
   "metadata": {},
   "source": [
    "## Nested Mappings"
   ]
  },
  {
   "cell_type": "markdown",
   "id": "5695d16c-c338-4c33-bbee-625812f61848",
   "metadata": {},
   "source": [
    "- You employ higher-order list processing functions to express many computations that are normally expressed as nested loops in imperative\n",
    "languages.\n",
    "\n",
    "- Consider the following problem: Given a positive integer $n$, find all\n",
    "pairs of positive integers $i$ and $j$, where $1 \\leq j \\lt i < n$ such that $i + j$ is prime.\n",
    "\n",
    "For instance, if $n = 7$ the pairs are:\n",
    "    \n",
    "| i | j | i + j |\n",
    "|---|---|-------|\n",
    "| 2 | 1 | 3     |\n",
    "| 3 | 2 | 5     |\n",
    "| 4 | 1 | 5     |\n",
    "| 4 | 3 | 7     |\n",
    "| 5 | 2 | 7     |\n",
    "| 6 | 1 | 7     |\n",
    "| 6 | 5 | 11    |\n",
    "\n"
   ]
  },
  {
   "cell_type": "markdown",
   "id": "2169c4eb-68dd-4e77-b1b9-cec80775b851",
   "metadata": {},
   "source": [
    "- Generates the sequence of all pairs $(i, j)$ of integers such that $1 \\leq j < i < n$."
   ]
  },
  {
   "cell_type": "code",
   "execution_count": 6,
   "id": "3fd719c0-8f14-429d-ab0e-7938e7a47024",
   "metadata": {},
   "outputs": [
    {
     "data": {
      "text/plain": [
       "\u001b[36mn\u001b[39m: \u001b[32mInt\u001b[39m = \u001b[32m7\u001b[39m\n",
       "\u001b[36mres6_1\u001b[39m: \u001b[32mList\u001b[39m[\u001b[32mList\u001b[39m[(\u001b[32mInt\u001b[39m, \u001b[32mInt\u001b[39m)]] = \u001b[33mList\u001b[39m(\n",
       "  \u001b[33mList\u001b[39m(),\n",
       "  \u001b[33mList\u001b[39m((\u001b[32m2\u001b[39m, \u001b[32m1\u001b[39m)),\n",
       "  \u001b[33mList\u001b[39m((\u001b[32m3\u001b[39m, \u001b[32m1\u001b[39m), (\u001b[32m3\u001b[39m, \u001b[32m2\u001b[39m)),\n",
       "  \u001b[33mList\u001b[39m((\u001b[32m4\u001b[39m, \u001b[32m1\u001b[39m), (\u001b[32m4\u001b[39m, \u001b[32m2\u001b[39m), (\u001b[32m4\u001b[39m, \u001b[32m3\u001b[39m)),\n",
       "  \u001b[33mList\u001b[39m((\u001b[32m5\u001b[39m, \u001b[32m1\u001b[39m), (\u001b[32m5\u001b[39m, \u001b[32m2\u001b[39m), (\u001b[32m5\u001b[39m, \u001b[32m3\u001b[39m), (\u001b[32m5\u001b[39m, \u001b[32m4\u001b[39m)),\n",
       "  \u001b[33mList\u001b[39m((\u001b[32m6\u001b[39m, \u001b[32m1\u001b[39m), (\u001b[32m6\u001b[39m, \u001b[32m2\u001b[39m), (\u001b[32m6\u001b[39m, \u001b[32m3\u001b[39m), (\u001b[32m6\u001b[39m, \u001b[32m4\u001b[39m), (\u001b[32m6\u001b[39m, \u001b[32m5\u001b[39m))\n",
       ")"
      ]
     },
     "execution_count": 6,
     "metadata": {},
     "output_type": "execute_result"
    }
   ],
   "source": [
    "val n = 7\n",
    "\n",
    "List.range(1, n)\n",
    "    .map(i => List.range(1, i).map(j => (i, j)))"
   ]
  },
  {
   "cell_type": "markdown",
   "id": "44a8f197-9e3e-4f66-8e2e-538f72177ca1",
   "metadata": {},
   "source": [
    "- Combine all sublists (flatting) using foldRight with the concat operator `:::`,"
   ]
  },
  {
   "cell_type": "code",
   "execution_count": 7,
   "id": "da426ce1-e203-47ff-9374-fea87ce82768",
   "metadata": {},
   "outputs": [
    {
     "data": {
      "text/plain": [
       "\u001b[36mres7\u001b[39m: \u001b[32mList\u001b[39m[(\u001b[32mInt\u001b[39m, \u001b[32mInt\u001b[39m)] = \u001b[33mList\u001b[39m(\n",
       "  (\u001b[32m2\u001b[39m, \u001b[32m1\u001b[39m),\n",
       "  (\u001b[32m3\u001b[39m, \u001b[32m1\u001b[39m),\n",
       "  (\u001b[32m3\u001b[39m, \u001b[32m2\u001b[39m),\n",
       "  (\u001b[32m4\u001b[39m, \u001b[32m1\u001b[39m),\n",
       "  (\u001b[32m4\u001b[39m, \u001b[32m2\u001b[39m),\n",
       "  (\u001b[32m4\u001b[39m, \u001b[32m3\u001b[39m),\n",
       "  (\u001b[32m5\u001b[39m, \u001b[32m1\u001b[39m),\n",
       "  (\u001b[32m5\u001b[39m, \u001b[32m2\u001b[39m),\n",
       "  (\u001b[32m5\u001b[39m, \u001b[32m3\u001b[39m),\n",
       "  (\u001b[32m5\u001b[39m, \u001b[32m4\u001b[39m),\n",
       "  (\u001b[32m6\u001b[39m, \u001b[32m1\u001b[39m),\n",
       "  (\u001b[32m6\u001b[39m, \u001b[32m2\u001b[39m),\n",
       "  (\u001b[32m6\u001b[39m, \u001b[32m3\u001b[39m),\n",
       "  (\u001b[32m6\u001b[39m, \u001b[32m4\u001b[39m),\n",
       "  (\u001b[32m6\u001b[39m, \u001b[32m5\u001b[39m)\n",
       ")"
      ]
     },
     "execution_count": 7,
     "metadata": {},
     "output_type": "execute_result"
    }
   ],
   "source": [
    "List.range(1, n)\n",
    "    .map(i => List.range(1, i).map(j => (i, j)))\n",
    "    .foldRight(List[(Int, Int)]()){(x, xs) => x ::: xs}"
   ]
  },
  {
   "cell_type": "markdown",
   "id": "d7d02d08-dd55-4eba-8927-6bd29507732d",
   "metadata": {},
   "source": [
    "- Filter the pairs that their sum is prime."
   ]
  },
  {
   "cell_type": "code",
   "execution_count": 8,
   "id": "762f5a76-a7ed-4f50-8114-d1fb30504e3a",
   "metadata": {},
   "outputs": [
    {
     "data": {
      "text/plain": [
       "defined \u001b[32mfunction\u001b[39m \u001b[36misPrime\u001b[39m\n",
       "\u001b[36mn\u001b[39m: \u001b[32mInt\u001b[39m = \u001b[32m7\u001b[39m\n",
       "\u001b[36mres8_2\u001b[39m: \u001b[32mList\u001b[39m[(\u001b[32mInt\u001b[39m, \u001b[32mInt\u001b[39m)] = \u001b[33mList\u001b[39m(\n",
       "  (\u001b[32m2\u001b[39m, \u001b[32m1\u001b[39m),\n",
       "  (\u001b[32m3\u001b[39m, \u001b[32m2\u001b[39m),\n",
       "  (\u001b[32m4\u001b[39m, \u001b[32m1\u001b[39m),\n",
       "  (\u001b[32m4\u001b[39m, \u001b[32m3\u001b[39m),\n",
       "  (\u001b[32m5\u001b[39m, \u001b[32m2\u001b[39m),\n",
       "  (\u001b[32m6\u001b[39m, \u001b[32m1\u001b[39m),\n",
       "  (\u001b[32m6\u001b[39m, \u001b[32m5\u001b[39m)\n",
       ")"
      ]
     },
     "execution_count": 8,
     "metadata": {},
     "output_type": "execute_result"
    }
   ],
   "source": [
    "def isPrime(n: Int): Boolean = {\n",
    "    def nestedIsPrime(n: Int, i: Int): Boolean = { \n",
    "        if (n <= 2) n == 2\n",
    "        else if (n % i == 0) false\n",
    "        else if (n < i * i) true\n",
    "        else nestedIsPrime(n, i + 1)\n",
    "    }\n",
    "    nestedIsPrime(n, 2)\n",
    "}\n",
    "\n",
    "val n = 7\n",
    "\n",
    "List.range(1, n)\n",
    "    .map(i => List.range(1, i).map(j => (i, j)))\n",
    "    .foldRight(List[(Int, Int)]()){(x, xs) => x ::: xs}\n",
    "    .filter(pair => isPrime(pair._1 + pair._2))"
   ]
  },
  {
   "cell_type": "markdown",
   "id": "1d60c766-8725-4259-ab4b-f026e67274a4",
   "metadata": {},
   "source": [
    "## Flattening Maps"
   ]
  },
  {
   "cell_type": "markdown",
   "id": "184fa9d5-5681-4fb2-b449-e90946d4b03c",
   "metadata": {},
   "source": [
    "- The combination of mapping and then concatenating sublists\n",
    "resulting from the map is so common that there is a special method for it.\n",
    "\n",
    "```scala\n",
    "def flatMap[B](f: A => List[B]): List[B] = this match {\n",
    "    case Nil     => Nil\n",
    "    case x :: xs => f(x) ::: (xs flatMap f)\n",
    "}\n",
    "\n",
    "```\n",
    "\n",
    "- Using `flatMap`, the pairs-whose-sum-is-prime could be expressed as:\n",
    "\n",
    "\n",
    "    ```scala\n",
    "    List.range(1, n)\n",
    "        .flatMap(i => List.range(1, i).map(j => (i, j)))\n",
    "        .filter(pair => isPrime(pair._1 + pair._2))\n",
    "\n",
    "    ```"
   ]
  },
  {
   "cell_type": "markdown",
   "id": "fb1c79c0-56aa-47c0-9a84-9ed270afb490",
   "metadata": {},
   "source": [
    "<p style=\"float: left;\"><a href=\"merge-sort.ipynb\" target=\"_blank\">Previous</a></p>\n",
    "<p style=\"float: right;\"><a href=\"for-comprehensions.ipynb\" target=\"_blank\">Next</a></p>\n",
    "<p style=\"text-align:center;\">Tour of Scala</p>\n",
    "<div style=\"clear: both;\"></div>"
   ]
  }
 ],
 "metadata": {
  "kernelspec": {
   "display_name": "Scala 3.6",
   "language": "scala",
   "name": "scala36"
  },
  "language_info": {
   "codemirror_mode": "text/x-scala",
   "file_extension": ".sc",
   "mimetype": "text/x-scala",
   "name": "scala",
   "nbconvert_exporter": "script",
   "version": "2.13.16"
  }
 },
 "nbformat": 4,
 "nbformat_minor": 5
}
