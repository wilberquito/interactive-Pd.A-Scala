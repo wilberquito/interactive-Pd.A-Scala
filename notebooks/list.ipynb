{
 "cells": [
  {
   "cell_type": "markdown",
   "id": "14da582d-dbb2-4170-ba53-4d6757d7d233",
   "metadata": {},
   "source": [
    "<p style=\"float: left;\"><a href=\"tuples.ipynb\" target=\"_blank\">Previous</a></p>\n",
    "<p style=\"float: right;\"><a href=\"list-first-order-methods.ipynb\" target=\"_blank\">Next</a></p>\n",
    "<p style=\"text-align:center;\">Tour of Scala</p>\n",
    "<div style=\"clear: both;\"></div>"
   ]
  },
  {
   "cell_type": "markdown",
   "id": "8cbbad83-1340-4ee4-b1ba-8edc86766f22",
   "metadata": {},
   "source": [
    "# Lists"
   ]
  },
  {
   "cell_type": "markdown",
   "id": "38e245e9-c52c-4ac8-a1d3-832a3dac28f6",
   "metadata": {},
   "source": [
    "Lists are an important data structure in many Scala programs. A list containing the\n",
    "elements $x_1, . . . , x_n$ is written as `List(x1, ..., xn)`. \n",
    "\n",
    "\n",
    "```scala\n",
    "val fruit = List(\"apples\", \"oranges\", \"pears\")\n",
    "val nums  = List(1, 2, 3, 4)\n",
    "val diag3 = List(List(1, 0, 0), List(0, 1, 0), List(0, 0, 1))\n",
    "val empty = List()\n",
    "```\n",
    "\n",
    "Lists are similar to arrays in languages such as `C` or `Java`, but there are also three\n",
    "important differences: \n",
    "\n",
    "1) **Lists are immutable.** That is, elements of a list cannot\n",
    "be changed by assignment,\n",
    "2) **lists have a structure recursive definition**,\n",
    "3) and **they support a rich set of operations**.\n",
    "\n",
    "    - `List` prepend and `head/tail` access is `O(1)` complexity.\n",
    "    -  Most other operations are `O(n)` on the number of elements in the list. This includes the `index-based` lookup of elements, `length`, `append` and `reverse`.\n"
   ]
  },
  {
   "cell_type": "markdown",
   "id": "22ad04f3-12b6-40ad-ac94-6ac21dbe7ab6",
   "metadata": {},
   "source": [
    "## Using lists"
   ]
  },
  {
   "cell_type": "markdown",
   "id": "ecac4482-581d-4bd8-9876-13e007dd1f49",
   "metadata": {},
   "source": [
    "Like arrays, **lists are _homogeneous_**. That is, the elements of a list all\n",
    "have the same type. **The type of a list with elements of type `T` is written `List[T]`.**\n",
    "\n",
    "```scala\n",
    "val fruit: List[String]    = List(\"apples\", \"oranges\", \"pears\")\n",
    "val nums : List[Int]       = List(1, 2, 3, 4)\n",
    "val diag3: List[List[Int]] = List(List(1, 0, 0), List(0, 1, 0), List(0, 0, 1))\n",
    "val empty: List[Int]       = List()\n",
    "```"
   ]
  },
  {
   "cell_type": "markdown",
   "id": "815ec794-b76c-4111-a371-7d417e8baa8d",
   "metadata": {},
   "source": [
    "### List constructors"
   ]
  },
  {
   "cell_type": "markdown",
   "id": "04eb21bf-42d8-4734-ba60-d204237f0269",
   "metadata": {},
   "source": [
    "All lists are built from two fundamental data constructors, `Nil`\n",
    "and `::` (pronounced “cons”).\n",
    "\n",
    "* `Nil` represents an empty list. <span style=\"color:red\">**(Them empty list `List()` is suggar syntax for `Nil`)**</span>\n",
    "* The infix operator `::` that expresses list extension. That is, `x :: xs` represents a list whose first element is `x`, \n",
    "which is followed by a list `xs`. "
   ]
  },
  {
   "cell_type": "code",
   "execution_count": null,
   "id": "925d899b-0ec2-4545-954a-1604d949ab5a",
   "metadata": {},
   "outputs": [],
   "source": [
    "val fruits = \"apples\" :: (\"oranges\" :: (\"pears\" :: Nil))\n",
    "val nums = 1 :: (2 :: (3 :: (4 :: Nil)))\n",
    "val diag3 = (1 :: (0 :: (0 :: List()))) ::\n",
    "            (0 :: (1 :: (0 :: List()))) ::\n",
    "            (0 :: (0 :: (1 :: List()))) :: List()\n",
    "val empty = Nil"
   ]
  },
  {
   "cell_type": "markdown",
   "id": "5ba8c58d-4fa9-4674-a098-1ad5d4d9fb88",
   "metadata": {},
   "source": [
    "**The `::` data constructor is right associative `A :: B :: C`  is interpreted as\n",
    "`A :: (B :: C)`.** "
   ]
  },
  {
   "cell_type": "code",
   "execution_count": null,
   "id": "5a2ad580-54c2-4044-b0e4-563c663993f8",
   "metadata": {},
   "outputs": [],
   "source": [
    "val nums = 1 :: 2 :: 3 :: 4 :: Nil"
   ]
  },
  {
   "cell_type": "markdown",
   "id": "6385a07a-931e-4a6a-aa9a-b6a7f2668c3e",
   "metadata": {},
   "source": [
    "### Basic operations"
   ]
  },
  {
   "cell_type": "markdown",
   "id": "f939e51c-1d67-4c6d-9437-c442bc5f4145",
   "metadata": {},
   "source": [
    "All operations on lists can be expressed in terms of the\n",
    "following three:\n",
    "\n",
    "1) `head` returns the first element of a list,\n",
    "2) `tail` returns the list consisting of all elements except \n",
    "first element,\n",
    "3) `isEmpty` returns true iff the list is empty"
   ]
  },
  {
   "cell_type": "code",
   "execution_count": null,
   "id": "3b38a22d-3082-4309-bb18-c5ebc84c7282",
   "metadata": {},
   "outputs": [],
   "source": [
    "val fruits = \"apples\" :: (\"oranges\" :: (\"pears\" :: Nil))\n",
    "val empty = Nil"
   ]
  },
  {
   "cell_type": "code",
   "execution_count": null,
   "id": "1b8d8e3e-8217-411a-bcf0-6165453c237d",
   "metadata": {},
   "outputs": [],
   "source": [
    "fruits.head // \"apples\""
   ]
  },
  {
   "cell_type": "code",
   "execution_count": null,
   "id": "c6c8a0db-01a1-45a8-88c5-10f043d75505",
   "metadata": {},
   "outputs": [],
   "source": [
    "fruits.tail // List(\"oranges\", \"pears\")"
   ]
  },
  {
   "cell_type": "code",
   "execution_count": null,
   "id": "a904ef8e-e2da-4247-bca9-166304109554",
   "metadata": {},
   "outputs": [],
   "source": [
    "empty.isEmpty // true"
   ]
  },
  {
   "cell_type": "markdown",
   "id": "a97acf25-0945-4745-9a90-cfcf0019c409",
   "metadata": {},
   "source": [
    "Calling methods `head` and `tail` on empty lists throw exceptions."
   ]
  },
  {
   "cell_type": "code",
   "execution_count": 4,
   "id": "b262732c-8b91-4186-8d4b-3c501021de72",
   "metadata": {},
   "outputs": [
    {
     "ename": "java.util.NoSuchElementException",
     "evalue": "head of empty list",
     "output_type": "error",
     "traceback": [
      "\u001b[31mjava.util.NoSuchElementException: head of empty list\u001b[39m",
      "  scala.collection.immutable.Nil$.head(\u001b[32mList.scala\u001b[39m:\u001b[32m663\u001b[39m)",
      "  ammonite.$sess.cmd4$Helper.<init>(\u001b[32mcmd4.sc\u001b[39m:\u001b[32m1\u001b[39m)",
      "  ammonite.$sess.cmd4$.<clinit>(\u001b[32mcmd4.sc\u001b[39m:\u001b[32m65428\u001b[39m)"
     ]
    }
   ],
   "source": [
    "empty.head"
   ]
  },
  {
   "cell_type": "code",
   "execution_count": 5,
   "id": "5235b4bd-181d-4ea3-a389-1083be6390cd",
   "metadata": {},
   "outputs": [
    {
     "ename": "java.lang.UnsupportedOperationException",
     "evalue": "tail of empty list",
     "output_type": "error",
     "traceback": [
      "\u001b[31mjava.lang.UnsupportedOperationException: tail of empty list\u001b[39m",
      "  scala.collection.immutable.Nil$.tail(\u001b[32mList.scala\u001b[39m:\u001b[32m665\u001b[39m)",
      "  ammonite.$sess.cmd5$Helper.<init>(\u001b[32mcmd5.sc\u001b[39m:\u001b[32m1\u001b[39m)",
      "  ammonite.$sess.cmd5$.<clinit>(\u001b[32mcmd5.sc\u001b[39m:\u001b[32m65428\u001b[39m)"
     ]
    }
   ],
   "source": [
    "empty.tail"
   ]
  },
  {
   "cell_type": "markdown",
   "id": "8898779d-c415-4d3f-a2ac-378279290347",
   "metadata": {},
   "source": [
    "### List patterns"
   ]
  },
  {
   "cell_type": "markdown",
   "id": "fd10b807-9436-4377-b9ae-f3db7d8bfada",
   "metadata": {},
   "source": [
    "You can pattern matching over any list `List[A]` using the data constructors `::` and `Nil` or `List()`."
   ]
  },
  {
   "cell_type": "markdown",
   "id": "74404328-b174-4922-9a58-3efcf00132bf",
   "metadata": {},
   "source": [
    "Example of use of patter matching to a list in ascending order:"
   ]
  },
  {
   "cell_type": "code",
   "execution_count": null,
   "id": "62e3646e-f004-4478-a773-b1caea6c8b8c",
   "metadata": {},
   "outputs": [],
   "source": [
    "def insert(x: Int, xs: List[Int]): List[Int] = \n",
    "    xs match\n",
    "        case Nil     => x :: Nil\n",
    "        case y :: ys => if x > y then y :: insert(x, ys) \n",
    "                        else x :: xs\n",
    "\n",
    "def isort(xs: List[Int]): List[Int] =\n",
    "    if (xs.isEmpty) then \n",
    "        Nil \n",
    "    else \n",
    "        insert(xs.head, isort(xs.tail))"
   ]
  },
  {
   "cell_type": "code",
   "execution_count": null,
   "id": "d2e7c41b-c81e-476a-80e3-d37639b1a498",
   "metadata": {},
   "outputs": [],
   "source": [
    "val nums = 3 :: 1 :: 50 :: -2 :: Nil\n",
    "\n",
    "isort(nums) // List(-2, 1, 3, 50)"
   ]
  },
  {
   "cell_type": "markdown",
   "id": "1a05e772-cd94-4ac8-860f-c44be344a466",
   "metadata": {},
   "source": [
    "Questions...🖐️\n",
    "\n",
    "- _What is the time complexity of the `isort` algorithm?_\n",
    "- _What should we modify to sort the list in decreasing order?_"
   ]
  },
  {
   "cell_type": "markdown",
   "id": "a915165f-4885-4037-a2f9-021a1bae302b",
   "metadata": {},
   "source": [
    "<p style=\"float: left;\"><a href=\"tuples.ipynb\" target=\"_blank\">Previous</a></p>\n",
    "<p style=\"float: right;\"><a href=\"list-first-order-methods.ipynb\" target=\"_blank\">Next</a></p>\n",
    "<p style=\"text-align:center;\">Tour of Scala</p>\n",
    "<div style=\"clear: both;\"></div>"
   ]
  }
 ],
 "metadata": {
  "kernelspec": {
   "display_name": "Scala 3.6",
   "language": "scala",
   "name": "scala36"
  },
  "language_info": {
   "codemirror_mode": "text/x-scala",
   "file_extension": ".sc",
   "mimetype": "text/x-scala",
   "name": "scala",
   "nbconvert_exporter": "script",
   "version": "2.13.16"
  }
 },
 "nbformat": 4,
 "nbformat_minor": 5
}
