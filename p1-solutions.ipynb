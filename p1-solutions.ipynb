{
 "cells": [
  {
   "cell_type": "markdown",
   "id": "bac26f7f-a9b0-471d-ad1a-10190e655270",
   "metadata": {},
   "source": [
    "# Exercises\n",
    "\n",
    "Use the [sbt-template](https://github.com/wilberquito/sbt-template) to solve the following problems.\n",
    "\n",
    "Feel free to add `objects` and test the functionalities in `*.worksheet.sc` files.\n",
    "\n",
    "<span style=\"color: red;\">**Note:** In Moodle you will find a deliverable task (1/5).</span>"
   ]
  },
  {
   "cell_type": "markdown",
   "id": "aabc7a25-a32e-4953-8570-b01aeb472e87",
   "metadata": {},
   "source": [
    "## Simple functions"
   ]
  },
  {
   "cell_type": "markdown",
   "id": "75516d0b-55a0-49f2-b75d-1f1e176b79b1",
   "metadata": {},
   "source": [
    "_Write a function `square` that takes an integer and returns its square_"
   ]
  },
  {
   "cell_type": "code",
   "execution_count": 1,
   "id": "15d548ff-b174-484a-bcf6-e619706eca15",
   "metadata": {},
   "outputs": [
    {
     "data": {
      "text/plain": [
       "\u001b[36msquare\u001b[39m: \u001b[32mInt\u001b[39m => \u001b[32mInt\u001b[39m = ammonite.$sess.cmd1$Helper$$Lambda$2700/540757335@194dbd2\n",
       "\u001b[36mres1_1\u001b[39m: \u001b[32mInt\u001b[39m = \u001b[32m4\u001b[39m"
      ]
     },
     "execution_count": 1,
     "metadata": {},
     "output_type": "execute_result"
    }
   ],
   "source": [
    "val square = (x: Int) => x * x\n",
    "\n",
    "square(2)"
   ]
  },
  {
   "cell_type": "markdown",
   "id": "6c6c3d5b-7b92-47fa-94e3-7d8d88532dc6",
   "metadata": {},
   "source": [
    "_Write a method `cube` that calculates the cube of a number using the `square` function_"
   ]
  },
  {
   "cell_type": "code",
   "execution_count": null,
   "id": "60c7a778-eda3-4860-aa17-b1e6ab651ca7",
   "metadata": {},
   "outputs": [
    {
     "data": {
      "text/plain": [
       "defined \u001b[32mfunction\u001b[39m \u001b[36mcube\u001b[39m\n",
       "\u001b[36mres2_1\u001b[39m: \u001b[32mInt\u001b[39m = \u001b[32m8\u001b[39m"
      ]
     },
     "execution_count": 2,
     "metadata": {},
     "output_type": "execute_result"
    }
   ],
   "source": [
    "def cube(x: Int): Int =\n",
    "    x * square(x)\n",
    "\n",
    "cube(2)"
   ]
  },
  {
   "cell_type": "markdown",
   "id": "d089d908-8c0b-4775-a267-9693cf7d14c7",
   "metadata": {},
   "source": [
    "## Evaluation order"
   ]
  },
  {
   "cell_type": "markdown",
   "id": "0f61dd99-ec8c-40ec-9fc0-4e5b669b0445",
   "metadata": {},
   "source": [
    "_Explain the difference between call-by-value and call-by-name. Write one method using the strategy call-by-name_"
   ]
  },
  {
   "cell_type": "markdown",
   "id": "32bc72b4-66ca-4e60-918c-1a3679772467",
   "metadata": {},
   "source": [
    "Call by-value is the default approach that Scala uses, so it evaluates the arguments of a function first. In the other hand, in call by-name won't be evaluated until the corresponding value is used inside the function body."
   ]
  },
  {
   "cell_type": "code",
   "execution_count": null,
   "id": "27b897ab-cb89-4b05-ab19-3665ecd7d640",
   "metadata": {},
   "outputs": [
    {
     "data": {
      "text/plain": [
       "defined \u001b[32mfunction\u001b[39m \u001b[36mcube\u001b[39m\n",
       "\u001b[36mres2_1\u001b[39m: \u001b[32mInt\u001b[39m = \u001b[32m8\u001b[39m"
      ]
     },
     "execution_count": 2,
     "metadata": {},
     "output_type": "execute_result"
    }
   ],
   "source": [
    "def cube(x: => Int): Int =\n",
    "    x * square(x)\n",
    "\n",
    "cube(2)"
   ]
  },
  {
   "cell_type": "markdown",
   "id": "51e85a8c-f7fa-4254-9095-636cd9ae6494",
   "metadata": {},
   "source": [
    "## Default parameter values"
   ]
  },
  {
   "cell_type": "markdown",
   "id": "5196b5d3-bef7-40db-8e44-930d05117210",
   "metadata": {},
   "source": [
    "_Create a method `greet` that takes two parameters: a name and a greeting message. The greeting message should have a default value of `\"Hello\"`_"
   ]
  },
  {
   "cell_type": "code",
   "execution_count": 3,
   "id": "e0e2e869-76f9-4023-bf7c-e6dbcb53eef3",
   "metadata": {},
   "outputs": [
    {
     "data": {
      "text/plain": [
       "defined \u001b[32mfunction\u001b[39m \u001b[36mgreet\u001b[39m\n",
       "\u001b[36mres3_1\u001b[39m: \u001b[32mString\u001b[39m = \u001b[32m\"Hello Wilber\"\u001b[39m"
      ]
     },
     "execution_count": 3,
     "metadata": {},
     "output_type": "execute_result"
    }
   ],
   "source": [
    "def greet(name: String, greeting: String = \"Hello\"): String =\n",
    "    s\"${greeting} ${name}\"\n",
    "\n",
    "greet(\"Wilber\")"
   ]
  },
  {
   "cell_type": "markdown",
   "id": "e7bbfbdb-4839-4715-a592-cdb8bbaf72a7",
   "metadata": {},
   "source": [
    "## Named arguments"
   ]
  },
  {
   "cell_type": "markdown",
   "id": "00bb9de2-691e-4d0e-b31d-0b1642ed2157",
   "metadata": {},
   "source": [
    "_Call the `greet` method from the previous exercise using named arguments and changing the order_"
   ]
  },
  {
   "cell_type": "code",
   "execution_count": 4,
   "id": "e92d406b-939b-41ac-b5ca-0f4ae295892f",
   "metadata": {},
   "outputs": [
    {
     "data": {
      "text/plain": [
       "\u001b[36mres4\u001b[39m: \u001b[32mString\u001b[39m = \u001b[32m\"No time no see you Wilber\"\u001b[39m"
      ]
     },
     "execution_count": 4,
     "metadata": {},
     "output_type": "execute_result"
    }
   ],
   "source": [
    "greet(greeting=\"No time no see you\", name=\"Wilber\")"
   ]
  },
  {
   "cell_type": "markdown",
   "id": "f48b66f7-c4f3-41d4-930f-e08464d520fb",
   "metadata": {},
   "source": [
    "## if/else"
   ]
  },
  {
   "cell_type": "markdown",
   "id": "e6175ded-4d81-4fe6-96ea-32642152263b",
   "metadata": {},
   "source": [
    "_Implement a Scala method `lucky` that recives an `Int` and returns a `String`. \n",
    "This method evaluates to \"Lucky!\" whenever it receives a `7`, otherwise \n",
    "it evaluates to \"Not lucky\"._"
   ]
  },
  {
   "cell_type": "code",
   "execution_count": null,
   "id": "a18b8f56-b9c4-4105-9c9e-11dcf1293b5b",
   "metadata": {},
   "outputs": [
    {
     "data": {
      "text/plain": [
       "defined \u001b[32mfunction\u001b[39m \u001b[36mlucky\u001b[39m\n",
       "\u001b[36mres6_1\u001b[39m: \u001b[32mString\u001b[39m = \u001b[32m\"Lucky!\"\u001b[39m"
      ]
     },
     "execution_count": 6,
     "metadata": {},
     "output_type": "execute_result"
    }
   ],
   "source": [
    "def lucky(n: Int): String =\n",
    "    if (n == 7) \"Lucky!\" else \"No Lucky\"\n",
    "\n",
    "lucky(7)"
   ]
  },
  {
   "cell_type": "markdown",
   "id": "884c28e5-69a2-496c-a9ad-3f1ebbc0f653",
   "metadata": {},
   "source": [
    "## Tail recursion"
   ]
  },
  {
   "cell_type": "markdown",
   "id": "02380d5f-2450-45a2-bd30-83d59f349e4d",
   "metadata": {},
   "source": [
    "_Write a tail-recursive method to calculate the nth Fibonacci number_"
   ]
  },
  {
   "cell_type": "markdown",
   "id": "6111fce7-0dcb-4974-ab55-4221c46f2740",
   "metadata": {},
   "source": [
    "1) Non tail recursive"
   ]
  },
  {
   "cell_type": "code",
   "execution_count": 6,
   "id": "e6d515fb-28f2-47e7-82e4-e4e9798de488",
   "metadata": {},
   "outputs": [
    {
     "data": {
      "text/plain": [
       "defined \u001b[32mfunction\u001b[39m \u001b[36mfibonacci\u001b[39m\n",
       "\u001b[36mres6_1\u001b[39m: \u001b[32mInt\u001b[39m = \u001b[32m34\u001b[39m"
      ]
     },
     "execution_count": 6,
     "metadata": {},
     "output_type": "execute_result"
    }
   ],
   "source": [
    "def fibonacci(nth: Int): Int =\n",
    "    if (nth == 1) 0\n",
    "    else if (nth == 2) 1\n",
    "    else fibonacci(nth - 1) + fibonacci(nth - 2)\n",
    "\n",
    "fibonacci(10)"
   ]
  },
  {
   "cell_type": "markdown",
   "id": "ec27baa6-46a8-44ab-87ca-f4f8a2527d9d",
   "metadata": {},
   "source": [
    "2) Tail recursive"
   ]
  },
  {
   "cell_type": "code",
   "execution_count": 9,
   "id": "9a7019bd-ccdf-4de6-98f5-1f181df46136",
   "metadata": {},
   "outputs": [
    {
     "data": {
      "text/plain": [
       "defined \u001b[32mfunction\u001b[39m \u001b[36mfibonacciTail\u001b[39m\n",
       "\u001b[36mres9_1\u001b[39m: \u001b[32mIndexedSeq\u001b[39m[\u001b[32mInt\u001b[39m] = \u001b[33mVector\u001b[39m(\u001b[32m0\u001b[39m, \u001b[32m1\u001b[39m, \u001b[32m1\u001b[39m, \u001b[32m2\u001b[39m, \u001b[32m3\u001b[39m, \u001b[32m5\u001b[39m, \u001b[32m8\u001b[39m, \u001b[32m13\u001b[39m, \u001b[32m21\u001b[39m, \u001b[32m34\u001b[39m, \u001b[32m55\u001b[39m)"
      ]
     },
     "execution_count": 9,
     "metadata": {},
     "output_type": "execute_result"
    }
   ],
   "source": [
    "def fibonacciTail(nth: Int): Int =\n",
    "    def tailRecursive(i: Int, previous: Int, current: Int): Int =\n",
    "        if (i <= 0) then previous\n",
    "        else tailRecursive(i - 1, previous + current, previous)\n",
    "    tailRecursive(nth, 0, 1)\n",
    "\n",
    "for (i <- 0 to 10) yield fibonacciTail(i)"
   ]
  },
  {
   "cell_type": "markdown",
   "id": "9233730e-0e0f-49bf-bcd4-d690a20f3cc4",
   "metadata": {},
   "source": [
    "## Higher order functions"
   ]
  },
  {
   "cell_type": "markdown",
   "id": "3a867d1e-1b8b-4676-9318-18ff75a5f53e",
   "metadata": {},
   "source": [
    "_Redefine the method `cube` so it calculates the cube of a number using the `square` function as argument_"
   ]
  },
  {
   "cell_type": "code",
   "execution_count": 10,
   "id": "597e36cc-0108-4abb-bd89-595aa9c3e505",
   "metadata": {},
   "outputs": [
    {
     "data": {
      "text/plain": [
       "defined \u001b[32mfunction\u001b[39m \u001b[36mcube\u001b[39m\n",
       "\u001b[36mres10_1\u001b[39m: \u001b[32mInt\u001b[39m = \u001b[32m8\u001b[39m"
      ]
     },
     "execution_count": 10,
     "metadata": {},
     "output_type": "execute_result"
    }
   ],
   "source": [
    "def cube(x: Int, f: Int => Int) =\n",
    "    x * f(x)\n",
    "\n",
    "cube(2, square)"
   ]
  },
  {
   "cell_type": "markdown",
   "id": "54745308-6717-430c-ac8d-1a25235c6e0b",
   "metadata": {},
   "source": [
    "## Currying"
   ]
  },
  {
   "cell_type": "markdown",
   "id": "619b1b1b-b069-4a1b-ae45-69dbc6c99284",
   "metadata": {},
   "source": [
    "_Using the parameter lists,_\n",
    "\n",
    "1) _define a the currying method `sum` that takes two integers one by one._\n",
    "2) _define the partial applied function `sum1` using the definition of `sum`, so, whenever applied to a number `n` evaluates to `n+1`._"
   ]
  },
  {
   "cell_type": "code",
   "execution_count": 11,
   "id": "67baa7ed-b62f-4217-8681-1f043d5fdfec",
   "metadata": {},
   "outputs": [
    {
     "data": {
      "text/plain": [
       "defined \u001b[32mfunction\u001b[39m \u001b[36madd\u001b[39m\n",
       "\u001b[36madd1\u001b[39m: \u001b[32mInt\u001b[39m => \u001b[32mInt\u001b[39m = ammonite.$sess.cmd11$Helper$$Lambda$2969/502888826@51275b42\n",
       "\u001b[36mres11_2\u001b[39m: \u001b[32mInt\u001b[39m = \u001b[32m3\u001b[39m"
      ]
     },
     "execution_count": 11,
     "metadata": {},
     "output_type": "execute_result"
    }
   ],
   "source": [
    "def add(a: Int)(b: Int): Int =\n",
    "    a + b\n",
    "\n",
    "val add1 = add(1)\n",
    "\n",
    "add1(2)"
   ]
  }
 ],
 "metadata": {
  "kernelspec": {
   "display_name": "Scala 3.6",
   "language": "scala",
   "name": "scala36"
  },
  "language_info": {
   "codemirror_mode": "text/x-scala",
   "file_extension": ".sc",
   "mimetype": "text/x-scala",
   "name": "scala",
   "nbconvert_exporter": "script",
   "version": "2.13.16"
  }
 },
 "nbformat": 4,
 "nbformat_minor": 5
}
