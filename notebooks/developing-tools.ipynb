{
 "cells": [
  {
   "cell_type": "markdown",
   "id": "47753e19-5007-42fd-b077-88222ecb2c0c",
   "metadata": {},
   "source": [
    "<p style=\"float: left;\"><a href=\"tour-of-scala.ipynb\" target=\"_blank\">Previous</a></p>\n",
    "<p style=\"float: right;\"><a href=\"first-example.ipynb\" target=\"_blank\">Next</a></p>\n",
    "<p style=\"text-align:center;\">Tour of Scala</p>\n",
    "<div style=\"clear: both;\"></div>"
   ]
  },
  {
   "cell_type": "markdown",
   "id": "46063934-b513-423d-8614-a364ccc94c0b",
   "metadata": {},
   "source": [
    "# Developing tools for Scala"
   ]
  },
  {
   "cell_type": "markdown",
   "id": "dbb5e2d3-f23c-4ae8-b57d-0814e3f5390f",
   "metadata": {},
   "source": [
    "From http://www.scala-lang.org/ you can download Scala for your operating system. \n",
    "\n",
    "- SBT (Simple Build Tool), a shell-type tool but with support for incremental compilation, library dependencies, testing, interpreter (Scala REPL, Read-Evaluate-Print Loop)...\n",
    "- [IntelliJ IDEA](https://www.jetbrains.com/idea/download/) a dedicated editor with online type inference, error markers, worksheet and more thanks to  the [Scala plugin](https://plugins.jetbrains.com/plugin/1347-scala).\n",
    "- Shell (scala, scalac, ... not installed in the classrooms)"
   ]
  },
  {
   "cell_type": "markdown",
   "id": "7acc0556-b293-4e06-a64d-a75bf4d8d468",
   "metadata": {},
   "source": [
    "We are basically going to use `sbt` to create and build Scala projects. \n",
    "\n",
    "For avoid any kind of problem related to the `sbt` and `Scala` version we provide to you \n",
    "a Scala project template [sbt-template](https://github.com/wilberquito/sbt-template) which has everything configured."
   ]
  },
  {
   "cell_type": "markdown",
   "id": "b1950aec-ca8a-44be-92ac-52261f3a51c2",
   "metadata": {},
   "source": [
    "### Install JDK23\n",
    "\n",
    "1) Go to `Project Structure`\n",
    "\n",
    "<img src=\"../images/ide-config/jdk23-config-01.png\" alt=\"jdk23-config-01\" style=\"max-width:600px;\"/>\n",
    "\n",
    "2) Click on `Download JDK`\n",
    "\n",
    "<img src=\"../images/ide-config/jdk23-config-02.png\" alt=\"jdk23-config-02\" style=\"max-width:600px;\"/>\n",
    "\n",
    "3) Select JDK `Version 23`, any vendor would work but select `Oracle Valhalla` to avoid problems\n",
    "\n",
    "<img src=\"../images/ide-config/jdk23-config-03.png\" alt=\"jdk23-config-03\" style=\"max-width:600px;\"/>\n",
    "\n",
    "4) You should apply the changes and the project configuration should look like this:\n",
    "\n",
    "<img src=\"../images/ide-config/jdk23-config-04.png\" alt=\"jdk23-config-04\" style=\"max-width:600px;\"/>\n"
   ]
  },
  {
   "cell_type": "markdown",
   "id": "c8be2924-c2a6-4a6d-a1e0-f19d26b190f6",
   "metadata": {},
   "source": [
    "### Install Scala plugin"
   ]
  },
  {
   "cell_type": "markdown",
   "id": "accd3708-acf3-48ef-be6a-a24cce157d69",
   "metadata": {},
   "source": [
    "1) Go to `Settings`\n",
    "\n",
    "<img src=\"../images/ide-config/scala-config-01.png\" alt=\"scala-config-01\" style=\"max-width:600px;\"/>\n",
    "\n",
    "\n",
    "2) Install de `Scala plugin`, and relaod the IDE if required\n",
    "\n",
    "<img src=\"../images/ide-config/scala-config-02.png\" alt=\"scala-config-0\" style=\"max-width:600px;\"/>"
   ]
  },
  {
   "cell_type": "markdown",
   "id": "f1210ca0-04e0-4332-8f4d-18a5c6b313ee",
   "metadata": {},
   "source": [
    "### Compile & run the project"
   ]
  },
  {
   "cell_type": "markdown",
   "id": "2bcc5c02-f58e-423d-bbc7-ff8a12b3efe3",
   "metadata": {},
   "source": [
    "1) It should automatically compile and allow you to run the project...\n",
    "\n",
    "<img src=\"../images/ide-config/compile-run-01.png\" alt=\"compile-run-01\" style=\"max-width:600px;\"/>\n",
    "\n",
    "2) If not, sync the sbt project\n",
    "\n",
    "<img src=\"../images/ide-config/compile-run-02.png\" alt=\"compile-run-02\" style=\"max-width:600px;\"/>\n",
    "\n",
    "3) Run the `*.worksheet.sc`.\n",
    "\n",
    "<img src=\"../images/ide-config/compile-run-03.png\" alt=\"compile-run-03\" style=\"max-width:600px;\"/>"
   ]
  },
  {
   "cell_type": "markdown",
   "id": "877531e2-a017-4fc5-8a5a-3ec2cbbd1c69",
   "metadata": {},
   "source": [
    "## Activity 🖐️"
   ]
  },
  {
   "cell_type": "markdown",
   "id": "4e9c41c5-d18b-4abb-9ecd-973e7ee36c3d",
   "metadata": {},
   "source": [
    "- Open IntellJ IDEA\n",
    "- Import the project the [sbt-template](https://github.com/wilberquito/sbt-template)\n",
    "- Execute the `blackboard.worksheet.sc` under the `src/main/scala` folder"
   ]
  },
  {
   "cell_type": "markdown",
   "id": "aeea0a70-e87f-411f-aa64-2216d7aea19f",
   "metadata": {},
   "source": [
    "<p style=\"float: left;\"><a href=\"tour-of-scala.ipynb\" target=\"_blank\">Previous</a></p>\n",
    "<p style=\"float: right;\"><a href=\"first-example.ipynb\" target=\"_blank\">Next</a></p>\n",
    "<p style=\"text-align:center;\">Tour of Scala</p>\n",
    "<div style=\"clear: both;\"></div>"
   ]
  }
 ],
 "metadata": {
  "kernelspec": {
   "display_name": "Scala 2.13",
   "language": "scala",
   "name": "scala213"
  },
  "language_info": {
   "codemirror_mode": "text/x-scala",
   "file_extension": ".sc",
   "mimetype": "text/x-scala",
   "name": "scala",
   "nbconvert_exporter": "script",
   "version": "2.13.16"
  }
 },
 "nbformat": 4,
 "nbformat_minor": 5
}
