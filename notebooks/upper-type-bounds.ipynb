{
 "cells": [
  {
   "cell_type": "markdown",
   "metadata": {},
   "source": [
    "<p style=\"float: left;\"><a href=\"polymorphic-methods.ipynb\" target=\"_blank\">Previous</a></p>\n",
    "<p style=\"float: right;\"><a href=\"variances.ipynb\" target=\"_blank\">Next</a></p>\n",
    "<p style=\"text-align:center;\">Tour of Scala</p>\n",
    "<div style=\"clear: both;\"></div>"
   ]
  },
  {
   "cell_type": "markdown",
   "metadata": {},
   "source": [
    "# Upper Type Bounds\n",
    "\n",
    "In Scala, [type variables](generic-classes.ipynb) may be constrained by a type bound. \n",
    "\n",
    "- Type bounds limit the concrete values of the type variables.\n",
    "  \n",
    "- An _upper type bound_ or is a special case of _type constraint_, where **`T <: A` declares that `T` is subtype of `A`.**"
   ]
  },
  {
   "cell_type": "markdown",
   "metadata": {
    "attributes": {
     "classes": [
      "tut"
     ],
     "id": ""
    }
   },
   "source": [
    "**Example:**\n",
    "\n",
    "- Suppose we have some herarchical relationship between types for animals and pets.\n",
    "\n",
    "    ```scala\n",
    "    // Animals\n",
    "    abstract class Animal:\n",
    "        def name: String\n",
    "    \n",
    "    class Lion extends Animal:\n",
    "      override def name: String = \"Lion\"\n",
    "    \n",
    "    // Pets\n",
    "    abstract class Pet extends Animal\n",
    "    \n",
    "    class Cat extends Pet:\n",
    "      override def name: String = \"Cat\"\n",
    "    \n",
    "    class Dog extends Pet:\n",
    "      override def name: String = \"Dog\"\n",
    "\n",
    "    ```\n",
    "\n",
    "    <br/>\n",
    "\n",
    "- And we define some instances of those classes:\n",
    "\n",
    "  ```scala\n",
    "    // Defining some animals...\n",
    "    val lion = new Lion\n",
    "    val dog = new Dog\n",
    "    val cat = new Cat\n",
    "    \n",
    "    ```\n",
    "\n",
    "- An we also define some generic containers. Some of them constrained by type.\n",
    "\n",
    "    ```scala\n",
    "    // Containers\n",
    "    class Container[A](x: A): // generic type variable, can be anything\n",
    "        def elem: A = x\n",
    "    \n",
    "    class AnimalContainer[A <: Animal](x: A): // notice the type constraint\n",
    "        def elem: A = x\n",
    "    \n",
    "    class PetContainer[A <: Pet](x: A): // notice the type constraint\n",
    "        def elem: A = x\n",
    "\n",
    "    ```"
   ]
  },
  {
   "cell_type": "markdown",
   "metadata": {},
   "source": [
    "Questions... 🖐️\n",
    "\n",
    "- _Can I add the `lion` in `Container[Animal]`, why?_\n",
    "\n",
    "    ```scala\n",
    "    Container[Animal](lion)\n",
    "    \n",
    "    ```\n",
    "\n",
    "    <br/>\n",
    "\n",
    "- _Can I add the `lion` in `PetContainer[Lion]`, why?_\n",
    "\n",
    "    ```scala\n",
    "    PetContainer[Lion](lion)\n",
    "\n",
    "    ```\n",
    "\n",
    "    <br/>\n",
    "\n",
    "- _Can I add the `lion` and the `dog` in `AnimalContainer[Animal]`, why?_\n",
    "\n",
    "    ```scala\n",
    "    AnimalContainer[Animal](lion)\n",
    "    AnimalContainer[Animal](dog)\n",
    "\n",
    "    ```\n",
    "\n",
    "    <br/>\n",
    "\n",
    "- _Can I add the `dog` and the `cat` in `PetContainer[Cat]`, why?_\n",
    "\n",
    "    ```scala\n",
    "    PetContainer[Cat](dog)\n",
    "    PetContainer[Cat](cat)\n",
    "\n",
    "    ```\n"
   ]
  },
  {
   "cell_type": "markdown",
   "metadata": {},
   "source": [
    "## Constraining supported types"
   ]
  },
  {
   "cell_type": "markdown",
   "metadata": {},
   "source": [
    "**Some generic types and methods only make sense when the type parameter supports certain behavior/s:**\n",
    "\n",
    "```scala\n",
    "import scala.language.postfixOps\n",
    "\n",
    "\n",
    "trait Comparable[A]:\n",
    "    def compare(that: A): Int        // Abstract method to be implemented...\n",
    "    def < (that: A): Boolean = (this `compare` that) < 0\n",
    "    def > (that: A): Boolean = (this `compare` that) > 0\n",
    "    def <= (that: A): Boolean = (this `compare` that) <= 0\n",
    "    def >= (that: A): Boolean = (this `compare` that) >= 0\n",
    "    def compareTo(that: A): Int = compare(that)\n",
    "\n",
    "abstract class Set[A <: Comparable[A]]:\n",
    "    def incl(x: A): Set[A]\n",
    "    def contains(x: A): Boolean\n",
    "\n",
    "class EmptySet[A <: Comparable[A]] extends Set[A]:\n",
    "    def contains(x: A): Boolean = false\n",
    "    def incl(x: A): Set[A] = new NonEmptySet(x, new EmptySet[A], new EmptySet[A])\n",
    "\n",
    "class NonEmptySet[A <: Comparable[A]](e: A, lset: Set[A], rset: Set[A]) extends Set[A]:\n",
    "    def contains(x: A): Boolean =\n",
    "        if (x < e) lset `contains` x // T needs to be comparable\n",
    "        else if (x > e) rset `contains` x\n",
    "        else true\n",
    "    def incl(x: A): Set[A] =\n",
    "        if (x < e) new NonEmptySet(e, lset `incl` x, rset)\n",
    "        else if (x > e) new NonEmptySet(e, lset, rset `incl` x)\n",
    "        else this\n",
    "\n",
    "```\n",
    "- For a set `Set[A]` to work correctly:\n",
    "  \n",
    "    - Elements of type `A` must be comparable.\n",
    "      \n",
    "    - We capture this requirement by stating that `A` is a subtype of `Comparable[A]`.\n",
    " \n",
    "    - We enforce this requirement by adding the type constraint `[A <: Comparable[A]]` in the definition of `Set`."
   ]
  },
  {
   "cell_type": "markdown",
   "metadata": {},
   "source": [
    "- Capturing subtyping between `Num` and `Comparable[Num]`:\n",
    "\n",
    "    ```scala\n",
    "    case class Num(value: Double) extends Comparable[Num]:\n",
    "        def compare(that: Num): Int =\n",
    "            if (this.value < that.value) -1\n",
    "            else if (this.value > that.value) 1\n",
    "            else 0\n",
    "    \n",
    "    val s = new EmptySet[Num].incl(Num(9)).incl(Num(0)).incl(Num(10))\n",
    "    \n",
    "    ```\n",
    "\n",
    "    <br/>\n",
    "\n",
    "    - <span style=\"color:red\">**We are required only to implement the `compare` method as it is abstract in trait `Comparable`.**</span>"
   ]
  },
  {
   "cell_type": "markdown",
   "metadata": {},
   "source": [
    "<p style=\"float: left;\"><a href=\"polymorphic-methods.ipynb\" target=\"_blank\">Previous</a></p>\n",
    "<p style=\"float: right;\"><a href=\"variances.ipynb\" target=\"_blank\">Next</a></p>\n",
    "<p style=\"text-align:center;\">Tour of Scala</p>\n",
    "<div style=\"clear: both;\"></div>"
   ]
  }
 ],
 "metadata": {
  "kernelspec": {
   "display_name": "Scala 3.6",
   "language": "scala",
   "name": "scala36"
  },
  "language_info": {
   "codemirror_mode": "text/x-scala",
   "file_extension": ".sc",
   "mimetype": "text/x-scala",
   "name": "scala",
   "nbconvert_exporter": "script",
   "version": "2.13.16"
  }
 },
 "nbformat": 4,
 "nbformat_minor": 4
}
