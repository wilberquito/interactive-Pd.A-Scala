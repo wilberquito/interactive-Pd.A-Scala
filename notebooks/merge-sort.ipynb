{
 "cells": [
  {
   "cell_type": "markdown",
   "id": "d091e838-e13e-431e-af41-34402b7e383b",
   "metadata": {},
   "source": [
    "<p style=\"float: left;\"><a href=\"list-first-order-methods.ipynb\" target=\"_blank\">Previous</a></p>\n",
    "<p style=\"float: right;\"><a href=\"list-higher-order-methods.ipynb\" target=\"_blank\">Next</a></p>\n",
    "<p style=\"text-align:center;\">Tour of Scala</p>\n",
    "<div style=\"clear: both;\"></div>"
   ]
  },
  {
   "cell_type": "markdown",
   "id": "5308ca46-7a12-4aaf-8b80-b50ef4ab189f",
   "metadata": {},
   "source": [
    "# Merge sort"
   ]
  },
  {
   "cell_type": "markdown",
   "id": "4d50cc33-c50f-43c6-9bdb-ef45bdc3cd63",
   "metadata": {},
   "source": [
    "The previous method **insertion sort** (`isort`) runs in $O(n^2)$, which makes it inefficient for large inputs.\n",
    "\n",
    "A more efficient algorithm is **Merge Sort**, which has worst-case time complexity $O(n \\log n)$. Here is a functional implementation in Scala:\n",
    "\n",
    "```scala\n",
    "def msort[A](less: (A, A) => Boolean)(xs: List[A]): List[A] = {\n",
    "    def merge(xs: List[A], ys: List[A]): List[A] =\n",
    "        if (xs.isEmpty) ys\n",
    "        else if (ys.isEmpty) xs\n",
    "        else if (less(xs.head, ys.head)) xs.head :: merge(xs.tail, ys)\n",
    "        else ys.head :: merge(xs, ys.tail)\n",
    "\n",
    "    val n = xs.length / 2\n",
    "    if (n == 0) xs\n",
    "    else {\n",
    "        val lxs = xs take n\n",
    "        val rxs = xs drop n\n",
    "        merge(msort(less)(lxs), msort(less)(rxs))\n",
    "    }\n",
    "}\n",
    "```\n",
    "\n",
    "- Why $O(n \\log n)$?\n",
    "\n",
    "    1. $n$ is the size of the list.\n",
    "       \n",
    "    3. The list is recursively divided in half until each sublist has at most one element, which gives $\\log n$ levels of recursion.\n",
    "       \n",
    "    5. At each level, merging the sublists takes $O(n)$.\n",
    "       \n",
    "    7. Combining these, the total work is $O(n)$ per level over $\\log n$ levels, giving $O(n \\log n)$."
   ]
  },
  {
   "cell_type": "markdown",
   "id": "16ea0cd2-15dc-4678-a98e-804bc01257e0",
   "metadata": {},
   "source": [
    "<p style=\"float: left;\"><a href=\"list-first-order-methods.ipynb\" target=\"_blank\">Previous</a></p>\n",
    "<p style=\"float: right;\"><a href=\"list-higher-order-methods.ipynb\" target=\"_blank\">Next</a></p>\n",
    "<p style=\"text-align:center;\">Tour of Scala</p>\n",
    "<div style=\"clear: both;\"></div>"
   ]
  }
 ],
 "metadata": {
  "kernelspec": {
   "display_name": "Scala 2.13",
   "language": "scala",
   "name": "scala213"
  },
  "language_info": {
   "codemirror_mode": "text/x-scala",
   "file_extension": ".sc",
   "mimetype": "text/x-scala",
   "name": "scala",
   "nbconvert_exporter": "script",
   "version": "2.13.16"
  }
 },
 "nbformat": 4,
 "nbformat_minor": 5
}
