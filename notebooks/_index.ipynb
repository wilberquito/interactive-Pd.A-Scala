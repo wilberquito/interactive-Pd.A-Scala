{
 "cells": [
  {
   "cell_type": "markdown",
   "metadata": {},
   "source": [
    "# Overview of Scala using Notebooks\n",
    "\n",
    "A list of Jupyter notebooks using almond by topic for the Pd.A subject.\n",
    "If you find any mistake please feel free to add an issue on the material [**original repository**](https://github.com/wilberquito/interactive-Pd.A-Scala)."
   ]
  },
  {
   "cell_type": "markdown",
   "metadata": {},
   "source": [
    "## Scala template repository"
   ]
  },
  {
   "cell_type": "markdown",
   "metadata": {},
   "source": [
    "You can find the Scala template repository [**here**](https://github.com/wilberquito/interactive-Pd.A-Scala/tree/scala-project-tpl)"
   ]
  },
  {
   "cell_type": "markdown",
   "metadata": {},
   "source": [
    "## Notebooks in this repository\n",
    "\n",
    "### P1\n",
    "* [Introduction](tour-of-scala.ipynb)\n",
    "* [Developing tools](developing-tools.ipynb)\n",
    "* [Scala first example](first-example.ipynb)\n",
    "* [Basics](basics.ipynb)\n",
    "* Expressions and simple functions\n",
    "    * [Evaluation order](by-name-parameters.ipynb)\n",
    "    * [Default parameter values](default-parameter-values.ipynb)\n",
    "    * [Named arguments](named-arguments.ipynb)\n",
    "    * [About if/else](about-if-else.ipynb)\n",
    "* Functions\n",
    "    * [Tail recursion](tail-recursion.ipynb)\n",
    "    * [Nested methods](nested-functions.ipynb)\n",
    "    * [Multiple parameter lists (Currying)](multiple-parameter-lists.ipynb)\n",
    "    * [Higher order functions](higher-order-functions.ipynb)"
   ]
  },
  {
   "cell_type": "code",
   "execution_count": null,
   "metadata": {},
   "outputs": [],
   "source": []
  }
 ],
 "metadata": {
  "kernelspec": {
   "display_name": "Python 3 (ipykernel)",
   "language": "python",
   "name": "python3"
  },
  "language_info": {
   "codemirror_mode": {
    "name": "ipython",
    "version": 3
   },
   "file_extension": ".py",
   "mimetype": "text/x-python",
   "name": "python",
   "nbconvert_exporter": "python",
   "pygments_lexer": "ipython3",
   "version": "3.11.6"
  }
 },
 "nbformat": 4,
 "nbformat_minor": 4
}
