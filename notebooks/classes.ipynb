{
 "cells": [
  {
   "cell_type": "markdown",
   "metadata": {},
   "source": [
    "<p style=\"float: left;\"><a href=\"_index.ipynb\" target=\"_blank\">Previous</a></p>\n",
    "<p style=\"float: right;\"><a href=\"singleton-objects.ipynb\" target=\"_blank\">Next</a></p>\n",
    "<p style=\"text-align:center;\">Tour of Scala</p>\n",
    "<div style=\"clear: both;\"></div>"
   ]
  },
  {
   "cell_type": "markdown",
   "metadata": {},
   "source": [
    "# Classes\n",
    "\n",
    "Classes in Scala are blueprints for creating objects. \n",
    "\n",
    "They can contain _members_ which can be:\n",
    "\n",
    "- `methods`\n",
    "- `values`,\n",
    "- `variables`\n",
    "- `types`,\n",
    "- `objects`\n",
    "- `traits`\n",
    "- `classes`\n",
    "- $\\cdots$\n",
    "\n",
    "## Defining a class\n",
    "A minimal class definition is simply the keyword `class` and\n",
    "an identifier. Class names should be capitalized."
   ]
  },
  {
   "cell_type": "code",
   "execution_count": null,
   "metadata": {
    "attributes": {
     "classes": [
      "tut"
     ],
     "id": ""
    }
   },
   "outputs": [],
   "source": [
    "class User\n",
    "\n",
    "val user1 = new User"
   ]
  },
  {
   "cell_type": "markdown",
   "metadata": {},
   "source": [
    "The keyword `new` is used to create an instance of the class. `User` has a default constructor which takes no arguments because no constructor was defined. \n",
    "\n",
    "You'll often want a constructor with class body, e.g., `Rational`."
   ]
  },
  {
   "cell_type": "code",
   "execution_count": null,
   "metadata": {},
   "outputs": [],
   "source": [
    "class Rational(n: Int, d: Int): // supertype AnyRef\n",
    "\n",
    "    private def gcd(x: Int, y: Int): Int =\n",
    "        if (x == 0) y\n",
    "        else if (x < 0) gcd(-x, y)\n",
    "        else if (y < 0) -gcd(x, -y)\n",
    "        else gcd(y % x, x)\n",
    "    \n",
    "    private val g = gcd(n, d)\n",
    "    \n",
    "    val numer: Int = n/g\n",
    "    val denom: Int = d/g\n",
    "    \n",
    "    def +(that: Rational) =\n",
    "        new Rational(numer * that.denom + that.numer * denom, denom * that.denom)\n",
    "    \n",
    "    def -(that: Rational) = \n",
    "        new Rational(numer * that.denom - that.numer * denom, denom * that.denom)\n",
    "    \n",
    "    def *(that: Rational) =\n",
    "        new Rational(numer * that.numer, denom * that.denom)\n",
    "    \n",
    "    def /(that: Rational) =\n",
    "        new Rational(numer * that.denom, denom * that.numer)\n",
    "\n",
    "    override def toString = \"\" + numer + \"/\" + denom  // <- As in Java you can override methods defined in parent classes"
   ]
  },
  {
   "cell_type": "code",
   "execution_count": 2,
   "metadata": {},
   "outputs": [
    {
     "data": {
      "text/plain": [
       "\u001b[36ma\u001b[39m: \u001b[32mRational\u001b[39m = 2/3\n",
       "\u001b[36mb\u001b[39m: \u001b[32mRational\u001b[39m = 4/9\n",
       "\u001b[36mres2_2\u001b[39m: \u001b[32mRational\u001b[39m = 10/9"
      ]
     },
     "execution_count": 2,
     "metadata": {},
     "output_type": "execute_result"
    }
   ],
   "source": [
    "val a = new Rational(2, 3)\n",
    "val b = new Rational(4, 9)\n",
    "a + b"
   ]
  },
  {
   "cell_type": "markdown",
   "metadata": {},
   "source": [
    "This `Rational` class has many members: the values `numer`, `demon` and `g`\n",
    "and the methods `gcd`, `+`, `-`, `*`, `/` and\n",
    "`toString`. \n",
    "\n",
    "* Unlike many other languages, the primary constructor is in the class signature `(n: Int, d: Int)`.\n",
    "* Since `toString` overrides `toString` from [`AnyRef`](unified-types.ipynb), it is tagged with the `override` keyword."
   ]
  },
  {
   "cell_type": "markdown",
   "metadata": {},
   "source": [
    "## Constructors\n",
    "\n",
    "Constructors can have optional parameters by providing a default value like so:"
   ]
  },
  {
   "cell_type": "code",
   "execution_count": null,
   "metadata": {
    "attributes": {
     "classes": [
      "tut"
     ],
     "id": ""
    }
   },
   "outputs": [],
   "source": [
    "class Point(var x: Int = 0, var y: Int = 0)\n",
    "\n",
    "val origin = new Point  // x and y are both set to 0\n",
    "val point1 = new Point(1)\n",
    "\n",
    "println(origin.y)  // 0\n",
    "println(point1.x)  // 1"
   ]
  },
  {
   "cell_type": "markdown",
   "metadata": {},
   "source": [
    "**In this version of the `Point` class, `x` and `y` have the default value `0` so no arguments are required.**\n",
    "\n",
    "Because the constructor reads arguments left to right, **if you just wanted to pass in a `y` value, you would need to name the parameter.**"
   ]
  },
  {
   "cell_type": "code",
   "execution_count": null,
   "metadata": {
    "attributes": {
     "classes": [
      "tut"
     ],
     "id": ""
    }
   },
   "outputs": [],
   "source": [
    "class Point(var x: Int = 0, var y: Int = 0)\n",
    "\n",
    "val point2 = new Point(y=2)\n",
    "            \n",
    "println(point2.y)  // 2"
   ]
  },
  {
   "cell_type": "markdown",
   "metadata": {},
   "source": [
    "## Private Members and Getter/Setter Syntax\n",
    "\n",
    "**Members are public by default.** Use the `private` access modifier\n",
    "to hide them from outside of the class."
   ]
  },
  {
   "cell_type": "code",
   "execution_count": null,
   "metadata": {
    "attributes": {
     "classes": [
      "tut"
     ],
     "id": ""
    }
   },
   "outputs": [],
   "source": [
    "class Point:\n",
    "  private var _x = 0\n",
    "  private var _y = 0\n",
    "  private val bound = 100\n",
    "\n",
    "  def x = _x // <- getter & setter of private data\n",
    "\n",
    "  def x_= (newValue: Int): Unit = // <- setter validator, called by setter automatically\n",
    "    if (newValue < bound) _x = newValue else printWarning\n",
    "\n",
    "  def y = _y\n",
    "\n",
    "  def y_= (newValue: Int): Unit =\n",
    "    if (newValue < bound) _y = newValue else printWarning\n",
    "\n",
    "  private def printWarning = println(\"WARNING: Out of bounds\")"
   ]
  },
  {
   "cell_type": "code",
   "execution_count": null,
   "metadata": {},
   "outputs": [],
   "source": [
    "val point1 = new Point\n",
    "\n",
    "point1.x = 99\n",
    "point1.y = 101"
   ]
  },
  {
   "cell_type": "markdown",
   "metadata": {},
   "source": [
    "In this version of the `Point` class, \n",
    "\n",
    "- The data is stored in private variables `_x` and `_y`.\n",
    "- There are methods `def x` and `def y` for accessing the private data.\n",
    "- `def x_=` and `def y_=` are for validating and setting the value of `_x` and `_y`.\n",
    "\n",
    "Notice the special syntax for the setters: **the method has `_=` appended to the identifier of the getter**."
   ]
  },
  {
   "cell_type": "markdown",
   "metadata": {},
   "source": [
    "Questions...🖐️\n",
    "\n",
    "- _What assignment prints a warning, and why?_\n",
    "- _What will print `println(point1.y)`?_"
   ]
  },
  {
   "cell_type": "markdown",
   "metadata": {},
   "source": [
    "**Primary constructor parameters with `val` and `var` are public.**"
   ]
  },
  {
   "cell_type": "code",
   "execution_count": null,
   "metadata": {
    "attributes": {
     "classes": [
      "tut"
     ],
     "id": ""
    }
   },
   "outputs": [],
   "source": [
    "class Point(val x: Int, val y: Int)\n",
    "\n",
    "val point = new Point(1, 2)\n",
    "\n",
    "println(point.x) // 1"
   ]
  },
  {
   "cell_type": "markdown",
   "metadata": {},
   "source": [
    "Questions...🖐️\n",
    "\n",
    "- _Is this `point.x = 3` allowed?_"
   ]
  },
  {
   "cell_type": "markdown",
   "metadata": {},
   "source": [
    "**Parameters without `val` or `var` are private values**, visible only within the class."
   ]
  },
  {
   "cell_type": "code",
   "execution_count": 10,
   "metadata": {
    "attributes": {
     "classes": [
      "tut"
     ],
     "id": ""
    }
   },
   "outputs": [
    {
     "name": "stderr",
     "output_type": "stream",
     "text": [
      "-- [E173] Reference Error: cmd11.sc:4:20 ---------------------------------------\n",
      "4 |val res11_2 = point.x  // <-- does not compile\n",
      "  |              ^^^^^^^\n",
      "  |value x cannot be accessed as a member of (Helper.this.point : Helper.this.Point) from class Helper.\n",
      "  |  private value x can only be accessed from class Point in class Helper.\n",
      "Compilation Failed"
     ]
    }
   ],
   "source": [
    "class Point(x: Int, y: Int)\n",
    "\n",
    "val point = new Point(1, 2)\n",
    "point.x  // <-- does not compile"
   ]
  },
  {
   "cell_type": "markdown",
   "metadata": {},
   "source": [
    "<p style=\"float: left;\"><a href=\"_index.ipynb\" target=\"_blank\">Previous</a></p>\n",
    "<p style=\"float: right;\"><a href=\"singleton-objects.ipynb\" target=\"_blank\">Next</a></p>\n",
    "<p style=\"text-align:center;\">Tour of Scala</p>\n",
    "<div style=\"clear: both;\"></div>"
   ]
  }
 ],
 "metadata": {
  "kernelspec": {
   "display_name": "Scala 3.6",
   "language": "scala",
   "name": "scala36"
  },
  "language_info": {
   "codemirror_mode": "text/x-scala",
   "file_extension": ".sc",
   "mimetype": "text/x-scala",
   "name": "scala",
   "nbconvert_exporter": "script",
   "version": "2.13.16"
  }
 },
 "nbformat": 4,
 "nbformat_minor": 4
}
