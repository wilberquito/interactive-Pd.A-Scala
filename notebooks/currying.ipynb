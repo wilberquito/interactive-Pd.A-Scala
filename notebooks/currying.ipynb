{
 "cells": [
  {
   "cell_type": "markdown",
   "metadata": {},
   "source": [
    "<p style=\"float: left;\"><a href=\"higher-order-functions.ipynb\" target=\"_blank\">Previous</a></p>\n",
    "<p style=\"float: right;\"><a href=\"p1-exercises.ipynb\" target=\"_blank\">Next</a></p>\n",
    "<p style=\"text-align:center;\">Tour of Scala</p>\n",
    "<div style=\"clear: both;\"></div>"
   ]
  },
  {
   "cell_type": "markdown",
   "metadata": {},
   "source": [
    "# Currying"
   ]
  },
  {
   "cell_type": "markdown",
   "metadata": {},
   "source": [
    "[Currying](https://en.wikipedia.org/wiki/Currying) is the process of transforming a function that takes multiple arguments in a tuple, \n",
    "into a function that takes just a single argument and returns another function which accepts further arguments, one by one, that the original function would receive in the rest of that tuple. \n",
    "\n",
    "- **Functions in curried form are usually convenient because it allows partial application** and they are asociative _to the right_.\n",
    "\n",
    "    ```haskell\n",
    "    f :: a -> (b -> (c -> d)) \n",
    "    ```"
   ]
  },
  {
   "cell_type": "markdown",
   "metadata": {},
   "source": [
    "## Emulating currying"
   ]
  },
  {
   "cell_type": "markdown",
   "metadata": {},
   "source": [
    "We can emulate currying by creating functions that take a single argument and return another function that expects the remaining arguments.\n",
    "\n",
    "```scala\n",
    "def sum(f: Int => Int): (Int, Int) => Int =\n",
    "    def sumF(a: Int, b: Int): Int =\n",
    "        if (a > b) 0 else f(a) + sumF(a + 1, b)\n",
    "    sumF\n",
    "\n",
    "\n",
    "def powerOfTwo(x: Int): Int = if x == 0 then 1 else 2 * powerOfTwo(x - 1)\n",
    "\n",
    "val sumInts = sum(x => x)               // x_0 + x_1 + .. + x_{n-1}\n",
    "val sumSquares = sum(x => x * x)        // x_0 * x_0 + x_1 * x_1 + .. + x_{n-1} * x_{n-1}\n",
    "val sumPowersOfTwo = sum(powerOfTwo)    // 2^{x_0} + 2^{x_1} + .. + 2^{x_n-1}\n",
    "\n",
    "println(sumInts(1, 10))        // 55\n",
    "println(sumSquares(1, 10))     // 385\n",
    "println(sumPowersOfTwo(1, 10)) // 2046"
   ]
  },
  {
   "cell_type": "markdown",
   "metadata": {},
   "source": [
    "## Multiple parameter lists\n",
    "\n"
   ]
  },
  {
   "cell_type": "markdown",
   "metadata": {},
   "source": [
    "Methods may define multiple parameter lists. **When a method is called with a fewer number of parameter lists, then this will yield a function taking the missing parameter lists as its arguments.**\n",
    "\n",
    "```scala\n",
    "def sum(f: Int => Int)(a: Int)(b: Int): Int = {\n",
    "    if (a > b) 0 else f(a) + sum(f)(a + 1)(b)   \n",
    "}\n",
    "\n",
    "def powerOfTwo(x: Int): Int = if (x == 0) 1 else 2 * powerOfTwo(x - 1)\n",
    "\n",
    "def sumInts(a: Int, b: Int): Int = sum(x => x)(a)(b)              // Consecutive partial application\n",
    "def sumSquares(a: Int, b: Int): Int = sum(x => x * x)(a)(b)       // Consecutive partial application\n",
    "def sumPowersOfTwo(a: Int, b: Int): Int = sum(powerOfTwo)(a)(b)   // Consecutive partial application\n",
    "\n",
    "println(sum(x => x)(1)(10))   // 55\n",
    "\n",
    "```"
   ]
  },
  {
   "cell_type": "markdown",
   "metadata": {},
   "source": [
    "<p style=\"float: left;\"><a href=\"higher-order-functions.ipynb\" target=\"_blank\">Previous</a></p>\n",
    "<p style=\"float: right;\"><a href=\"p1-exercises.ipynb\" target=\"_blank\">Next</a></p>\n",
    "<p style=\"text-align:center;\">Tour of Scala</p>\n",
    "<div style=\"clear: both;\"></div>"
   ]
  }
 ],
 "metadata": {
  "kernelspec": {
   "display_name": "Scala 3.6",
   "language": "scala",
   "name": "scala36"
  },
  "language_info": {
   "codemirror_mode": "text/x-scala",
   "file_extension": ".sc",
   "mimetype": "text/x-scala",
   "name": "scala",
   "nbconvert_exporter": "script",
   "version": "2.13.16"
  }
 },
 "nbformat": 4,
 "nbformat_minor": 4
}
