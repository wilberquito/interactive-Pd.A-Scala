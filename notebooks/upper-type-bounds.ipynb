{
 "cells": [
  {
   "cell_type": "markdown",
   "metadata": {},
   "source": [
    "<p style=\"float: left;\"><a href=\"polymorphic-methods.ipynb\" target=\"_blank\">Previous</a></p>\n",
    "<p style=\"float: right;\"><a href=\"variances.ipynb\" target=\"_blank\">Next</a></p>\n",
    "<p style=\"text-align:center;\">Tour of Scala</p>\n",
    "<div style=\"clear: both;\"></div>"
   ]
  },
  {
   "cell_type": "markdown",
   "metadata": {},
   "source": [
    "# Upper Type Bounds\n",
    "\n",
    "In Scala, [type variables](generic-classes.ipynb) may be constrained by a type bound. \n",
    "\n",
    "- Type bounds limit the concrete values of the type variables and possibly reveal \n",
    "more information about the members of such types. \n",
    "\n",
    "- An _upper type bound_ or _type constraint_ **`T <: A` declares that type variable `T` refers to a subtype of type `A`**.\n",
    "\n",
    "For instance:"
   ]
  },
  {
   "cell_type": "code",
   "execution_count": null,
   "metadata": {
    "attributes": {
     "classes": [
      "tut"
     ],
     "id": ""
    }
   },
   "outputs": [],
   "source": [
    "// Animals\n",
    "abstract class Animal:\n",
    "    def name: String\n",
    "\n",
    "class Lion extends Animal:\n",
    "  override def name: String = \"Lion\"\n",
    "\n",
    "// Pets\n",
    "abstract class Pet extends Animal\n",
    "\n",
    "class Cat extends Pet:\n",
    "  override def name: String = \"Cat\"\n",
    "\n",
    "class Dog extends Pet:\n",
    "  override def name: String = \"Dog\"\n",
    "\n",
    "// Containers\n",
    "class Container[A](x: A):\n",
    "    def elem: A = x\n",
    "\n",
    "class AnimalContainer[A <: Animal](x: A):\n",
    "    def elem: A = x\n",
    "\n",
    "class PetContainer[A <: Pet](x: A):\n",
    "    def elem: A = x"
   ]
  },
  {
   "cell_type": "code",
   "execution_count": null,
   "metadata": {},
   "outputs": [],
   "source": [
    "val lion = new Lion\n",
    "val dog = new Dog\n",
    "val cat = new Cat"
   ]
  },
  {
   "cell_type": "markdown",
   "metadata": {},
   "source": [
    "Questions... 🖐️\n",
    "\n",
    "- _Can I add the `lion` in `Container[Animal]`, why?_"
   ]
  },
  {
   "cell_type": "code",
   "execution_count": null,
   "metadata": {},
   "outputs": [],
   "source": [
    "val container = Container[Animal](lion)"
   ]
  },
  {
   "cell_type": "markdown",
   "metadata": {},
   "source": [
    "- _Can I add the `lion` in `PetContainer[Lion]`, why?_"
   ]
  },
  {
   "cell_type": "code",
   "execution_count": null,
   "metadata": {},
   "outputs": [],
   "source": [
    "val petContainer = PetContainer[Lion](lion)"
   ]
  },
  {
   "cell_type": "markdown",
   "metadata": {},
   "source": [
    "- _Can I add the `lion` and the `dog` in `AnimalContainer[Animal]`, why?_"
   ]
  },
  {
   "cell_type": "code",
   "execution_count": null,
   "metadata": {},
   "outputs": [],
   "source": [
    "AnimalContainer[Animal](lion)"
   ]
  },
  {
   "cell_type": "code",
   "execution_count": null,
   "metadata": {},
   "outputs": [],
   "source": [
    "AnimalContainer[Animal](dog)"
   ]
  },
  {
   "cell_type": "markdown",
   "metadata": {},
   "source": [
    "- _Can I add the `dog` and the `cat` in `PetContainer[Cat]`, why?_"
   ]
  },
  {
   "cell_type": "code",
   "execution_count": null,
   "metadata": {},
   "outputs": [],
   "source": [
    "PetContainer[Cat](dog)"
   ]
  },
  {
   "cell_type": "code",
   "execution_count": null,
   "metadata": {},
   "outputs": [],
   "source": [
    "PetContainer[Cat](cat)"
   ]
  },
  {
   "cell_type": "markdown",
   "metadata": {},
   "source": [
    "## Another example"
   ]
  },
  {
   "cell_type": "markdown",
   "metadata": {},
   "source": [
    "**There are types and methods that, even if they work for a wide variety of types, \n",
    "they do not make sense for some types.** \n",
    "\n",
    "For example, the type `Set[T]`, **where `T` needs to be a type that can be compare to.**\n",
    "\n",
    "Let's define the `Ordered[T]` trait. This definition allows values of type `T` to be comparable."
   ]
  },
  {
   "cell_type": "code",
   "execution_count": 20,
   "metadata": {},
   "outputs": [
    {
     "data": {
      "text/plain": [
       "\u001b[32mimport \u001b[39m\u001b[36mscala.language.postfixOps\n",
       "\n",
       "\u001b[39m\n",
       "defined \u001b[32mtrait\u001b[39m \u001b[36mOrdered\u001b[39m"
      ]
     },
     "execution_count": 20,
     "metadata": {},
     "output_type": "execute_result"
    }
   ],
   "source": [
    "import scala.language.postfixOps\n",
    "\n",
    "trait Ordered[A]:\n",
    "    def compare(that: A): Int\n",
    "    def < (that: A): Boolean = (this `compare` that) < 0\n",
    "    def > (that: A): Boolean = (this `compare` that) > 0\n",
    "    def <= (that: A): Boolean = (this `compare` that) <= 0\n",
    "    def >= (that: A): Boolean = (this `compare` that) >= 0\n",
    "    def compareTo(that: A): Int = compare(that)"
   ]
  },
  {
   "cell_type": "markdown",
   "metadata": {},
   "source": [
    "We use the trait `Ordered[T]` as a _type constraint_ in the generic \n",
    "type `Set[T]`, so any type `T` is subtype of `Ordered[T]`."
   ]
  },
  {
   "cell_type": "code",
   "execution_count": null,
   "metadata": {},
   "outputs": [],
   "source": [
    "import scala.language.postfixOps\n",
    "\n",
    "abstract class Set[T <: Ordered[T]]:\n",
    "    def incl(x: T): Set[T]\n",
    "    def contains(x: T): Boolean\n",
    "\n",
    "class EmptySet[T <: Ordered[T]] extends Set[T]:\n",
    "    def contains(x: T): Boolean = false\n",
    "    def incl(x: T): Set[T] = new NonEmptySet(x, new EmptySet[T], new EmptySet[T])\n",
    "\n",
    "class NonEmptySet[T <: Ordered[T]](e: T, lset: Set[T], rset: Set[T]) extends Set[T]:\n",
    "    def contains(x: T): Boolean =\n",
    "        if (x < e) lset `contains` x // T needs to be comparable\n",
    "        else if (x > e) rset `contains` x\n",
    "        else true\n",
    "    def incl(x: T): Set[T] =\n",
    "        if (x < e) new NonEmptySet(e, lset `incl` x, rset)\n",
    "        else if (x > e) new NonEmptySet(e, lset, rset `incl` x)\n",
    "        else this"
   ]
  },
  {
   "cell_type": "markdown",
   "metadata": {},
   "source": [
    "Finally, we define the type `Num` which implement the behaviour of an `Ordered[Num]` type."
   ]
  },
  {
   "cell_type": "code",
   "execution_count": null,
   "metadata": {},
   "outputs": [],
   "source": [
    "case class Num(value: Double) extends Ordered[Num] {\n",
    "    def compare(that: Num): Int =\n",
    "        if (this.value < that.value) -1\n",
    "        else if (this.value > that.value) 1\n",
    "        else 0\n",
    "}"
   ]
  },
  {
   "cell_type": "code",
   "execution_count": 27,
   "metadata": {},
   "outputs": [
    {
     "data": {
      "text/plain": [
       "\u001b[36ms\u001b[39m: \u001b[32mSet\u001b[39m[\u001b[32mNum\u001b[39m] = ammonite.$sess.cmd22$Helper$NonEmptySet@6e85f200"
      ]
     },
     "execution_count": 27,
     "metadata": {},
     "output_type": "execute_result"
    }
   ],
   "source": [
    "val s = new EmptySet[Num].incl(Num(9)).incl(Num(0)).incl(Num(10))"
   ]
  },
  {
   "cell_type": "code",
   "execution_count": 26,
   "metadata": {},
   "outputs": [
    {
     "data": {
      "text/plain": [
       "\u001b[36mres26\u001b[39m: \u001b[32mBoolean\u001b[39m = \u001b[32mtrue\u001b[39m"
      ]
     },
     "execution_count": 26,
     "metadata": {},
     "output_type": "execute_result"
    }
   ],
   "source": [
    "s.contains(Num(0))"
   ]
  },
  {
   "cell_type": "code",
   "execution_count": 25,
   "metadata": {},
   "outputs": [
    {
     "data": {
      "text/plain": [
       "\u001b[36mres25\u001b[39m: \u001b[32mBoolean\u001b[39m = \u001b[32mfalse\u001b[39m"
      ]
     },
     "execution_count": 25,
     "metadata": {},
     "output_type": "execute_result"
    }
   ],
   "source": [
    "s.contains(Num(1001))"
   ]
  },
  {
   "cell_type": "markdown",
   "metadata": {},
   "source": [
    "<p style=\"float: left;\"><a href=\"polymorphic-methods.ipynb\" target=\"_blank\">Previous</a></p>\n",
    "<p style=\"float: right;\"><a href=\"variances.ipynb\" target=\"_blank\">Next</a></p>\n",
    "<p style=\"text-align:center;\">Tour of Scala</p>\n",
    "<div style=\"clear: both;\"></div>"
   ]
  }
 ],
 "metadata": {
  "kernelspec": {
   "display_name": "Scala 3.6",
   "language": "scala",
   "name": "scala36"
  },
  "language_info": {
   "codemirror_mode": "text/x-scala",
   "file_extension": ".sc",
   "mimetype": "text/x-scala",
   "name": "scala",
   "nbconvert_exporter": "script",
   "version": "2.13.16"
  }
 },
 "nbformat": 4,
 "nbformat_minor": 4
}
