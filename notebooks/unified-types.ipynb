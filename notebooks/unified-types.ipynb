{
 "cells": [
  {
   "cell_type": "markdown",
   "metadata": {},
   "source": [
    "<p style=\"float: left;\"><a href=\"basics.ipynb\" target=\"_blank\">Previous</a></p>\n",
    "<p style=\"float: right;\"><a href=\"type-inference.ipynb\" target=\"_blank\">Next</a></p>\n",
    "<p style=\"text-align:center;\">Tour of Scala</p>\n",
    "<div style=\"clear: both;\"></div>"
   ]
  },
  {
   "cell_type": "markdown",
   "metadata": {},
   "source": [
    "# Unified Types\n",
    "\n",
    "In Scala, all values have a type, including numerical values and functions. The diagram below illustrates a subset of the type hierarchy.\n",
    "\n",
    "<a href=\"https://docs.scala-lang.org/resources/images/tour/unified-types-diagram.svg\"><img  style=\"width:100%\" src=\"https://docs.scala-lang.org/resources/images/tour/unified-types-diagram.svg\" alt=\"Scala Type Hierarchy\"></a>\n",
    "\n",
    "## Scala Type Hierarchy ##\n",
    "\n",
    "[`Any`](http://www.scala-lang.org/api/2.12.1/scala/Any.ipynb) is the supertype of all types, also called the top type. It defines certain universal methods such as `equals`, `hashCode`, and `toString`. `Any` has two direct subclasses: `AnyVal` and `AnyRef`.\n",
    "\n",
    "`AnyVal` represents value types. \n",
    "\n",
    "- There are nine predefined value types and they are non-nullable: `Double`, `Float`, `Long`, `Int`, `Short`, `Byte`, `Char`, `Unit`, and `Boolean`. \n",
    "\n",
    "- `Unit` is a value type which carries no meaningful information. There is exactly one instance of `Unit` which can be declared literally like so: `()`. All functions must return something so sometimes `Unit` is a useful return type.\n",
    "\n",
    "`AnyRef` represents reference types. \n",
    "\n",
    "- All non-value types are defined as reference types.\n",
    "- Every user-defined type in Scala is a subtype of `AnyRef`.\n",
    "- If Scala is used in the context of a Java runtime environment, `AnyRef` corresponds to `java.lang.Object`.\n",
    "\n",
    "Here is an example that demonstrates that strings, integers, characters, boolean values, and functions are all objects just like every other object:"
   ]
  },
  {
   "cell_type": "code",
   "execution_count": 2,
   "metadata": {
    "attributes": {
     "classes": [
      "tut"
     ],
     "id": ""
    }
   },
   "outputs": [
    {
     "name": "stdout",
     "output_type": "stream",
     "text": [
      "a string\n",
      "732\n",
      "c\n",
      "true\n",
      "ammonite.$sess.cmd2$Helper$$Lambda$2843/1981661036@bcf7e5c\n"
     ]
    },
    {
     "data": {
      "text/plain": [
       "\u001b[36mlist\u001b[39m: \u001b[32mList\u001b[39m[\u001b[32mAny\u001b[39m] = \u001b[33mList\u001b[39m(\n",
       "  \u001b[32m\"a string\"\u001b[39m,\n",
       "  \u001b[32m732\u001b[39m,\n",
       "  \u001b[32m'c'\u001b[39m,\n",
       "  \u001b[32mtrue\u001b[39m,\n",
       "  ammonite.$sess.cmd2$Helper$$Lambda$2843/1981661036@bcf7e5c\n",
       ")"
      ]
     },
     "execution_count": 2,
     "metadata": {},
     "output_type": "execute_result"
    }
   ],
   "source": [
    "val list: List[Any] = List(\n",
    "  \"a string\",\n",
    "  732,  // an integer\n",
    "  'c',  // a character\n",
    "  true, // a boolean value\n",
    "  () => \"an anonymous function returning a string\"\n",
    ")\n",
    "\n",
    "list.foreach(println)"
   ]
  },
  {
   "cell_type": "markdown",
   "metadata": {},
   "source": [
    "It defines a variable `list` of type `List[Any]`. The list is initialized with elements of various types, but they all are instance of `scala.Any`, so you can add them to the list.\n",
    "\n",
    "Here is the output of the program:"
   ]
  },
  {
   "cell_type": "markdown",
   "metadata": {},
   "source": [
    "```\n",
    "a string\n",
    "732\n",
    "c\n",
    "true\n",
    "<function>\n",
    "```\n"
   ]
  },
  {
   "cell_type": "markdown",
   "metadata": {},
   "source": [
    "**<span style=\"color:red\">Don't dare to define lists like in the previous example... It is not safe.</span>**"
   ]
  },
  {
   "cell_type": "markdown",
   "metadata": {},
   "source": [
    "## Type Casting\n",
    "Value types can be cast in the following way:\n",
    "<a href=\"https://docs.scala-lang.org/resources/images/tour/type-casting-diagram.svg\"><img  style=\"width:100%\" src=\"https://docs.scala-lang.org/resources/images/tour/type-casting-diagram.svg\" alt=\"Scala Type Hierarchy\"></a>\n",
    "\n",
    "For example:"
   ]
  },
  {
   "cell_type": "code",
   "execution_count": 1,
   "metadata": {
    "attributes": {
     "classes": [
      "tut"
     ],
     "id": ""
    }
   },
   "outputs": [
    {
     "name": "stderr",
     "output_type": "stream",
     "text": [
      "-- Warning: cmd1.sc:2:15 -------------------------------------------------------\n",
      "2 |val y: Float = x  // 9.8765434E8 (note that some precision is lost in this case)\n",
      "  |               ^\n",
      "  |method long2float in object Long is deprecated since 2.13.1: Implicit conversion from Long to Float is dangerous because it loses precision. Write `.toFloat` instead.\n"
     ]
    },
    {
     "data": {
      "text/plain": [
       "\u001b[36mx\u001b[39m: \u001b[32mLong\u001b[39m = \u001b[32m987654321L\u001b[39m\n",
       "\u001b[36my\u001b[39m: \u001b[32mFloat\u001b[39m = \u001b[32m9.8765434E8F\u001b[39m\n",
       "\u001b[36mface\u001b[39m: \u001b[32mChar\u001b[39m = \u001b[32m'☺'\u001b[39m\n",
       "\u001b[36mnumber\u001b[39m: \u001b[32mInt\u001b[39m = \u001b[32m9786\u001b[39m"
      ]
     },
     "execution_count": 1,
     "metadata": {},
     "output_type": "execute_result"
    }
   ],
   "source": [
    "val x: Long = 987654321\n",
    "val y: Float = x  // 9.8765434E8 (note that some precision is lost in this case)\n",
    "\n",
    "val face: Char = '☺'\n",
    "val number: Int = face  // 9786"
   ]
  },
  {
   "cell_type": "markdown",
   "metadata": {},
   "source": [
    "Casting is unidirectional. This will not compile:"
   ]
  },
  {
   "cell_type": "code",
   "execution_count": 3,
   "metadata": {
    "attributes": {
     "classes": [
      "tut"
     ],
     "id": ""
    }
   },
   "outputs": [
    {
     "name": "stderr",
     "output_type": "stream",
     "text": [
      "cmd2.sc:3: type mismatch;\n",
      " found   : Float\n",
      " required: Long\n",
      "val z: Long = y  // Does not conform\n",
      "              ^Compilation Failed"
     ]
    },
    {
     "ename": "",
     "evalue": "",
     "output_type": "error",
     "traceback": [
      "Compilation Failed"
     ]
    }
   ],
   "source": [
    "val x: Long = 987654321\n",
    "val y: Float = x  // 9.8765434E8\n",
    "val z: Long = y  // Does not conform"
   ]
  },
  {
   "cell_type": "markdown",
   "metadata": {},
   "source": [
    "You can also cast a reference type to a subtype. This will be covered later."
   ]
  },
  {
   "cell_type": "markdown",
   "metadata": {},
   "source": [
    "## Null and Nothing\n",
    "\n",
    "<span style=\"color:green\">`Null` is a subtype of all reference types</span> (i.e. any subtype of AnyRef). <span style=\"color:green\">It has a single value identified by the keyword literal `null`</span>. `Null` is provided mostly for interoperability with other JVM languages and <span style=\"color:red\">it should almost never be used in Scala code.</span>\n",
    "\n",
    "<span style=\"color:green\">`Nothing` is a subtype of all types</span>, also called the bottom type. <span style=\"color:green\">There is no value that has type `Nothing`. </span>A common use is to signal non-termination such as a thrown exception, program exit, or an infinite loop (i.e., it is the type of an expression which does not evaluate to a value, or a method that does not return normally).\n"
   ]
  },
  {
   "cell_type": "markdown",
   "metadata": {},
   "source": [
    "<p style=\"float: left;\"><a href=\"basics.ipynb\" target=\"_blank\">Previous</a></p>\n",
    "<p style=\"float: right;\"><a href=\"type-inference.ipynb\" target=\"_blank\">Next</a></p>\n",
    "<p style=\"text-align:center;\">Tour of Scala</p>\n",
    "<div style=\"clear: both;\"></div>"
   ]
  }
 ],
 "metadata": {
  "kernelspec": {
   "display_name": "Scala 3.6",
   "language": "scala",
   "name": "scala36"
  },
  "language_info": {
   "codemirror_mode": "text/x-scala",
   "file_extension": ".sc",
   "mimetype": "text/x-scala",
   "name": "scala",
   "nbconvert_exporter": "script",
   "version": "2.13.16"
  }
 },
 "nbformat": 4,
 "nbformat_minor": 4
}
