{
 "cells": [
  {
   "cell_type": "markdown",
   "id": "425d92ee-5ca4-4551-ac96-8a2853c661af",
   "metadata": {},
   "source": [
    "<p style=\"float: left;\"><a href=\"pattern-matching.ipynb\" target=\"_blank\">Previous</a></p>\n",
    "<p style=\"float: right;\"><a href=\"_index.ipynb\" target=\"_blank\">Next</a></p>\n",
    "<p style=\"text-align:center;\">Tour of Scala</p>\n",
    "<div style=\"clear: both;\"></div>"
   ]
  },
  {
   "cell_type": "markdown",
   "id": "5b48dee1-76a4-4052-b88c-4ea8e0f98ec1",
   "metadata": {},
   "source": [
    "# Exercises"
   ]
  },
  {
   "cell_type": "markdown",
   "id": "5a3696c3-cfdc-4654-85aa-53c4957cc98d",
   "metadata": {},
   "source": [
    "Use the [sbt-template](https://github.com/wilberquito/sbt-template) to solve the following problems.\n",
    "\n",
    "Feel free to add `objects`, `classes`, `traits` and test the functionalities in `*.worksheet.sc` files.\n",
    "\n",
    "<span style=\"color: red;\">**Note:** In Moodle you will find a deliverable task (2/5).</span>"
   ]
  },
  {
   "cell_type": "markdown",
   "id": "3a9794f9-3a6b-4474-ba73-b576fa756a2a",
   "metadata": {},
   "source": [
    "## This is about algebraic types"
   ]
  },
  {
   "cell_type": "markdown",
   "id": "ca512ce7-8efe-496f-8ea6-005e66997de3",
   "metadata": {},
   "source": [
    "From the notebook [upper-type-bounds](upper-type-bounds.ipynb), use the definitions of:\n",
    "\n",
    "* `trait Comparable[A]`\n",
    "* `class Set[T <: Comparable[T]]`\n",
    "* `case class Num(value: Double)`\n",
    "\n",
    "Extend the definition of `Set[T <: Comparable[T]]` so that it supports:\n",
    "    \n",
    "1. `def union(...)` - performs the union of two sets.\n",
    "2. `def intersection(...)` — performs the intersection of two sets.\n",
    "3. `def excl(x: T)` — returns the set without the element `x`.\n",
    "\n",
    "**Try the implemented methods with the `case class Num`.**\n",
    "\n",
    "<span style=\"color:red\">**`Set[T <: Comparable[T]]` is an algebraic type and it must preserve the binary tree invariant:**</span>\n",
    "\n",
    "- For every node, all elements in its left subtree are smaller than the node’s value,\n",
    "- and all elements in its right subtree are larger than the node’s value."
   ]
  },
  {
   "cell_type": "code",
   "execution_count": null,
   "id": "5744c4c4-e553-42bf-84c9-816c9cc490e0",
   "metadata": {},
   "outputs": [],
   "source": [
    "// code goes here..."
   ]
  },
  {
   "cell_type": "markdown",
   "id": "7366e904-2d8e-4fe3-abf8-9e6b2d833e5a",
   "metadata": {},
   "source": [
    "## Subtyping!"
   ]
  },
  {
   "cell_type": "markdown",
   "id": "19bdf3e9-b031-433d-8ca1-25660ccc3b4e",
   "metadata": {},
   "source": [
    "Expand the provided partial implementation of an expression trait `Expr[T]` along with operations such as `Sum` and `Substract`, \n",
    "restricted to work only with `Expr[Double]`.\n",
    "\n",
    "```scala\n",
    "trait Expr[T]:\n",
    "  def eval: T\n",
    "\n",
    "case class Value[T](v: T) extends Expr[T]:\n",
    "  // ...\n",
    "\n",
    "abstract class Operation[T](repr: String, a: Expr[T], b: Expr[T]) extends Expr[T]:\n",
    "  // repr: string representation of the operation (e.g., \"+\", \"-\", \"*\", etc.)\n",
    "  // ...\n",
    "\n",
    "case class Sum(/* ... */) extends Operation[Double](/* ... */):\n",
    "  // ...\n",
    "\n",
    "case class Substract(/* ... */) extends Operation[Double](/* ... */):\n",
    "  // ...\n",
    "```\n",
    "\n",
    "With this setup, you should be able to build and evaluate expressions like:\n",
    "\n",
    "```scala\n",
    "val a = // ... \n",
    "val b = // ... \n",
    "val c = // ... \n",
    "\n",
    "println(Sum(Sum(a, b), c))       // Value(2.0) + Value(3.0) + Value(3.0)\n",
    "println(Sum(Sum(a, b), c).eval)  // 8.0\n",
    "\n",
    "println(Substract(Substract(a, b), c))      // Value(2.0) - Value(3.0) - Value(3.0)\n",
    "println(Substract(Substract(a, b), c).eval) // -4.0\n",
    "```"
   ]
  },
  {
   "cell_type": "code",
   "execution_count": null,
   "id": "d60d9437-a2dc-409d-8612-c3555da6c20b",
   "metadata": {},
   "outputs": [],
   "source": [
    "// code goes here..."
   ]
  },
  {
   "cell_type": "markdown",
   "id": "2abd6329-e5c3-49bd-ac47-a8fc1d7adddc",
   "metadata": {},
   "source": [
    "## Pattern Matching \n",
    "\n",
    "Define a method `trol` that takes an `Expr[Double]` and returns its **inverse operation**:\n",
    "\n",
    "* `Sum` becomes `Substract`\n",
    "* `Substract` becomes `Sum`\n",
    "* all other expressions remain unchanged\n",
    "\n",
    "```scala\n",
    "def trol(op: Expr[Double]): Expr[Double] =\n",
    "  // . . .           \n",
    "```\n",
    "\n",
    "Example usage:\n",
    "\n",
    "```scala\n",
    "val a = // ... \n",
    "val b = // ... \n",
    "val c = // ... \n",
    "\n",
    "println(trol(Sum(Sum(a, b), c)))             // Value(2.0) - Value(3.0) - Value(3.0)\n",
    "\n",
    "println(trol(Substract(Substract(a, b), c))) // Value(2.0) + Value(3.0) + Value(3.0)\n",
    "\n",
    "println(trol(a))                             // Value(2.0)\n",
    "```"
   ]
  },
  {
   "cell_type": "code",
   "execution_count": null,
   "id": "d04ce7a0-2b78-4a22-b988-ee67dc5d4cfa",
   "metadata": {},
   "outputs": [],
   "source": [
    "// Code goes here..."
   ]
  },
  {
   "cell_type": "markdown",
   "id": "7b2acd2c-b7df-40d4-a97e-bafcd01a9b75",
   "metadata": {},
   "source": [
    "<p style=\"float: left;\"><a href=\"pattern-matching.ipynb\" target=\"_blank\">Previous</a></p>\n",
    "<p style=\"float: right;\"><a href=\"_index.ipynb\" target=\"_blank\">Next</a></p>\n",
    "<p style=\"text-align:center;\">Tour of Scala</p>\n",
    "<div style=\"clear: both;\"></div>"
   ]
  }
 ],
 "metadata": {
  "kernelspec": {
   "display_name": "Scala 3.6",
   "language": "scala",
   "name": "scala36"
  },
  "language_info": {
   "codemirror_mode": "text/x-scala",
   "file_extension": ".sc",
   "mimetype": "text/x-scala",
   "name": "scala",
   "nbconvert_exporter": "script",
   "version": "2.13.16"
  }
 },
 "nbformat": 4,
 "nbformat_minor": 5
}
