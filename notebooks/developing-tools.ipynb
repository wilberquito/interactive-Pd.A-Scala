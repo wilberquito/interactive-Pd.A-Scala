{
 "cells": [
  {
   "cell_type": "markdown",
   "id": "47753e19-5007-42fd-b077-88222ecb2c0c",
   "metadata": {},
   "source": [
    "<p style=\"float: left;\"><a href=\"tour-of-scala.ipynb\" target=\"_blank\">Previous</a></p>\n",
    "<p style=\"float: right;\"><a href=\"first-example.ipynb\" target=\"_blank\">Next</a></p>\n",
    "<p style=\"text-align:center;\">Tour of Scala</p>\n",
    "<div style=\"clear: both;\"></div>"
   ]
  },
  {
   "cell_type": "markdown",
   "id": "46063934-b513-423d-8614-a364ccc94c0b",
   "metadata": {},
   "source": [
    "# Developing tools for Scala"
   ]
  },
  {
   "cell_type": "markdown",
   "id": "dbb5e2d3-f23c-4ae8-b57d-0814e3f5390f",
   "metadata": {},
   "source": [
    "From http://www.scala-lang.org/ you can download it for your operating system. In the classroom, we have it installed on Linux:\n",
    "- SBT (Simple Build Tool), a shell-type tool but with support for incremental compilation, library dependencies, testing, interpreter (Scala REPL, Read-Evaluate-Print Loop)...\n",
    "- [IntelliJ IDEA](https://www.jetbrains.com/idea/download/) a dedicated editor with online type inference, error markers, worksheet and more thanks to  the [Scala plugin](https://plugins.jetbrains.com/plugin/1347-scala).\n",
    "- Shell (scala, scalac, ... not installed in the classrooms)"
   ]
  },
  {
   "cell_type": "markdown",
   "id": "7acc0556-b293-4e06-a64d-a75bf4d8d468",
   "metadata": {},
   "source": [
    "We are basically going to use `sbt` to create and build Scala projects. For avoid any\n",
    "kind of problem related to sbt version and scala version we provide to you \n",
    "a [**Scala sbt template**](https://github.com/wilberquito/interactive-Pd.A-Scala/tree/scala-project-tpl) \n",
    "which has everything configured."
   ]
  },
  {
   "cell_type": "markdown",
   "id": "877531e2-a017-4fc5-8a5a-3ec2cbbd1c69",
   "metadata": {},
   "source": [
    "## Activity"
   ]
  },
  {
   "cell_type": "markdown",
   "id": "4e9c41c5-d18b-4abb-9ecd-973e7ee36c3d",
   "metadata": {},
   "source": [
    "- Open IntellJ IDEA\n",
    "- Import the project [Scala sbt template]((https://github.com/wilberquito/interactive-Pd.A-Scala/tree/scala-project-tpl) and make it run."
   ]
  },
  {
   "cell_type": "markdown",
   "id": "aeea0a70-e87f-411f-aa64-2216d7aea19f",
   "metadata": {},
   "source": [
    "<p style=\"float: left;\"><a href=\"tour-of-scala.ipynb\" target=\"_blank\">Previous</a></p>\n",
    "<p style=\"float: right;\"><a href=\"first-example.ipynb\" target=\"_blank\">Next</a></p>\n",
    "<p style=\"text-align:center;\">Tour of Scala</p>\n",
    "<div style=\"clear: both;\"></div>"
   ]
  }
 ],
 "metadata": {
  "kernelspec": {
   "display_name": "Scala 2.13",
   "language": "scala",
   "name": "scala213"
  },
  "language_info": {
   "codemirror_mode": "text/x-scala",
   "file_extension": ".sc",
   "mimetype": "text/x-scala",
   "name": "scala",
   "nbconvert_exporter": "script",
   "version": "2.13.14"
  }
 },
 "nbformat": 4,
 "nbformat_minor": 5
}
