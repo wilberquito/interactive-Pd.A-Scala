{
 "cells": [
  {
   "cell_type": "markdown",
   "metadata": {},
   "source": [
    "<p style=\"float: left;\"><a href=\"traits.ipynb\" target=\"_blank\">Previous</a></p>\n",
    "<p style=\"float: right;\"><a href=\"polymorphic-methods.ipynb\" target=\"_blank\">Next</a></p>\n",
    "<p style=\"text-align:center;\">Tour of Scala</p>\n",
    "<div style=\"clear: both;\"></div>"
   ]
  },
  {
   "cell_type": "markdown",
   "metadata": {},
   "source": [
    "# Generic Classes\n",
    "\n",
    "Generic classes are classes which take a type as a parameter. They are particularly useful for defining collection classes."
   ]
  },
  {
   "cell_type": "markdown",
   "metadata": {},
   "source": [
    "## Defining a generic class\n",
    "\n",
    "Generic classes take a type as a variable within square brackets `[]`. One convention is to use the letter `A` as type variable identifier, though any parameter name may be used."
   ]
  },
  {
   "cell_type": "code",
   "execution_count": null,
   "metadata": {
    "attributes": {
     "classes": [
      "tut"
     ],
     "id": ""
    }
   },
   "outputs": [],
   "source": [
    "class Stack[A]:\n",
    "  private var elements: List[A] = Nil\n",
    "  def push(x: A): Unit = { elements = x :: elements }\n",
    "  def peek: A = elements.head\n",
    "  def pop(): A =\n",
    "    val currentTop = peek\n",
    "    elements = elements.tail\n",
    "    currentTop"
   ]
  },
  {
   "cell_type": "markdown",
   "metadata": {},
   "source": [
    "This implementation of a `Stack` class takes any type `A` as a parameter. \n",
    "\n",
    "- The underlying list, `var elements: List[A] = Nil`, can only store elements of type `A`.\n",
    "- The procedure `def push` only accepts objects of type `A`."
   ]
  },
  {
   "cell_type": "markdown",
   "metadata": {},
   "source": [
    "## Usage"
   ]
  },
  {
   "cell_type": "markdown",
   "metadata": {},
   "source": [
    "To use a generic class, put the type in the square brackets in place of `A`."
   ]
  },
  {
   "cell_type": "code",
   "execution_count": 6,
   "metadata": {},
   "outputs": [
    {
     "name": "stdout",
     "output_type": "stream",
     "text": [
      "2\n",
      "1\n"
     ]
    },
    {
     "ename": "java.util.NoSuchElementException",
     "evalue": "head of empty list",
     "output_type": "error",
     "traceback": [
      "\u001b[31mjava.util.NoSuchElementException: head of empty list\u001b[39m",
      "  scala.collection.immutable.Nil$.head(\u001b[32mList.scala\u001b[39m:\u001b[32m663\u001b[39m)",
      "  scala.collection.immutable.Nil$.head(\u001b[32mList.scala\u001b[39m:\u001b[32m662\u001b[39m)",
      "  ammonite.$sess.cmd2$Helper$Stack.peek(\u001b[32mcmd2.sc\u001b[39m:\u001b[32m4\u001b[39m)",
      "  ammonite.$sess.cmd2$Helper$Stack.pop(\u001b[32mcmd2.sc\u001b[39m:\u001b[32m6\u001b[39m)",
      "  ammonite.$sess.cmd6$Helper.<init>(\u001b[32mcmd6.sc\u001b[39m:\u001b[32m6\u001b[39m)",
      "  ammonite.$sess.cmd6$.<clinit>(\u001b[32mcmd6.sc\u001b[39m:\u001b[32m7\u001b[39m)"
     ]
    }
   ],
   "source": [
    "val stack = new Stack[Int]\n",
    "stack.push(1)\n",
    "stack.push(2)\n",
    "println(stack.pop())\n",
    "println(stack.pop())\n",
    "println(stack.pop())"
   ]
  },
  {
   "cell_type": "markdown",
   "metadata": {},
   "source": [
    "The instance `Stack[Int]` can only take `Int`.\n",
    "\n",
    "**If the type argument had subtypes, instances of those could be passed in:**"
   ]
  },
  {
   "cell_type": "code",
   "execution_count": null,
   "metadata": {},
   "outputs": [],
   "source": [
    "class Fruit\n",
    "\n",
    "class Apple extends Fruit:\n",
    "    override def toString() = \"I am an apple\"\n",
    "class Banana extends Fruit:\n",
    "    override def toString() = \"I am a banana\"\n",
    "\n",
    "val stack = new Stack[Fruit]\n",
    "val apple = new Apple\n",
    "val banana = new Banana\n",
    "\n",
    "stack.push(apple)\n",
    "stack.push(banana)\n",
    "\n",
    "println(stack.pop()) // I am a banana\n",
    "println(stack.pop()) // I am an apple"
   ]
  },
  {
   "cell_type": "markdown",
   "metadata": {},
   "source": [
    "- Both `Apple` and `Banana` classes extend the `Fruit` class, which allows us to push instances of `Apple` and `Banana` onto a stack of `Fruit`.\n",
    "- Due to **dynamic binding**, the method invoked is determined by the actual runtime type of the object."
   ]
  },
  {
   "cell_type": "markdown",
   "metadata": {},
   "source": [
    "**Subtyping of generic types is invariant**. This means that if we have a stack of characters of type `Stack[Char]` then it cannot be used as an integer stack of type `Stack[Int]`. This would be unsound because it would enable us to enter true integers into the character stack. To conclude, `Stack[A]` is only a subtype of `Stack[B]` if and only if `B = A`. \n",
    "\n",
    "Since this can be quite restrictive, Scala offers a [type parameter annotation mechanism](variances.ipynb) to control the subtyping behavior of generic types."
   ]
  },
  {
   "cell_type": "markdown",
   "metadata": {},
   "source": [
    "<p style=\"float: left;\"><a href=\"traits.ipynb\" target=\"_blank\">Previous</a></p>\n",
    "<p style=\"float: right;\"><a href=\"polymorphic-methods.ipynb\" target=\"_blank\">Next</a></p>\n",
    "<p style=\"text-align:center;\">Tour of Scala</p>\n",
    "<div style=\"clear: both;\"></div>"
   ]
  }
 ],
 "metadata": {
  "kernelspec": {
   "display_name": "Scala 3.6",
   "language": "scala",
   "name": "scala36"
  },
  "language_info": {
   "codemirror_mode": "text/x-scala",
   "file_extension": ".sc",
   "mimetype": "text/x-scala",
   "name": "scala",
   "nbconvert_exporter": "script",
   "version": "2.13.16"
  }
 },
 "nbformat": 4,
 "nbformat_minor": 4
}
