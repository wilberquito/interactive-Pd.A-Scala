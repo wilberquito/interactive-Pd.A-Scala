{
 "cells": [
  {
   "cell_type": "markdown",
   "id": "e61c56a0-8dce-477e-9afe-92f0aca03f46",
   "metadata": {},
   "source": [
    "<p style=\"float: left;\"><a href=\"merge-sort.ipynb\" target=\"_blank\">Previous</a></p>\n",
    "<p style=\"float: right;\"><a href=\"for-comprehensions.ipynb\" target=\"_blank\">Next</a></p>\n",
    "<p style=\"text-align:center;\">Tour of Scala</p>\n",
    "<div style=\"clear: both;\"></div>"
   ]
  },
  {
   "cell_type": "markdown",
   "id": "083f8c4e-58bf-48aa-b2ac-a467b0fded26",
   "metadata": {},
   "source": [
    "# Definition of class List II: Higher-Order Methods"
   ]
  },
  {
   "cell_type": "markdown",
   "id": "cd4eee9c-fc04-4de2-beaa-607c38122a79",
   "metadata": {},
   "source": [
    "**Functional programming** languages **enable programmers to write general functions\n",
    "which implement patterns by means of higher order functions**. We now\n",
    "discuss a set of commonly used higher-order functions, which are implemented as\n",
    "methods in class `List`.\n",
    "\n",
    "We can identify several patterns of computation over lists, like:\n",
    "\n",
    "* Transforming every element of a list in some way.\n",
    "* Extracting from a list all elements satisfying a criterion.\n",
    "* Combine the elements of a list using some operator."
   ]
  },
  {
   "cell_type": "markdown",
   "id": "4d9543b2-85fe-4698-bbee-75ad73d1bb9b",
   "metadata": {},
   "source": [
    "## Mapping"
   ]
  },
  {
   "cell_type": "markdown",
   "id": "1d0ec1ca-380b-42e8-9959-8ba8b4c7998f",
   "metadata": {},
   "source": [
    "A common operation is to transform each element of a list\n",
    "and then return the lists of results.\n",
    "\n",
    "```scala\n",
    "def map[B](f: A => B): List[B] = this match {\n",
    "    case Nil     => this\n",
    "    case x :: xs => f(x) :: xs.map(f)\n",
    "}\n",
    "```\n"
   ]
  },
  {
   "cell_type": "markdown",
   "id": "273817e2-dca4-4aae-bf12-a4761e7210f8",
   "metadata": {},
   "source": [
    "For instance, to scale each element of a list by a\n",
    "given factor:"
   ]
  },
  {
   "cell_type": "code",
   "execution_count": 1,
   "id": "643195e2-fbe6-42e0-aa51-f9d115fbe7c1",
   "metadata": {},
   "outputs": [
    {
     "data": {
      "text/plain": [
       "\u001b[32mimport \u001b[39m\u001b[36mscala.util.Random\n",
       "\n",
       "\u001b[39m\n",
       "\u001b[36mrand\u001b[39m: \u001b[32mRandom\u001b[39m = scala.util.Random@4690d39e\n",
       "\u001b[36mnumbers\u001b[39m: \u001b[32mIndexedSeq\u001b[39m[\u001b[32mDouble\u001b[39m] = \u001b[33mVector\u001b[39m(\n",
       "  \u001b[32m0.8977277360595421\u001b[39m,\n",
       "  \u001b[32m0.7475959172344271\u001b[39m,\n",
       "  \u001b[32m0.7657906659460046\u001b[39m\n",
       ")\n",
       "\u001b[36mrandInt\u001b[39m: \u001b[32mInt\u001b[39m = \u001b[32m-717768136\u001b[39m\n",
       "\u001b[36mscale\u001b[39m: \u001b[32mInt\u001b[39m = \u001b[32m2\u001b[39m\n",
       "\u001b[36mscaledNumbers\u001b[39m: \u001b[32mIndexedSeq\u001b[39m[\u001b[32mDouble\u001b[39m] = \u001b[33mVector\u001b[39m(\n",
       "  \u001b[32m1.7954554721190843\u001b[39m,\n",
       "  \u001b[32m1.4951918344688542\u001b[39m,\n",
       "  \u001b[32m1.5315813318920093\u001b[39m\n",
       ")"
      ]
     },
     "execution_count": 1,
     "metadata": {},
     "output_type": "execute_result"
    }
   ],
   "source": [
    "import scala.util.Random\n",
    "\n",
    "val rand    = new Random\n",
    "val numbers =  for (x <- 1 to 3) yield rand.nextDouble()\n",
    "val randInt = rand.nextInt()\n",
    "val scale   = (if (randInt >= 0) randInt else -1 * randInt) % 5 + 1\n",
    "\n",
    "val scaledNumbers = numbers map (_ * 2)"
   ]
  },
  {
   "cell_type": "markdown",
   "id": "b5bfc3c5-41f9-4c14-b5af-6dfc52542cff",
   "metadata": {},
   "source": [
    "As another example, consider the problem of returning a given column of a matrix\n",
    "which is represented as a list of rows, where each row is again a list."
   ]
  },
  {
   "cell_type": "code",
   "execution_count": 2,
   "id": "dcf42068-ab43-4c5d-b375-d17ba2c55a6d",
   "metadata": {},
   "outputs": [
    {
     "data": {
      "text/plain": [
       "\u001b[32mimport \u001b[39m\u001b[36mscala.util.Random\n",
       "\n",
       "\u001b[39m\n",
       "defined \u001b[32mfunction\u001b[39m \u001b[36mcolumn\u001b[39m\n",
       "\u001b[36mrows\u001b[39m: \u001b[32mInt\u001b[39m = \u001b[32m2\u001b[39m\n",
       "\u001b[36mcolumns\u001b[39m: \u001b[32mInt\u001b[39m = \u001b[32m3\u001b[39m\n",
       "\u001b[36mgrid\u001b[39m: \u001b[32mList\u001b[39m[\u001b[32mList\u001b[39m[\u001b[32mDouble\u001b[39m]] = \u001b[33mList\u001b[39m(\n",
       "  \u001b[33mList\u001b[39m(\u001b[32m0.7594093769461904\u001b[39m, \u001b[32m0.027196966877725992\u001b[39m, \u001b[32m0.47694865449501\u001b[39m),\n",
       "  \u001b[33mList\u001b[39m(\u001b[32m0.7284617583918841\u001b[39m, \u001b[32m0.6469679928030594\u001b[39m, \u001b[32m0.8517658821658202\u001b[39m)\n",
       ")\n",
       "\u001b[36mindexCol\u001b[39m: \u001b[32mInt\u001b[39m = \u001b[32m2\u001b[39m\n",
       "\u001b[36mres2_5\u001b[39m: \u001b[32mList\u001b[39m[\u001b[32mDouble\u001b[39m] = \u001b[33mList\u001b[39m(\u001b[32m0.47694865449501\u001b[39m, \u001b[32m0.8517658821658202\u001b[39m)"
      ]
     },
     "execution_count": 2,
     "metadata": {},
     "output_type": "execute_result"
    }
   ],
   "source": [
    "import scala.util.Random\n",
    "\n",
    "def column[A](xs: List[List[A]], indexCol: Int): List[A] =\n",
    "    xs map (row => row(indexCol))\n",
    "\n",
    "val (rows, columns) = (2, 3)\n",
    "\n",
    "val grid = (\n",
    "    for (x <- 1 to rows) \n",
    "        yield (for (x <- 1 to columns) yield rand.nextDouble()).toList\n",
    ").toList\n",
    "\n",
    "val indexCol = columns - 1\n",
    "\n",
    "column(grid, indexCol)"
   ]
  },
  {
   "cell_type": "markdown",
   "id": "9a2347b3-6183-456e-a181-d16da852969d",
   "metadata": {},
   "source": [
    "## Foreach"
   ]
  },
  {
   "cell_type": "markdown",
   "id": "25881b4a-6e2f-4e42-b65e-1c94b70d00bf",
   "metadata": {},
   "source": [
    "Closely related to `map` is the `foreach` method, which applies a given function to all\n",
    "elements of a list, but does not construct a list of results. The function is thus applied\n",
    "only for its side effect.\n",
    "\n",
    "```scala\n",
    "def foreach(f: A => Unit): Unit =\n",
    "    this match {\n",
    "        case Nil     => ()\n",
    "        case x :: xs => f(x)\n",
    "                        xs.foreach(f)\n",
    "```\n"
   ]
  },
  {
   "cell_type": "code",
   "execution_count": 3,
   "id": "394d2aa4-46b3-4cfa-8f1a-0e7b5759e46c",
   "metadata": {},
   "outputs": [
    {
     "name": "stdout",
     "output_type": "stream",
     "text": [
      "1\n",
      "2\n",
      "3\n"
     ]
    }
   ],
   "source": [
    "(1 to 3).toList foreach println // 1, 2, 3"
   ]
  },
  {
   "cell_type": "markdown",
   "id": "fd26c6d0-a017-48fb-94bc-78b74464ee2d",
   "metadata": {},
   "source": [
    "## Filtering"
   ]
  },
  {
   "cell_type": "markdown",
   "id": "9528a5bc-a405-4c09-9030-26d09cce85b2",
   "metadata": {},
   "source": [
    "Another common operation selects from a list all elements fulfilling a given criterion. The function criteria is also known as `predicate`.\n",
    "\n",
    "```scala\n",
    "def filter(p: A => Boolean): List[A] = this match {\n",
    "    case Nil     => this\n",
    "    case x :: xs => if (p(x)) x :: xs.filter(p) else xs.filter(p)\n",
    "}\n",
    "```"
   ]
  },
  {
   "cell_type": "markdown",
   "id": "e364961e-bb88-4639-9816-f7c77565c818",
   "metadata": {},
   "source": [
    "For instance, to return a list of all positive elements in some\n",
    "given lists of integers:"
   ]
  },
  {
   "cell_type": "code",
   "execution_count": null,
   "id": "64124252-5525-4290-8592-0ae624f42663",
   "metadata": {},
   "outputs": [],
   "source": [
    "import scala.util.Random\n",
    "\n",
    "val rand = new Random\n",
    "val randNumbers = for (_ <- 1 to 5) yield rand.nextInt()\n",
    "val positiveNumbers = randNumbers filter (x => x > 0)"
   ]
  },
  {
   "cell_type": "markdown",
   "id": "ad62b22d-eb5d-4c09-8038-d5042ce71b34",
   "metadata": {},
   "source": [
    "## Folding"
   ]
  },
  {
   "cell_type": "markdown",
   "id": "bf6e6994-b508-43d7-ae19-a2ea4fa3c25b",
   "metadata": {},
   "source": [
    "Another common operation is to combine the elements of a list with some operator. For instance:\n",
    "\n",
    "* `sum(List(x1, ..., xn))`  $ = 0 + x_1 + \\dots + x_n$\n",
    "* `product(List(x1, ..., xn))` $ = 1 * x_1 * \\dots * x_n$"
   ]
  },
  {
   "cell_type": "markdown",
   "id": "6c86dd41-97b6-43da-b168-a72543a75b33",
   "metadata": {},
   "source": [
    "### Fold left"
   ]
  },
  {
   "cell_type": "markdown",
   "id": "1f784b9c-8968-43f6-a1a5-8e48ff2a3797",
   "metadata": {},
   "source": [
    "```scala\n",
    "def foldLeft[B](z: B)(op: (B, A) => B): B = this match {\n",
    "    case Nil     => z                            // `foldLeft [1]`\n",
    "    case x :: xs => (xs foldLeft op(z, x))(op)   // `foldLeft [2]`\n",
    "}\n",
    "```\n",
    "\n",
    "Applies a binary operator $\\Theta$ to a start value $z$ and all elements of a list $x_1, x_2, .., x_n$, going left to right.\n",
    "\n",
    "**Example:**\n",
    "\n",
    "```scala\n",
    "List(1, 2, 3).foldLeft(0)(_ + _)\n",
    "\n",
    "```\n",
    "\n",
    "Step-by-step evaluation:\n",
    "\n",
    "\n",
    "```scala\n",
    ">> List(1, 2, 3).foldLeft (0) (_ + _)        \n",
    ">> List(2, 3).foldLeft (1) (_ + _)     // `foldLeft [2]`\n",
    ">> List(3).foldLeft (3) (_ + _)        // `foldLeft [2]`\n",
    ">> List().foldLeft (6) (_ + _)         // `foldLeft [2]`\n",
    ">> 6                                   // `foldLeft [1]`\n",
    "```\n",
    "\n",
    "**`foldLeft` generates the <span style=\"color:red\">left associative expression</span> $ (\\cdots ((z \\ \\Theta \\ x_1) \\ \\Theta \\ x_2) \\ \\cdots ) \\ \\Theta \\ x_n$ which can be simplified by:**\n",
    "\n",
    "$$\n",
    "z \\ \\Theta \\ x_1 \\ \\Theta \\ x_2 \\ \\cdots \\ \\Theta \\ x_n\n",
    "$$"
   ]
  },
  {
   "cell_type": "markdown",
   "id": "792a1787-66f4-4c85-ae03-2ba5b591a791",
   "metadata": {},
   "source": [
    "### Fold right"
   ]
  },
  {
   "cell_type": "markdown",
   "id": "974db25a-3769-49e4-82fd-ea3d6463d638",
   "metadata": {},
   "source": [
    "\n",
    "```scala\n",
    "def foldRight[B](z: B)(op: (A, B) => B): B = this match {\n",
    "    case Nil     => z                                // `foldRight [1]`\n",
    "    case x :: xs => op(x, (xs foldRight z)(op))      // `foldRight [2]`\n",
    "}\n",
    "```\n",
    "\n",
    "Applies a binary operator $\\Theta$ for all elements of a list $x_1, x_2, .., x_n$ and a start value $z$, going right to left.\n",
    "\n",
    "**Example:**\n",
    "\n",
    "```scala\n",
    "List(1, 2, 3).foldRight(0)(_ + _)\n",
    "\n",
    "```\n",
    "\n",
    "Step-by-step evaluation:\n",
    "\n",
    "```scala\n",
    ">> List(1, 2, 3).foldRight (0) (_ + _)        \n",
    ">> 1 + List(2, 3).foldRight 0 (_ + _)            // `foldRight [2]`\n",
    ">> 1 + (2 + List(3).foldRight 0) (_ + _))        // `foldRight [2]`\n",
    ">> 1 + (2 + (3 + List().foldRight 0) (_ + _)))   // `foldRight [2]`\n",
    ">> 1 + (2 + (3 + 0))                             // `foldRight [1]`\n",
    ">> 1 + (2 + 3)                                   // stack call\n",
    ">> 1 + 5                                         // stack call\n",
    ">> 6                                             // stack call\n",
    "```\n",
    "\n",
    "**So, in general, `foldRight` produces a <span style=\"color:red\">right-associative expression:</span>**\n",
    "\n",
    "$$x_1 \\ \\Theta \\ (x_2 \\ \\Theta \\ \\cdots \\ (x_n \\ \\Theta \\ z) \\cdots )$$"
   ]
  },
  {
   "cell_type": "markdown",
   "id": "e692dfbe-c3c5-422b-bfaa-e591dce0b3c9",
   "metadata": {},
   "source": [
    "### FoldLeft vs. FoldRight"
   ]
  },
  {
   "cell_type": "markdown",
   "id": "ed7b6822-7c18-41df-b08c-c3d0b3ddf58d",
   "metadata": {
    "jp-MarkdownHeadingCollapsed": true
   },
   "source": [
    "Both `foldLeft` and `foldRight` are very similar, but the key difference is the way the expressions are generated.\n",
    "\n",
    "- `foldLeft` is _tail-recursive_ **(it evaluates the accumulator at each step)**\n",
    "- `foldRight` is non _tail-cursive_ **(large lists can cause overflow)**\n",
    "- Use `foldRight` when you need to preserve the structure _right-to-left_ or you are working with lazzy data stractures such as `Strem` or `LazyList` because you can _short-circuit_ without generating the whole structure.\n"
   ]
  },
  {
   "cell_type": "markdown",
   "id": "0028ba39-bea9-4f2f-bd77-97fa2f8e5efd",
   "metadata": {},
   "source": [
    "#### Structure"
   ]
  },
  {
   "cell_type": "markdown",
   "id": "682fa204-e977-48f8-9d59-9d0f4dedff4e",
   "metadata": {},
   "source": [
    "Variance of the structure using `foldLeft` and `foldRight`."
   ]
  },
  {
   "cell_type": "code",
   "execution_count": 15,
   "id": "d4b4c374-b7a8-47ff-a41f-78b1db30f7f7",
   "metadata": {},
   "outputs": [
    {
     "data": {
      "text/plain": [
       "\u001b[32mimport \u001b[39m\u001b[36mscala.language.postfixOps\n",
       "\n",
       "\u001b[39m\n",
       "\u001b[36myys\u001b[39m: \u001b[32mList\u001b[39m[\u001b[32mList\u001b[39m[\u001b[32mInt\u001b[39m]] = \u001b[33mList\u001b[39m(\n",
       "  \u001b[33mList\u001b[39m(\u001b[32m1\u001b[39m, \u001b[32m2\u001b[39m, \u001b[32m3\u001b[39m, \u001b[32m4\u001b[39m),\n",
       "  \u001b[33mList\u001b[39m(\u001b[32m6\u001b[39m, \u001b[32m7\u001b[39m, \u001b[32m8\u001b[39m, \u001b[32m9\u001b[39m),\n",
       "  \u001b[33mList\u001b[39m(\u001b[32m11\u001b[39m, \u001b[32m12\u001b[39m, \u001b[32m13\u001b[39m, \u001b[32m14\u001b[39m)\n",
       ")"
      ]
     },
     "execution_count": 15,
     "metadata": {},
     "output_type": "execute_result"
    }
   ],
   "source": [
    "import scala.language.postfixOps\n",
    "\n",
    "val yys = List (\n",
    "    List.range(1, 5),\n",
    "    List.range(6, 10),\n",
    "    List.range(11, 15)\n",
    ")"
   ]
  },
  {
   "cell_type": "markdown",
   "id": "a88b9ccb-975a-43b0-a49e-adbe86318457",
   "metadata": {},
   "source": [
    "Flatten list from _left-to-right_."
   ]
  },
  {
   "cell_type": "code",
   "execution_count": null,
   "id": "1a6abc3c-8fd0-4987-8113-e55023c0c9cf",
   "metadata": {},
   "outputs": [],
   "source": [
    "(yys foldLeft (Nil)) ((xxs, xs) => xxs ::: xs) // List(1, 2, 3, 4, 6, 7, 8, 9, 11, 12, 13, 14)"
   ]
  },
  {
   "cell_type": "markdown",
   "id": "fefbd76b-d80b-4106-af8b-83e37d684c1c",
   "metadata": {},
   "source": [
    "Flatten list from _right-to-left_."
   ]
  },
  {
   "cell_type": "code",
   "execution_count": null,
   "id": "dc1bbb07-eb0e-4eff-8b45-f6958f273b21",
   "metadata": {},
   "outputs": [],
   "source": [
    "(yys foldRight (Nil)) ((xs, xxs) => xxs ::: xs) // List(11, 12, 13, 14, 6, 7, 8, 9, 1, 2, 3, 4)"
   ]
  },
  {
   "cell_type": "markdown",
   "id": "9ae36e72-a01f-4c93-848b-be3549b309f1",
   "metadata": {},
   "source": [
    "#### Short-circuit"
   ]
  },
  {
   "cell_type": "markdown",
   "id": "f194eed8-1b38-4dc9-a886-dca22d3428f0",
   "metadata": {},
   "source": [
    "- The method `foldRight` is only relevant if your operator itself **doesn’t force the second argument**, like in boolean `&&` or `||` and you work with lazzy data structures.\n",
    "- On the other hand `foldLeft` can never _short-circuit_, you process the whole structure.\n",
    "\n",
    "**Example `foldRight`:**\n",
    "\n",
    "\n",
    "```scala\n",
    "def foldRight[B](z: B)(op: (A, B) => B): B = this match {\n",
    "    case Nil     => z                                // `foldRight [1]`\n",
    "    case x :: xs => op(x, (xs foldRight z)(op))      // `foldRight [2]`\n",
    "}\n",
    "\n",
    "```\n",
    "\n",
    "```scala\n",
    "(False :: True :: Nil).foldRight (True) (_ && _)\n",
    "\n",
    "```\n",
    "\n",
    "Step-by-step evaluation:\n",
    "\n",
    "```scala\n",
    ">> (False :: True :: Nil).foldRight (True) (_ && _)        \n",
    ">> False && ((True :: Nil).foldRight (True) (_ + _))     // `foldRight [2]`\n",
    ">> False                                                 // Short-cutting\n",
    "\n",
    "```\n",
    "\n",
    "\n",
    "**Example `foldRight`:**\n",
    "\n",
    "```scala\n",
    "def foldLeft[B](z: B)(op: (B, A) => B): B = this match {\n",
    "    case Nil     => z                            // `foldLeft [1]`\n",
    "    case x :: xs => (xs foldLeft op(z, x))(op)   // `foldLeft [2]`\n",
    "}\n",
    "\n",
    "```\n",
    "\n",
    "```scala\n",
    "(False :: True :: Nil).foldLeft (True) (_ && _)\n",
    "\n",
    "```\n",
    "\n",
    "Step-by-step evaluation:\n",
    "\n",
    "```scala\n",
    ">> (False :: True :: Nil).foldLeft (True) (_ && _)     \n",
    ">> (True :: Nil).foldLeft (False) (_ && _)       // `foldLeft [2]`\n",
    ">> (Nil).foldLeft (False) (_ && _)               // `foldLeft [2]`\n",
    ">> False                                         // `foldLeft [1]`\n",
    "\n",
    "```"
   ]
  },
  {
   "cell_type": "markdown",
   "id": "67a4c7e9-9272-4cb8-9b76-415f1af31b9a",
   "metadata": {
    "jp-MarkdownHeadingCollapsed": true
   },
   "source": [
    "The method `reduceLeft` and `reduceRight` behaves similar to they analogous methods `foldLeft` and `foldRight`.\n",
    "<span style=\"color:red\">**But they require that the list is not empty.**</span>"
   ]
  },
  {
   "cell_type": "markdown",
   "id": "6d6c484e-aece-4248-a3fa-a49caf3bccc5",
   "metadata": {},
   "source": [
    "### ReduceLeft & ReduceRight"
   ]
  },
  {
   "cell_type": "markdown",
   "id": "3782a0cb-1415-4c33-a79e-3a40d88c516f",
   "metadata": {},
   "source": [
    "```scala\n",
    "def reduceLeft(op: (A, A) => A): A = this match {\n",
    "    case Nil     => error(\"Nil.reduceLeft\")    \n",
    "    case x :: xs => (xs foldLeft x)(op)        \n",
    "}\n",
    "\n",
    "def reduceRight(op: (A, A) => A): A = this match {\n",
    "    case Nil      => error(\"Nil.reduceRight\")        \n",
    "    case x :: Nil => x                              \n",
    "    case x :: xs  => op(x, xs reduceRight op)        \n",
    "}\n",
    "```"
   ]
  },
  {
   "cell_type": "markdown",
   "id": "94b970b3-b1fa-4dc5-b38d-059871050cf6",
   "metadata": {},
   "source": [
    "## Nested Mappings"
   ]
  },
  {
   "cell_type": "markdown",
   "id": "5695d16c-c338-4c33-bbee-625812f61848",
   "metadata": {},
   "source": [
    "We can employ higher-order list processing functions to express many computations that are normally expressed as nested loops in imperative\n",
    "languages.\n",
    "\n",
    "As an example, consider the following problem: Given a positive integer $n$, find all\n",
    "pairs of positive integers $i$ and $j$, where $1 \\leq j \\leq i < n$ such that $i + j$ is prime.\n",
    "\n",
    "For instance, if $n = 7$ the pairs are:\n",
    "\n",
    "| i | j | i + j |\n",
    "|---|---|-------|\n",
    "| 2 | 1 | 3     |\n",
    "| 3 | 2 | 5     |\n",
    "| 4 | 1 | 5     |\n",
    "| 4 | 3 | 7     |\n",
    "| 5 | 2 | 7     |\n",
    "| 6 | 1 | 7     |\n",
    "| 6 | 5 | 11    |\n",
    "\n"
   ]
  },
  {
   "cell_type": "markdown",
   "id": "2169c4eb-68dd-4e77-b1b9-cec80775b851",
   "metadata": {},
   "source": [
    "In a first step, one generates the sequence of all pairs $(i, j)$ of integers such that $1 \\leq j < i < n$."
   ]
  },
  {
   "cell_type": "code",
   "execution_count": 6,
   "id": "3fd719c0-8f14-429d-ab0e-7938e7a47024",
   "metadata": {},
   "outputs": [
    {
     "data": {
      "text/plain": [
       "\u001b[36mn\u001b[39m: \u001b[32mInt\u001b[39m = \u001b[32m7\u001b[39m\n",
       "\u001b[36mres6_1\u001b[39m: \u001b[32mList\u001b[39m[\u001b[32mList\u001b[39m[(\u001b[32mInt\u001b[39m, \u001b[32mInt\u001b[39m)]] = \u001b[33mList\u001b[39m(\n",
       "  \u001b[33mList\u001b[39m(),\n",
       "  \u001b[33mList\u001b[39m((\u001b[32m2\u001b[39m, \u001b[32m1\u001b[39m)),\n",
       "  \u001b[33mList\u001b[39m((\u001b[32m3\u001b[39m, \u001b[32m1\u001b[39m), (\u001b[32m3\u001b[39m, \u001b[32m2\u001b[39m)),\n",
       "  \u001b[33mList\u001b[39m((\u001b[32m4\u001b[39m, \u001b[32m1\u001b[39m), (\u001b[32m4\u001b[39m, \u001b[32m2\u001b[39m), (\u001b[32m4\u001b[39m, \u001b[32m3\u001b[39m)),\n",
       "  \u001b[33mList\u001b[39m((\u001b[32m5\u001b[39m, \u001b[32m1\u001b[39m), (\u001b[32m5\u001b[39m, \u001b[32m2\u001b[39m), (\u001b[32m5\u001b[39m, \u001b[32m3\u001b[39m), (\u001b[32m5\u001b[39m, \u001b[32m4\u001b[39m)),\n",
       "  \u001b[33mList\u001b[39m((\u001b[32m6\u001b[39m, \u001b[32m1\u001b[39m), (\u001b[32m6\u001b[39m, \u001b[32m2\u001b[39m), (\u001b[32m6\u001b[39m, \u001b[32m3\u001b[39m), (\u001b[32m6\u001b[39m, \u001b[32m4\u001b[39m), (\u001b[32m6\u001b[39m, \u001b[32m5\u001b[39m))\n",
       ")"
      ]
     },
     "execution_count": 6,
     "metadata": {},
     "output_type": "execute_result"
    }
   ],
   "source": [
    "val n = 7\n",
    "\n",
    "List.range(1, n)\n",
    "    .map(i => List.range(1, i).map(j => (i, j)))"
   ]
  },
  {
   "cell_type": "markdown",
   "id": "44a8f197-9e3e-4f66-8e2e-538f72177ca1",
   "metadata": {},
   "source": [
    "Secondly, combine all sublists (flatting) using foldRight with the concat operator `:::`,"
   ]
  },
  {
   "cell_type": "code",
   "execution_count": 7,
   "id": "da426ce1-e203-47ff-9374-fea87ce82768",
   "metadata": {},
   "outputs": [
    {
     "data": {
      "text/plain": [
       "\u001b[36mres7\u001b[39m: \u001b[32mList\u001b[39m[(\u001b[32mInt\u001b[39m, \u001b[32mInt\u001b[39m)] = \u001b[33mList\u001b[39m(\n",
       "  (\u001b[32m2\u001b[39m, \u001b[32m1\u001b[39m),\n",
       "  (\u001b[32m3\u001b[39m, \u001b[32m1\u001b[39m),\n",
       "  (\u001b[32m3\u001b[39m, \u001b[32m2\u001b[39m),\n",
       "  (\u001b[32m4\u001b[39m, \u001b[32m1\u001b[39m),\n",
       "  (\u001b[32m4\u001b[39m, \u001b[32m2\u001b[39m),\n",
       "  (\u001b[32m4\u001b[39m, \u001b[32m3\u001b[39m),\n",
       "  (\u001b[32m5\u001b[39m, \u001b[32m1\u001b[39m),\n",
       "  (\u001b[32m5\u001b[39m, \u001b[32m2\u001b[39m),\n",
       "  (\u001b[32m5\u001b[39m, \u001b[32m3\u001b[39m),\n",
       "  (\u001b[32m5\u001b[39m, \u001b[32m4\u001b[39m),\n",
       "  (\u001b[32m6\u001b[39m, \u001b[32m1\u001b[39m),\n",
       "  (\u001b[32m6\u001b[39m, \u001b[32m2\u001b[39m),\n",
       "  (\u001b[32m6\u001b[39m, \u001b[32m3\u001b[39m),\n",
       "  (\u001b[32m6\u001b[39m, \u001b[32m4\u001b[39m),\n",
       "  (\u001b[32m6\u001b[39m, \u001b[32m5\u001b[39m)\n",
       ")"
      ]
     },
     "execution_count": 7,
     "metadata": {},
     "output_type": "execute_result"
    }
   ],
   "source": [
    "List.range(1, n)\n",
    "    .map(i => List.range(1, i).map(j => (i, j)))\n",
    "    .foldRight(List[(Int, Int)]()){(x, xs) => x ::: xs}"
   ]
  },
  {
   "cell_type": "markdown",
   "id": "d7d02d08-dd55-4eba-8927-6bd29507732d",
   "metadata": {},
   "source": [
    "finally, we filter the pairs that their sum is prime."
   ]
  },
  {
   "cell_type": "code",
   "execution_count": 8,
   "id": "762f5a76-a7ed-4f50-8114-d1fb30504e3a",
   "metadata": {},
   "outputs": [
    {
     "data": {
      "text/plain": [
       "defined \u001b[32mfunction\u001b[39m \u001b[36misPrime\u001b[39m\n",
       "\u001b[36mn\u001b[39m: \u001b[32mInt\u001b[39m = \u001b[32m7\u001b[39m\n",
       "\u001b[36mres8_2\u001b[39m: \u001b[32mList\u001b[39m[(\u001b[32mInt\u001b[39m, \u001b[32mInt\u001b[39m)] = \u001b[33mList\u001b[39m(\n",
       "  (\u001b[32m2\u001b[39m, \u001b[32m1\u001b[39m),\n",
       "  (\u001b[32m3\u001b[39m, \u001b[32m2\u001b[39m),\n",
       "  (\u001b[32m4\u001b[39m, \u001b[32m1\u001b[39m),\n",
       "  (\u001b[32m4\u001b[39m, \u001b[32m3\u001b[39m),\n",
       "  (\u001b[32m5\u001b[39m, \u001b[32m2\u001b[39m),\n",
       "  (\u001b[32m6\u001b[39m, \u001b[32m1\u001b[39m),\n",
       "  (\u001b[32m6\u001b[39m, \u001b[32m5\u001b[39m)\n",
       ")"
      ]
     },
     "execution_count": 8,
     "metadata": {},
     "output_type": "execute_result"
    }
   ],
   "source": [
    "def isPrime(n: Int): Boolean = {\n",
    "    def nestedIsPrime(n: Int, i: Int): Boolean = { \n",
    "        if (n <= 2) n == 2\n",
    "        else if (n % i == 0) false\n",
    "        else if (n < i * i) true\n",
    "        else nestedIsPrime(n, i + 1)\n",
    "    }\n",
    "    nestedIsPrime(n, 2)\n",
    "}\n",
    "\n",
    "val n = 7\n",
    "\n",
    "List.range(1, n)\n",
    "    .map(i => List.range(1, i).map(j => (i, j)))\n",
    "    .foldRight(List[(Int, Int)]()){(x, xs) => x ::: xs}\n",
    "    .filter(pair => isPrime(pair._1 + pair._2))"
   ]
  },
  {
   "cell_type": "markdown",
   "id": "1d60c766-8725-4259-ab4b-f026e67274a4",
   "metadata": {},
   "source": [
    "## Flattening Maps"
   ]
  },
  {
   "cell_type": "markdown",
   "id": "184fa9d5-5681-4fb2-b449-e90946d4b03c",
   "metadata": {},
   "source": [
    "The combination of mapping and then concatenating sublists\n",
    "resulting from the map is so common that we there is a special method for it in class.\n",
    "\n",
    "```scala\n",
    "def flatMap[B](f: A => List[B]): List[B] = this match {\n",
    "    case Nil     => Nil\n",
    "    case x :: xs => f(x) ::: (xs flatMap f)\n",
    "}\n",
    "```\n",
    "\n",
    "With `flatMap`, the pairs-whose-sum-is-prime expression could have been written\n",
    "more concisely as follows."
   ]
  },
  {
   "cell_type": "code",
   "execution_count": 9,
   "id": "6f24903c-64af-4082-be73-4250e4580fbc",
   "metadata": {},
   "outputs": [
    {
     "data": {
      "text/plain": [
       "defined \u001b[32mfunction\u001b[39m \u001b[36misPrime\u001b[39m\n",
       "\u001b[36mn\u001b[39m: \u001b[32mInt\u001b[39m = \u001b[32m7\u001b[39m\n",
       "\u001b[36mres9_2\u001b[39m: \u001b[32mList\u001b[39m[(\u001b[32mInt\u001b[39m, \u001b[32mInt\u001b[39m)] = \u001b[33mList\u001b[39m(\n",
       "  (\u001b[32m2\u001b[39m, \u001b[32m1\u001b[39m),\n",
       "  (\u001b[32m3\u001b[39m, \u001b[32m2\u001b[39m),\n",
       "  (\u001b[32m4\u001b[39m, \u001b[32m1\u001b[39m),\n",
       "  (\u001b[32m4\u001b[39m, \u001b[32m3\u001b[39m),\n",
       "  (\u001b[32m5\u001b[39m, \u001b[32m2\u001b[39m),\n",
       "  (\u001b[32m6\u001b[39m, \u001b[32m1\u001b[39m),\n",
       "  (\u001b[32m6\u001b[39m, \u001b[32m5\u001b[39m)\n",
       ")"
      ]
     },
     "execution_count": 9,
     "metadata": {},
     "output_type": "execute_result"
    }
   ],
   "source": [
    "def isPrime(n: Int): Boolean = {\n",
    "    def nestedIsPrime(n: Int, i: Int): Boolean = { \n",
    "        if (n <= 2) n == 2\n",
    "        else if (n % i == 0) false\n",
    "        else if (n < i * i) true\n",
    "        else nestedIsPrime(n, i + 1)\n",
    "    }\n",
    "    nestedIsPrime(n, 2)\n",
    "}\n",
    "\n",
    "val n = 7\n",
    "\n",
    "List.range(1, n)\n",
    "    .flatMap(i => List.range(1, i).map(j => (i, j)))\n",
    "    .filter(pair => isPrime(pair._1 + pair._2))"
   ]
  },
  {
   "cell_type": "markdown",
   "id": "fb1c79c0-56aa-47c0-9a84-9ed270afb490",
   "metadata": {},
   "source": [
    "<p style=\"float: left;\"><a href=\"merge-sort.ipynb\" target=\"_blank\">Previous</a></p>\n",
    "<p style=\"float: right;\"><a href=\"for-comprehensions.ipynb\" target=\"_blank\">Next</a></p>\n",
    "<p style=\"text-align:center;\">Tour of Scala</p>\n",
    "<div style=\"clear: both;\"></div>"
   ]
  }
 ],
 "metadata": {
  "kernelspec": {
   "display_name": "Scala 3.6",
   "language": "scala",
   "name": "scala36"
  },
  "language_info": {
   "codemirror_mode": "text/x-scala",
   "file_extension": ".sc",
   "mimetype": "text/x-scala",
   "name": "scala",
   "nbconvert_exporter": "script",
   "version": "2.13.16"
  }
 },
 "nbformat": 4,
 "nbformat_minor": 5
}
