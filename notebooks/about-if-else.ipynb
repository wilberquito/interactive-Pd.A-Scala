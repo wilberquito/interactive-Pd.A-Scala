{
 "cells": [
  {
   "cell_type": "markdown",
   "id": "0e6aa19b-0be0-4258-8f6f-c71147a72e56",
   "metadata": {},
   "source": [
    "<p style=\"float: left;\"><a href=\"named-arguments.ipynb\" target=\"_blank\">Previous</a></p>\n",
    "<p style=\"float: right;\"><a href=\"tail-recursion.ipynb\" target=\"_blank\">Next</a></p>\n",
    "<p style=\"text-align:center;\">Tour of Scala</p>\n",
    "<div style=\"clear: both;\"></div>"
   ]
  },
  {
   "cell_type": "markdown",
   "id": "727ff7ac-e44a-4391-8a1e-76153e1417c7",
   "metadata": {},
   "source": [
    "# About if/else"
   ]
  },
  {
   "cell_type": "markdown",
   "id": "b510ae76-e42e-4775-8a8c-48833840b085",
   "metadata": {},
   "source": [
    "## The if/else construct"
   ]
  },
  {
   "cell_type": "markdown",
   "id": "e132d23f-5b77-481d-b0be-5172c929554a",
   "metadata": {},
   "source": [
    "- A simple `if` statement looks like this:\n",
    "\n",
    "    ```scala\n",
    "    val x = 1\n",
    "    if (x == 1) then println(x) // 1\n",
    "    \n",
    "    ```"
   ]
  },
  {
   "cell_type": "markdown",
   "id": "813f8272-d5af-4409-bfc3-3b4339a6359c",
   "metadata": {},
   "source": [
    "- You can simplify the `if-else` structure avoiding the keyword `then`.\n",
    "\n",
    "    ```scala\n",
    "    val x = 1\n",
    "    if (x == 1) println(x) // 1\n",
    "    ```"
   ]
  },
  {
   "cell_type": "markdown",
   "id": "b56c33b4-14bd-40bb-90c7-e4990641343f",
   "metadata": {},
   "source": [
    "- The `if/else` statement looks like this:\n",
    "\n",
    "    ```scala\n",
    "    val x = 1\n",
    "\n",
    "    if (x == 1) {\n",
    "      println(\"x is 1, as you can see:\")\n",
    "      println(x)\n",
    "    } else {\n",
    "      println(\"x was not 1\")\n",
    "    }\n",
    "    ```"
   ]
  },
  {
   "cell_type": "markdown",
   "id": "75046132-3f19-45b9-a761-5606cee4ab19",
   "metadata": {},
   "source": [
    "- Diferent executions path can be represented with the `if/else-if/else` like this:\n",
    "\n",
    "    ```scala\n",
    "    val x = 1\n",
    "    \n",
    "    if (x < 0)\n",
    "      println(\"negative\")\n",
    "    else if (x == 0)\n",
    "      println(\"zero\")\n",
    "    else\n",
    "      println(\"positive\")\n",
    "      \n",
    "    ```"
   ]
  },
  {
   "cell_type": "markdown",
   "id": "39c4fbe4-98ae-4875-b1a0-952b4b224882",
   "metadata": {},
   "source": [
    "## The if/else expression"
   ]
  },
  {
   "cell_type": "markdown",
   "id": "5d294a07-d6df-4d23-8e5a-bd5cee4d8eac",
   "metadata": {},
   "source": [
    "- In Scala, the `if/else` can behave as an expression rather than a control statement. \n",
    "\n",
    "    ```scala\n",
    "    val a = 2\n",
    "    val b = 4\n",
    "    val minValue = if a < b then a else b\n",
    "    \n",
    "    println(minValue) // 2\n",
    "    ```\n",
    "\n",
    "    <br/>\n",
    "    \n",
    "    <span style=\"color:black\">**When it behaves as an expression the result of the `if/else` expression is a value**, not a decision between execution paths.</span>"
   ]
  },
  {
   "cell_type": "markdown",
   "id": "826ef6ae-1df6-4fb0-a498-e2e3ba54bb57",
   "metadata": {},
   "source": [
    "- Because they return a value, you can use `if/else` expressions as the body of a method:\n",
    "\n",
    "    ```scala\n",
    "    def compare(a: Int, b: Int): String =\n",
    "      if (a < b) then \"<\"\n",
    "      else if (a == b) then \"==\"\n",
    "      else \">\"\n",
    "    \n",
    "    println(compare(b=2, a=2)) // \"==\"\n",
    "\n",
    "    ```"
   ]
  },
  {
   "cell_type": "markdown",
   "id": "3c468e8c-122f-4c93-acc0-abfd70da9410",
   "metadata": {},
   "source": [
    "<p style=\"float: left;\"><a href=\"named-arguments.ipynb\" target=\"_blank\">Previous</a></p>\n",
    "<p style=\"float: right;\"><a href=\"tail-recursion.ipynb\" target=\"_blank\">Next</a></p>\n",
    "<p style=\"text-align:center;\">Tour of Scala</p>\n",
    "<div style=\"clear: both;\"></div>"
   ]
  }
 ],
 "metadata": {
  "kernelspec": {
   "display_name": "Scala 3.6",
   "language": "scala",
   "name": "scala36"
  },
  "language_info": {
   "codemirror_mode": "text/x-scala",
   "file_extension": ".sc",
   "mimetype": "text/x-scala",
   "name": "scala",
   "nbconvert_exporter": "script",
   "version": "2.13.16"
  }
 },
 "nbformat": 4,
 "nbformat_minor": 5
}
