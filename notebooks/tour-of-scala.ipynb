{
 "cells": [
  {
   "cell_type": "markdown",
   "metadata": {},
   "source": [
    "<p style=\"float: left;\"><a href=\"_index.ipynb\" target=\"_blank\">Previous</a></p>\n",
    "<p style=\"float: right;\"><a href=\"developing-tools.ipynb\" target=\"_blank\">Next</a></p>\n",
    "<p style=\"text-align:center;\">Tour of Scala</p>\n",
    "<div style=\"clear: both;\"></div>"
   ]
  },
  {
   "cell_type": "markdown",
   "metadata": {},
   "source": [
    "# Introduction\n",
    "\n",
    "This is just a brief tour, not a full language tutorial. If\n",
    "you want that, consider obtaining [a book](https://docs.scala-lang.org/books.html) or consulting\n",
    "[other resources](https://docs.scala-lang.org/learn.html).\n",
    "\n",
    "## What is Scala?\n",
    "Scala is a modern multi-paradigm programming language designed to express common programming patterns in a concise, elegant, and type-safe way. It smoothly integrates features of object-oriented and functional languages.\n",
    "\n",
    "## Scala is object-oriented ##\n",
    "Scala is a pure object-oriented language in the sense that [every value is an object](unified-types.ipynb). Types and behavior of objects are described by [classes](classes.ipynb) and [traits](traits.ipynb).\n",
    "\n",
    "## Scala is functional ##\n",
    "Scala is also a functional language in the sense that [every function is a value](unified-types.ipynb). \n",
    "\n",
    "- Scala provides a [lightweight syntax](basics.ipynb#functions) for defining anonymous functions,\n",
    "- it supports [higher-order functions](higher-order-functions.ipynb),\n",
    "- it allows functions to be [nested](nested-methods.ipynb),\n",
    "- and supports [currying](currying.ipynb).\n",
    "- [Case classes](case-classes.ipynb) and [pattern matching](pattern-matching.ipynb) will allow us to work with algebraic types in a clean way.\n",
    "\n",
    "\n",
    "## Scala's type system\n",
    "\n",
    "Scala is statically typed, <span style=\"color:green\">every type's expression in Scala is known at compile time</span>.\n",
    "The language is equipped with an expressive type system that enforces statically that abstractions are used in a safe and coherent manner. \n",
    "In particular, the type system supports:\n",
    "\n",
    "* [generic classes](generic-classes.ipynb)\n",
    "* [variance annotations](variances.ipynb)\n",
    "* [upper](upper-type-bounds.ipynb) and [lower](lower-type-bounds.ipynb) type bounds\n",
    "* [polymorphic methods](polymorphic-methods.ipynb)\n",
    "* explicitly typed self references\n",
    "* implicit parameters and conversions\n",
    "* inner classes and abstract types as object members\n",
    "* compound types\n",
    "\n",
    "Scala also privides [type inference](type-inference.ipynb), meaning that <span style=\"color: green\">it is not required to annotate code with type information</span>. \n",
    "\n",
    "## Scala interoperates\n",
    "\n",
    "Scala is designed to interoperate well with the popular Java Runtime Environment (JRE). In particular;\n",
    "\n",
    "- The interaction with the mainstream object-oriented Java programming language is smooth.\n",
    "- Newer Java features like SAMs, [lambdas](higher-order-functions.ipynb), annotations, and [generics](generic-classes.ipynb) have direct analogues in Scala.\n",
    "- Scala features without Java analogues, such as [default](default-parameter-values.ipynb) and [named parameters](named-arguments.ipynb), compile as close to Java as they can reasonably come.\n",
    "- Scala has the same compilation model (separate compilation, dynamic class loading) like Java and allows access to thousands of existing high-quality libraries."
   ]
  },
  {
   "cell_type": "markdown",
   "metadata": {},
   "source": [
    "<p style=\"float: left;\"><a href=\"_index.ipynb\" target=\"_blank\">Previous</a></p>\n",
    "<p style=\"float: right;\"><a href=\"developing-tools.ipynb\" target=\"_blank\">Next</a></p>\n",
    "<p style=\"text-align:center;\">Tour of Scala</p>\n",
    "<div style=\"clear: both;\"></div>"
   ]
  }
 ],
 "metadata": {
  "kernelspec": {
   "display_name": "Scala 3.6",
   "language": "scala",
   "name": "scala36"
  },
  "language_info": {
   "codemirror_mode": "text/x-scala",
   "file_extension": ".sc",
   "mimetype": "text/x-scala",
   "name": "scala",
   "nbconvert_exporter": "script",
   "version": "2.13.16"
  }
 },
 "nbformat": 4,
 "nbformat_minor": 4
}
