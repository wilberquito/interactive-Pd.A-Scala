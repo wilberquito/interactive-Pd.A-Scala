{
 "cells": [
  {
   "cell_type": "markdown",
   "id": "73ff9f56-01bc-443c-b6aa-bdd731808d48",
   "metadata": {},
   "source": [
    "<p style=\"float: left;\"><a href=\"for-comprehensions.ipynb\" target=\"_blank\">Previous</a></p>\n",
    "<p style=\"float: right;\"><a href=\"_index.ipynb\" target=\"_blank\">Next</a></p>\n",
    "<p style=\"text-align:center;\">Tour of Scala</p>\n",
    "<div style=\"clear: both;\"></div>"
   ]
  },
  {
   "cell_type": "markdown",
   "id": "e26f31cd-d95e-4cac-b774-7bc95952966b",
   "metadata": {},
   "source": [
    "// Design a tail-recursive version of length."
   ]
  },
  {
   "cell_type": "code",
   "execution_count": null,
   "id": "5f207819-f146-410f-8641-9c6d6afb0427",
   "metadata": {},
   "outputs": [],
   "source": [
    "// Implement the reversing list more efficiently"
   ]
  },
  {
   "cell_type": "markdown",
   "id": "45fda7ca-a6f7-4294-8a2e-eff1e7168a85",
   "metadata": {},
   "source": [
    "<p style=\"float: left;\"><a href=\"for-comprehensions.ipynb\" target=\"_blank\">Previous</a></p>\n",
    "<p style=\"float: right;\"><a href=\"_index.ipynb\" target=\"_blank\">Next</a></p>\n",
    "<p style=\"text-align:center;\">Tour of Scala</p>\n",
    "<div style=\"clear: both;\"></div>"
   ]
  }
 ],
 "metadata": {
  "kernelspec": {
   "display_name": "Scala 2.13",
   "language": "scala",
   "name": "scala213"
  },
  "language_info": {
   "codemirror_mode": "text/x-scala",
   "file_extension": ".sc",
   "mimetype": "text/x-scala",
   "name": "scala",
   "nbconvert_exporter": "script",
   "version": "2.13.14"
  }
 },
 "nbformat": 4,
 "nbformat_minor": 5
}
