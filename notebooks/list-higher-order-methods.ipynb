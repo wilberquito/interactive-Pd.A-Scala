{
 "cells": [
  {
   "cell_type": "markdown",
   "id": "e61c56a0-8dce-477e-9afe-92f0aca03f46",
   "metadata": {},
   "source": [
    "<p style=\"float: left;\"><a href=\"merge-sort.ipynb\" target=\"_blank\">Previous</a></p>\n",
    "<p style=\"float: right;\"><a href=\"for-comprehensions.ipynb\" target=\"_blank\">Next</a></p>\n",
    "<p style=\"text-align:center;\">Tour of Scala</p>\n",
    "<div style=\"clear: both;\"></div>"
   ]
  },
  {
   "cell_type": "markdown",
   "id": "083f8c4e-58bf-48aa-b2ac-a467b0fded26",
   "metadata": {},
   "source": [
    "# Definition of class List II: Higher-Order Methods"
   ]
  },
  {
   "cell_type": "markdown",
   "id": "cd4eee9c-fc04-4de2-beaa-607c38122a79",
   "metadata": {},
   "source": [
    "**Functional programming** languages **enable programmers to write general functions\n",
    "which implement patterns by means of higher order functions**. We now\n",
    "discuss a set of commonly used higher-order functions, which are implemented as\n",
    "methods in class `List`.\n",
    "\n",
    "We can identify several patterns of computation over lists, like:\n",
    "\n",
    "* transforming every element of a list in some way.\n",
    "* extracting from a list all elements satisfying a criterion.\n",
    "* combine the elements of a list using some operator."
   ]
  },
  {
   "cell_type": "markdown",
   "id": "4d9543b2-85fe-4698-bbee-75ad73d1bb9b",
   "metadata": {},
   "source": [
    "## Mapping"
   ]
  },
  {
   "cell_type": "markdown",
   "id": "1d0ec1ca-380b-42e8-9959-8ba8b4c7998f",
   "metadata": {},
   "source": [
    "A common operation is to transform each element of a list\n",
    "and then return the lists of results.\n",
    "\n",
    "```scala\n",
    "def map[B](f: A => B): List[B] = this match {\n",
    "    case Nil     => this\n",
    "    case x :: xs => f(x) :: xs.map(f)\n",
    "}\n",
    "```\n"
   ]
  },
  {
   "cell_type": "markdown",
   "id": "273817e2-dca4-4aae-bf12-a4761e7210f8",
   "metadata": {},
   "source": [
    "For instance, to scale each element of a list by a\n",
    "given factor:"
   ]
  },
  {
   "cell_type": "code",
   "execution_count": 1,
   "id": "643195e2-fbe6-42e0-aa51-f9d115fbe7c1",
   "metadata": {},
   "outputs": [
    {
     "data": {
      "text/plain": [
       "\u001b[32mimport \u001b[39m\u001b[36mscala.util.Random\u001b[39m\n",
       "\u001b[36mrand\u001b[39m: \u001b[32mRandom\u001b[39m = scala.util.Random@4bde16fa\n",
       "\u001b[36mnumbers\u001b[39m: \u001b[32mIndexedSeq\u001b[39m[\u001b[32mDouble\u001b[39m] = \u001b[33mVector\u001b[39m(\n",
       "  \u001b[32m0.18482415684938847\u001b[39m,\n",
       "  \u001b[32m0.5007184003872804\u001b[39m,\n",
       "  \u001b[32m0.506468992252953\u001b[39m\n",
       ")\n",
       "\u001b[36mrandInt\u001b[39m: \u001b[32mInt\u001b[39m = \u001b[32m-1694641057\u001b[39m\n",
       "\u001b[36mscale\u001b[39m: \u001b[32mInt\u001b[39m = \u001b[32m3\u001b[39m\n",
       "defined \u001b[32mfunction\u001b[39m \u001b[36mscaleList\u001b[39m\n",
       "\u001b[36mscaledNumbers\u001b[39m: \u001b[32mList\u001b[39m[\u001b[32mDouble\u001b[39m] = \u001b[33mList\u001b[39m(\n",
       "  \u001b[32m0.5544724705481654\u001b[39m,\n",
       "  \u001b[32m1.5021552011618413\u001b[39m,\n",
       "  \u001b[32m1.5194069767588592\u001b[39m\n",
       ")"
      ]
     },
     "execution_count": 1,
     "metadata": {},
     "output_type": "execute_result"
    }
   ],
   "source": [
    "import scala.util.Random\n",
    "\n",
    "val rand    = new Random\n",
    "val numbers =  for (x <- 1 to 3) yield rand.nextDouble()\n",
    "val randInt = rand.nextInt()\n",
    "val scale   = (if (randInt >= 0) randInt else -1 * randInt) % 5 + 1\n",
    "\n",
    "def scaleList(xs: List[Double], factor: Double): List[Double] = xs match {\n",
    "    case Nil      => Nil\n",
    "    case x :: xs1 => x * factor :: scaleList(xs1, factor)\n",
    "}\n",
    "\n",
    "val scaledNumbers = scaleList(numbers.toList, scale)"
   ]
  },
  {
   "cell_type": "markdown",
   "id": "b5bfc3c5-41f9-4c14-b5af-6dfc52542cff",
   "metadata": {},
   "source": [
    "As another example, consider the problem of returning a given column of a matrix\n",
    "which is represented as a list of rows, where each row is again a list."
   ]
  },
  {
   "cell_type": "code",
   "execution_count": 2,
   "id": "dcf42068-ab43-4c5d-b375-d17ba2c55a6d",
   "metadata": {},
   "outputs": [
    {
     "data": {
      "text/plain": [
       "\u001b[32mimport \u001b[39m\u001b[36mscala.util.Random\u001b[39m\n",
       "defined \u001b[32mfunction\u001b[39m \u001b[36mcolumn\u001b[39m\n",
       "\u001b[36mrows\u001b[39m: \u001b[32mInt\u001b[39m = \u001b[32m2\u001b[39m\n",
       "\u001b[36mcolumns\u001b[39m: \u001b[32mInt\u001b[39m = \u001b[32m3\u001b[39m\n",
       "\u001b[36mgrid\u001b[39m: \u001b[32mList\u001b[39m[\u001b[32mList\u001b[39m[\u001b[32mDouble\u001b[39m]] = \u001b[33mList\u001b[39m(\n",
       "  \u001b[33mList\u001b[39m(\u001b[32m0.12036256996378802\u001b[39m, \u001b[32m0.6248197415837481\u001b[39m, \u001b[32m0.638229595811933\u001b[39m),\n",
       "  \u001b[33mList\u001b[39m(\u001b[32m0.5750946850293309\u001b[39m, \u001b[32m0.44025428502316444\u001b[39m, \u001b[32m0.5130119776095965\u001b[39m)\n",
       ")\n",
       "\u001b[36mlastCol\u001b[39m: \u001b[32mList\u001b[39m[\u001b[32mDouble\u001b[39m] = \u001b[33mList\u001b[39m(\u001b[32m0.638229595811933\u001b[39m, \u001b[32m0.5130119776095965\u001b[39m)"
      ]
     },
     "execution_count": 2,
     "metadata": {},
     "output_type": "execute_result"
    }
   ],
   "source": [
    "import scala.util.Random\n",
    "\n",
    "def column[A](xs: List[List[A]], index: Int): List[A] =\n",
    "    xs map (row => row(index))\n",
    "\n",
    "val (rows, columns) = (2, 3)\n",
    "val grid = (\n",
    "    for (x <- 1 to rows) \n",
    "        yield (for (x <- 1 to columns) yield rand.nextDouble()).toList\n",
    ").toList\n",
    "\n",
    "val lastCol = column(grid, columns - 1)"
   ]
  },
  {
   "cell_type": "markdown",
   "id": "9a2347b3-6183-456e-a181-d16da852969d",
   "metadata": {},
   "source": [
    "## Foreach"
   ]
  },
  {
   "cell_type": "markdown",
   "id": "25881b4a-6e2f-4e42-b65e-1c94b70d00bf",
   "metadata": {},
   "source": [
    "Closely related to `map` is the `foreach` method, which applies a given function to all\n",
    "elements of a list, but does not construct a list of results. The function is thus applied\n",
    "only for its side effect.\n",
    "\n",
    "```scala\n",
    "def foreach(f: A => Unit) {\n",
    "    this match {\n",
    "        case Nil     => ()\n",
    "        case x :: xs => f(x); xs.foreach(f)\n",
    "    }\n",
    "}\n",
    "```\n"
   ]
  },
  {
   "cell_type": "markdown",
   "id": "2cc6800a-76fb-4c75-8d05-cfdd5f66c6f3",
   "metadata": {},
   "source": [
    "For instance, printing numbers from 1 to 3."
   ]
  },
  {
   "cell_type": "code",
   "execution_count": 3,
   "id": "394d2aa4-46b3-4cfa-8f1a-0e7b5759e46c",
   "metadata": {},
   "outputs": [
    {
     "name": "stdout",
     "output_type": "stream",
     "text": [
      "1\n",
      "2\n",
      "3\n"
     ]
    }
   ],
   "source": [
    "(1 to 3).toList foreach println"
   ]
  },
  {
   "cell_type": "markdown",
   "id": "fd26c6d0-a017-48fb-94bc-78b74464ee2d",
   "metadata": {},
   "source": [
    "## Filtering"
   ]
  },
  {
   "cell_type": "markdown",
   "id": "9528a5bc-a405-4c09-9030-26d09cce85b2",
   "metadata": {},
   "source": [
    "Another common operation selects from a list all elements fulfilling a given criterion.\n",
    "\n",
    "```scala\n",
    "def filter(p: A => Boolean): List[A] = this match {\n",
    "    case Nil     => this\n",
    "    case x :: xs => if (p(x)) x :: xs.filter(p) else xs.filter(p)\n",
    "}\n",
    "```"
   ]
  },
  {
   "cell_type": "markdown",
   "id": "e364961e-bb88-4639-9816-f7c77565c818",
   "metadata": {},
   "source": [
    "For instance, to return a list of all positive elements in some\n",
    "given lists of integers:"
   ]
  },
  {
   "cell_type": "markdown",
   "id": "ccb0aae6-facc-4dcf-92e2-c272b5898750",
   "metadata": {},
   "source": [
    "```scala\n",
    "import scala.util.Random\n",
    "\n",
    "val rand = new Random\n",
    "val randNumbers = for (_ <- 1 to 5) yield rand.nextInt()\n",
    "val positiveNumbers = randNumbers filter (x => x > 0)\n",
    "\n",
    "```"
   ]
  },
  {
   "cell_type": "markdown",
   "id": "ad62b22d-eb5d-4c09-8038-d5042ce71b34",
   "metadata": {},
   "source": [
    "## Folding and reducing"
   ]
  },
  {
   "cell_type": "markdown",
   "id": "bf6e6994-b508-43d7-ae19-a2ea4fa3c25b",
   "metadata": {},
   "source": [
    "Another common operation is to combine the elements of a list with some operator. For instance:\n",
    "\n",
    "* `sum(List(x1, ..., xn))`  $ = 0 + x_1 + \\dots + x_n$\n",
    "* `product(List(x1, ..., xn))` $ = 1 * x_1 * \\dots * x_n$"
   ]
  },
  {
   "cell_type": "code",
   "execution_count": 4,
   "id": "fda646f3-f4b0-46f0-aef1-0e235106b52b",
   "metadata": {},
   "outputs": [
    {
     "data": {
      "text/plain": [
       "\u001b[36ms\u001b[39m: (\u001b[32mInt\u001b[39m, \u001b[32mInt\u001b[39m) => \u001b[32mInt\u001b[39m = ammonite.$sess.cmd4$Helper$$Lambda$2369/1046834897@1a0fc462\n",
       "\u001b[36mp\u001b[39m: (\u001b[32mInt\u001b[39m, \u001b[32mInt\u001b[39m) => \u001b[32mInt\u001b[39m = ammonite.$sess.cmd4$Helper$$Lambda$2370/1181697356@33f0438c\n",
       "\u001b[36mxs\u001b[39m: \u001b[32mList\u001b[39m[\u001b[32mInt\u001b[39m] = \u001b[33mList\u001b[39m(\u001b[32m2\u001b[39m, \u001b[32m3\u001b[39m, \u001b[32m4\u001b[39m)"
      ]
     },
     "execution_count": 4,
     "metadata": {},
     "output_type": "execute_result"
    }
   ],
   "source": [
    "val s = (x: Int, y: Int) => x + y             // (S)\n",
    "val p = (x: Int, y: Int) => x * y             // (P)\n",
    "\n",
    "val xs: List[Int] = (2 to 4).toList"
   ]
  },
  {
   "cell_type": "markdown",
   "id": "6d6c484e-aece-4248-a3fa-a49caf3bccc5",
   "metadata": {},
   "source": [
    "### FoldLeft and ReduceLeft"
   ]
  },
  {
   "cell_type": "markdown",
   "id": "67a4c7e9-9272-4cb8-9b76-415f1af31b9a",
   "metadata": {},
   "source": [
    "Notice that the `reduceLeft` method is defined in terms of `foldLeft`."
   ]
  },
  {
   "cell_type": "markdown",
   "id": "3782a0cb-1415-4c33-a79e-3a40d88c516f",
   "metadata": {},
   "source": [
    "\n",
    "```scala\n",
    "def reduceLeft(op: (A, A) => A): A = this match {\n",
    "    case Nil     => error(\"Nil.reduceLeft\")    // (1)\n",
    "    case x :: xs => (xs foldLeft x)(op)        // (2)\n",
    "}\n",
    "\n",
    "def foldLeft[B](z: B)(op: (B, A) => B): B = this match {\n",
    "    case Nil     => z                          // (3)\n",
    "    case x :: xs => (xs foldLeft op(z, x))(op) // (4)\n",
    "}\n",
    "```\n"
   ]
  },
  {
   "cell_type": "markdown",
   "id": "5ef55967-a779-4a1a-8e14-3bdd28cc0bc1",
   "metadata": {},
   "source": [
    "For instance, the sum of a sequence of numbers:"
   ]
  },
  {
   "cell_type": "code",
   "execution_count": 5,
   "id": "a7c3160f-3550-43c3-ad0e-00f8d8c08d5a",
   "metadata": {},
   "outputs": [
    {
     "data": {
      "text/plain": [
       "\u001b[36mres5\u001b[39m: \u001b[32mInt\u001b[39m = \u001b[32m9\u001b[39m"
      ]
     },
     "execution_count": 5,
     "metadata": {},
     "output_type": "execute_result"
    }
   ],
   "source": [
    "xs reduceLeft s"
   ]
  },
  {
   "cell_type": "markdown",
   "id": "a4b6c180-0177-4e3b-9868-9602ea062c92",
   "metadata": {},
   "source": [
    "```text\n",
    "> List(2, 3, 4) reduceLeft s\n",
    "> (List(3, 4) foldLeft (2)) s                 // (2)\n",
    "> (List(4) foldLeft (2 s 3)) s                // (4)\n",
    "> (List(4) foldLeft 5) s                      // (S)\n",
    "> (List() foldLeft (5 s 4) s                  // (4)\n",
    "> (List() foldLeft 9) s                       // (S)\n",
    "> 9                                           // (3)\n",
    "```"
   ]
  },
  {
   "cell_type": "markdown",
   "id": "99114314-912e-433e-a498-916e071545a4",
   "metadata": {},
   "source": [
    "Another example, the product of a sequence of numbers:"
   ]
  },
  {
   "cell_type": "code",
   "execution_count": 6,
   "id": "ae3753c9-af58-421f-9ccf-8d286f7a1701",
   "metadata": {},
   "outputs": [
    {
     "data": {
      "text/plain": [
       "\u001b[36mres6\u001b[39m: \u001b[32mInt\u001b[39m = \u001b[32m24\u001b[39m"
      ]
     },
     "execution_count": 6,
     "metadata": {},
     "output_type": "execute_result"
    }
   ],
   "source": [
    "xs reduceLeft p"
   ]
  },
  {
   "cell_type": "markdown",
   "id": "b42a3ee9-de2a-4227-b0e0-8d193e1c9c9d",
   "metadata": {},
   "source": [
    "```text\n",
    "> List(2, 3, 4) reduceLeft p\n",
    "> (List(3, 4) foldLeft (2)) p                 // (2)\n",
    "> (List(4) foldLeft (2 p 3)) p                // (4)\n",
    "> (List(4) foldLeft 6) p                      // (P)\n",
    "> (List() foldLeft (6 p 4)) p                 // (4)\n",
    "> (List() foldLeft 24) p                      // (P)\n",
    "> 24                                          // (3)\n",
    "```"
   ]
  },
  {
   "cell_type": "markdown",
   "id": "5ee3cf44-096d-4eb0-88b4-c5abcb9ba956",
   "metadata": {},
   "source": [
    "### FoldRight and ReduceRight"
   ]
  },
  {
   "cell_type": "markdown",
   "id": "7177e424-dacf-4e09-a633-88e978a70edb",
   "metadata": {},
   "source": [
    "Applications of `foldLeft` and `reduceLeft` expand to\n",
    "left-leaning trees. . They have duals `foldRight` and `reduceRight`, which produce\n",
    "right-leaning trees"
   ]
  },
  {
   "cell_type": "markdown",
   "id": "f79b587a-48a1-4822-8d89-ee243dc44da2",
   "metadata": {},
   "source": [
    "```scala\n",
    "def reduceRight(op: (A, A) => A): A = this match {\n",
    "    case Nil      => error(\"Nil.reduceRight\")        // (1)\n",
    "    case x :: Nil => x                               // (2)\n",
    "    case x :: xs  => op(x, xs reduceRight op)        // (3)\n",
    "}\n",
    "\n",
    "def foldRight[B](z: B)(op: (A, B) => B): B = this match {\n",
    "    case Nil     => z                                // (4)\n",
    "    case x :: xs => op(x, (xs foldRight z)(op))      // (5) \n",
    "}\n",
    "```"
   ]
  },
  {
   "cell_type": "markdown",
   "id": "f31cbcf7-5a7f-44b9-ab58-f6255bb086f6",
   "metadata": {},
   "source": [
    "For instance, the sum of a sequence of numbers:"
   ]
  },
  {
   "cell_type": "code",
   "execution_count": 7,
   "id": "703c6f60-9e08-4d8b-b5cd-3f0299cac42c",
   "metadata": {},
   "outputs": [
    {
     "data": {
      "text/plain": [
       "\u001b[36mres7\u001b[39m: \u001b[32mInt\u001b[39m = \u001b[32m9\u001b[39m"
      ]
     },
     "execution_count": 7,
     "metadata": {},
     "output_type": "execute_result"
    }
   ],
   "source": [
    "xs reduceRight s"
   ]
  },
  {
   "cell_type": "markdown",
   "id": "1609c9cb-b770-4621-9300-d8d126580be2",
   "metadata": {},
   "source": [
    "```text\n",
    "> List(2, 3, 4) reduceRight s\n",
    "> s(2, List(3, 4) reduceRight s)              // (3)\n",
    "> s(2, s(3, List(4) reduceRight s))           // (3)\n",
    "> s(2, s(3, 4))                               // (2)\n",
    "> s(2, 7)                                     // (S)\n",
    "> 9                                           // (S)\n",
    "```"
   ]
  },
  {
   "cell_type": "raw",
   "id": "05e357ca-1615-4141-b441-cf4d236efea6",
   "metadata": {},
   "source": [
    "Another example, the product of a sequence of numbers:"
   ]
  },
  {
   "cell_type": "code",
   "execution_count": 8,
   "id": "47439e53-5b4e-4062-8e83-94893b7427c2",
   "metadata": {},
   "outputs": [
    {
     "data": {
      "text/plain": [
       "\u001b[36mres8\u001b[39m: \u001b[32mInt\u001b[39m = \u001b[32m24\u001b[39m"
      ]
     },
     "execution_count": 8,
     "metadata": {},
     "output_type": "execute_result"
    }
   ],
   "source": [
    "xs reduceRight p"
   ]
  },
  {
   "cell_type": "markdown",
   "id": "bfa116bb-e406-464d-84d1-b84f58f66642",
   "metadata": {},
   "source": [
    "```text\n",
    "> List(2, 3, 4) reduceRight p\n",
    "> p(2, List(3, 4) reduceRight p)              // (3)\n",
    "> p(2, p(3, List(4) reduceRight p))           // (3)\n",
    "> p(2, p(3, 4))                               // (2)\n",
    "> p(2, 12)                                    // (P)\n",
    "> 24                                          // (P)\n",
    "```"
   ]
  },
  {
   "cell_type": "markdown",
   "id": "eb33ef6b-7134-4a68-8d95-100706c87701",
   "metadata": {},
   "source": [
    "### Left vs. Right Folding"
   ]
  },
  {
   "cell_type": "markdown",
   "id": "035e34a6-d661-4d5f-b0d3-364b8af165b6",
   "metadata": {},
   "source": [
    "**In most cases, left folding and reduce are preferred over right folding, because right folding is recursive but not tail-recursive**, \n",
    "which means it consumes one stack frame for each element in the list."
   ]
  },
  {
   "cell_type": "code",
   "execution_count": 1,
   "id": "6d25934c-5072-452e-80b0-79a3ff004457",
   "metadata": {},
   "outputs": [
    {
     "data": {
      "text/plain": [
       "\u001b[36mres1\u001b[39m: \u001b[32mList\u001b[39m[\u001b[32mInt\u001b[39m] = \u001b[33mList\u001b[39m(\u001b[32m1\u001b[39m, \u001b[32m2\u001b[39m, \u001b[32m3\u001b[39m, \u001b[32m4\u001b[39m, \u001b[32m5\u001b[39m, \u001b[32m6\u001b[39m, \u001b[32m7\u001b[39m, \u001b[32m8\u001b[39m, \u001b[32m9\u001b[39m)"
      ]
     },
     "execution_count": 1,
     "metadata": {},
     "output_type": "execute_result"
    }
   ],
   "source": [
    "List.range(1, 10)"
   ]
  },
  {
   "cell_type": "markdown",
   "id": "d8e1b3de-466b-41df-8be0-e44dfc81d8ca",
   "metadata": {},
   "source": [
    "### Flatten a list"
   ]
  },
  {
   "cell_type": "code",
   "execution_count": 5,
   "id": "f91e5234-367b-4204-9ca0-c0aa28231fc1",
   "metadata": {},
   "outputs": [
    {
     "data": {
      "text/plain": [
       "\u001b[32mimport \u001b[39m\u001b[36mscala.language.postfixOps\u001b[39m\n",
       "\u001b[36mxxs\u001b[39m: \u001b[32mList\u001b[39m[\u001b[32mList\u001b[39m[\u001b[32mInt\u001b[39m]] = \u001b[33mList\u001b[39m(\n",
       "  \u001b[33mList\u001b[39m(\u001b[32m1\u001b[39m, \u001b[32m2\u001b[39m, \u001b[32m3\u001b[39m, \u001b[32m4\u001b[39m),\n",
       "  \u001b[33mList\u001b[39m(\u001b[32m6\u001b[39m, \u001b[32m7\u001b[39m, \u001b[32m8\u001b[39m, \u001b[32m9\u001b[39m),\n",
       "  \u001b[33mList\u001b[39m(\u001b[32m11\u001b[39m, \u001b[32m12\u001b[39m, \u001b[32m13\u001b[39m, \u001b[32m14\u001b[39m)\n",
       ")\n",
       "defined \u001b[32mfunction\u001b[39m \u001b[36mflatten\u001b[39m\n",
       "\u001b[36mres5_3\u001b[39m: \u001b[32mList\u001b[39m[\u001b[32mInt\u001b[39m] = \u001b[33mList\u001b[39m(\u001b[32m1\u001b[39m, \u001b[32m2\u001b[39m, \u001b[32m3\u001b[39m, \u001b[32m4\u001b[39m, \u001b[32m6\u001b[39m, \u001b[32m7\u001b[39m, \u001b[32m8\u001b[39m, \u001b[32m9\u001b[39m, \u001b[32m11\u001b[39m, \u001b[32m12\u001b[39m, \u001b[32m13\u001b[39m, \u001b[32m14\u001b[39m)"
      ]
     },
     "execution_count": 5,
     "metadata": {},
     "output_type": "execute_result"
    }
   ],
   "source": [
    "import scala.language.postfixOps\n",
    "\n",
    "val xxs = List(\n",
    "    List.range(1, 5),\n",
    "    List.range(6, 10),\n",
    "    List.range(11, 15))\n",
    "\n",
    "def flatten[A](xs: List[List[A]]): List[A] = {\n",
    "    (xs foldRight (Nil: List[A])) {(x, ys) => x ::: ys}\n",
    "}\n",
    "\n",
    "flatten(xxs)"
   ]
  },
  {
   "cell_type": "markdown",
   "id": "94b970b3-b1fa-4dc5-b38d-059871050cf6",
   "metadata": {},
   "source": [
    "## Nested Mappings"
   ]
  },
  {
   "cell_type": "markdown",
   "id": "5695d16c-c338-4c33-bbee-625812f61848",
   "metadata": {},
   "source": [
    "We can employ higher-order list processing functions to express many computations that are normally expressed as nested loops in imperative\n",
    "languages.\n",
    "\n",
    "As an example, consider the following problem: Given a positive integer $n$, find all\n",
    "pairs of positive integers $i$ and $j$, where $1 \\leq j \\leq i < n$ such that $i + j$ is prime.\n",
    "\n",
    "For instance, if $n = 7$ the pairs are:\n",
    "\n",
    "| i | j | i + j |\n",
    "|---|---|-------|\n",
    "| 2 | 1 | 3     |\n",
    "| 3 | 2 | 5     |\n",
    "| 4 | 1 | 5     |\n",
    "| 4 | 3 | 7     |\n",
    "| 5 | 2 | 7     |\n",
    "| 6 | 1 | 7     |\n",
    "| 6 | 5 | 11    |\n",
    "\n"
   ]
  },
  {
   "cell_type": "markdown",
   "id": "2169c4eb-68dd-4e77-b1b9-cec80775b851",
   "metadata": {},
   "source": [
    "In a first step, one generates the sequence of all pairs $(i, j)$ of integers such that $1 \\leq j < i < n$."
   ]
  },
  {
   "cell_type": "code",
   "execution_count": 8,
   "id": "3fd719c0-8f14-429d-ab0e-7938e7a47024",
   "metadata": {},
   "outputs": [
    {
     "data": {
      "text/plain": [
       "\u001b[36mn\u001b[39m: \u001b[32mInt\u001b[39m = \u001b[32m7\u001b[39m\n",
       "\u001b[36mres8_1\u001b[39m: \u001b[32mList\u001b[39m[\u001b[32mList\u001b[39m[(\u001b[32mInt\u001b[39m, \u001b[32mInt\u001b[39m)]] = \u001b[33mList\u001b[39m(\n",
       "  \u001b[33mList\u001b[39m(),\n",
       "  \u001b[33mList\u001b[39m((\u001b[32m2\u001b[39m, \u001b[32m1\u001b[39m)),\n",
       "  \u001b[33mList\u001b[39m((\u001b[32m3\u001b[39m, \u001b[32m1\u001b[39m), (\u001b[32m3\u001b[39m, \u001b[32m2\u001b[39m)),\n",
       "  \u001b[33mList\u001b[39m((\u001b[32m4\u001b[39m, \u001b[32m1\u001b[39m), (\u001b[32m4\u001b[39m, \u001b[32m2\u001b[39m), (\u001b[32m4\u001b[39m, \u001b[32m3\u001b[39m)),\n",
       "  \u001b[33mList\u001b[39m((\u001b[32m5\u001b[39m, \u001b[32m1\u001b[39m), (\u001b[32m5\u001b[39m, \u001b[32m2\u001b[39m), (\u001b[32m5\u001b[39m, \u001b[32m3\u001b[39m), (\u001b[32m5\u001b[39m, \u001b[32m4\u001b[39m)),\n",
       "  \u001b[33mList\u001b[39m((\u001b[32m6\u001b[39m, \u001b[32m1\u001b[39m), (\u001b[32m6\u001b[39m, \u001b[32m2\u001b[39m), (\u001b[32m6\u001b[39m, \u001b[32m3\u001b[39m), (\u001b[32m6\u001b[39m, \u001b[32m4\u001b[39m), (\u001b[32m6\u001b[39m, \u001b[32m5\u001b[39m))\n",
       ")"
      ]
     },
     "execution_count": 8,
     "metadata": {},
     "output_type": "execute_result"
    }
   ],
   "source": [
    "val n = 7\n",
    "\n",
    "List.range(1, n)\n",
    "    .map(i => List.range(1, i).map(j => (i, j)))"
   ]
  },
  {
   "cell_type": "markdown",
   "id": "44a8f197-9e3e-4f66-8e2e-538f72177ca1",
   "metadata": {},
   "source": [
    "Secondly, combine all sublists (flatting) using foldRight with the concat operator `:::`,"
   ]
  },
  {
   "cell_type": "code",
   "execution_count": 9,
   "id": "da426ce1-e203-47ff-9374-fea87ce82768",
   "metadata": {},
   "outputs": [
    {
     "data": {
      "text/plain": [
       "\u001b[36mres9\u001b[39m: \u001b[32mList\u001b[39m[(\u001b[32mInt\u001b[39m, \u001b[32mInt\u001b[39m)] = \u001b[33mList\u001b[39m(\n",
       "  (\u001b[32m2\u001b[39m, \u001b[32m1\u001b[39m),\n",
       "  (\u001b[32m3\u001b[39m, \u001b[32m1\u001b[39m),\n",
       "  (\u001b[32m3\u001b[39m, \u001b[32m2\u001b[39m),\n",
       "  (\u001b[32m4\u001b[39m, \u001b[32m1\u001b[39m),\n",
       "  (\u001b[32m4\u001b[39m, \u001b[32m2\u001b[39m),\n",
       "  (\u001b[32m4\u001b[39m, \u001b[32m3\u001b[39m),\n",
       "  (\u001b[32m5\u001b[39m, \u001b[32m1\u001b[39m),\n",
       "  (\u001b[32m5\u001b[39m, \u001b[32m2\u001b[39m),\n",
       "  (\u001b[32m5\u001b[39m, \u001b[32m3\u001b[39m),\n",
       "  (\u001b[32m5\u001b[39m, \u001b[32m4\u001b[39m),\n",
       "  (\u001b[32m6\u001b[39m, \u001b[32m1\u001b[39m),\n",
       "  (\u001b[32m6\u001b[39m, \u001b[32m2\u001b[39m),\n",
       "  (\u001b[32m6\u001b[39m, \u001b[32m3\u001b[39m),\n",
       "  (\u001b[32m6\u001b[39m, \u001b[32m4\u001b[39m),\n",
       "  (\u001b[32m6\u001b[39m, \u001b[32m5\u001b[39m)\n",
       ")"
      ]
     },
     "execution_count": 9,
     "metadata": {},
     "output_type": "execute_result"
    }
   ],
   "source": [
    "List.range(1, n)\n",
    "    .map(i => List.range(1, i).map(j => (i, j)))\n",
    "    .foldRight(List[(Int, Int)]()){(x, xs) => x ::: xs}"
   ]
  },
  {
   "cell_type": "markdown",
   "id": "d7d02d08-dd55-4eba-8927-6bd29507732d",
   "metadata": {},
   "source": [
    "finally, we filter the pairs that their sum is prime."
   ]
  },
  {
   "cell_type": "code",
   "execution_count": 3,
   "id": "762f5a76-a7ed-4f50-8114-d1fb30504e3a",
   "metadata": {},
   "outputs": [
    {
     "data": {
      "text/plain": [
       "defined \u001b[32mfunction\u001b[39m \u001b[36misPrime\u001b[39m\n",
       "\u001b[36mn\u001b[39m: \u001b[32mInt\u001b[39m = \u001b[32m7\u001b[39m\n",
       "\u001b[36mres3_2\u001b[39m: \u001b[32mList\u001b[39m[(\u001b[32mInt\u001b[39m, \u001b[32mInt\u001b[39m)] = \u001b[33mList\u001b[39m(\n",
       "  (\u001b[32m2\u001b[39m, \u001b[32m1\u001b[39m),\n",
       "  (\u001b[32m3\u001b[39m, \u001b[32m2\u001b[39m),\n",
       "  (\u001b[32m4\u001b[39m, \u001b[32m1\u001b[39m),\n",
       "  (\u001b[32m4\u001b[39m, \u001b[32m3\u001b[39m),\n",
       "  (\u001b[32m5\u001b[39m, \u001b[32m2\u001b[39m),\n",
       "  (\u001b[32m6\u001b[39m, \u001b[32m1\u001b[39m),\n",
       "  (\u001b[32m6\u001b[39m, \u001b[32m5\u001b[39m)\n",
       ")"
      ]
     },
     "execution_count": 3,
     "metadata": {},
     "output_type": "execute_result"
    }
   ],
   "source": [
    "def isPrime(n: Int): Boolean = {\n",
    "    def nestedIsPrime(n: Int, i: Int): Boolean = { \n",
    "        if (n <= 2) n == 2\n",
    "        else if (n % i == 0) false\n",
    "        else if (n < i * i) true\n",
    "        else nestedIsPrime(n, i + 1)\n",
    "    }\n",
    "    nestedIsPrime(n, 2)\n",
    "}\n",
    "\n",
    "val n = 7\n",
    "\n",
    "List.range(1, n)\n",
    "    .map(i => List.range(1, i).map(j => (i, j)))\n",
    "    .foldRight(List[(Int, Int)]()){(x, xs) => x ::: xs}\n",
    "    .filter(pair => isPrime(pair._1 + pair._2))"
   ]
  },
  {
   "cell_type": "markdown",
   "id": "1d60c766-8725-4259-ab4b-f026e67274a4",
   "metadata": {},
   "source": [
    "## Flattening Maps"
   ]
  },
  {
   "cell_type": "markdown",
   "id": "184fa9d5-5681-4fb2-b449-e90946d4b03c",
   "metadata": {},
   "source": [
    "The combination of mapping and then concatenating sublists\n",
    "resulting from the map is so common that we there is a special method for it in class.\n",
    "\n",
    "```scala\n",
    "def flatMap[B](f: A => List[B]): List[B] = this match {\n",
    "    case Nil     => Nil\n",
    "    case x :: xs => f(x) ::: (xs flatMap f)\n",
    "}\n",
    "```\n",
    "\n",
    "With `flatMap`, the pairs-whose-sum-is-prime expression could have been written\n",
    "more concisely as follows."
   ]
  },
  {
   "cell_type": "code",
   "execution_count": 1,
   "id": "6f24903c-64af-4082-be73-4250e4580fbc",
   "metadata": {},
   "outputs": [
    {
     "data": {
      "text/plain": [
       "defined \u001b[32mfunction\u001b[39m \u001b[36misPrime\u001b[39m\n",
       "\u001b[36mn\u001b[39m: \u001b[32mInt\u001b[39m = \u001b[32m7\u001b[39m\n",
       "\u001b[36mres1_2\u001b[39m: \u001b[32mList\u001b[39m[(\u001b[32mInt\u001b[39m, \u001b[32mInt\u001b[39m)] = \u001b[33mList\u001b[39m(\n",
       "  (\u001b[32m2\u001b[39m, \u001b[32m1\u001b[39m),\n",
       "  (\u001b[32m3\u001b[39m, \u001b[32m2\u001b[39m),\n",
       "  (\u001b[32m4\u001b[39m, \u001b[32m1\u001b[39m),\n",
       "  (\u001b[32m4\u001b[39m, \u001b[32m3\u001b[39m),\n",
       "  (\u001b[32m5\u001b[39m, \u001b[32m2\u001b[39m),\n",
       "  (\u001b[32m6\u001b[39m, \u001b[32m1\u001b[39m),\n",
       "  (\u001b[32m6\u001b[39m, \u001b[32m5\u001b[39m)\n",
       ")"
      ]
     },
     "execution_count": 1,
     "metadata": {},
     "output_type": "execute_result"
    }
   ],
   "source": [
    "def isPrime(n: Int): Boolean = {\n",
    "    def nestedIsPrime(n: Int, i: Int): Boolean = { \n",
    "        if (n <= 2) n == 2\n",
    "        else if (n % i == 0) false\n",
    "        else if (n < i * i) true\n",
    "        else nestedIsPrime(n, i + 1)\n",
    "    }\n",
    "    nestedIsPrime(n, 2)\n",
    "}\n",
    "\n",
    "val n = 7\n",
    "\n",
    "List.range(1, n)\n",
    "    .flatMap(i => List.range(1, i).map(j => (i, j)))\n",
    "    .filter(pair => isPrime(pair._1 + pair._2))\n"
   ]
  },
  {
   "cell_type": "markdown",
   "id": "fb1c79c0-56aa-47c0-9a84-9ed270afb490",
   "metadata": {},
   "source": [
    "<p style=\"float: left;\"><a href=\"merge-sort.ipynb\" target=\"_blank\">Previous</a></p>\n",
    "<p style=\"float: right;\"><a href=\"for-comprehensions.ipynb\" target=\"_blank\">Next</a></p>\n",
    "<p style=\"text-align:center;\">Tour of Scala</p>\n",
    "<div style=\"clear: both;\"></div>"
   ]
  }
 ],
 "metadata": {
  "kernelspec": {
   "display_name": "Scala 2.13",
   "language": "scala",
   "name": "scala213"
  },
  "language_info": {
   "codemirror_mode": "text/x-scala",
   "file_extension": ".sc",
   "mimetype": "text/x-scala",
   "name": "scala",
   "nbconvert_exporter": "script",
   "version": "2.13.14"
  }
 },
 "nbformat": 4,
 "nbformat_minor": 5
}
