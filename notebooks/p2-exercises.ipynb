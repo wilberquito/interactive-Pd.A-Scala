{
 "cells": [
  {
   "cell_type": "markdown",
   "id": "425d92ee-5ca4-4551-ac96-8a2853c661af",
   "metadata": {},
   "source": [
    "<p style=\"float: left;\"><a href=\"currying.ipynb\" target=\"_blank\">Previous</a></p>\n",
    "<p style=\"text-align:center;\">Tour of Scala</p>\n",
    "<div style=\"clear: both;\"></div>"
   ]
  },
  {
   "cell_type": "markdown",
   "id": "5b48dee1-76a4-4052-b88c-4ea8e0f98ec1",
   "metadata": {},
   "source": [
    "# Exercises\n",
    "\n",
    "Use Scala worksheet and the provided template repository to solve the following problems."
   ]
  },
  {
   "cell_type": "markdown",
   "id": "ca512ce7-8efe-496f-8ea6-005e66997de3",
   "metadata": {},
   "source": [
    "Using the defintions of `trait Ordered[A]`, `class Set[T <: Ordered[T]]` and `case class Num(value: Double)`\n",
    "provided in the [restricting generacity](upper-type-bounds.ipynb) notebook, implement the following methods defintion.\n",
    "\n",
    "1) Write methods `union` and `intersection` to form the union and intersection between two sets.\n",
    "2) Add a method `def excl(x: Num)`. To accomplish this, it is useful to also implement a test method `isEmpty`.\n",
    "\n",
    "Make sure you extend the provided classes."
   ]
  },
  {
   "cell_type": "code",
   "execution_count": 14,
   "id": "bb5d8bd8-e01d-4aed-906c-888b5f61d55c",
   "metadata": {},
   "outputs": [
    {
     "data": {
      "text/plain": [
       "\u001b[32mimport \u001b[39m\u001b[36mscala.language.postfixOps\u001b[39m\n",
       "defined \u001b[32mtrait\u001b[39m \u001b[36mOrdered\u001b[39m\n",
       "defined \u001b[32mclass\u001b[39m \u001b[36mSet\u001b[39m\n",
       "defined \u001b[32mclass\u001b[39m \u001b[36mEmptySet\u001b[39m\n",
       "defined \u001b[32mclass\u001b[39m \u001b[36mNonEmptySet\u001b[39m\n",
       "defined \u001b[32mclass\u001b[39m \u001b[36mNum\u001b[39m"
      ]
     },
     "execution_count": 14,
     "metadata": {},
     "output_type": "execute_result"
    }
   ],
   "source": [
    "import scala.language.postfixOps\n",
    "\n",
    "trait Ordered[A] {\n",
    "    def compare(that: A): Int\n",
    "    def < (that: A): Boolean = (this compare that) < 0\n",
    "    def > (that: A): Boolean = (this compare that) > 0\n",
    "    def <= (that: A): Boolean = (this compare that) <= 0\n",
    "    def >= (that: A): Boolean = (this compare that) >= 0\n",
    "    def compareTo(that: A): Int = compare(that)\n",
    "}\n",
    "\n",
    "abstract class Set[T <: Ordered[T]] {\n",
    "    def elem: T\n",
    "    def left: Set[T]\n",
    "    def right: Set[T]\n",
    "    \n",
    "    def incl(x: T): Set[T]\n",
    "    def union(s: Set[T]): Set[T]\n",
    "    // def intersection(s: Set[T <: Ordered[T]): Set[T]\n",
    "    def contains(x: T): Boolean\n",
    "}\n",
    "\n",
    "class EmptySet[T <: Ordered[T]] extends Set[T] {\n",
    "    def elem = throw new Exception(\"EmptySet.elem not supported\")\n",
    "    def left = throw new Exception(\"EmptySet.left not supported\")\n",
    "    def right = throw new Exception(\"EmptySet.right not supported\")\n",
    "    \n",
    "    def contains(x: T): Boolean = false\n",
    "    def incl(x: T): Set[T] = new NonEmptySet(x, new EmptySet[T], new EmptySet[T])\n",
    "    def union(s: Set[T]) = s match {\n",
    "        case _: EmptySet[T] => new EmptySet[T]\n",
    "        case nes: NonEmptySet[T] => new NonEmptySet[T](nes.elem, this.union(nes.left), this.union(nes.right))\n",
    "    }\n",
    "}\n",
    "\n",
    "class NonEmptySet[T <: Ordered[T]](e: T, lset: Set[T], rset: Set[T]) extends Set[T] {\n",
    "    def elem = e\n",
    "    def left = lset\n",
    "    def right = rset\n",
    "    \n",
    "    def contains(x: T): Boolean =\n",
    "        if (x < elem) left contains x // T needs to be comparable\n",
    "        else if (x > elem) right contains x\n",
    "        else true\n",
    "    def incl(x: T): Set[T] =\n",
    "        if (x < elem) new NonEmptySet(elem, left incl x, right)\n",
    "        else if (x > elem) new NonEmptySet(elem, left, right incl x)\n",
    "        else this\n",
    "    def union(s: Set[T]) = throw new Exception(\"NonEmptySet.union not implemented\")\n",
    "}\n",
    "\n",
    "case class Num(value: Double) extends Ordered[Num] {\n",
    "    def compare(that: Num): Int =\n",
    "    if (this.value < that.value) -1\n",
    "    else if (this.value > that.value) 1\n",
    "    else 0\n",
    "}"
   ]
  },
  {
   "cell_type": "code",
   "execution_count": 16,
   "id": "092a1559-696c-429c-8932-f77f1da0d388",
   "metadata": {},
   "outputs": [
    {
     "data": {
      "text/plain": [
       "\u001b[36ms\u001b[39m: \u001b[32mSet\u001b[39m[\u001b[32mNum\u001b[39m] = ammonite.$sess.cmd14$Helper$NonEmptySet@2f9fb5e4\n",
       "\u001b[36mr\u001b[39m: \u001b[32mEmptySet\u001b[39m[\u001b[32mNum\u001b[39m] = ammonite.$sess.cmd14$Helper$EmptySet@1c49ab2b\n",
       "\u001b[36mrs\u001b[39m: \u001b[32mSet\u001b[39m[\u001b[32mNum\u001b[39m] = ammonite.$sess.cmd14$Helper$NonEmptySet@18ba6d36"
      ]
     },
     "execution_count": 16,
     "metadata": {},
     "output_type": "execute_result"
    }
   ],
   "source": [
    "val s = new EmptySet[Num].incl(Num(9)).incl(Num(0)).incl(Num(10))\n",
    "val r = new EmptySet[Num]\n",
    "val rs = r.union(s)"
   ]
  },
  {
   "cell_type": "code",
   "execution_count": 20,
   "id": "be03af7a-4d1b-4ff8-95ad-0408efddbaf3",
   "metadata": {},
   "outputs": [
    {
     "data": {
      "text/plain": [
       "\u001b[36mres20\u001b[39m: \u001b[32mNum\u001b[39m = \u001b[33mNum\u001b[39m(value = \u001b[32m0.0\u001b[39m)"
      ]
     },
     "execution_count": 20,
     "metadata": {},
     "output_type": "execute_result"
    }
   ],
   "source": [
    "rs.left.elem"
   ]
  },
  {
   "cell_type": "markdown",
   "id": "7b2acd2c-b7df-40d4-a97e-bafcd01a9b75",
   "metadata": {},
   "source": [
    "<p style=\"float: left;\"><a href=\"currying.ipynb\" target=\"_blank\">Previous</a></p>\n",
    "<p style=\"text-align:center;\">Tour of Scala</p>\n",
    "<div style=\"clear: both;\"></div>"
   ]
  }
 ],
 "metadata": {
  "kernelspec": {
   "display_name": "Scala 2.13",
   "language": "scala",
   "name": "scala213"
  },
  "language_info": {
   "codemirror_mode": "text/x-scala",
   "file_extension": ".sc",
   "mimetype": "text/x-scala",
   "name": "scala",
   "nbconvert_exporter": "script",
   "version": "2.13.14"
  }
 },
 "nbformat": 4,
 "nbformat_minor": 5
}
