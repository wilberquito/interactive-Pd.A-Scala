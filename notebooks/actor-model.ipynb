{
 "cells": [
  {
   "cell_type": "markdown",
   "id": "2cb6d4ad-5902-43c5-9100-7dcb2b6b46ee",
   "metadata": {},
   "source": [
    "<p style=\"float: left;\"><a href=\"_index.ipynb\" target=\"_blank\">Previous</a></p>\n",
    "<p style=\"float: right;\"><a href=\"_index.ipynb\" target=\"_blank\">Next</a></p>\n",
    "<p style=\"text-align:center;\">Tour of Scala</p>\n",
    "<div style=\"clear: both;\"></div>"
   ]
  },
  {
   "cell_type": "markdown",
   "id": "d1de0514-61e0-4016-ac95-7a7f69285edc",
   "metadata": {},
   "source": [
    "# Actor Model"
   ]
  },
  {
   "cell_type": "markdown",
   "id": "4ce319ed-179a-4595-a3dc-f47d4f9ef3b8",
   "metadata": {},
   "source": [
    "Actors are objects which encapsulate state and behavior, they communicate exclusively by exchanging messages which are placed into the recipient’s mailbox.\n"
   ]
  },
  {
   "cell_type": "markdown",
   "id": "08e89143-45e7-4fd9-8c9a-abb2023dfc8c",
   "metadata": {},
   "source": [
    "## Actors and Scala\n",
    "\n",
    "Integrated within the Akka library:\n",
    "\n",
    "- **Akka**: A library for distributed actors\n",
    "- **Concurrency**\n",
    "- **Scalability** (locally through additional threads and externally via actors on other nodes)\n",
    "- **Fault tolerance**\n",
    "- **Unified programming model**\n",
    "- **Integrated runtime management**\n",
    "- **Open-source**"
   ]
  },
  {
   "cell_type": "markdown",
   "id": "8bbc549b-16cc-4cd0-9001-47678a0da81d",
   "metadata": {},
   "source": [
    "## The Problem of Computation on Distributed Systems"
   ]
  },
  {
   "cell_type": "markdown",
   "id": "5693bdfd-1626-4341-924d-afbbf31e0218",
   "metadata": {},
   "source": [
    "Object-oriented programming (OOP) is a widely-accepted, familiar programming model. One of its core pillars is _encapsulation_.\n",
    "Encapsulation dictates that the internal data of an object is not accessible directly from the outside; it can only be modified by invoking a set of curated methods. \n",
    "_**The object is responsible for exposing safe operations that protect the invariant nature of its encapsulated data**_.\n",
    "\n",
    "When we analyze OOP runtime behavior, we sometimes draw a message sequence chart showing the interactions of method calls. For example:\n",
    "\n",
    "<center>\n",
    "    <img src=\"https://getakka.net/images/seq_chart.png\"/>\n",
    "</center>\n",
    "\n",
    "In reality, a _thread_ executes all these calls, and the enforcement of invariants occurs on the same thread \n",
    "from which the method was called. Updating the diagram with the thread of execution, it looks like this:\n",
    "\n",
    "<center>\n",
    "    <img src=\"https://getakka.net/images/seq_chart_thread.png\"/>\n",
    "</center>\n",
    "\n",
    "The significance of this clarification becomes clear when you try to model what happens with multiple threads. \n",
    "Suddenly, our neatly drawn diagram becomes inadequate. We can try to illustrate multiple threads accessing the same instance:\n",
    "\n",
    "<center>\n",
    "    <img src=\"https://getakka.net/images/seq_chart_multi_thread.png\"/>\n",
    "</center>\n",
    "\n",
    "_**The encapsulation model of objects does not guarantee anything about what happens where two threads enter the same method**_. Instructions of the two invocations can be interleaved in arbitrary ways which eliminate any hope for keeping the invariants intact without some type of coordination.\n",
    "\n",
    "The common approach to solving this problem is to add a lock around these methods. This is a very costly strategy:\n",
    "\n",
    "* Locks seriously limit concurrency, they are very costly on modern CPU architectures, requiring heavy-lifting from the operating system to suspend the thread and restore it later.\n",
    "* The caller thread is now blocked, so it cannot do any other meaningful work.\n",
    "* Locks introduce a new menace: deadlocks.\n",
    "\n",
    "Additionally, locks only really work well locally. When it comes to coordinating across multiple machines, the only alternative is distributed locks. Unfortunately, _**distributed locks are several magnitudes less efficient than local locks**_ and usually impose a hard limit on scaling out. "
   ]
  },
  {
   "cell_type": "markdown",
   "id": "e57c558e-ffb7-4ef2-895e-5dd691837741",
   "metadata": {},
   "source": [
    "_**You might thing that call stacks are a good way to operate between threds**_, yet they were designed in an era before widespread concurrent programming, _**they don’t handle asynchronous operations well because they don’t cross thread boundaries**_. When a task is delegated to another thread (typically a \"background\" worker), it involves the \"caller\" placing the task in shared memory for the \"worker\" to pick up, allowing the caller to continue with other tasks.\n",
    "\n",
    "<center>\n",
    "    <img src=\"https://getakka.net/images/exception_prop.png\"/>\n",
    "</center>\n",
    "\n",
    "However, this setup raises challenges: \n",
    "\n",
    "1. **Completion notification**: How does the \"caller\" know the task is complete?\n",
    "2. **Exception handling**: If an error occurs, the exception goes to the worker’s handler, bypassing the caller. Without a direct way to notify the caller, the task’s failure may go unnoticed unless a side-channel, like an error code, is implemented.\n",
    "\n",
    "These issues resemble network failures, where messages can be lost. The problem worsens if the worker thread encounters a critical bug, causing it to terminate and lose any in-progress task data. This leaves the system without a way to recover the lost task, even in local (non-networked) communication.\n",
    "\n",
    "_**To enable effective concurrency, threads must delegate tasks efficiently without blocking**_. However, \n",
    "_**with this delegation model, traditional call stack error handling fails**_, requiring explicit error-signaling mechanisms where\n",
    "failures become part of the system model. Concurrent systems must handle service faults and provide recovery mechanisms."
   ]
  },
  {
   "cell_type": "markdown",
   "id": "71b44a63-5aed-4f8b-99b2-d89e53087e10",
   "metadata": {},
   "source": [
    "## How the Actor Model Meets the Needs of Concurrent, Distributed Systems\n",
    "\n",
    "- Concurrent computation model\n",
    "- Think of an actor as a fundamental unit of concurrent computation.\n",
    "- Like in Object-Oriented Programming (OOP), actors hold state, but manage it through message passing rather than direct method calls.\n",
    "- Actors can modify their own private state but interact with each other only via messaging, which eliminates the need for lock-based synchronization.\n",
    "- Actors have a mailbox where messages arrive and are processed in the order they are received.\n",
    "- How an actor responds to a message essentially defines its behavior.\n",
    "\n",
    "An actor has the ability to:\n",
    "\n",
    "1) Send messages to other actors,\n",
    "2) Respond to received messages, and\n",
    "3) Create new actors.\n",
    "\n",
    "\n",
    "An important difference of passing messages instead of calling methods is that messages have no return value. And\n",
    "Actors react to messages just like objects \"react\" to methods invoked on them. They execute independently from the senders of a message, and they react to incoming messages sequentially, at most one at a time.\n",
    "\n",
    "<center>\n",
    "    <img src=\"https://getakka.net/images/serialized_timeline_invariants.png\"/>\n",
    "</center>\n",
    "\n",
    "### Hierarchical Structure\n",
    "\n",
    "* Similar to an organizational hierarchy, actors in Akka naturally form tiers.\n",
    "  - For example, an actor responsible for a particular function within the program may choose to break down its task into smaller, manageable segments.\n",
    "  - To achieve this, it creates child actors, over which it maintains supervisory control.\n",
    "* Each actor has one supervisor, the actor that initiated its creation.\n",
    "* When an actor is unable to address a certain situation, it sends a failure message to its supervisor, requesting assistance.\n",
    "* This recursive setup enables failure handling at the appropriate level in the hierarchy.\n",
    "\n",
    "<center>\n",
    "    <img src=\"https://getakka.net/images/actor_tree_supervision.png\"/>\n",
    "</center>\n",
    "\n",
    "### Messages and Immutability\n",
    "\n",
    "Messages can be any kind of object but have to be immutable. Messages are sent to an Actor using one of the following methods:\n",
    "\n",
    "* **tell (!)** : a \"fire-and-forget\" approach, where a message is sent asynchronously, and the sender returns immediately without waiting for a response.\n",
    "\n",
    "* **ask (?)** : sends a message asynchronously but returns a `Future` that represents a possible reply from the receiver.\n",
    "\n",
    "* In each of these methods, the sender has the option to include its own `ActorRef`.\n",
    "This allows the receiving actor to respond directly to the sender, as the reference to the sender is passed along with the message.\n",
    "\n",
    "* Message ordering is guaranteed for messages sent from the same sender to a receiver."
   ]
  },
  {
   "cell_type": "markdown",
   "id": "3c4c58dd-f53a-49d8-80bf-311b42f60cfb",
   "metadata": {},
   "source": [
    "## Let's play with Actors"
   ]
  },
  {
   "cell_type": "code",
   "execution_count": 1,
   "id": "74d60154-df52-445f-b6b5-d3f5ae52746a",
   "metadata": {},
   "outputs": [
    {
     "name": "stderr",
     "output_type": "stream",
     "text": [
      "Downloading https://repo1.maven.org/maven2/com/typesafe/akka/akka-actor_2.13/2.6.10/akka-actor_2.13-2.6.10.pom\n",
      "Downloaded https://repo1.maven.org/maven2/com/typesafe/akka/akka-actor_2.13/2.6.10/akka-actor_2.13-2.6.10.pom\n",
      "Downloading https://repo1.maven.org/maven2/com/typesafe/config/1.4.0/config-1.4.0.pom\n",
      "Downloading https://repo1.maven.org/maven2/org/scala-lang/modules/scala-java8-compat_2.13/0.9.0/scala-java8-compat_2.13-0.9.0.pom\n",
      "Downloaded https://repo1.maven.org/maven2/com/typesafe/config/1.4.0/config-1.4.0.pom\n",
      "Downloaded https://repo1.maven.org/maven2/org/scala-lang/modules/scala-java8-compat_2.13/0.9.0/scala-java8-compat_2.13-0.9.0.pom\n",
      "Downloading https://repo1.maven.org/maven2/com/typesafe/akka/akka-actor_2.13/2.6.10/akka-actor_2.13-2.6.10.jar\n",
      "Downloading https://repo1.maven.org/maven2/org/scala-lang/modules/scala-java8-compat_2.13/0.9.0/scala-java8-compat_2.13-0.9.0.jar\n",
      "Downloading https://repo1.maven.org/maven2/org/scala-lang/modules/scala-java8-compat_2.13/0.9.0/scala-java8-compat_2.13-0.9.0-sources.jar\n",
      "Downloading https://repo1.maven.org/maven2/com/typesafe/akka/akka-actor_2.13/2.6.10/akka-actor_2.13-2.6.10-sources.jar\n",
      "Downloading https://repo1.maven.org/maven2/com/typesafe/config/1.4.0/config-1.4.0.jar\n",
      "Downloading https://repo1.maven.org/maven2/com/typesafe/config/1.4.0/config-1.4.0-sources.jar\n",
      "Downloaded https://repo1.maven.org/maven2/org/scala-lang/modules/scala-java8-compat_2.13/0.9.0/scala-java8-compat_2.13-0.9.0-sources.jar\n",
      "Downloaded https://repo1.maven.org/maven2/com/typesafe/config/1.4.0/config-1.4.0-sources.jar\n",
      "Downloaded https://repo1.maven.org/maven2/org/scala-lang/modules/scala-java8-compat_2.13/0.9.0/scala-java8-compat_2.13-0.9.0.jar\n",
      "Downloaded https://repo1.maven.org/maven2/com/typesafe/config/1.4.0/config-1.4.0.jar\n",
      "Downloaded https://repo1.maven.org/maven2/com/typesafe/akka/akka-actor_2.13/2.6.10/akka-actor_2.13-2.6.10-sources.jar\n",
      "Downloaded https://repo1.maven.org/maven2/com/typesafe/akka/akka-actor_2.13/2.6.10/akka-actor_2.13-2.6.10.jar\n"
     ]
    },
    {
     "data": {
      "text/plain": [
       "\u001b[32mimport \u001b[39m\u001b[36m$ivy.$\u001b[39m\n",
       "\u001b[32mimport \u001b[39m\u001b[36makka.actor.{Actor, ActorRef, Props}\u001b[39m\n",
       "\u001b[32mimport \u001b[39m\u001b[36makka.actor.{ActorSystem, PoisonPill, Props}\u001b[39m"
      ]
     },
     "execution_count": 1,
     "metadata": {},
     "output_type": "execute_result"
    }
   ],
   "source": [
    "import $ivy.`com.typesafe.akka::akka-actor:2.6.10`\n",
    "import akka.actor.{Actor, ActorRef, Props}\n",
    "import akka.actor.{ActorSystem, PoisonPill, Props}"
   ]
  },
  {
   "cell_type": "code",
   "execution_count": 2,
   "id": "7410c08a-d2c5-45a6-8eb4-57ea359aa184",
   "metadata": {},
   "outputs": [
    {
     "data": {
      "text/plain": [
       "defined \u001b[32mclass\u001b[39m \u001b[36mGreet\u001b[39m\n",
       "defined \u001b[32mclass\u001b[39m \u001b[36mPraise\u001b[39m\n",
       "defined \u001b[32mclass\u001b[39m \u001b[36mCelebrate\u001b[39m\n",
       "defined \u001b[32mclass\u001b[39m \u001b[36mTalker\u001b[39m"
      ]
     },
     "execution_count": 2,
     "metadata": {},
     "output_type": "execute_result"
    }
   ],
   "source": [
    "case class Greet(name: String)\n",
    "case class Praise(name: String)\n",
    "case class Celebrate(name: String, age: Int)\n",
    "\n",
    "class Talker extends Actor {\n",
    "    var messages = 0\n",
    "    \n",
    "    def receive = {\n",
    "        case Greet(name)          => greet(name)\n",
    "        case Praise(name)         => praise(name)\n",
    "        case Celebrate(name, age) => celebrate(name, age)\n",
    "    }\n",
    "\n",
    "    def updateMessages(n: Int) = {\n",
    "        messages += 1\n",
    "        println(s\"Message n: $messages\")\n",
    "    }\n",
    "\n",
    "    def greet(name: String) = {\n",
    "        updateMessages(1)\n",
    "        println(s\"Hello $name\")\n",
    "    }\n",
    "\n",
    "    def praise(name: String) = {\n",
    "        updateMessages(1)\n",
    "        println(s\"$name, you're amazing\")\n",
    "    }\n",
    "\n",
    "    def celebrate(name: String, age: Int) = {\n",
    "        updateMessages(1)\n",
    "        println(s\"Here's to another $age years, $name\")\n",
    "    }\n",
    "}"
   ]
  },
  {
   "cell_type": "code",
   "execution_count": 3,
   "id": "dfef83ef-467b-42e2-bf58-3d1393bee61e",
   "metadata": {},
   "outputs": [
    {
     "name": "stdout",
     "output_type": "stream",
     "text": [
      "Message n: 1\n",
      "Hello Huey\n",
      "Message n: 2\n",
      "Dewey, you're amazing\n",
      "Message n: 3\n",
      "Here's to another 16 years, Louie\n"
     ]
    },
    {
     "data": {
      "text/plain": [
       "defined \u001b[32mobject\u001b[39m \u001b[36mHelloActors\u001b[39m\n",
       "\u001b[36mres3_1\u001b[39m: \u001b[32mHelloActors\u001b[39m.type = ammonite.$sess.cmd3$Helper$HelloActors$@3945bd46"
      ]
     },
     "execution_count": 3,
     "metadata": {},
     "output_type": "execute_result"
    }
   ],
   "source": [
    "object HelloActors {\n",
    "    val system = ActorSystem(\"HelloActors\")\n",
    "    val talker = system.actorOf(Props(new Talker), \"talker\")\n",
    "    talker ! Greet(\"Huey\")\n",
    "    talker ! Praise(\"Dewey\")\n",
    "    talker ! Celebrate(\"Louie\", 16)\n",
    "    Thread.sleep(5000)\n",
    "    system.terminate()\n",
    "}\n",
    "\n",
    "HelloActors"
   ]
  },
  {
   "cell_type": "code",
   "execution_count": 3,
   "id": "633e51ac-ef7c-493f-97ee-57bcf5a590f5",
   "metadata": {},
   "outputs": [
    {
     "name": "stderr",
     "output_type": "stream",
     "text": [
      "cmd4.sc:4: value greet is not a member of akka.actor.ActorRef\n",
      "    talker.greet()\n",
      "           ^\n",
      "Compilation Failed"
     ]
    }
   ],
   "source": [
    "object BadHelloActors {\n",
    "    val system = ActorSystem(\"HelloActors\")\n",
    "    val talker = system.actorOf(Props(new Talker), \"talker\")\n",
    "    talker.greet()\n",
    "    Thread.sleep(10000)\n",
    "    system.terminate()\n",
    "}\n",
    "\n",
    "BadHelloActors"
   ]
  },
  {
   "cell_type": "markdown",
   "id": "140efb67-4092-4bc0-b213-ddf35860482f",
   "metadata": {},
   "source": [
    "**NOTE:** The example below may seem misleading because this notebook is running on a single-thread container, giving the impression that everything is executing synchronously.\n",
    "\n",
    "Let’s dive into the [actors-nightmare](https://github.com/wilberquito/actors-nightmare) repository and get it running on our PCs!"
   ]
  },
  {
   "cell_type": "markdown",
   "id": "d05c11ab-5508-43aa-b05c-5bdd5f584a6c",
   "metadata": {},
   "source": [
    "<p style=\"float: left;\"><a href=\"_index.ipynb\" target=\"_blank\">Previous</a></p>\n",
    "<p style=\"float: right;\"><a href=\"_index.ipynb\" target=\"_blank\">Next</a></p>\n",
    "<p style=\"text-align:center;\">Tour of Scala</p>\n",
    "<div style=\"clear: both;\"></div>"
   ]
  }
 ],
 "metadata": {
  "kernelspec": {
   "display_name": "Scala 2.13",
   "language": "scala",
   "name": "scala213"
  },
  "language_info": {
   "codemirror_mode": "text/x-scala",
   "file_extension": ".sc",
   "mimetype": "text/x-scala",
   "name": "scala",
   "nbconvert_exporter": "script",
   "version": "2.13.14"
  }
 },
 "nbformat": 4,
 "nbformat_minor": 5
}
