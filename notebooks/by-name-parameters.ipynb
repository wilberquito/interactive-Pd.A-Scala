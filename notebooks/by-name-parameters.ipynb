{
 "cells": [
  {
   "cell_type": "markdown",
   "metadata": {},
   "source": [
    "<p style=\"float: left;\"><a href=\"type-inference.ipynb\" target=\"_blank\">Previous</a></p>\n",
    "<p style=\"float: right;\"><a href=\"default-parameter-values.ipynb\" target=\"_blank\">Next</a></p>\n",
    "<p style=\"text-align:center;\">Tour of Scala</p>\n",
    "<div style=\"clear: both;\"></div>"
   ]
  },
  {
   "cell_type": "markdown",
   "metadata": {},
   "source": [
    "# Evaluation order"
   ]
  },
  {
   "cell_type": "markdown",
   "metadata": {},
   "source": [
    "- <span style=\"color:black\">**By default, Scala uses _applicative reduction order_**</span>, which means the leftmost and innermost expressions (redexes) are reduced first.\n",
    "  \n",
    "- <span style=\"color:black\">**Functions' arguments are evaluated before the function itself.**</span>This concept is also known as <span style=\"color:black\">**call by value**</span>.\n",
    "\n",
    "- <span style=\"color:black\">**Scala also supports passing arguments by name**</span>, also know as call by name, where the function is evaluated first, and its arguments are only evaluated if and when needed."
   ]
  },
  {
   "cell_type": "markdown",
   "metadata": {},
   "source": [
    "## By-name parameters"
   ]
  },
  {
   "cell_type": "markdown",
   "metadata": {},
   "source": [
    "To make a parameter called _by-name_, simply prepend the operator `=>` to its type.\n",
    "\n",
    "```scala\n",
    "def calculate(input: => Int) = input * 37 // Int => Int\n",
    "\n",
    "```"
   ]
  },
  {
   "cell_type": "markdown",
   "metadata": {},
   "source": [
    "Let's define an imperative `whileLoop` in a functional approach hehe..\n",
    "\n",
    "```scala\n",
    "def whileLoop(condition: => Boolean)(body: => Unit): Unit =\n",
    "  if (condition) {\n",
    "    body\n",
    "    whileLoop (condition) (body)\n",
    "  }\n",
    "\n",
    "var i = 2\n",
    "\n",
    "whileLoop (i > 0) {\n",
    "  println(i)\n",
    "  i -= 1\n",
    "}  // prints 2 1\n",
    "\n",
    "```"
   ]
  },
  {
   "cell_type": "markdown",
   "metadata": {},
   "source": [
    "1) The method `whileLoop` uses multiple parameter lists to take a condition and a body of the loop.\n",
    "2) If the `condition` is true, the `body` is executed and then a recursive call to `whileLoop` is made.\n",
    "3) If the `condition` is false, the `body` is never evaluated because we prepended `=>` to the type of `body`.\n",
    "\n",
    "<span style=\"color:black\">**This ability to delay evaluation of a parameter until it is used can help performance if the parameter is computationally intensive to evaluate**</span> or a longer-running block of code such as fetching a URL."
   ]
  },
  {
   "cell_type": "markdown",
   "metadata": {},
   "source": [
    "Another example:\n",
    "\n",
    "```scala\n",
    "object Evaluate {\n",
    "    def loop: Int = loop // <- recursive definition\n",
    "    def first(x: Int, y: Int): Int = x\n",
    "    def second(x: => Int, y: Int): Int = y\n",
    "}\n",
    "\n",
    "```"
   ]
  },
  {
   "cell_type": "markdown",
   "metadata": {},
   "source": [
    "Some questions... 🖐️\n",
    "\n",
    "- _Does `fist(Evaluate.loop, 2)` hang, why?_\n",
    "- _Does `second(2, Evaluate.loop)` hang, why?_\n",
    "- _Does `second(Evaluate.loop, 2)` hang, why?_"
   ]
  },
  {
   "cell_type": "markdown",
   "metadata": {},
   "source": [
    "## Activity 🖐️"
   ]
  },
  {
   "cell_type": "markdown",
   "metadata": {},
   "source": [
    "- Using the template, define the object `Evaluate`\n",
    "- Create a worksheet and play around with it"
   ]
  },
  {
   "cell_type": "markdown",
   "metadata": {},
   "source": [
    "<p style=\"float: left;\"><a href=\"type-inference.ipynb\" target=\"_blank\">Previous</a></p>\n",
    "<p style=\"float: right;\"><a href=\"default-parameter-values.ipynb\" target=\"_blank\">Next</a></p>\n",
    "<p style=\"text-align:center;\">Tour of Scala</p>\n",
    "<div style=\"clear: both;\"></div>"
   ]
  }
 ],
 "metadata": {
  "kernelspec": {
   "display_name": "Scala 3.6",
   "language": "scala",
   "name": "scala36"
  },
  "language_info": {
   "codemirror_mode": "text/x-scala",
   "file_extension": ".sc",
   "mimetype": "text/x-scala",
   "name": "scala",
   "nbconvert_exporter": "script",
   "version": "2.13.16"
  }
 },
 "nbformat": 4,
 "nbformat_minor": 4
}
