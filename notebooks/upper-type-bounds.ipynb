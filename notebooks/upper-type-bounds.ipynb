{
 "cells": [
  {
   "cell_type": "markdown",
   "metadata": {},
   "source": [
    "<p style=\"float: left;\"><a href=\"polymorphic-methods.ipynb\" target=\"_blank\">Previous</a></p>\n",
    "<p style=\"float: right;\"><a href=\"variances.ipynb\" target=\"_blank\">Next</a></p>\n",
    "<p style=\"text-align:center;\">Tour of Scala</p>\n",
    "<div style=\"clear: both;\"></div>"
   ]
  },
  {
   "cell_type": "markdown",
   "metadata": {},
   "source": [
    "# Upper Type Bounds\n",
    "\n",
    "In Scala, [type variables](generic-classes.ipynb) may be constrained by a type bound. \n",
    "\n",
    "- Type bounds limit the concrete values of the type variables. \n",
    "- An _upper type bound_ or is a special case of _type constraint_, where **`T <: A` declares that `T` is subtype of `A`.**"
   ]
  },
  {
   "cell_type": "code",
   "execution_count": null,
   "metadata": {
    "attributes": {
     "classes": [
      "tut"
     ],
     "id": ""
    }
   },
   "outputs": [],
   "source": [
    "// Animals\n",
    "abstract class Animal:\n",
    "    def name: String\n",
    "\n",
    "class Lion extends Animal:\n",
    "  override def name: String = \"Lion\"\n",
    "\n",
    "// Pets\n",
    "abstract class Pet extends Animal\n",
    "\n",
    "class Cat extends Pet:\n",
    "  override def name: String = \"Cat\"\n",
    "\n",
    "class Dog extends Pet:\n",
    "  override def name: String = \"Dog\"\n",
    "\n",
    "// Containers\n",
    "class Container[A](x: A): // generic type variable, can be anything\n",
    "    def elem: A = x\n",
    "\n",
    "class AnimalContainer[A <: Animal](x: A): // notice the type constraint\n",
    "    def elem: A = x\n",
    "\n",
    "class PetContainer[A <: Pet](x: A): // notice the type constraint\n",
    "    def elem: A = x"
   ]
  },
  {
   "cell_type": "code",
   "execution_count": null,
   "metadata": {},
   "outputs": [],
   "source": [
    "// Defining some animals...\n",
    "val lion = new Lion\n",
    "val dog = new Dog\n",
    "val cat = new Cat"
   ]
  },
  {
   "cell_type": "markdown",
   "metadata": {},
   "source": [
    "Questions... 🖐️\n",
    "\n",
    "- _Can I add the `lion` in `Container[Animal]`, why?_"
   ]
  },
  {
   "cell_type": "code",
   "execution_count": null,
   "metadata": {},
   "outputs": [],
   "source": [
    "val container = Container[Animal](lion)"
   ]
  },
  {
   "cell_type": "markdown",
   "metadata": {},
   "source": [
    "- _Can I add the `lion` in `PetContainer[Lion]`, why?_"
   ]
  },
  {
   "cell_type": "code",
   "execution_count": null,
   "metadata": {},
   "outputs": [],
   "source": [
    "val petContainer = PetContainer[Lion](lion)"
   ]
  },
  {
   "cell_type": "markdown",
   "metadata": {},
   "source": [
    "- _Can I add the `lion` and the `dog` in `AnimalContainer[Animal]`, why?_"
   ]
  },
  {
   "cell_type": "code",
   "execution_count": null,
   "metadata": {},
   "outputs": [],
   "source": [
    "AnimalContainer[Animal](lion)"
   ]
  },
  {
   "cell_type": "code",
   "execution_count": null,
   "metadata": {},
   "outputs": [],
   "source": [
    "AnimalContainer[Animal](dog)"
   ]
  },
  {
   "cell_type": "markdown",
   "metadata": {},
   "source": [
    "- _Can I add the `dog` and the `cat` in `PetContainer[Cat]`, why?_"
   ]
  },
  {
   "cell_type": "code",
   "execution_count": null,
   "metadata": {},
   "outputs": [],
   "source": [
    "PetContainer[Cat](dog)"
   ]
  },
  {
   "cell_type": "code",
   "execution_count": null,
   "metadata": {},
   "outputs": [],
   "source": [
    "PetContainer[Cat](cat)"
   ]
  },
  {
   "cell_type": "markdown",
   "metadata": {},
   "source": [
    "## Constraining supported types"
   ]
  },
  {
   "cell_type": "markdown",
   "metadata": {},
   "source": [
    "**Some generic types and methods, even if they are designed to work for many types, only make sense when the type parameter supports certain behavior/s.**\n",
    "\n",
    "For example, for a type `Set[A]` to work correctly, \n",
    "\n",
    "- the elements of type `A` must be comparable.\n",
    "- We capture this requirement by stating that `A` is a subtype of `Comparable[A]`."
   ]
  },
  {
   "cell_type": "code",
   "execution_count": null,
   "metadata": {},
   "outputs": [],
   "source": [
    "import scala.language.postfixOps\n",
    "\n",
    "trait Comparable[A]:\n",
    "    def compare(that: A): Int\n",
    "    def < (that: A): Boolean = (this `compare` that) < 0\n",
    "    def > (that: A): Boolean = (this `compare` that) > 0\n",
    "    def <= (that: A): Boolean = (this `compare` that) <= 0\n",
    "    def >= (that: A): Boolean = (this `compare` that) >= 0\n",
    "    def compareTo(that: A): Int = compare(that)"
   ]
  },
  {
   "cell_type": "markdown",
   "metadata": {},
   "source": [
    "Every element type `A` in `Set[A]` must be a subtype of `Comparable[A]`.\n",
    "\n",
    "We enforce this requirement by adding the type constraint `[A <: Comparable[A]]` in the definition of `Set`."
   ]
  },
  {
   "cell_type": "code",
   "execution_count": null,
   "metadata": {},
   "outputs": [],
   "source": [
    "import scala.language.postfixOps\n",
    "\n",
    "abstract class Set[A <: Comparable[A]]:\n",
    "    def incl(x: A): Set[A]\n",
    "    def contains(x: A): Boolean\n",
    "\n",
    "class EmptySet[A <: Comparable[A]] extends Set[A]:\n",
    "    def contains(x: A): Boolean = false\n",
    "    def incl(x: A): Set[A] = new NonEmptySet(x, new EmptySet[A], new EmptySet[A])\n",
    "\n",
    "class NonEmptySet[A <: Comparable[A]](e: A, lset: Set[A], rset: Set[A]) extends Set[A]:\n",
    "    def contains(x: A): Boolean =\n",
    "        if (x < e) lset `contains` x // T needs to be comparable\n",
    "        else if (x > e) rset `contains` x\n",
    "        else true\n",
    "    def incl(x: A): Set[A] =\n",
    "        if (x < e) new NonEmptySet(e, lset `incl` x, rset)\n",
    "        else if (x > e) new NonEmptySet(e, lset, rset `incl` x)\n",
    "        else this"
   ]
  },
  {
   "cell_type": "markdown",
   "metadata": {},
   "source": [
    "Finally, we define the type `Num` which is subtype of `Comprable[Num]`."
   ]
  },
  {
   "cell_type": "code",
   "execution_count": null,
   "metadata": {},
   "outputs": [],
   "source": [
    "case class Num(value: Double) extends Comparable[Num] {\n",
    "    def compare(that: Num): Int =\n",
    "        if (this.value < that.value) -1\n",
    "        else if (this.value > that.value) 1\n",
    "        else 0\n",
    "}\n",
    "\n",
    "val s = new EmptySet[Num].incl(Num(9)).incl(Num(0)).incl(Num(10))\n",
    "\n",
    "s.contains(Num(0)) // true\n",
    "s.contains(Num(1001)) // false"
   ]
  },
  {
   "cell_type": "markdown",
   "metadata": {},
   "source": [
    "\n",
    "<span style=\"color:red\">**We are required only to implement the `compare` method, because the other methods and operators use the definition of it.**</span>"
   ]
  },
  {
   "cell_type": "markdown",
   "metadata": {},
   "source": [
    "<p style=\"float: left;\"><a href=\"polymorphic-methods.ipynb\" target=\"_blank\">Previous</a></p>\n",
    "<p style=\"float: right;\"><a href=\"variances.ipynb\" target=\"_blank\">Next</a></p>\n",
    "<p style=\"text-align:center;\">Tour of Scala</p>\n",
    "<div style=\"clear: both;\"></div>"
   ]
  }
 ],
 "metadata": {
  "kernelspec": {
   "display_name": "Scala 3.6",
   "language": "scala",
   "name": "scala36"
  },
  "language_info": {
   "codemirror_mode": "text/x-scala",
   "file_extension": ".sc",
   "mimetype": "text/x-scala",
   "name": "scala",
   "nbconvert_exporter": "script",
   "version": "2.13.16"
  }
 },
 "nbformat": 4,
 "nbformat_minor": 4
}
